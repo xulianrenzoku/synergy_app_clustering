{
 "cells": [
  {
   "cell_type": "code",
   "execution_count": 1,
   "id": "22d57c43",
   "metadata": {
    "ExecuteTime": {
     "end_time": "2023-06-16T08:50:18.153046Z",
     "start_time": "2023-06-16T08:50:17.190331Z"
    }
   },
   "outputs": [],
   "source": [
    "import pandas as pd\n",
    "import numpy as np"
   ]
  },
  {
   "cell_type": "code",
   "execution_count": 2,
   "id": "abd40961",
   "metadata": {
    "ExecuteTime": {
     "end_time": "2023-06-16T08:50:18.159222Z",
     "start_time": "2023-06-16T08:50:18.155799Z"
    }
   },
   "outputs": [],
   "source": [
    "import warnings\n",
    "warnings.filterwarnings('ignore')"
   ]
  },
  {
   "cell_type": "markdown",
   "id": "f7c2147a",
   "metadata": {},
   "source": [
    "## Read Data"
   ]
  },
  {
   "cell_type": "code",
   "execution_count": 3,
   "id": "ba281268",
   "metadata": {
    "ExecuteTime": {
     "end_time": "2023-06-16T08:50:18.209934Z",
     "start_time": "2023-06-16T08:50:18.179923Z"
    }
   },
   "outputs": [
    {
     "data": {
      "text/plain": [
       "(3768, 28)"
      ]
     },
     "execution_count": 3,
     "metadata": {},
     "output_type": "execute_result"
    }
   ],
   "source": [
    "bbr_adv_df = pd.read_csv('bbr_nba_advanced_stats.csv')\n",
    "bbr_adv_df.shape"
   ]
  },
  {
   "cell_type": "code",
   "execution_count": 4,
   "id": "38a8a3fb",
   "metadata": {
    "ExecuteTime": {
     "end_time": "2023-06-16T08:50:18.228158Z",
     "start_time": "2023-06-16T08:50:18.211726Z"
    }
   },
   "outputs": [
    {
     "data": {
      "text/plain": [
       "(3673, 12)"
      ]
     },
     "execution_count": 4,
     "metadata": {},
     "output_type": "execute_result"
    }
   ],
   "source": [
    "bbr_ros_df = pd.read_csv('bbr_nba_roster_stats.csv')\n",
    "bbr_ros_df.shape"
   ]
  },
  {
   "cell_type": "markdown",
   "id": "26c000d2",
   "metadata": {
    "ExecuteTime": {
     "end_time": "2023-02-10T08:21:04.264752Z",
     "start_time": "2023-02-10T08:21:04.242906Z"
    }
   },
   "source": [
    "## Process"
   ]
  },
  {
   "cell_type": "code",
   "execution_count": 5,
   "id": "44b5c049",
   "metadata": {
    "ExecuteTime": {
     "end_time": "2023-06-16T08:50:20.447551Z",
     "start_time": "2023-06-16T08:50:20.439337Z"
    }
   },
   "outputs": [],
   "source": [
    "for col in ['player', 'player_alt']:\n",
    "    bbr_ros_df[col] = bbr_ros_df[col].apply(lambda x: x.replace('(TW)', '').strip())"
   ]
  },
  {
   "cell_type": "markdown",
   "id": "e250175d",
   "metadata": {},
   "source": [
    "17-22"
   ]
  },
  {
   "cell_type": "code",
   "execution_count": 6,
   "id": "e7d4c904",
   "metadata": {
    "ExecuteTime": {
     "end_time": "2023-06-16T08:51:01.477303Z",
     "start_time": "2023-06-16T08:51:01.452429Z"
    }
   },
   "outputs": [
    {
     "data": {
      "text/plain": [
       "((3159, 28), (3162, 12), (3159, 36))"
      ]
     },
     "execution_count": 6,
     "metadata": {},
     "output_type": "execute_result"
    }
   ],
   "source": [
    "bbr_adv_df_17_21 = bbr_adv_df[bbr_adv_df['season'] != 2022].copy()\n",
    "bbr_ros_df_17_21 = bbr_ros_df[bbr_ros_df['season'] != 2022].copy()\n",
    "bbr_df_17_21 = bbr_adv_df_17_21.merge(bbr_ros_df_17_21, how='left',\n",
    "                                      on=['player', 'season', 'team', 'player_alt'])\n",
    "bbr_adv_df_17_21.shape, bbr_ros_df_17_21.shape, bbr_df_17_21.shape"
   ]
  },
  {
   "cell_type": "markdown",
   "id": "dbaebc4b",
   "metadata": {},
   "source": [
    "Since Basketball-Reference would 'eat' players who were traded in the team page when the season was not 'over', the 21-22 season has to be handled separately."
   ]
  },
  {
   "cell_type": "markdown",
   "id": "0353c700",
   "metadata": {},
   "source": [
    "22-23"
   ]
  },
  {
   "cell_type": "code",
   "execution_count": 7,
   "id": "bc842bf8",
   "metadata": {
    "ExecuteTime": {
     "end_time": "2023-06-16T08:51:43.484061Z",
     "start_time": "2023-06-16T08:51:43.468218Z"
    }
   },
   "outputs": [
    {
     "data": {
      "text/plain": [
       "((609, 28), (511, 12), (609, 36))"
      ]
     },
     "execution_count": 7,
     "metadata": {},
     "output_type": "execute_result"
    }
   ],
   "source": [
    "bbr_adv_df_22 = bbr_adv_df[bbr_adv_df['season'] == 2022].copy()\n",
    "bbr_ros_df_22 = bbr_ros_df[bbr_ros_df['season'] == 2022].copy()\n",
    "bbr_df_22 = bbr_adv_df_22.merge(bbr_ros_df_22, how='left',\n",
    "                                on=['player', 'season', 'player_alt'])\\\n",
    "                         .rename(columns={'team_x': 'team'})\\\n",
    "                         .drop('team_y', axis=1)\n",
    "bbr_adv_df_22.shape, bbr_ros_df_22.shape, bbr_df_22.shape"
   ]
  },
  {
   "cell_type": "code",
   "execution_count": 9,
   "id": "e1618fc7",
   "metadata": {
    "ExecuteTime": {
     "end_time": "2023-06-16T08:51:57.313392Z",
     "start_time": "2023-06-16T08:51:57.300984Z"
    }
   },
   "outputs": [],
   "source": [
    "bbr_df = pd.concat([bbr_df_17_21, bbr_df_22])\\\n",
    "           .reset_index().drop('index', axis=1)"
   ]
  },
  {
   "cell_type": "markdown",
   "id": "6db40553",
   "metadata": {},
   "source": [
    "Filter in players that played over 200 minutes"
   ]
  },
  {
   "cell_type": "code",
   "execution_count": 10,
   "id": "ac3e90d9",
   "metadata": {
    "ExecuteTime": {
     "end_time": "2023-06-16T08:51:58.915623Z",
     "start_time": "2023-06-16T08:51:58.907290Z"
    }
   },
   "outputs": [
    {
     "data": {
      "text/plain": [
       "(2795, 36)"
      ]
     },
     "execution_count": 10,
     "metadata": {},
     "output_type": "execute_result"
    }
   ],
   "source": [
    "bbr_df = bbr_df[bbr_df['mp'] >= 200].reset_index().drop('index', axis=1)\n",
    "bbr_df.shape"
   ]
  },
  {
   "cell_type": "markdown",
   "id": "beebe949",
   "metadata": {},
   "source": [
    "Convert heights"
   ]
  },
  {
   "cell_type": "code",
   "execution_count": 11,
   "id": "52360425",
   "metadata": {
    "ExecuteTime": {
     "end_time": "2023-06-16T08:52:01.196026Z",
     "start_time": "2023-06-16T08:52:01.192187Z"
    }
   },
   "outputs": [],
   "source": [
    "def convert_height(height):\n",
    "    feet, inches = height.split('-')\n",
    "    cm = int(feet) * 12 + int(inches)\n",
    "    return round(cm * 2.54, 1)"
   ]
  },
  {
   "cell_type": "code",
   "execution_count": 15,
   "id": "926a9c47",
   "metadata": {
    "ExecuteTime": {
     "end_time": "2023-06-16T08:55:56.744319Z",
     "start_time": "2023-06-16T08:55:56.738834Z"
    }
   },
   "outputs": [
    {
     "data": {
      "text/plain": [
       "Int64Index([], dtype='int64')"
      ]
     },
     "execution_count": 15,
     "metadata": {},
     "output_type": "execute_result"
    }
   ],
   "source": [
    "bbr_df[bbr_df['height'].isna()].index"
   ]
  },
  {
   "cell_type": "code",
   "execution_count": 14,
   "id": "eee348d7",
   "metadata": {
    "ExecuteTime": {
     "end_time": "2023-06-16T08:55:54.951063Z",
     "start_time": "2023-06-16T08:55:54.941298Z"
    }
   },
   "outputs": [],
   "source": [
    "bbr_df.loc[2441, 'height'] = '6-5'\n",
    "bbr_df.loc[2441, 'weight'] = 208\n",
    "bbr_df.loc[2511, 'height'] = '6-3'\n",
    "bbr_df.loc[2511, 'weight'] = 210\n",
    "bbr_df.loc[2517, 'height'] = '7-2'\n",
    "bbr_df.loc[2517, 'weight'] = 245\n",
    "bbr_df.loc[2551, 'height'] = '6-0'\n",
    "bbr_df.loc[2551, 'weight'] = 171\n",
    "bbr_df.loc[2599, 'height'] = '6-2'\n",
    "bbr_df.loc[2599, 'weight'] = 205\n",
    "bbr_df.loc[2725, 'height'] = '6-8'\n",
    "bbr_df.loc[2725, 'weight'] = 215\n",
    "bbr_df.loc[2742, 'height'] = '6-6'\n",
    "bbr_df.loc[2742, 'weight'] = 242\n",
    "bbr_df.loc[2758, 'height'] = '6-9'\n",
    "bbr_df.loc[2758, 'weight'] = 214"
   ]
  },
  {
   "cell_type": "code",
   "execution_count": 15,
   "id": "3f39dbeb",
   "metadata": {
    "ExecuteTime": {
     "end_time": "2023-02-10T08:23:37.877282Z",
     "start_time": "2023-02-10T08:23:37.868962Z"
    }
   },
   "outputs": [],
   "source": [
    "bbr_df['height_cm'] = bbr_df['height'].apply(convert_height)"
   ]
  },
  {
   "cell_type": "markdown",
   "id": "8e083fc6",
   "metadata": {},
   "source": [
    "Convert weights"
   ]
  },
  {
   "cell_type": "code",
   "execution_count": 16,
   "id": "f4895dd8",
   "metadata": {
    "ExecuteTime": {
     "end_time": "2023-06-16T08:55:58.764409Z",
     "start_time": "2023-06-16T08:55:58.751510Z"
    }
   },
   "outputs": [],
   "source": [
    "bbr_df['weight_kg'] = bbr_df['weight'].apply(lambda x: round(0.453592 * x, 1))"
   ]
  },
  {
   "cell_type": "markdown",
   "id": "904248ec",
   "metadata": {
    "ExecuteTime": {
     "end_time": "2023-02-10T08:24:04.606653Z",
     "start_time": "2023-02-10T08:24:04.585239Z"
    }
   },
   "source": [
    "## Save"
   ]
  },
  {
   "cell_type": "code",
   "execution_count": 17,
   "id": "b4aa3606",
   "metadata": {
    "ExecuteTime": {
     "end_time": "2023-06-16T08:56:02.124541Z",
     "start_time": "2023-06-16T08:56:02.117935Z"
    }
   },
   "outputs": [],
   "source": [
    "bbr_df['Season'] = bbr_df['season'].apply(lambda x: f'{x}-{x+1}')"
   ]
  },
  {
   "cell_type": "code",
   "execution_count": 18,
   "id": "350d09ad",
   "metadata": {
    "ExecuteTime": {
     "end_time": "2023-06-16T08:56:02.616695Z",
     "start_time": "2023-06-16T08:56:02.535886Z"
    }
   },
   "outputs": [],
   "source": [
    "bbr_df.to_csv('bbr_nba_stats.csv', index=False)"
   ]
  }
 ],
 "metadata": {
  "kernelspec": {
   "display_name": "Python 3 (ipykernel)",
   "language": "python",
   "name": "python3"
  },
  "language_info": {
   "codemirror_mode": {
    "name": "ipython",
    "version": 3
   },
   "file_extension": ".py",
   "mimetype": "text/x-python",
   "name": "python",
   "nbconvert_exporter": "python",
   "pygments_lexer": "ipython3",
   "version": "3.8.15"
  }
 },
 "nbformat": 4,
 "nbformat_minor": 5
}
