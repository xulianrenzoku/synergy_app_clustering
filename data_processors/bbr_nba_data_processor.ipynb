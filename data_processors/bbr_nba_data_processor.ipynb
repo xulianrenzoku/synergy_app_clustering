{
 "cells": [
  {
   "cell_type": "code",
   "execution_count": 1,
   "id": "22d57c43",
   "metadata": {
    "ExecuteTime": {
     "end_time": "2023-02-10T08:20:16.731407Z",
     "start_time": "2023-02-10T08:20:15.965982Z"
    }
   },
   "outputs": [],
   "source": [
    "import pandas as pd\n",
    "import numpy as np"
   ]
  },
  {
   "cell_type": "code",
   "execution_count": 2,
   "id": "abd40961",
   "metadata": {
    "ExecuteTime": {
     "end_time": "2023-02-10T08:20:20.043114Z",
     "start_time": "2023-02-10T08:20:20.039454Z"
    }
   },
   "outputs": [],
   "source": [
    "import warnings\n",
    "warnings.filterwarnings('ignore')"
   ]
  },
  {
   "cell_type": "markdown",
   "id": "f7c2147a",
   "metadata": {},
   "source": [
    "## Read Data"
   ]
  },
  {
   "cell_type": "code",
   "execution_count": 4,
   "id": "ba281268",
   "metadata": {
    "ExecuteTime": {
     "end_time": "2023-02-10T08:20:50.181064Z",
     "start_time": "2023-02-10T08:20:50.143502Z"
    }
   },
   "outputs": [
    {
     "data": {
      "text/plain": [
       "(3159, 28)"
      ]
     },
     "execution_count": 4,
     "metadata": {},
     "output_type": "execute_result"
    }
   ],
   "source": [
    "bbr_adv_df = pd.read_csv('bbr_nba_advanced_stats.csv')\n",
    "bbr_adv_df = bbr_adv_df[bbr_adv_df['season'] != 2016]\n",
    "bbr_adv_df.shape"
   ]
  },
  {
   "cell_type": "code",
   "execution_count": 5,
   "id": "38a8a3fb",
   "metadata": {
    "ExecuteTime": {
     "end_time": "2023-02-10T08:20:55.857221Z",
     "start_time": "2023-02-10T08:20:55.835792Z"
    }
   },
   "outputs": [
    {
     "data": {
      "text/plain": [
       "(2939, 12)"
      ]
     },
     "execution_count": 5,
     "metadata": {},
     "output_type": "execute_result"
    }
   ],
   "source": [
    "bbr_ros_df = pd.read_csv('bbr_nba_roster_stats.csv')\n",
    "bbr_ros_df = bbr_ros_df[bbr_ros_df['season'] != 2016]\n",
    "bbr_ros_df.shape"
   ]
  },
  {
   "cell_type": "markdown",
   "id": "26c000d2",
   "metadata": {
    "ExecuteTime": {
     "end_time": "2023-02-10T08:21:04.264752Z",
     "start_time": "2023-02-10T08:21:04.242906Z"
    }
   },
   "source": [
    "## Process"
   ]
  },
  {
   "cell_type": "code",
   "execution_count": 7,
   "id": "44b5c049",
   "metadata": {
    "ExecuteTime": {
     "end_time": "2023-02-10T08:21:37.300853Z",
     "start_time": "2023-02-10T08:21:37.293364Z"
    }
   },
   "outputs": [],
   "source": [
    "for col in ['player', 'player_alt']:\n",
    "    bbr_ros_df[col] = bbr_ros_df[col].apply(lambda x: x.replace('(TW)', '').strip())"
   ]
  },
  {
   "cell_type": "markdown",
   "id": "eb84b300",
   "metadata": {},
   "source": [
    "17-20"
   ]
  },
  {
   "cell_type": "code",
   "execution_count": 8,
   "id": "e9e8ddc7",
   "metadata": {
    "ExecuteTime": {
     "end_time": "2023-02-10T08:21:46.869628Z",
     "start_time": "2023-02-10T08:21:46.851301Z"
    }
   },
   "outputs": [
    {
     "data": {
      "text/plain": [
       "((2444, 28), (2446, 12), (2444, 36))"
      ]
     },
     "execution_count": 8,
     "metadata": {},
     "output_type": "execute_result"
    }
   ],
   "source": [
    "bbr_adv_df_17_20 = bbr_adv_df[bbr_adv_df['season'] != 2021].copy()\n",
    "bbr_ros_df_17_20 = bbr_ros_df[bbr_ros_df['season'] != 2021].copy()\n",
    "bbr_df_17_20 = bbr_adv_df_17_20.merge(bbr_ros_df_17_20, how='left',\n",
    "                                      on=['player', 'season', 'team', 'player_alt'])\n",
    "bbr_adv_df_17_20.shape, bbr_ros_df_17_20.shape, bbr_df_17_20.shape"
   ]
  },
  {
   "cell_type": "markdown",
   "id": "75e784a3",
   "metadata": {},
   "source": [
    "Since Basketball-Reference would 'eat' players who were traded in the team page when the season was not 'over', the 21-22 season has to be handled separately."
   ]
  },
  {
   "cell_type": "markdown",
   "id": "e8c410a3",
   "metadata": {},
   "source": [
    "21-22"
   ]
  },
  {
   "cell_type": "code",
   "execution_count": 9,
   "id": "32b759db",
   "metadata": {
    "ExecuteTime": {
     "end_time": "2023-02-10T08:22:10.392817Z",
     "start_time": "2023-02-10T08:22:10.376183Z"
    }
   },
   "outputs": [
    {
     "data": {
      "text/plain": [
       "((715, 28), (493, 12), (715, 36))"
      ]
     },
     "execution_count": 9,
     "metadata": {},
     "output_type": "execute_result"
    }
   ],
   "source": [
    "bbr_adv_df_21 = bbr_adv_df[bbr_adv_df['season'] == 2021].copy()\n",
    "bbr_ros_df_21 = bbr_ros_df[bbr_ros_df['season'] == 2021].copy()\n",
    "bbr_df_21 = bbr_adv_df_21.merge(bbr_ros_df_21, how='left',\n",
    "                                on=['player', 'season', 'player_alt'])\\\n",
    "                         .rename(columns={'team_x': 'team'})\\\n",
    "                         .drop('team_y', axis=1)\n",
    "bbr_adv_df_21.shape, bbr_ros_df_21.shape, bbr_df_21.shape"
   ]
  },
  {
   "cell_type": "code",
   "execution_count": 10,
   "id": "96c4424c",
   "metadata": {
    "ExecuteTime": {
     "end_time": "2023-02-10T08:22:15.698863Z",
     "start_time": "2023-02-10T08:22:15.687533Z"
    }
   },
   "outputs": [],
   "source": [
    "bbr_df = pd.concat([bbr_df_17_20, bbr_df_21])\\\n",
    "           .reset_index().drop('index', axis=1)"
   ]
  },
  {
   "cell_type": "markdown",
   "id": "6db40553",
   "metadata": {},
   "source": [
    "Filter in players that played over 200 minutes"
   ]
  },
  {
   "cell_type": "code",
   "execution_count": 11,
   "id": "ac3e90d9",
   "metadata": {
    "ExecuteTime": {
     "end_time": "2023-02-10T08:22:39.176879Z",
     "start_time": "2023-02-10T08:22:39.169653Z"
    }
   },
   "outputs": [
    {
     "data": {
      "text/plain": [
       "(2323, 36)"
      ]
     },
     "execution_count": 11,
     "metadata": {},
     "output_type": "execute_result"
    }
   ],
   "source": [
    "bbr_df = bbr_df[bbr_df['mp'] >= 200]\n",
    "bbr_df.shape"
   ]
  },
  {
   "cell_type": "markdown",
   "id": "beebe949",
   "metadata": {},
   "source": [
    "Convert heights"
   ]
  },
  {
   "cell_type": "code",
   "execution_count": 12,
   "id": "52360425",
   "metadata": {
    "ExecuteTime": {
     "end_time": "2023-02-10T08:22:55.770819Z",
     "start_time": "2023-02-10T08:22:55.765671Z"
    }
   },
   "outputs": [],
   "source": [
    "def convert_height(height):\n",
    "    feet, inches = height.split('-')\n",
    "    cm = int(feet) * 12 + int(inches)\n",
    "    return round(cm * 2.54, 1)"
   ]
  },
  {
   "cell_type": "code",
   "execution_count": 13,
   "id": "926a9c47",
   "metadata": {
    "ExecuteTime": {
     "end_time": "2023-02-10T08:22:59.944747Z",
     "start_time": "2023-02-10T08:22:59.935234Z"
    }
   },
   "outputs": [
    {
     "data": {
      "text/plain": [
       "Int64Index([2448, 2480, 2500, 2507, 2553, 2576, 2598, 2599, 2600, 2622, 2627,\n",
       "            2681, 2715, 2718, 2719, 2720, 2762, 2779, 2810, 2835, 2896, 2928,\n",
       "            2929, 2952, 2967, 3017, 3020, 3024, 3026, 3060, 3070, 3071, 3106],\n",
       "           dtype='int64')"
      ]
     },
     "execution_count": 13,
     "metadata": {},
     "output_type": "execute_result"
    }
   ],
   "source": [
    "bbr_df[bbr_df['height'].isna()].index"
   ]
  },
  {
   "cell_type": "code",
   "execution_count": 14,
   "id": "eee348d7",
   "metadata": {
    "ExecuteTime": {
     "end_time": "2023-02-10T08:23:32.530354Z",
     "start_time": "2023-02-10T08:23:32.500984Z"
    }
   },
   "outputs": [],
   "source": [
    "bbr_df.loc[2448, 'height'] = '6-10'\n",
    "bbr_df.loc[2448, 'weight'] = 233\n",
    "bbr_df.loc[2480, 'height'] = '6-10'\n",
    "bbr_df.loc[2480, 'weight'] = 250\n",
    "bbr_df.loc[2500, 'height'] = '6-7'\n",
    "bbr_df.loc[2500, 'weight'] = 240\n",
    "bbr_df.loc[2507, 'height'] = '6-5'\n",
    "bbr_df.loc[2507, 'weight'] = 210\n",
    "bbr_df.loc[2553, 'height'] = '6-7'\n",
    "bbr_df.loc[2553, 'weight'] = 215\n",
    "bbr_df.loc[2576, 'height'] = '6-4'\n",
    "bbr_df.loc[2576, 'weight'] = 220\n",
    "bbr_df.loc[2598, 'height'] = '6-5'\n",
    "bbr_df.loc[2598, 'weight'] = 219\n",
    "bbr_df.loc[2599, 'height'] = '6-0'\n",
    "bbr_df.loc[2599, 'weight'] = 185\n",
    "bbr_df.loc[2600, 'height'] = '6-9'\n",
    "bbr_df.loc[2600, 'weight'] = 240\n",
    "bbr_df.loc[2622, 'height'] = '6-8'\n",
    "bbr_df.loc[2622, 'weight'] = 227\n",
    "bbr_df.loc[2627, 'height'] = '6-6'\n",
    "bbr_df.loc[2627, 'weight'] = 205\n",
    "bbr_df.loc[2681, 'height'] = '6-10'\n",
    "bbr_df.loc[2681, 'weight'] = 214\n",
    "bbr_df.loc[2715, 'height'] = '6-0'\n",
    "bbr_df.loc[2715, 'weight'] = 180\n",
    "bbr_df.loc[2718, 'height'] = '6-5'\n",
    "bbr_df.loc[2718, 'weight'] = 230\n",
    "bbr_df.loc[2719, 'height'] = '6-3'\n",
    "bbr_df.loc[2719, 'weight'] = 210\n",
    "bbr_df.loc[2720, 'height'] = '6-6'\n",
    "bbr_df.loc[2720, 'weight'] = 230\n",
    "bbr_df.loc[2762, 'height'] = '6-8'\n",
    "bbr_df.loc[2762, 'weight'] = 215\n",
    "bbr_df.loc[2779, 'height'] = '6-2'\n",
    "bbr_df.loc[2779, 'weight'] = 200\n",
    "bbr_df.loc[2810, 'height'] = '6-8'\n",
    "bbr_df.loc[2810, 'weight'] = 215\n",
    "bbr_df.loc[2835, 'height'] = '6-6'\n",
    "bbr_df.loc[2835, 'weight'] = 240\n",
    "bbr_df.loc[2896, 'height'] = '6-0'\n",
    "bbr_df.loc[2896, 'weight'] = 184\n",
    "bbr_df.loc[2928, 'height'] = '7-0'\n",
    "bbr_df.loc[2928, 'weight'] = 237\n",
    "bbr_df.loc[2929, 'height'] = '6-8'\n",
    "bbr_df.loc[2929, 'weight'] = 216\n",
    "bbr_df.loc[2952, 'height'] = '6-0'\n",
    "bbr_df.loc[2952, 'weight'] = 170\n",
    "bbr_df.loc[2967, 'height'] = '6-6'\n",
    "bbr_df.loc[2967, 'weight'] = 215\n",
    "bbr_df.loc[3017, 'height'] = '6-9'\n",
    "bbr_df.loc[3017, 'weight'] = 245\n",
    "bbr_df.loc[3020, 'height'] = '6-2'\n",
    "bbr_df.loc[3020, 'weight'] = 205\n",
    "bbr_df.loc[3024, 'height'] = '6-11'\n",
    "bbr_df.loc[3024, 'weight'] = 240\n",
    "bbr_df.loc[3026, 'height'] = '6-3'\n",
    "bbr_df.loc[3026, 'weight'] = 205\n",
    "bbr_df.loc[3060, 'height'] = '6-4'\n",
    "bbr_df.loc[3060, 'weight'] = 180\n",
    "bbr_df.loc[3070, 'height'] = '6-9'\n",
    "bbr_df.loc[3070, 'weight'] = 245\n",
    "bbr_df.loc[3071, 'height'] = '6-11'\n",
    "bbr_df.loc[3071, 'weight'] = 256\n",
    "bbr_df.loc[3106, 'height'] = '6-4'\n",
    "bbr_df.loc[3106, 'weight'] = 226"
   ]
  },
  {
   "cell_type": "code",
   "execution_count": 15,
   "id": "3f39dbeb",
   "metadata": {
    "ExecuteTime": {
     "end_time": "2023-02-10T08:23:37.877282Z",
     "start_time": "2023-02-10T08:23:37.868962Z"
    }
   },
   "outputs": [],
   "source": [
    "bbr_df['height_cm'] = bbr_df['height'].apply(convert_height)"
   ]
  },
  {
   "cell_type": "markdown",
   "id": "8e083fc6",
   "metadata": {},
   "source": [
    "Convert weights"
   ]
  },
  {
   "cell_type": "code",
   "execution_count": 16,
   "id": "f4895dd8",
   "metadata": {
    "ExecuteTime": {
     "end_time": "2023-02-10T08:23:58.813330Z",
     "start_time": "2023-02-10T08:23:58.807414Z"
    }
   },
   "outputs": [],
   "source": [
    "bbr_df['weight_kg'] = bbr_df['weight'].apply(lambda x: round(0.453592 * x, 1))"
   ]
  },
  {
   "cell_type": "markdown",
   "id": "904248ec",
   "metadata": {
    "ExecuteTime": {
     "end_time": "2023-02-10T08:24:04.606653Z",
     "start_time": "2023-02-10T08:24:04.585239Z"
    }
   },
   "source": [
    "## Save"
   ]
  },
  {
   "cell_type": "code",
   "execution_count": 25,
   "id": "b4aa3606",
   "metadata": {
    "ExecuteTime": {
     "end_time": "2023-02-10T08:28:18.455500Z",
     "start_time": "2023-02-10T08:28:18.450624Z"
    }
   },
   "outputs": [],
   "source": [
    "bbr_df['Season'] = bbr_df['season'].apply(lambda x: f'{x}-{x+1}')"
   ]
  },
  {
   "cell_type": "code",
   "execution_count": 26,
   "id": "350d09ad",
   "metadata": {
    "ExecuteTime": {
     "end_time": "2023-02-10T08:28:20.084102Z",
     "start_time": "2023-02-10T08:28:20.022523Z"
    }
   },
   "outputs": [],
   "source": [
    "bbr_df.to_csv('bbr_nba_stats.csv', index=False)"
   ]
  },
  {
   "cell_type": "code",
   "execution_count": null,
   "id": "70341818",
   "metadata": {},
   "outputs": [],
   "source": []
  }
 ],
 "metadata": {
  "kernelspec": {
   "display_name": "Python 3 (ipykernel)",
   "language": "python",
   "name": "python3"
  },
  "language_info": {
   "codemirror_mode": {
    "name": "ipython",
    "version": 3
   },
   "file_extension": ".py",
   "mimetype": "text/x-python",
   "name": "python",
   "nbconvert_exporter": "python",
   "pygments_lexer": "ipython3",
   "version": "3.8.15"
  }
 },
 "nbformat": 4,
 "nbformat_minor": 5
}
