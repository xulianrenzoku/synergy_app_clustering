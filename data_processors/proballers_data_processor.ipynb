{
 "cells": [
  {
   "cell_type": "code",
   "execution_count": 1,
   "id": "0bc2bf81",
   "metadata": {
    "ExecuteTime": {
     "end_time": "2023-02-21T13:47:54.313444Z",
     "start_time": "2023-02-21T13:47:53.478134Z"
    }
   },
   "outputs": [],
   "source": [
    "import pandas as pd\n",
    "import numpy as np\n",
    "import os"
   ]
  },
  {
   "cell_type": "code",
   "execution_count": 2,
   "id": "ee696e67",
   "metadata": {
    "ExecuteTime": {
     "end_time": "2023-02-21T13:47:54.322352Z",
     "start_time": "2023-02-21T13:47:54.318231Z"
    }
   },
   "outputs": [],
   "source": [
    "pd.set_option('display.max_columns', None)"
   ]
  },
  {
   "cell_type": "code",
   "execution_count": 3,
   "id": "44869bf1",
   "metadata": {
    "ExecuteTime": {
     "end_time": "2023-02-21T13:47:54.332365Z",
     "start_time": "2023-02-21T13:47:54.328919Z"
    }
   },
   "outputs": [],
   "source": [
    "import warnings\n",
    "warnings.filterwarnings('ignore')"
   ]
  },
  {
   "cell_type": "markdown",
   "id": "6c803337",
   "metadata": {},
   "source": [
    "## Functions"
   ]
  },
  {
   "cell_type": "code",
   "execution_count": 4,
   "id": "1898da8b",
   "metadata": {
    "ExecuteTime": {
     "end_time": "2023-02-21T13:47:54.346187Z",
     "start_time": "2023-02-21T13:47:54.340542Z"
    }
   },
   "outputs": [],
   "source": [
    "def check_season_data(league, season):\n",
    "    season_dir = f'{league}_{season}'\n",
    "    data = []\n",
    "    for sheet in os.listdir(f'data/{season_dir}'):\n",
    "        temp = pd.read_csv(f'data/{season_dir}/{sheet}').tail(3)\n",
    "        data.append([sheet.strip('.csv'), temp['W-L'].values[0]])\n",
    "    df = pd.DataFrame(data, columns=['Team', 'Record'])\n",
    "    df['W'] = df['Record'].apply(lambda x: x.split('-')[0]).apply(int)\n",
    "    df['L'] = df['Record'].apply(lambda x: x.split('-')[1]).apply(int)\n",
    "    df['W%'] = df['W'] / (df['W'] + df['L'])\n",
    "    return df.sort_values('W%', ascending=False).drop(['W', 'L'], axis=1)"
   ]
  },
  {
   "cell_type": "code",
   "execution_count": 5,
   "id": "2d6665d1",
   "metadata": {
    "ExecuteTime": {
     "end_time": "2023-02-21T13:47:54.360913Z",
     "start_time": "2023-02-21T13:47:54.356611Z"
    }
   },
   "outputs": [],
   "source": [
    "def calculate_pace(team_df):\n",
    "    temp = team_df.to_dict(orient='records')\n",
    "    team_records = {'Team': temp[0],\n",
    "                    'Opponent': temp[1]}\n",
    "    total_poss = 0\n",
    "    for side in ['Team', 'Opponent']:\n",
    "        total_poss += team_records[side]['FGA'] - \\\n",
    "                      team_records[side]['Or'] + \\\n",
    "                      team_records[side]['To'] + \\\n",
    "                      0.44 * team_records[side]['FTA']\n",
    "\n",
    "    return total_poss / 2, team_records['Team']['MIN'] / 5"
   ]
  },
  {
   "cell_type": "code",
   "execution_count": 29,
   "id": "d49a75b2",
   "metadata": {
    "ExecuteTime": {
     "end_time": "2023-02-21T13:50:09.281430Z",
     "start_time": "2023-02-21T13:50:09.273974Z"
    }
   },
   "outputs": [],
   "source": [
    "def process_team_sheet(team_sheet, season_dir):\n",
    "    # Initial Process\n",
    "    df = pd.read_csv(f'data/{season_dir}/{team_sheet}')\n",
    "    \n",
    "    shooting_cols = ['2P', '3P', 'FG', 'FT']\n",
    "    for col in shooting_cols:\n",
    "        df[f'{col}M'] = df[col].apply(lambda x: x.split('/')[0])\\\n",
    "                               .apply(int)\n",
    "        df[f'{col}A'] = df[col].apply(lambda x: x.split('/')[1])\\\n",
    "                               .apply(int)\n",
    "    df.drop(shooting_cols + [col for col in df.columns\n",
    "                             if '.1' in col], \n",
    "            inplace=True, axis=1)\n",
    "    df['Dr'] = df['Reb'] - df['Or']\n",
    "    \n",
    "    # Calculate pace\n",
    "    team_df = df.tail(3).copy()\n",
    "    team_poss, team_min = calculate_pace(team_df)\n",
    "    \n",
    "    # Get Estimates of players' possessions\n",
    "    df = df[~df['Height'].isna()]\n",
    "    df['Poss_est'] = df['MIN'] / team_min * team_poss\n",
    "    \n",
    "    return df"
   ]
  },
  {
   "cell_type": "code",
   "execution_count": 46,
   "id": "266fbd50",
   "metadata": {
    "ExecuteTime": {
     "end_time": "2023-02-21T13:51:43.520722Z",
     "start_time": "2023-02-21T13:51:43.515133Z"
    }
   },
   "outputs": [],
   "source": [
    "def process_season_sheets(season, league):\n",
    "    season_dir = f'{league}_{season}'\n",
    "    dfs = [process_team_sheet(team_sheet, season_dir)\n",
    "           for team_sheet in os.listdir(f'data/{season_dir}/')\n",
    "           if '.csv' in team_sheet]\n",
    "    df = pd.concat(dfs).reset_index(drop=True)\n",
    "    df['Season'] = season\n",
    "    return df"
   ]
  },
  {
   "cell_type": "markdown",
   "id": "735b1a03",
   "metadata": {},
   "source": [
    "## Process Eurocup"
   ]
  },
  {
   "cell_type": "code",
   "execution_count": 47,
   "id": "59512ffc",
   "metadata": {
    "ExecuteTime": {
     "end_time": "2023-02-21T13:51:46.477231Z",
     "start_time": "2023-02-21T13:51:46.473668Z"
    }
   },
   "outputs": [],
   "source": [
    "league = 'Eurocup'"
   ]
  },
  {
   "cell_type": "code",
   "execution_count": 63,
   "id": "ffeb1ef6",
   "metadata": {
    "ExecuteTime": {
     "end_time": "2023-02-21T13:56:15.078634Z",
     "start_time": "2023-02-21T13:56:15.074981Z"
    }
   },
   "outputs": [],
   "source": [
    "seasons = list(range(2018, 2022))"
   ]
  },
  {
   "cell_type": "code",
   "execution_count": 55,
   "id": "4f981b03",
   "metadata": {
    "ExecuteTime": {
     "end_time": "2023-02-21T13:52:55.910795Z",
     "start_time": "2023-02-21T13:52:55.908260Z"
    }
   },
   "outputs": [],
   "source": [
    "# # https://www.proballers.com/basketball/league/192/eurocup/standings/2021\n",
    "# check_season_data(league, 2021)"
   ]
  },
  {
   "cell_type": "code",
   "execution_count": 57,
   "id": "78bb1011",
   "metadata": {
    "ExecuteTime": {
     "end_time": "2023-02-21T13:53:51.595730Z",
     "start_time": "2023-02-21T13:53:51.592285Z"
    }
   },
   "outputs": [],
   "source": [
    "# # https://www.proballers.com/basketball/league/192/eurocup/standings/2020\n",
    "# check_season_data(league, 2020)"
   ]
  },
  {
   "cell_type": "code",
   "execution_count": 59,
   "id": "0fd98b74",
   "metadata": {
    "ExecuteTime": {
     "end_time": "2023-02-21T13:54:24.914565Z",
     "start_time": "2023-02-21T13:54:24.911760Z"
    }
   },
   "outputs": [],
   "source": [
    "# # https://www.proballers.com/basketball/league/192/eurocup/standings/2019\n",
    "# check_season_data(league, 2019)"
   ]
  },
  {
   "cell_type": "code",
   "execution_count": 61,
   "id": "a5e62bf4",
   "metadata": {
    "ExecuteTime": {
     "end_time": "2023-02-21T13:55:17.011547Z",
     "start_time": "2023-02-21T13:55:17.008744Z"
    }
   },
   "outputs": [],
   "source": [
    "# # https://www.proballers.com/basketball/league/192/eurocup/standings/2018\n",
    "# check_season_data(league, 2018)"
   ]
  },
  {
   "cell_type": "code",
   "execution_count": 66,
   "id": "fa5c9713",
   "metadata": {
    "ExecuteTime": {
     "end_time": "2023-02-21T13:57:11.945095Z",
     "start_time": "2023-02-21T13:57:10.831651Z"
    }
   },
   "outputs": [
    {
     "data": {
      "text/plain": [
       "(1390, 27)"
      ]
     },
     "execution_count": 66,
     "metadata": {},
     "output_type": "execute_result"
    }
   ],
   "source": [
    "df = pd.concat([process_season_sheets(season, league)\n",
    "                for season in seasons])\\\n",
    "       .reset_index(drop=True)\n",
    "df.shape"
   ]
  },
  {
   "cell_type": "code",
   "execution_count": 67,
   "id": "ee134e9a",
   "metadata": {
    "ExecuteTime": {
     "end_time": "2023-02-21T13:57:14.095632Z",
     "start_time": "2023-02-21T13:57:13.887618Z"
    }
   },
   "outputs": [
    {
     "data": {
      "text/plain": [
       "<AxesSubplot: >"
      ]
     },
     "execution_count": 67,
     "metadata": {},
     "output_type": "execute_result"
    },
    {
     "data": {
      "image/png": "[encoded data removed]",
      "text/plain": [
       "<Figure size 640x480 with 1 Axes>"
      ]
     },
     "metadata": {},
     "output_type": "display_data"
    }
   ],
   "source": [
    "(df['Poss_est'] / df['MIN']).hist()"
   ]
  },
  {
   "cell_type": "code",
   "execution_count": 68,
   "id": "4b810686",
   "metadata": {
    "ExecuteTime": {
     "end_time": "2023-02-21T13:57:42.143188Z",
     "start_time": "2023-02-21T13:57:42.122896Z"
    }
   },
   "outputs": [],
   "source": [
    "df.to_csv('proballers_eurocup_stats.csv', index=False)"
   ]
  },
  {
   "cell_type": "code",
   "execution_count": null,
   "id": "97f82620",
   "metadata": {},
   "outputs": [],
   "source": []
  }
 ],
 "metadata": {
  "kernelspec": {
   "display_name": "Python 3 (ipykernel)",
   "language": "python",
   "name": "python3"
  },
  "language_info": {
   "codemirror_mode": {
    "name": "ipython",
    "version": 3
   },
   "file_extension": ".py",
   "mimetype": "text/x-python",
   "name": "python",
   "nbconvert_exporter": "python",
   "pygments_lexer": "ipython3",
   "version": "3.8.15"
  }
 },
 "nbformat": 4,
 "nbformat_minor": 5
}
