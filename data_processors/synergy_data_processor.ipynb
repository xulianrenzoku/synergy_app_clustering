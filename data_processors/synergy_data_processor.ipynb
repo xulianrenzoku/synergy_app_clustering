{
 "cells": [
  {
   "cell_type": "code",
   "execution_count": 1,
   "id": "82cee0f4",
   "metadata": {
    "ExecuteTime": {
     "end_time": "2023-06-15T15:39:40.043665Z",
     "start_time": "2023-06-15T15:39:39.170478Z"
    }
   },
   "outputs": [],
   "source": [
    "import pandas as pd\n",
    "import numpy as np\n",
    "import os"
   ]
  },
  {
   "cell_type": "code",
   "execution_count": 2,
   "id": "ab329411",
   "metadata": {
    "ExecuteTime": {
     "end_time": "2023-06-15T15:39:40.050876Z",
     "start_time": "2023-06-15T15:39:40.047225Z"
    }
   },
   "outputs": [],
   "source": [
    "pd.set_option('display.max_columns', None)"
   ]
  },
  {
   "cell_type": "code",
   "execution_count": 3,
   "id": "71ea93ac",
   "metadata": {
    "ExecuteTime": {
     "end_time": "2023-06-15T15:39:40.056143Z",
     "start_time": "2023-06-15T15:39:40.053441Z"
    }
   },
   "outputs": [],
   "source": [
    "import warnings\n",
    "warnings.filterwarnings('ignore')"
   ]
  },
  {
   "cell_type": "markdown",
   "id": "061acd13",
   "metadata": {},
   "source": [
    "## Process Data"
   ]
  },
  {
   "cell_type": "markdown",
   "id": "bbe1a9fa",
   "metadata": {},
   "source": [
    "### Elements"
   ]
  },
  {
   "cell_type": "code",
   "execution_count": 4,
   "id": "b935fe31",
   "metadata": {
    "ExecuteTime": {
     "end_time": "2023-06-15T15:39:40.084693Z",
     "start_time": "2023-06-15T15:39:40.081641Z"
    }
   },
   "outputs": [],
   "source": [
    "playtypes = ['Isolation', 'P&R Ball Handler', 'Post-Up', \n",
    "             'P&R Roll Man', 'Spot Up', 'Off Screen', \n",
    "             'Hand Off', 'Cut', 'Offensive Rebounds', \n",
    "             'Transition', \n",
    "#              'Miscellaneous'\n",
    "            ]"
   ]
  },
  {
   "cell_type": "code",
   "execution_count": 5,
   "id": "8a23c9aa",
   "metadata": {
    "ExecuteTime": {
     "end_time": "2023-06-15T15:39:40.284362Z",
     "start_time": "2023-06-15T15:39:40.280592Z"
    }
   },
   "outputs": [],
   "source": [
    "situations = ['Pick and Rolls Including Passes',\n",
    "              'Isolations Including Passes',\n",
    "              'Post-Ups Including Passes']"
   ]
  },
  {
   "cell_type": "code",
   "execution_count": 6,
   "id": "cd53d19b",
   "metadata": {
    "ExecuteTime": {
     "end_time": "2023-06-15T15:39:40.495312Z",
     "start_time": "2023-06-15T15:39:40.491742Z"
    }
   },
   "outputs": [],
   "source": [
    "shottypes = ['Catch and Shoot', 'At Rim',\n",
    "             'Long (3 point jump shots)',\n",
    "             'All Jump Shots off the Dribble']"
   ]
  },
  {
   "cell_type": "markdown",
   "id": "31665d56",
   "metadata": {},
   "source": [
    "### Functions"
   ]
  },
  {
   "cell_type": "code",
   "execution_count": 7,
   "id": "95d0ae8f",
   "metadata": {
    "ExecuteTime": {
     "end_time": "2023-06-15T15:39:40.957637Z",
     "start_time": "2023-06-15T15:39:40.953023Z"
    }
   },
   "outputs": [],
   "source": [
    "def process_all_fg_sheet(df, season):\n",
    "    df['Season'] = season\n",
    "    df = df[['Player', 'Team', 'Season', 'GP', 'FG Made', 'FG Att']]\\\n",
    "         .rename(columns={'FG Made': 'FGM',\n",
    "                          'FG Att': 'FGA'})\n",
    "    for col in ['FGM', 'FGA']:\n",
    "        df[col] = df[col].apply(np.float)\n",
    "    return df.sort_values(['Team', 'FGA'], ascending=False)"
   ]
  },
  {
   "cell_type": "code",
   "execution_count": 8,
   "id": "8df30731",
   "metadata": {
    "ExecuteTime": {
     "end_time": "2023-06-15T15:39:41.447879Z",
     "start_time": "2023-06-15T15:39:41.443414Z"
    }
   },
   "outputs": [],
   "source": [
    "def process_shottype_sheet(shottype, df, season):\n",
    "    df['Season'] = season\n",
    "    df = df[['Player', 'Team', 'Season', 'GP', 'FG Made', 'FG Att']]\\\n",
    "         .rename(columns={'FG Made': 'FGM',\n",
    "                          'FG Att': 'FGA'})\n",
    "    for col in ['FGM', 'FGA']:\n",
    "        df[col] = df[col].apply(np.float) \n",
    "    df['FG%'] = df['FGM'] / df['FGA'] * 1.0\n",
    "    return df.rename(columns={col: f'{shottype}_{col}'\n",
    "                              for col in df.columns\n",
    "                              if 'FG' in col})"
   ]
  },
  {
   "cell_type": "code",
   "execution_count": 9,
   "id": "bf4ba72b",
   "metadata": {
    "ExecuteTime": {
     "end_time": "2023-06-15T15:39:41.929127Z",
     "start_time": "2023-06-15T15:39:41.925205Z"
    }
   },
   "outputs": [],
   "source": [
    "def process_playtype_sheet(playtype, df, season):\n",
    "    df['Season'] = season\n",
    "    df = df[['Player', 'Team', 'Season', 'GP', 'Poss', 'PPP']]\n",
    "    df['PPP'] = df['PPP'].apply(np.float)\n",
    "    df['Poss'] = df['Poss'].apply(np.float) \n",
    "    return df.rename(columns={col: f'{playtype}_{col}'\n",
    "                              for col in ['Poss', 'PPP']})"
   ]
  },
  {
   "cell_type": "code",
   "execution_count": 10,
   "id": "42695f01",
   "metadata": {
    "ExecuteTime": {
     "end_time": "2023-06-15T15:39:42.145769Z",
     "start_time": "2023-06-15T15:39:42.140842Z"
    }
   },
   "outputs": [],
   "source": [
    "def process_situation_sheet(situation, df, season):\n",
    "    df['Season'] = season\n",
    "    df = df[['Player', 'Team', 'Season', 'GP', 'Poss']]\n",
    "    df['Poss'] = df['Poss'].apply(np.float) \n",
    "    return df.rename(columns={'Poss': f'{situation}_Poss'})"
   ]
  },
  {
   "cell_type": "code",
   "execution_count": 11,
   "id": "2f6c8221",
   "metadata": {
    "ExecuteTime": {
     "end_time": "2023-06-15T15:39:42.377039Z",
     "start_time": "2023-06-15T15:39:42.366048Z"
    }
   },
   "outputs": [],
   "source": [
    "def process_season(league, season,\n",
    "                   shottypes=shottypes, \n",
    "                   playtypes=playtypes,\n",
    "                   situations=situations):\n",
    "    season_dir = f'{league}_{season}'\n",
    "\n",
    "    # Initialize\n",
    "    for sheet_fn in os.listdir(season_dir):\n",
    "        if 'All field goal attempts' in sheet_fn:\n",
    "            df = pd.read_csv(f'{season_dir}/{sheet_fn}', \n",
    "                             header=1)\n",
    "            break\n",
    "    df = process_all_fg_sheet(df, season)\n",
    "    print('Shape after Initialization:', df.shape)\n",
    "\n",
    "    # Process shottype\n",
    "    for shottype in shottypes:\n",
    "        for sheet_fn in os.listdir(season_dir):\n",
    "            if shottype in sheet_fn:\n",
    "                st_df = pd.read_csv(f'{season_dir}/{sheet_fn}', \n",
    "                                    header=1)\n",
    "                break\n",
    "        st_df = process_shottype_sheet(shottype, st_df, season)\n",
    "        df = df.merge(st_df, \n",
    "                      on=['Player', 'Team', 'Season', 'GP'],\n",
    "                      how='left')\\\n",
    "               .fillna(0)\n",
    "        df[f'{shottype}_FGA%'] = df[f'{shottype}_FGA'] / df['FGA'] * 1.0\n",
    "\n",
    "    # Process playtype\n",
    "    for playtype in playtypes:\n",
    "        for sheet_fn in os.listdir(season_dir):\n",
    "            if playtype in sheet_fn and 'Including Passes' not in sheet_fn:\n",
    "                pt_df = pd.read_csv(f'{season_dir}/{sheet_fn}', \n",
    "                                    header=1)\n",
    "                break\n",
    "        pt_df = process_playtype_sheet(playtype, pt_df, season)\n",
    "        df = df.merge(pt_df,\n",
    "                      on=['Player', 'Team', 'Season', 'GP'],\n",
    "                      how='left')\\\n",
    "               .fillna(0)\n",
    "    df['Overall_Poss'] = df[[col for col in df.columns\n",
    "                             if 'Poss' in col]].sum(axis=1)\n",
    "    for playtype in playtypes:\n",
    "        df[f'{playtype}_Poss%'] = df[f'{playtype}_Poss'] / df['Overall_Poss'] * 1.0\n",
    "\n",
    "    # Process situations\n",
    "    for situation in situations:\n",
    "        for sheet_fn in os.listdir(season_dir):\n",
    "            if situation in sheet_fn:\n",
    "                sit_df = pd.read_csv(f'{season_dir}/{sheet_fn}', \n",
    "                                     header=1)\n",
    "                break\n",
    "        sit_df = process_situation_sheet(situation, sit_df, season)\n",
    "        df = df.merge(sit_df,\n",
    "                      on=['Player', 'Team', 'Season', 'GP'],\n",
    "                      how='left')\\\n",
    "               .fillna(0)\n",
    "    \n",
    "    # Add\n",
    "    df['P&R Ball Handler_End_Rt'] = \\\n",
    "    df['P&R Ball Handler_Poss'] / \\\n",
    "    df['Pick and Rolls Including Passes_Poss'].apply(lambda x: 1 \n",
    "                                                     if x == 0 \n",
    "                                                     else x) * 1.0\n",
    "    \n",
    "    print('Shape after Processing:', df.shape)\n",
    "    \n",
    "    return df"
   ]
  },
  {
   "cell_type": "markdown",
   "id": "fb0eaaef",
   "metadata": {},
   "source": [
    "### Process NBA"
   ]
  },
  {
   "cell_type": "code",
   "execution_count": 12,
   "id": "01a87f11",
   "metadata": {
    "ExecuteTime": {
     "end_time": "2023-06-15T15:39:47.896134Z",
     "start_time": "2023-06-15T15:39:46.616339Z"
    }
   },
   "outputs": [
    {
     "name": "stdout",
     "output_type": "stream",
     "text": [
      "2017-2018\n",
      "Shape after Initialization: (602, 6)\n",
      "Shape after Processing: (602, 57)\n",
      "\n",
      "2018-2019\n",
      "Shape after Initialization: (618, 6)\n",
      "Shape after Processing: (618, 57)\n",
      "\n",
      "2019-2020\n",
      "Shape after Initialization: (589, 6)\n",
      "Shape after Processing: (589, 57)\n",
      "\n",
      "2020-2021\n",
      "Shape after Initialization: (624, 6)\n",
      "Shape after Processing: (624, 57)\n",
      "\n",
      "2021-2022\n",
      "Shape after Initialization: (700, 6)\n",
      "Shape after Processing: (700, 57)\n",
      "\n",
      "2022-2023\n",
      "Shape after Initialization: (607, 6)\n",
      "Shape after Processing: (607, 57)\n",
      "\n",
      "(3740, 57)\n"
     ]
    }
   ],
   "source": [
    "league = 'NBA'\n",
    "dfs = []\n",
    "for start_year in range(2017, 2023):\n",
    "    end_year = start_year + 1\n",
    "    season = f'{start_year}-{end_year}'\n",
    "    print(season)\n",
    "    dfs.append(process_season(league, season))\n",
    "    print()\n",
    "    \n",
    "df = pd.concat(dfs).reset_index().drop('index', axis=1)\n",
    "print(df.shape)"
   ]
  },
  {
   "cell_type": "code",
   "execution_count": 13,
   "id": "116b7044",
   "metadata": {
    "ExecuteTime": {
     "end_time": "2023-06-15T15:39:49.814166Z",
     "start_time": "2023-06-15T15:39:49.616670Z"
    }
   },
   "outputs": [],
   "source": [
    "df.to_csv(f'{league}_offense.csv', index=False)"
   ]
  },
  {
   "cell_type": "markdown",
   "id": "32c346d0",
   "metadata": {},
   "source": [
    "### Process Euroleague"
   ]
  },
  {
   "cell_type": "code",
   "execution_count": 14,
   "id": "ac4c1808",
   "metadata": {
    "ExecuteTime": {
     "end_time": "2023-02-22T09:27:41.457434Z",
     "start_time": "2023-02-22T09:27:40.603575Z"
    }
   },
   "outputs": [
    {
     "name": "stdout",
     "output_type": "stream",
     "text": [
      "2017-2018\n",
      "Shape after Initialization: (248, 6)\n",
      "Shape after Processing: (248, 57)\n",
      "\n",
      "2018-2019\n",
      "Shape after Initialization: (247, 6)\n",
      "Shape after Processing: (247, 57)\n",
      "\n",
      "2019-2020\n",
      "Shape after Initialization: (290, 6)\n",
      "Shape after Processing: (290, 57)\n",
      "\n",
      "2020-2021\n",
      "Shape after Initialization: (290, 6)\n",
      "Shape after Processing: (290, 57)\n",
      "\n",
      "2021-2022\n",
      "Shape after Initialization: (283, 6)\n",
      "Shape after Processing: (283, 57)\n",
      "\n",
      "(1358, 57)\n"
     ]
    }
   ],
   "source": [
    "league = 'Euroleague'\n",
    "dfs = []\n",
    "for start_year in range(2017, 2022):\n",
    "    end_year = start_year + 1\n",
    "    season = f'{start_year}-{end_year}'\n",
    "    print(season)\n",
    "    dfs.append(process_season(league, season))\n",
    "    print()\n",
    "    \n",
    "df = pd.concat(dfs).reset_index().drop('index', axis=1)\n",
    "print(df.shape)"
   ]
  },
  {
   "cell_type": "code",
   "execution_count": 15,
   "id": "f12f935b",
   "metadata": {
    "ExecuteTime": {
     "end_time": "2023-02-22T09:27:41.546900Z",
     "start_time": "2023-02-22T09:27:41.460790Z"
    }
   },
   "outputs": [],
   "source": [
    "df.to_csv(f'{league}_offense.csv', index=False)"
   ]
  },
  {
   "cell_type": "markdown",
   "id": "003114b2",
   "metadata": {},
   "source": [
    "### Process EuroCup"
   ]
  },
  {
   "cell_type": "code",
   "execution_count": 16,
   "id": "1fae7ac7",
   "metadata": {
    "ExecuteTime": {
     "end_time": "2023-02-22T09:27:46.450060Z",
     "start_time": "2023-02-22T09:27:45.545207Z"
    }
   },
   "outputs": [
    {
     "name": "stdout",
     "output_type": "stream",
     "text": [
      "2017-2018\n",
      "Shape after Initialization: (333, 6)\n",
      "Shape after Processing: (333, 57)\n",
      "\n",
      "2018-2019\n",
      "Shape after Initialization: (354, 6)\n",
      "Shape after Processing: (354, 57)\n",
      "\n",
      "2019-2020\n",
      "Shape after Initialization: (331, 6)\n",
      "Shape after Processing: (331, 57)\n",
      "\n",
      "2020-2021\n",
      "Shape after Initialization: (351, 6)\n",
      "Shape after Processing: (351, 57)\n",
      "\n",
      "2021-2022\n",
      "Shape after Initialization: (299, 6)\n",
      "Shape after Processing: (299, 57)\n",
      "\n",
      "(1668, 57)\n"
     ]
    }
   ],
   "source": [
    "league = 'EuroCup'\n",
    "dfs = []\n",
    "for start_year in range(2017, 2022):\n",
    "    end_year = start_year + 1\n",
    "    season = f'{start_year}-{end_year}'\n",
    "    print(season)\n",
    "    dfs.append(process_season(league, season))\n",
    "    print()\n",
    "    \n",
    "df = pd.concat(dfs).reset_index().drop('index', axis=1)\n",
    "print(df.shape)"
   ]
  },
  {
   "cell_type": "code",
   "execution_count": 17,
   "id": "282722a0",
   "metadata": {
    "ExecuteTime": {
     "end_time": "2023-02-22T09:27:46.537351Z",
     "start_time": "2023-02-22T09:27:46.452520Z"
    }
   },
   "outputs": [],
   "source": [
    "df.to_csv(f'{league}_offense.csv', index=False)"
   ]
  },
  {
   "cell_type": "markdown",
   "id": "2eb545df",
   "metadata": {},
   "source": [
    "### Process NCAA"
   ]
  },
  {
   "cell_type": "code",
   "execution_count": 14,
   "id": "47b1712e",
   "metadata": {
    "ExecuteTime": {
     "end_time": "2023-06-15T15:39:59.821408Z",
     "start_time": "2023-06-15T15:39:56.066758Z"
    }
   },
   "outputs": [
    {
     "name": "stdout",
     "output_type": "stream",
     "text": [
      "2017-2018\n",
      "Shape after Initialization: (4786, 6)\n",
      "Shape after Processing: (4786, 57)\n",
      "\n",
      "2018-2019\n",
      "Shape after Initialization: (4780, 6)\n",
      "Shape after Processing: (4780, 57)\n",
      "\n",
      "2019-2020\n",
      "Shape after Initialization: (4791, 6)\n",
      "Shape after Processing: (4791, 57)\n",
      "\n",
      "2020-2021\n",
      "Shape after Initialization: (4898, 6)\n",
      "Shape after Processing: (4898, 57)\n",
      "\n",
      "2021-2022\n",
      "Shape after Initialization: (5027, 6)\n",
      "Shape after Processing: (5027, 57)\n",
      "\n",
      "2022-2023\n",
      "Shape after Initialization: (4962, 6)\n",
      "Shape after Processing: (4962, 57)\n",
      "\n",
      "(29244, 57)\n"
     ]
    }
   ],
   "source": [
    "league = 'College Men'\n",
    "dfs = []\n",
    "for start_year in range(2017, 2023):\n",
    "    end_year = start_year + 1\n",
    "    season = f'{start_year}-{end_year}'\n",
    "    print(season)\n",
    "    dfs.append(process_season(league, season))\n",
    "    print()\n",
    "    \n",
    "df = pd.concat(dfs).reset_index().drop('index', axis=1)\n",
    "print(df.shape)"
   ]
  },
  {
   "cell_type": "code",
   "execution_count": 15,
   "id": "171d0819",
   "metadata": {
    "ExecuteTime": {
     "end_time": "2023-06-15T15:40:01.195188Z",
     "start_time": "2023-06-15T15:39:59.825275Z"
    }
   },
   "outputs": [],
   "source": [
    "df.to_csv(f'{league}_offense.csv', index=False)"
   ]
  },
  {
   "cell_type": "markdown",
   "id": "d7caaada",
   "metadata": {},
   "source": [
    "### Process CBA"
   ]
  },
  {
   "cell_type": "code",
   "execution_count": 20,
   "id": "3f42440a",
   "metadata": {
    "ExecuteTime": {
     "end_time": "2023-02-22T09:27:52.134748Z",
     "start_time": "2023-02-22T09:27:51.170969Z"
    }
   },
   "outputs": [
    {
     "name": "stdout",
     "output_type": "stream",
     "text": [
      "2017-2018\n",
      "Shape after Initialization: (325, 6)\n",
      "Shape after Processing: (325, 57)\n",
      "\n",
      "2018-2019\n",
      "Shape after Initialization: (364, 6)\n",
      "Shape after Processing: (364, 57)\n",
      "\n",
      "2019-2020\n",
      "Shape after Initialization: (361, 6)\n",
      "Shape after Processing: (361, 57)\n",
      "\n",
      "2020-2021\n",
      "Shape after Initialization: (370, 6)\n",
      "Shape after Processing: (370, 57)\n",
      "\n",
      "2021-2022\n",
      "Shape after Initialization: (380, 6)\n",
      "Shape after Processing: (380, 57)\n",
      "\n",
      "(1800, 57)\n"
     ]
    }
   ],
   "source": [
    "league = 'CBA'\n",
    "dfs = []\n",
    "for start_year in range(2017, 2022):\n",
    "    end_year = start_year + 1\n",
    "    season = f'{start_year}-{end_year}'\n",
    "    print(season)\n",
    "    dfs.append(process_season(league, season))\n",
    "    print()\n",
    "    \n",
    "df = pd.concat(dfs).reset_index().drop('index', axis=1)\n",
    "print(df.shape)"
   ]
  },
  {
   "cell_type": "code",
   "execution_count": 21,
   "id": "e2de7bc1",
   "metadata": {
    "ExecuteTime": {
     "end_time": "2023-02-22T09:27:52.242703Z",
     "start_time": "2023-02-22T09:27:52.138728Z"
    }
   },
   "outputs": [],
   "source": [
    "df.to_csv(f'{league}_offense.csv', index=False)"
   ]
  },
  {
   "cell_type": "code",
   "execution_count": null,
   "id": "7538b63b",
   "metadata": {},
   "outputs": [],
   "source": []
  }
 ],
 "metadata": {
  "kernelspec": {
   "display_name": "Python 3 (ipykernel)",
   "language": "python",
   "name": "python3"
  },
  "language_info": {
   "codemirror_mode": {
    "name": "ipython",
    "version": 3
   },
   "file_extension": ".py",
   "mimetype": "text/x-python",
   "name": "python",
   "nbconvert_exporter": "python",
   "pygments_lexer": "ipython3",
   "version": "3.8.15"
  }
 },
 "nbformat": 4,
 "nbformat_minor": 5
}
