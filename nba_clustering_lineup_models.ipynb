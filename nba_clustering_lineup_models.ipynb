{
 "cells": [
  {
   "cell_type": "code",
   "execution_count": 1,
   "id": "5972c6f3",
   "metadata": {
    "ExecuteTime": {
     "end_time": "2023-03-01T08:52:42.780287Z",
     "start_time": "2023-03-01T08:52:41.710400Z"
    }
   },
   "outputs": [],
   "source": [
    "import pandas as pd\n",
    "import numpy as np\n",
    "import os\n",
    "import pickle\n",
    "import itertools\n",
    "from collections import Counter"
   ]
  },
  {
   "cell_type": "code",
   "execution_count": 2,
   "id": "fefd4678",
   "metadata": {
    "ExecuteTime": {
     "end_time": "2023-03-01T08:52:42.785773Z",
     "start_time": "2023-03-01T08:52:42.782889Z"
    }
   },
   "outputs": [],
   "source": [
    "pd.set_option('display.max_columns', None)\n",
    "pd.set_option('display.max_colwidth', None)"
   ]
  },
  {
   "cell_type": "code",
   "execution_count": 3,
   "id": "40c3f31e",
   "metadata": {
    "ExecuteTime": {
     "end_time": "2023-03-01T08:52:42.790927Z",
     "start_time": "2023-03-01T08:52:42.788174Z"
    }
   },
   "outputs": [],
   "source": [
    "import warnings\n",
    "warnings.filterwarnings('ignore')"
   ]
  },
  {
   "cell_type": "code",
   "execution_count": 4,
   "id": "4b979ec1",
   "metadata": {
    "ExecuteTime": {
     "end_time": "2023-03-01T08:52:44.462396Z",
     "start_time": "2023-03-01T08:52:42.793513Z"
    }
   },
   "outputs": [],
   "source": [
    "import seaborn as sns\n",
    "import matplotlib\n",
    "import matplotlib.pyplot as plt\n",
    "from IPython.core.pylabtools import figsize\n",
    "from cycler import cycler"
   ]
  },
  {
   "cell_type": "code",
   "execution_count": 85,
   "id": "2b98bcea",
   "metadata": {
    "ExecuteTime": {
     "end_time": "2023-03-01T09:23:14.816499Z",
     "start_time": "2023-03-01T09:23:04.946909Z"
    }
   },
   "outputs": [],
   "source": [
    "from scipy import stats\n",
    "from scipy.stats import norm, gamma, linregress, skew\n",
    "from sklearn.cluster import KMeans, SpectralClustering, AgglomerativeClustering \n",
    "from sklearn.preprocessing import StandardScaler, RobustScaler, Normalizer, OneHotEncoder\n",
    "from sklearn.decomposition import PCA\n",
    "from sklearn.manifold import TSNE\n",
    "from sklearn.pipeline import make_pipeline\n",
    "from sklearn.metrics import r2_score, mean_squared_error\n",
    "import statsmodels.api as sm\n",
    "import pymc3 as pm"
   ]
  },
  {
   "cell_type": "code",
   "execution_count": 6,
   "id": "10e86cfc",
   "metadata": {
    "ExecuteTime": {
     "end_time": "2023-03-01T08:52:45.691414Z",
     "start_time": "2023-03-01T08:52:45.687164Z"
    }
   },
   "outputs": [],
   "source": [
    "def dump_pickle(file, filename):\n",
    "    outfile = open(filename, 'wb')\n",
    "    pickle.dump(file, outfile)\n",
    "    outfile.close()\n",
    "\n",
    "def load_pickle(filename):\n",
    "    infile = open(filename, 'rb')\n",
    "    file = pickle.load(infile)\n",
    "    infile.close()\n",
    "    return file"
   ]
  },
  {
   "cell_type": "code",
   "execution_count": 7,
   "id": "753d0ec4",
   "metadata": {
    "ExecuteTime": {
     "end_time": "2023-03-01T08:52:45.701062Z",
     "start_time": "2023-03-01T08:52:45.695658Z"
    }
   },
   "outputs": [],
   "source": [
    "sns.set()\n",
    "plt.style.use(\"fivethirtyeight\")\n",
    "plt.rcParams['text.color'] = 'black'\n",
    "plt.rcParams['figure.titlesize'] = 'medium'\n",
    "plt.rcParams['axes.titlesize'] = 'medium'"
   ]
  },
  {
   "cell_type": "code",
   "execution_count": 8,
   "id": "e9cc8c79",
   "metadata": {
    "ExecuteTime": {
     "end_time": "2023-03-01T08:52:46.431051Z",
     "start_time": "2023-03-01T08:52:46.428215Z"
    }
   },
   "outputs": [],
   "source": [
    "colors = ['#008fd5', '#fc4f30', '#e5ae38', '#6d904f', '#8b8b8b', '#810f7c',\n",
    "          '#aec7e8', '#69B0AC']\n",
    "plt.rcParams['axes.prop_cycle'] = cycler(color=colors)"
   ]
  },
  {
   "cell_type": "markdown",
   "id": "33c6b325",
   "metadata": {},
   "source": [
    "## Data Prep"
   ]
  },
  {
   "cell_type": "markdown",
   "id": "4f4cead8",
   "metadata": {},
   "source": [
    "Read cluster data"
   ]
  },
  {
   "cell_type": "code",
   "execution_count": 9,
   "id": "78dc7bb1",
   "metadata": {
    "ExecuteTime": {
     "end_time": "2023-03-01T08:52:47.177860Z",
     "start_time": "2023-03-01T08:52:47.104472Z"
    }
   },
   "outputs": [
    {
     "data": {
      "text/plain": [
       "(2140, 108)"
      ]
     },
     "execution_count": 9,
     "metadata": {},
     "output_type": "execute_result"
    }
   ],
   "source": [
    "df = pd.read_csv('nba_cleaned.csv')\n",
    "df.shape"
   ]
  },
  {
   "cell_type": "code",
   "execution_count": 10,
   "id": "89de3c82",
   "metadata": {
    "ExecuteTime": {
     "end_time": "2023-03-01T08:52:47.366365Z",
     "start_time": "2023-03-01T08:52:47.349891Z"
    }
   },
   "outputs": [
    {
     "data": {
      "text/html": [
       "<div>\n",
       "<style scoped>\n",
       "    .dataframe tbody tr th:only-of-type {\n",
       "        vertical-align: middle;\n",
       "    }\n",
       "\n",
       "    .dataframe tbody tr th {\n",
       "        vertical-align: top;\n",
       "    }\n",
       "\n",
       "    .dataframe thead th {\n",
       "        text-align: right;\n",
       "    }\n",
       "</style>\n",
       "<table border=\"1\" class=\"dataframe\">\n",
       "  <thead>\n",
       "    <tr style=\"text-align: right;\">\n",
       "      <th></th>\n",
       "      <th>Player</th>\n",
       "      <th>season</th>\n",
       "      <th>team</th>\n",
       "      <th>player_cluster</th>\n",
       "    </tr>\n",
       "  </thead>\n",
       "  <tbody>\n",
       "    <tr>\n",
       "      <th>0</th>\n",
       "      <td>Taurean Prince</td>\n",
       "      <td>2017-2018</td>\n",
       "      <td>Atlanta Hawks</td>\n",
       "      <td>6</td>\n",
       "    </tr>\n",
       "    <tr>\n",
       "      <th>1</th>\n",
       "      <td>Dennis Schroder</td>\n",
       "      <td>2017-2018</td>\n",
       "      <td>Atlanta Hawks</td>\n",
       "      <td>1</td>\n",
       "    </tr>\n",
       "    <tr>\n",
       "      <th>2</th>\n",
       "      <td>Kent Bazemore</td>\n",
       "      <td>2017-2018</td>\n",
       "      <td>Atlanta Hawks</td>\n",
       "      <td>0</td>\n",
       "    </tr>\n",
       "    <tr>\n",
       "      <th>3</th>\n",
       "      <td>John Collins</td>\n",
       "      <td>2017-2018</td>\n",
       "      <td>Atlanta Hawks</td>\n",
       "      <td>3</td>\n",
       "    </tr>\n",
       "    <tr>\n",
       "      <th>4</th>\n",
       "      <td>Dewayne Dedmon</td>\n",
       "      <td>2017-2018</td>\n",
       "      <td>Atlanta Hawks</td>\n",
       "      <td>3</td>\n",
       "    </tr>\n",
       "  </tbody>\n",
       "</table>\n",
       "</div>"
      ],
      "text/plain": [
       "            Player     season           team  player_cluster\n",
       "0   Taurean Prince  2017-2018  Atlanta Hawks               6\n",
       "1  Dennis Schroder  2017-2018  Atlanta Hawks               1\n",
       "2    Kent Bazemore  2017-2018  Atlanta Hawks               0\n",
       "3     John Collins  2017-2018  Atlanta Hawks               3\n",
       "4   Dewayne Dedmon  2017-2018  Atlanta Hawks               3"
      ]
     },
     "execution_count": 10,
     "metadata": {},
     "output_type": "execute_result"
    }
   ],
   "source": [
    "label_cols = ['Player', 'Season', 'Team', 'player_cluster']\n",
    "label_df = df[label_cols].rename(columns={'Season': 'season',\n",
    "                                          'Team': 'team'})\n",
    "label_df.head()"
   ]
  },
  {
   "cell_type": "markdown",
   "id": "78f27199",
   "metadata": {},
   "source": [
    "Read lineup data by CleaningTheGlass"
   ]
  },
  {
   "cell_type": "code",
   "execution_count": 11,
   "id": "346c9863",
   "metadata": {
    "ExecuteTime": {
     "end_time": "2023-03-01T08:52:48.647606Z",
     "start_time": "2023-03-01T08:52:48.176367Z"
    }
   },
   "outputs": [
    {
     "data": {
      "text/plain": [
       "(67655, 30)"
      ]
     },
     "execution_count": 11,
     "metadata": {},
     "output_type": "execute_result"
    }
   ],
   "source": [
    "lineup_df = pd.read_csv('ctg_nba_lineup_stats.csv')\n",
    "lineup_df = lineup_df[lineup_df['season'] != 2016].reset_index(drop=True)\n",
    "lineup_df['season'] = lineup_df['season'].apply(lambda x: f'{x}-{x+1}')\n",
    "lineup_df.shape"
   ]
  },
  {
   "cell_type": "code",
   "execution_count": 12,
   "id": "35abb528",
   "metadata": {
    "ExecuteTime": {
     "end_time": "2023-03-01T08:52:48.689732Z",
     "start_time": "2023-03-01T08:52:48.649843Z"
    }
   },
   "outputs": [
    {
     "data": {
      "text/html": [
       "<div>\n",
       "<style scoped>\n",
       "    .dataframe tbody tr th:only-of-type {\n",
       "        vertical-align: middle;\n",
       "    }\n",
       "\n",
       "    .dataframe tbody tr th {\n",
       "        vertical-align: top;\n",
       "    }\n",
       "\n",
       "    .dataframe thead th {\n",
       "        text-align: right;\n",
       "    }\n",
       "</style>\n",
       "<table border=\"1\" class=\"dataframe\">\n",
       "  <thead>\n",
       "    <tr style=\"text-align: right;\">\n",
       "      <th></th>\n",
       "      <th>PG</th>\n",
       "      <th>SG</th>\n",
       "      <th>SF</th>\n",
       "      <th>PF</th>\n",
       "      <th>C</th>\n",
       "      <th>season</th>\n",
       "      <th>team</th>\n",
       "      <th>Poss</th>\n",
       "      <th>off_Pts/Poss_rank</th>\n",
       "      <th>off_Pts/Poss</th>\n",
       "      <th>off_eFG%_rank</th>\n",
       "      <th>off_eFG%</th>\n",
       "      <th>off_TOV%_rank</th>\n",
       "      <th>off_TOV%</th>\n",
       "      <th>off_OREB%_rank</th>\n",
       "      <th>off_OREB%</th>\n",
       "      <th>off_FTr_rank</th>\n",
       "      <th>off_FTr</th>\n",
       "    </tr>\n",
       "  </thead>\n",
       "  <tbody>\n",
       "    <tr>\n",
       "      <th>0</th>\n",
       "      <td>Dennis Schroder</td>\n",
       "      <td>Kent Bazemore</td>\n",
       "      <td>Taurean Prince</td>\n",
       "      <td>Ersan Ilyasova</td>\n",
       "      <td>Miles Plumlee</td>\n",
       "      <td>2017-2018</td>\n",
       "      <td>Atlanta Hawks</td>\n",
       "      <td>733</td>\n",
       "      <td>18.0</td>\n",
       "      <td>99.9</td>\n",
       "      <td>41.0</td>\n",
       "      <td>51.5%</td>\n",
       "      <td>12.0</td>\n",
       "      <td>17.7%</td>\n",
       "      <td>59.0</td>\n",
       "      <td>25.9%</td>\n",
       "      <td>37.0</td>\n",
       "      <td>15.0</td>\n",
       "    </tr>\n",
       "    <tr>\n",
       "      <th>1</th>\n",
       "      <td>Dennis Schroder</td>\n",
       "      <td>Kent Bazemore</td>\n",
       "      <td>Taurean Prince</td>\n",
       "      <td>John Collins</td>\n",
       "      <td>Dewayne Dedmon</td>\n",
       "      <td>2017-2018</td>\n",
       "      <td>Atlanta Hawks</td>\n",
       "      <td>245</td>\n",
       "      <td>66.0</td>\n",
       "      <td>112.7</td>\n",
       "      <td>81.0</td>\n",
       "      <td>57.9%</td>\n",
       "      <td>15.0</td>\n",
       "      <td>17.1%</td>\n",
       "      <td>37.0</td>\n",
       "      <td>23.1%</td>\n",
       "      <td>41.0</td>\n",
       "      <td>15.7</td>\n",
       "    </tr>\n",
       "    <tr>\n",
       "      <th>2</th>\n",
       "      <td>Dennis Schroder</td>\n",
       "      <td>Kent Bazemore</td>\n",
       "      <td>Taurean Prince</td>\n",
       "      <td>Ersan Ilyasova</td>\n",
       "      <td>Dewayne Dedmon</td>\n",
       "      <td>2017-2018</td>\n",
       "      <td>Atlanta Hawks</td>\n",
       "      <td>193</td>\n",
       "      <td>22.0</td>\n",
       "      <td>101.0</td>\n",
       "      <td>18.0</td>\n",
       "      <td>48.8%</td>\n",
       "      <td>78.0</td>\n",
       "      <td>12.4%</td>\n",
       "      <td>22.0</td>\n",
       "      <td>20.4%</td>\n",
       "      <td>73.0</td>\n",
       "      <td>22.1</td>\n",
       "    </tr>\n",
       "    <tr>\n",
       "      <th>3</th>\n",
       "      <td>Dennis Schroder</td>\n",
       "      <td>Kent Bazemore</td>\n",
       "      <td>Taurean Prince</td>\n",
       "      <td>Luke Babbitt</td>\n",
       "      <td>Dewayne Dedmon</td>\n",
       "      <td>2017-2018</td>\n",
       "      <td>Atlanta Hawks</td>\n",
       "      <td>142</td>\n",
       "      <td>62.0</td>\n",
       "      <td>112.0</td>\n",
       "      <td>91.0</td>\n",
       "      <td>59.7%</td>\n",
       "      <td>7.0</td>\n",
       "      <td>19.0%</td>\n",
       "      <td>44.0</td>\n",
       "      <td>23.8%</td>\n",
       "      <td>5.0</td>\n",
       "      <td>8.9</td>\n",
       "    </tr>\n",
       "    <tr>\n",
       "      <th>4</th>\n",
       "      <td>Isaiah Taylor</td>\n",
       "      <td>Taurean Prince</td>\n",
       "      <td>Damion Lee</td>\n",
       "      <td>John Collins</td>\n",
       "      <td>Dewayne Dedmon</td>\n",
       "      <td>2017-2018</td>\n",
       "      <td>Atlanta Hawks</td>\n",
       "      <td>140</td>\n",
       "      <td>36.0</td>\n",
       "      <td>105.7</td>\n",
       "      <td>41.0</td>\n",
       "      <td>51.5%</td>\n",
       "      <td>62.0</td>\n",
       "      <td>13.6%</td>\n",
       "      <td>36.0</td>\n",
       "      <td>23.1%</td>\n",
       "      <td>4.0</td>\n",
       "      <td>8.3</td>\n",
       "    </tr>\n",
       "  </tbody>\n",
       "</table>\n",
       "</div>"
      ],
      "text/plain": [
       "                PG              SG              SF              PF  \\\n",
       "0  Dennis Schroder   Kent Bazemore  Taurean Prince  Ersan Ilyasova   \n",
       "1  Dennis Schroder   Kent Bazemore  Taurean Prince    John Collins   \n",
       "2  Dennis Schroder   Kent Bazemore  Taurean Prince  Ersan Ilyasova   \n",
       "3  Dennis Schroder   Kent Bazemore  Taurean Prince    Luke Babbitt   \n",
       "4    Isaiah Taylor  Taurean Prince      Damion Lee    John Collins   \n",
       "\n",
       "                C     season           team  Poss  off_Pts/Poss_rank  \\\n",
       "0   Miles Plumlee  2017-2018  Atlanta Hawks   733               18.0   \n",
       "1  Dewayne Dedmon  2017-2018  Atlanta Hawks   245               66.0   \n",
       "2  Dewayne Dedmon  2017-2018  Atlanta Hawks   193               22.0   \n",
       "3  Dewayne Dedmon  2017-2018  Atlanta Hawks   142               62.0   \n",
       "4  Dewayne Dedmon  2017-2018  Atlanta Hawks   140               36.0   \n",
       "\n",
       "   off_Pts/Poss  off_eFG%_rank off_eFG%  off_TOV%_rank off_TOV%  \\\n",
       "0          99.9           41.0    51.5%           12.0    17.7%   \n",
       "1         112.7           81.0    57.9%           15.0    17.1%   \n",
       "2         101.0           18.0    48.8%           78.0    12.4%   \n",
       "3         112.0           91.0    59.7%            7.0    19.0%   \n",
       "4         105.7           41.0    51.5%           62.0    13.6%   \n",
       "\n",
       "   off_OREB%_rank off_OREB%  off_FTr_rank  off_FTr  \n",
       "0            59.0     25.9%          37.0     15.0  \n",
       "1            37.0     23.1%          41.0     15.7  \n",
       "2            22.0     20.4%          73.0     22.1  \n",
       "3            44.0     23.8%           5.0      8.9  \n",
       "4            36.0     23.1%           4.0      8.3  "
      ]
     },
     "execution_count": 12,
     "metadata": {},
     "output_type": "execute_result"
    }
   ],
   "source": [
    "lineup_cols = ['PG', 'SG', 'SF', 'PF', 'C', 'season', 'team', 'Poss'] + \\\n",
    "              [col for col in lineup_df.columns if 'off_' in col]\n",
    "lineup_df = lineup_df[lineup_cols]\n",
    "lineup_df.head()"
   ]
  },
  {
   "cell_type": "markdown",
   "id": "b4ceaef4",
   "metadata": {},
   "source": [
    "Read kmeans models"
   ]
  },
  {
   "cell_type": "code",
   "execution_count": 13,
   "id": "b17d8617",
   "metadata": {
    "ExecuteTime": {
     "end_time": "2023-03-01T08:52:48.918193Z",
     "start_time": "2023-03-01T08:52:48.913367Z"
    }
   },
   "outputs": [],
   "source": [
    "nba_clustering_models_km = load_pickle('nba_clustering_models_km')\n",
    "pre_pca_pipe = nba_clustering_models_km['pre_pca_pipe']\n",
    "pca = nba_clustering_models_km['pca']\n",
    "pre_cluster_scaler = nba_clustering_models_km['pre_cluster_scaler']\n",
    "cluster_map_km_to_sc = nba_clustering_models_km['cluster_map_to_spectral_clustering']\n",
    "km = nba_clustering_models_km['km']"
   ]
  },
  {
   "cell_type": "code",
   "execution_count": 14,
   "id": "555f10c6",
   "metadata": {
    "ExecuteTime": {
     "end_time": "2023-03-01T08:52:56.458921Z",
     "start_time": "2023-03-01T08:52:56.454959Z"
    }
   },
   "outputs": [],
   "source": [
    "cluster_dict_detail = {\n",
    "    1: 'Ballhandler (Iso+PnR)', \n",
    "    0: 'Ballhandler (PnR)',                    \n",
    "    2: 'Big (Post Up+Roll)', \n",
    "    7: 'Big (Roll+Cut)',\n",
    "    3: 'Big (Roll+Spot Up)',\n",
    "    6: 'Wing (Off Screen)', \n",
    "    4: 'Wing (Hand Off)', \n",
    "    5: 'Wing (Spot Up+Transition)'\n",
    "}"
   ]
  },
  {
   "cell_type": "markdown",
   "id": "618c1bd9",
   "metadata": {},
   "source": [
    "Read Synergy data"
   ]
  },
  {
   "cell_type": "code",
   "execution_count": 15,
   "id": "1c103850",
   "metadata": {
    "ExecuteTime": {
     "end_time": "2023-03-01T08:52:58.325518Z",
     "start_time": "2023-03-01T08:52:58.271892Z"
    }
   },
   "outputs": [],
   "source": [
    "s_df = pd.read_csv('nba_offense_plus_ctg.csv')\n",
    "s_df = s_df[s_df['Season'] != 2016]"
   ]
  },
  {
   "cell_type": "code",
   "execution_count": 16,
   "id": "93cc60d7",
   "metadata": {
    "ExecuteTime": {
     "end_time": "2023-03-01T08:53:00.383249Z",
     "start_time": "2023-03-01T08:53:00.379705Z"
    }
   },
   "outputs": [],
   "source": [
    "playtypes = ['Isolation', 'P&R Ball Handler', 'Post-Up', \n",
    "             'P&R Roll Man', 'Spot Up', 'Off Screen', \n",
    "             'Hand Off', 'Cut', \n",
    "             'Offensive Rebounds', \n",
    "             'Transition']\n",
    "playtype_weights = [f'{playtype}_Poss%'\n",
    "                    for playtype in playtypes]"
   ]
  },
  {
   "cell_type": "code",
   "execution_count": 17,
   "id": "02884b1f",
   "metadata": {
    "ExecuteTime": {
     "end_time": "2023-03-01T08:53:00.823263Z",
     "start_time": "2023-03-01T08:53:00.820400Z"
    }
   },
   "outputs": [],
   "source": [
    "situations = ['Pick and Rolls Including Passes',\n",
    "              'Isolations Including Passes',\n",
    "              'Post-Ups Including Passes']\n",
    "situation_weights = [f'{situation}_On_Court%'\n",
    "                     for situation in situations]"
   ]
  },
  {
   "cell_type": "code",
   "execution_count": 18,
   "id": "c9c57387",
   "metadata": {
    "ExecuteTime": {
     "end_time": "2023-03-01T08:53:01.251175Z",
     "start_time": "2023-03-01T08:53:01.247923Z"
    }
   },
   "outputs": [],
   "source": [
    "shottypes = ['Catch and Shoot', \n",
    "             'At Rim',\n",
    "             'Long (3 point jump shots)',\n",
    "             'All Jump Shots off the Dribble'\n",
    "            ]\n",
    "shottype_weights = [f'{shottype}_FGA%' \n",
    "                    for shottype in shottypes]"
   ]
  },
  {
   "cell_type": "code",
   "execution_count": 19,
   "id": "5f4c474d",
   "metadata": {
    "ExecuteTime": {
     "end_time": "2023-03-01T08:53:01.519805Z",
     "start_time": "2023-03-01T08:53:01.514070Z"
    }
   },
   "outputs": [
    {
     "data": {
      "text/plain": [
       "['Isolation_Poss%',\n",
       " 'P&R Ball Handler_Poss%',\n",
       " 'Post-Up_Poss%',\n",
       " 'P&R Roll Man_Poss%',\n",
       " 'Spot Up_Poss%',\n",
       " 'Off Screen_Poss%',\n",
       " 'Hand Off_Poss%',\n",
       " 'Cut_Poss%',\n",
       " 'Offensive Rebounds_Poss%',\n",
       " 'Transition_Poss%',\n",
       " 'Catch and Shoot_FGA%',\n",
       " 'At Rim_FGA%',\n",
       " 'Long (3 point jump shots)_FGA%',\n",
       " 'All Jump Shots off the Dribble_FGA%',\n",
       " 'Pick and Rolls Including Passes_On_Court%',\n",
       " 'Isolations Including Passes_On_Court%',\n",
       " 'Post-Ups Including Passes_On_Court%']"
      ]
     },
     "execution_count": 19,
     "metadata": {},
     "output_type": "execute_result"
    }
   ],
   "source": [
    "weights = playtype_weights + shottype_weights + situation_weights \n",
    "weights"
   ]
  },
  {
   "cell_type": "markdown",
   "id": "a61ec814",
   "metadata": {},
   "source": [
    "Synergy functions"
   ]
  },
  {
   "cell_type": "code",
   "execution_count": 20,
   "id": "34cc5a81",
   "metadata": {
    "ExecuteTime": {
     "end_time": "2023-03-01T08:53:01.949546Z",
     "start_time": "2023-03-01T08:53:01.944162Z"
    }
   },
   "outputs": [],
   "source": [
    "def player_lookup(player, df, season=2021, if_ppp_n_rank=False):\n",
    "    pdf = df[(df['Player'] == player) & (df['Season'] == season)]\n",
    "    for idx in pdf.index:\n",
    "        print(player, pdf.loc[idx]['Team'])\n",
    "        print('-')\n",
    "        for col in df.columns:\n",
    "            if 'Poss%' in col and 'Miscellaneous' not in col:\n",
    "                print(col, f'{pdf.loc[idx][col]:.2%}')\n",
    "                if if_ppp_n_rank:\n",
    "                    ppp_col = col.replace('Poss%', 'PPP')\n",
    "                    print(ppp_col, f'{pdf.loc[idx][ppp_col]:.3f}')\n",
    "                    rank_col = col.replace('Poss%', 'Rank')\n",
    "                    print(rank_col, f'{pdf.loc[idx][rank_col]}')\n",
    "                print('-')"
   ]
  },
  {
   "cell_type": "markdown",
   "id": "114e2c57",
   "metadata": {},
   "source": [
    "## Feature Engineering"
   ]
  },
  {
   "cell_type": "markdown",
   "id": "25267092",
   "metadata": {},
   "source": [
    "### Get League/Team Offensive Rating for each Season"
   ]
  },
  {
   "cell_type": "code",
   "execution_count": 21,
   "id": "88551827",
   "metadata": {
    "ExecuteTime": {
     "end_time": "2023-03-01T08:53:02.624189Z",
     "start_time": "2023-03-01T08:53:02.611618Z"
    }
   },
   "outputs": [],
   "source": [
    "tm_lineup_df = lineup_df.copy()\n",
    "tm_lineup_df['off_Pts'] = lineup_df['off_Pts/Poss'] * lineup_df['Poss']"
   ]
  },
  {
   "cell_type": "code",
   "execution_count": 22,
   "id": "3f124fb9",
   "metadata": {
    "ExecuteTime": {
     "end_time": "2023-03-01T08:53:02.746424Z",
     "start_time": "2023-03-01T08:53:02.709399Z"
    }
   },
   "outputs": [
    {
     "data": {
      "text/html": [
       "<div>\n",
       "<style scoped>\n",
       "    .dataframe tbody tr th:only-of-type {\n",
       "        vertical-align: middle;\n",
       "    }\n",
       "\n",
       "    .dataframe tbody tr th {\n",
       "        vertical-align: top;\n",
       "    }\n",
       "\n",
       "    .dataframe thead th {\n",
       "        text-align: right;\n",
       "    }\n",
       "</style>\n",
       "<table border=\"1\" class=\"dataframe\">\n",
       "  <thead>\n",
       "    <tr style=\"text-align: right;\">\n",
       "      <th></th>\n",
       "      <th>season</th>\n",
       "      <th>off_Pts/Poss</th>\n",
       "    </tr>\n",
       "  </thead>\n",
       "  <tbody>\n",
       "    <tr>\n",
       "      <th>0</th>\n",
       "      <td>2017-2018</td>\n",
       "      <td>108.329988</td>\n",
       "    </tr>\n",
       "    <tr>\n",
       "      <th>1</th>\n",
       "      <td>2018-2019</td>\n",
       "      <td>110.480204</td>\n",
       "    </tr>\n",
       "    <tr>\n",
       "      <th>2</th>\n",
       "      <td>2019-2020</td>\n",
       "      <td>110.793898</td>\n",
       "    </tr>\n",
       "    <tr>\n",
       "      <th>3</th>\n",
       "      <td>2020-2021</td>\n",
       "      <td>112.795304</td>\n",
       "    </tr>\n",
       "    <tr>\n",
       "      <th>4</th>\n",
       "      <td>2021-2022</td>\n",
       "      <td>112.255389</td>\n",
       "    </tr>\n",
       "  </tbody>\n",
       "</table>\n",
       "</div>"
      ],
      "text/plain": [
       "      season  off_Pts/Poss\n",
       "0  2017-2018    108.329988\n",
       "1  2018-2019    110.480204\n",
       "2  2019-2020    110.793898\n",
       "3  2020-2021    112.795304\n",
       "4  2021-2022    112.255389"
      ]
     },
     "execution_count": 22,
     "metadata": {},
     "output_type": "execute_result"
    }
   ],
   "source": [
    "season_off_ratings = tm_lineup_df.groupby('season')[['off_Pts', 'Poss']].sum()\n",
    "season_off_ratings['off_Pts/Poss'] = season_off_ratings['off_Pts'] / \\\n",
    "                                     season_off_ratings['Poss']\n",
    "season_off_ratings[['off_Pts/Poss']].reset_index()"
   ]
  },
  {
   "cell_type": "code",
   "execution_count": 23,
   "id": "a939e62a",
   "metadata": {
    "ExecuteTime": {
     "end_time": "2023-03-01T08:53:02.839272Z",
     "start_time": "2023-03-01T08:53:02.802991Z"
    }
   },
   "outputs": [
    {
     "data": {
      "text/html": [
       "<div>\n",
       "<style scoped>\n",
       "    .dataframe tbody tr th:only-of-type {\n",
       "        vertical-align: middle;\n",
       "    }\n",
       "\n",
       "    .dataframe tbody tr th {\n",
       "        vertical-align: top;\n",
       "    }\n",
       "\n",
       "    .dataframe thead th {\n",
       "        text-align: right;\n",
       "    }\n",
       "</style>\n",
       "<table border=\"1\" class=\"dataframe\">\n",
       "  <thead>\n",
       "    <tr style=\"text-align: right;\">\n",
       "      <th></th>\n",
       "      <th>team</th>\n",
       "      <th>season</th>\n",
       "      <th>tm_off_Pts/Poss</th>\n",
       "    </tr>\n",
       "  </thead>\n",
       "  <tbody>\n",
       "    <tr>\n",
       "      <th>0</th>\n",
       "      <td>Atlanta Hawks</td>\n",
       "      <td>2017-2018</td>\n",
       "      <td>104.452049</td>\n",
       "    </tr>\n",
       "    <tr>\n",
       "      <th>1</th>\n",
       "      <td>Atlanta Hawks</td>\n",
       "      <td>2018-2019</td>\n",
       "      <td>107.673913</td>\n",
       "    </tr>\n",
       "    <tr>\n",
       "      <th>2</th>\n",
       "      <td>Atlanta Hawks</td>\n",
       "      <td>2019-2020</td>\n",
       "      <td>107.546858</td>\n",
       "    </tr>\n",
       "    <tr>\n",
       "      <th>3</th>\n",
       "      <td>Atlanta Hawks</td>\n",
       "      <td>2020-2021</td>\n",
       "      <td>115.375155</td>\n",
       "    </tr>\n",
       "    <tr>\n",
       "      <th>4</th>\n",
       "      <td>Atlanta Hawks</td>\n",
       "      <td>2021-2022</td>\n",
       "      <td>116.125381</td>\n",
       "    </tr>\n",
       "    <tr>\n",
       "      <th>...</th>\n",
       "      <td>...</td>\n",
       "      <td>...</td>\n",
       "      <td>...</td>\n",
       "    </tr>\n",
       "    <tr>\n",
       "      <th>145</th>\n",
       "      <td>Washington Wizards</td>\n",
       "      <td>2017-2018</td>\n",
       "      <td>108.547292</td>\n",
       "    </tr>\n",
       "    <tr>\n",
       "      <th>146</th>\n",
       "      <td>Washington Wizards</td>\n",
       "      <td>2018-2019</td>\n",
       "      <td>110.997148</td>\n",
       "    </tr>\n",
       "    <tr>\n",
       "      <th>147</th>\n",
       "      <td>Washington Wizards</td>\n",
       "      <td>2019-2020</td>\n",
       "      <td>110.553583</td>\n",
       "    </tr>\n",
       "    <tr>\n",
       "      <th>148</th>\n",
       "      <td>Washington Wizards</td>\n",
       "      <td>2020-2021</td>\n",
       "      <td>111.587056</td>\n",
       "    </tr>\n",
       "    <tr>\n",
       "      <th>149</th>\n",
       "      <td>Washington Wizards</td>\n",
       "      <td>2021-2022</td>\n",
       "      <td>110.846772</td>\n",
       "    </tr>\n",
       "  </tbody>\n",
       "</table>\n",
       "<p>150 rows × 3 columns</p>\n",
       "</div>"
      ],
      "text/plain": [
       "                   team     season  tm_off_Pts/Poss\n",
       "0         Atlanta Hawks  2017-2018       104.452049\n",
       "1         Atlanta Hawks  2018-2019       107.673913\n",
       "2         Atlanta Hawks  2019-2020       107.546858\n",
       "3         Atlanta Hawks  2020-2021       115.375155\n",
       "4         Atlanta Hawks  2021-2022       116.125381\n",
       "..                  ...        ...              ...\n",
       "145  Washington Wizards  2017-2018       108.547292\n",
       "146  Washington Wizards  2018-2019       110.997148\n",
       "147  Washington Wizards  2019-2020       110.553583\n",
       "148  Washington Wizards  2020-2021       111.587056\n",
       "149  Washington Wizards  2021-2022       110.846772\n",
       "\n",
       "[150 rows x 3 columns]"
      ]
     },
     "execution_count": 23,
     "metadata": {},
     "output_type": "execute_result"
    }
   ],
   "source": [
    "tm_off_ratings = tm_lineup_df.groupby(['team', 'season'])[['off_Pts', 'Poss']].sum()\n",
    "tm_off_ratings['off_Pts/Poss'] = tm_off_ratings['off_Pts'] / tm_off_ratings['Poss']\n",
    "tm_off_ratings = tm_off_ratings[['off_Pts/Poss']].reset_index()\\\n",
    "                                                 .rename(columns={'off_Pts/Poss': 'tm_off_Pts/Poss'})\n",
    "tm_off_ratings"
   ]
  },
  {
   "cell_type": "markdown",
   "id": "813a7d7a",
   "metadata": {},
   "source": [
    "### Merge"
   ]
  },
  {
   "cell_type": "markdown",
   "id": "6d63dc89",
   "metadata": {},
   "source": [
    "### Step 1: Find out who did not have a cluster tag"
   ]
  },
  {
   "cell_type": "code",
   "execution_count": 24,
   "id": "55465267",
   "metadata": {
    "ExecuteTime": {
     "end_time": "2023-03-01T08:53:03.050293Z",
     "start_time": "2023-03-01T08:53:03.043989Z"
    }
   },
   "outputs": [],
   "source": [
    "synergy_name_dict = {'kevinporterjr': 'kevinporter',\n",
    "                     'patrickbeverly': 'patrickbeverley',\n",
    "                     'terryrozieriii': 'terryrozier',\n",
    "                     'kellyoubrejr': 'kellyoubre',\n",
    "                     'lonniewalkeriv': 'lonniewalker',\n",
    "                     'ottoporterjr': 'ottoporter',\n",
    "                     'robertwilliamsiii': 'robertwilliams',\n",
    "                     'wendellcarterjr': 'wendellcarter',\n",
    "                     'alfarouqaminu': 'al-farouqaminu',\n",
    "                     'jarenjacksonjr': 'jarenjackson',\n",
    "                     'marvinbagleyiii': 'marvinbagley',\n",
    "                     'marcusmorrissr': 'marcusmorris',\n",
    "                     'wesleyiwundu': 'wesiwundu',\n",
    "                     'troybrownjr': 'troybrown',\n",
    "                     'larrynance': 'larrynancejr',\n",
    "                     'michaelporterjr': 'michaelporter',\n",
    "                     'kevinknoxii': 'kevinknox',\n",
    "                     'jamesennisiii': 'jamesennis',\n",
    "                     'danilogalinari': 'danilogallinari',\n",
    "                     'danuelhousejr': 'danuelhouse',\n",
    "                     'svimykhailiuk': 'sviatoslavmykhailiuk',\n",
    "                     'timothéluwawu-cabarrot': 'timotheluwawu-cabarrot',\n",
    "                     'duanewashingtonjr': 'duanewashington',\n",
    "                     'juanchohernangomez': 'juanhernangomez',\n",
    "                     'harrygilesiii': 'harrygiles',\n",
    "                     'malcomdelaney': 'malcolmdelaney'}"
   ]
  },
  {
   "cell_type": "code",
   "execution_count": 25,
   "id": "87bc5239",
   "metadata": {
    "ExecuteTime": {
     "end_time": "2023-03-01T08:53:03.139476Z",
     "start_time": "2023-03-01T08:53:03.122490Z"
    }
   },
   "outputs": [
    {
     "data": {
      "text/html": [
       "<div>\n",
       "<style scoped>\n",
       "    .dataframe tbody tr th:only-of-type {\n",
       "        vertical-align: middle;\n",
       "    }\n",
       "\n",
       "    .dataframe tbody tr th {\n",
       "        vertical-align: top;\n",
       "    }\n",
       "\n",
       "    .dataframe thead th {\n",
       "        text-align: right;\n",
       "    }\n",
       "</style>\n",
       "<table border=\"1\" class=\"dataframe\">\n",
       "  <thead>\n",
       "    <tr style=\"text-align: right;\">\n",
       "      <th></th>\n",
       "      <th>season</th>\n",
       "      <th>team</th>\n",
       "      <th>player_cluster</th>\n",
       "      <th>player_alt</th>\n",
       "    </tr>\n",
       "  </thead>\n",
       "  <tbody>\n",
       "    <tr>\n",
       "      <th>0</th>\n",
       "      <td>2017-2018</td>\n",
       "      <td>Atlanta Hawks</td>\n",
       "      <td>6</td>\n",
       "      <td>taureanprince</td>\n",
       "    </tr>\n",
       "    <tr>\n",
       "      <th>1</th>\n",
       "      <td>2017-2018</td>\n",
       "      <td>Atlanta Hawks</td>\n",
       "      <td>1</td>\n",
       "      <td>dennisschroder</td>\n",
       "    </tr>\n",
       "    <tr>\n",
       "      <th>2</th>\n",
       "      <td>2017-2018</td>\n",
       "      <td>Atlanta Hawks</td>\n",
       "      <td>0</td>\n",
       "      <td>kentbazemore</td>\n",
       "    </tr>\n",
       "    <tr>\n",
       "      <th>3</th>\n",
       "      <td>2017-2018</td>\n",
       "      <td>Atlanta Hawks</td>\n",
       "      <td>3</td>\n",
       "      <td>johncollins</td>\n",
       "    </tr>\n",
       "    <tr>\n",
       "      <th>4</th>\n",
       "      <td>2017-2018</td>\n",
       "      <td>Atlanta Hawks</td>\n",
       "      <td>3</td>\n",
       "      <td>dewaynededmon</td>\n",
       "    </tr>\n",
       "  </tbody>\n",
       "</table>\n",
       "</div>"
      ],
      "text/plain": [
       "      season           team  player_cluster      player_alt\n",
       "0  2017-2018  Atlanta Hawks               6   taureanprince\n",
       "1  2017-2018  Atlanta Hawks               1  dennisschroder\n",
       "2  2017-2018  Atlanta Hawks               0    kentbazemore\n",
       "3  2017-2018  Atlanta Hawks               3     johncollins\n",
       "4  2017-2018  Atlanta Hawks               3   dewaynededmon"
      ]
     },
     "execution_count": 25,
     "metadata": {},
     "output_type": "execute_result"
    }
   ],
   "source": [
    "label_df['player_alt'] = label_df['Player'].apply(lambda x: x.replace(' ', '').lower())\\\n",
    "                                           .apply(lambda x: x.replace(\"'\", ''))\\\n",
    "                                           .apply(lambda x: x.replace('.', ''))\\\n",
    "                                           .apply(lambda x: synergy_name_dict[x] \n",
    "                                                  if x in synergy_name_dict.keys()\n",
    "                                                  else x)\n",
    "label_df = label_df.drop('Player', axis=1)\n",
    "label_df.head()"
   ]
  },
  {
   "cell_type": "markdown",
   "id": "d5f90c73",
   "metadata": {},
   "source": [
    "Adjust name in the lineup data."
   ]
  },
  {
   "cell_type": "code",
   "execution_count": 26,
   "id": "ff066294",
   "metadata": {
    "ExecuteTime": {
     "end_time": "2023-03-01T08:53:03.686491Z",
     "start_time": "2023-03-01T08:53:03.297777Z"
    }
   },
   "outputs": [
    {
     "data": {
      "text/html": [
       "<div>\n",
       "<style scoped>\n",
       "    .dataframe tbody tr th:only-of-type {\n",
       "        vertical-align: middle;\n",
       "    }\n",
       "\n",
       "    .dataframe tbody tr th {\n",
       "        vertical-align: top;\n",
       "    }\n",
       "\n",
       "    .dataframe thead th {\n",
       "        text-align: right;\n",
       "    }\n",
       "</style>\n",
       "<table border=\"1\" class=\"dataframe\">\n",
       "  <thead>\n",
       "    <tr style=\"text-align: right;\">\n",
       "      <th></th>\n",
       "      <th>PG</th>\n",
       "      <th>SG</th>\n",
       "      <th>SF</th>\n",
       "      <th>PF</th>\n",
       "      <th>C</th>\n",
       "      <th>season</th>\n",
       "      <th>team</th>\n",
       "      <th>Poss</th>\n",
       "      <th>off_Pts/Poss_rank</th>\n",
       "      <th>off_Pts/Poss</th>\n",
       "      <th>off_eFG%_rank</th>\n",
       "      <th>off_eFG%</th>\n",
       "      <th>off_TOV%_rank</th>\n",
       "      <th>off_TOV%</th>\n",
       "      <th>off_OREB%_rank</th>\n",
       "      <th>off_OREB%</th>\n",
       "      <th>off_FTr_rank</th>\n",
       "      <th>off_FTr</th>\n",
       "      <th>PG_alt</th>\n",
       "      <th>SG_alt</th>\n",
       "      <th>SF_alt</th>\n",
       "      <th>PF_alt</th>\n",
       "      <th>C_alt</th>\n",
       "    </tr>\n",
       "  </thead>\n",
       "  <tbody>\n",
       "    <tr>\n",
       "      <th>0</th>\n",
       "      <td>Dennis Schroder</td>\n",
       "      <td>Kent Bazemore</td>\n",
       "      <td>Taurean Prince</td>\n",
       "      <td>Ersan Ilyasova</td>\n",
       "      <td>Miles Plumlee</td>\n",
       "      <td>2017-2018</td>\n",
       "      <td>Atlanta Hawks</td>\n",
       "      <td>733</td>\n",
       "      <td>18.0</td>\n",
       "      <td>99.9</td>\n",
       "      <td>41.0</td>\n",
       "      <td>51.5%</td>\n",
       "      <td>12.0</td>\n",
       "      <td>17.7%</td>\n",
       "      <td>59.0</td>\n",
       "      <td>25.9%</td>\n",
       "      <td>37.0</td>\n",
       "      <td>15.0</td>\n",
       "      <td>dennisschroder</td>\n",
       "      <td>kentbazemore</td>\n",
       "      <td>taureanprince</td>\n",
       "      <td>ersanilyasova</td>\n",
       "      <td>milesplumlee</td>\n",
       "    </tr>\n",
       "    <tr>\n",
       "      <th>1</th>\n",
       "      <td>Dennis Schroder</td>\n",
       "      <td>Kent Bazemore</td>\n",
       "      <td>Taurean Prince</td>\n",
       "      <td>John Collins</td>\n",
       "      <td>Dewayne Dedmon</td>\n",
       "      <td>2017-2018</td>\n",
       "      <td>Atlanta Hawks</td>\n",
       "      <td>245</td>\n",
       "      <td>66.0</td>\n",
       "      <td>112.7</td>\n",
       "      <td>81.0</td>\n",
       "      <td>57.9%</td>\n",
       "      <td>15.0</td>\n",
       "      <td>17.1%</td>\n",
       "      <td>37.0</td>\n",
       "      <td>23.1%</td>\n",
       "      <td>41.0</td>\n",
       "      <td>15.7</td>\n",
       "      <td>dennisschroder</td>\n",
       "      <td>kentbazemore</td>\n",
       "      <td>taureanprince</td>\n",
       "      <td>johncollins</td>\n",
       "      <td>dewaynededmon</td>\n",
       "    </tr>\n",
       "    <tr>\n",
       "      <th>2</th>\n",
       "      <td>Dennis Schroder</td>\n",
       "      <td>Kent Bazemore</td>\n",
       "      <td>Taurean Prince</td>\n",
       "      <td>Ersan Ilyasova</td>\n",
       "      <td>Dewayne Dedmon</td>\n",
       "      <td>2017-2018</td>\n",
       "      <td>Atlanta Hawks</td>\n",
       "      <td>193</td>\n",
       "      <td>22.0</td>\n",
       "      <td>101.0</td>\n",
       "      <td>18.0</td>\n",
       "      <td>48.8%</td>\n",
       "      <td>78.0</td>\n",
       "      <td>12.4%</td>\n",
       "      <td>22.0</td>\n",
       "      <td>20.4%</td>\n",
       "      <td>73.0</td>\n",
       "      <td>22.1</td>\n",
       "      <td>dennisschroder</td>\n",
       "      <td>kentbazemore</td>\n",
       "      <td>taureanprince</td>\n",
       "      <td>ersanilyasova</td>\n",
       "      <td>dewaynededmon</td>\n",
       "    </tr>\n",
       "    <tr>\n",
       "      <th>3</th>\n",
       "      <td>Dennis Schroder</td>\n",
       "      <td>Kent Bazemore</td>\n",
       "      <td>Taurean Prince</td>\n",
       "      <td>Luke Babbitt</td>\n",
       "      <td>Dewayne Dedmon</td>\n",
       "      <td>2017-2018</td>\n",
       "      <td>Atlanta Hawks</td>\n",
       "      <td>142</td>\n",
       "      <td>62.0</td>\n",
       "      <td>112.0</td>\n",
       "      <td>91.0</td>\n",
       "      <td>59.7%</td>\n",
       "      <td>7.0</td>\n",
       "      <td>19.0%</td>\n",
       "      <td>44.0</td>\n",
       "      <td>23.8%</td>\n",
       "      <td>5.0</td>\n",
       "      <td>8.9</td>\n",
       "      <td>dennisschroder</td>\n",
       "      <td>kentbazemore</td>\n",
       "      <td>taureanprince</td>\n",
       "      <td>lukebabbitt</td>\n",
       "      <td>dewaynededmon</td>\n",
       "    </tr>\n",
       "    <tr>\n",
       "      <th>4</th>\n",
       "      <td>Isaiah Taylor</td>\n",
       "      <td>Taurean Prince</td>\n",
       "      <td>Damion Lee</td>\n",
       "      <td>John Collins</td>\n",
       "      <td>Dewayne Dedmon</td>\n",
       "      <td>2017-2018</td>\n",
       "      <td>Atlanta Hawks</td>\n",
       "      <td>140</td>\n",
       "      <td>36.0</td>\n",
       "      <td>105.7</td>\n",
       "      <td>41.0</td>\n",
       "      <td>51.5%</td>\n",
       "      <td>62.0</td>\n",
       "      <td>13.6%</td>\n",
       "      <td>36.0</td>\n",
       "      <td>23.1%</td>\n",
       "      <td>4.0</td>\n",
       "      <td>8.3</td>\n",
       "      <td>isaiahtaylor</td>\n",
       "      <td>taureanprince</td>\n",
       "      <td>damionlee</td>\n",
       "      <td>johncollins</td>\n",
       "      <td>dewaynededmon</td>\n",
       "    </tr>\n",
       "  </tbody>\n",
       "</table>\n",
       "</div>"
      ],
      "text/plain": [
       "                PG              SG              SF              PF  \\\n",
       "0  Dennis Schroder   Kent Bazemore  Taurean Prince  Ersan Ilyasova   \n",
       "1  Dennis Schroder   Kent Bazemore  Taurean Prince    John Collins   \n",
       "2  Dennis Schroder   Kent Bazemore  Taurean Prince  Ersan Ilyasova   \n",
       "3  Dennis Schroder   Kent Bazemore  Taurean Prince    Luke Babbitt   \n",
       "4    Isaiah Taylor  Taurean Prince      Damion Lee    John Collins   \n",
       "\n",
       "                C     season           team  Poss  off_Pts/Poss_rank  \\\n",
       "0   Miles Plumlee  2017-2018  Atlanta Hawks   733               18.0   \n",
       "1  Dewayne Dedmon  2017-2018  Atlanta Hawks   245               66.0   \n",
       "2  Dewayne Dedmon  2017-2018  Atlanta Hawks   193               22.0   \n",
       "3  Dewayne Dedmon  2017-2018  Atlanta Hawks   142               62.0   \n",
       "4  Dewayne Dedmon  2017-2018  Atlanta Hawks   140               36.0   \n",
       "\n",
       "   off_Pts/Poss  off_eFG%_rank off_eFG%  off_TOV%_rank off_TOV%  \\\n",
       "0          99.9           41.0    51.5%           12.0    17.7%   \n",
       "1         112.7           81.0    57.9%           15.0    17.1%   \n",
       "2         101.0           18.0    48.8%           78.0    12.4%   \n",
       "3         112.0           91.0    59.7%            7.0    19.0%   \n",
       "4         105.7           41.0    51.5%           62.0    13.6%   \n",
       "\n",
       "   off_OREB%_rank off_OREB%  off_FTr_rank  off_FTr          PG_alt  \\\n",
       "0            59.0     25.9%          37.0     15.0  dennisschroder   \n",
       "1            37.0     23.1%          41.0     15.7  dennisschroder   \n",
       "2            22.0     20.4%          73.0     22.1  dennisschroder   \n",
       "3            44.0     23.8%           5.0      8.9  dennisschroder   \n",
       "4            36.0     23.1%           4.0      8.3    isaiahtaylor   \n",
       "\n",
       "          SG_alt         SF_alt         PF_alt          C_alt  \n",
       "0   kentbazemore  taureanprince  ersanilyasova   milesplumlee  \n",
       "1   kentbazemore  taureanprince    johncollins  dewaynededmon  \n",
       "2   kentbazemore  taureanprince  ersanilyasova  dewaynededmon  \n",
       "3   kentbazemore  taureanprince    lukebabbitt  dewaynededmon  \n",
       "4  taureanprince      damionlee    johncollins  dewaynededmon  "
      ]
     },
     "execution_count": 26,
     "metadata": {},
     "output_type": "execute_result"
    }
   ],
   "source": [
    "positions = ['PG', 'SG', 'SF', 'PF', 'C']\n",
    "for pos in positions:\n",
    "    lineup_df[f'{pos}_alt'] = lineup_df[pos].apply(lambda x: x.replace(' ', ''))\\\n",
    "                                            .apply(lambda x: x.replace(\"'\", ''))\\\n",
    "                                            .apply(lambda x: x.replace('.', ''))\\\n",
    "                                            .apply(lambda x: x.lower())\n",
    "lineup_df.head()"
   ]
  },
  {
   "cell_type": "markdown",
   "id": "e35d6dd1",
   "metadata": {},
   "source": [
    "First attempt to assign cluster label to lineup data.  \n",
    "The expectation is, there will be some `nan` (missing players) after the merge."
   ]
  },
  {
   "cell_type": "code",
   "execution_count": 27,
   "id": "96ffe3a6",
   "metadata": {
    "ExecuteTime": {
     "end_time": "2023-03-01T08:53:04.451106Z",
     "start_time": "2023-03-01T08:53:03.866890Z"
    }
   },
   "outputs": [],
   "source": [
    "temp = lineup_df.copy()\n",
    "for pos in positions:\n",
    "    temp = temp.merge(label_df.rename(columns={'player_alt': f'{pos}_alt'}),\n",
    "                      on=[f'{pos}_alt', 'season', 'team'],\n",
    "                      how='left')\\\n",
    "               .rename(columns={'player_cluster': f'{pos}_cluster'})"
   ]
  },
  {
   "cell_type": "markdown",
   "id": "95d9315a",
   "metadata": {},
   "source": [
    "Find missing players that appear in lineups that logged 100 possessions."
   ]
  },
  {
   "cell_type": "code",
   "execution_count": 28,
   "id": "a96d151a",
   "metadata": {
    "ExecuteTime": {
     "end_time": "2023-03-01T08:53:04.505605Z",
     "start_time": "2023-03-01T08:53:04.454072Z"
    }
   },
   "outputs": [
    {
     "data": {
      "text/html": [
       "<div>\n",
       "<style scoped>\n",
       "    .dataframe tbody tr th:only-of-type {\n",
       "        vertical-align: middle;\n",
       "    }\n",
       "\n",
       "    .dataframe tbody tr th {\n",
       "        vertical-align: top;\n",
       "    }\n",
       "\n",
       "    .dataframe thead th {\n",
       "        text-align: right;\n",
       "    }\n",
       "</style>\n",
       "<table border=\"1\" class=\"dataframe\">\n",
       "  <thead>\n",
       "    <tr style=\"text-align: right;\">\n",
       "      <th></th>\n",
       "      <th>season</th>\n",
       "      <th>team</th>\n",
       "      <th>player</th>\n",
       "      <th>player_alt</th>\n",
       "    </tr>\n",
       "  </thead>\n",
       "  <tbody>\n",
       "    <tr>\n",
       "      <th>0</th>\n",
       "      <td>2021-2022</td>\n",
       "      <td>Denver Nuggets</td>\n",
       "      <td>Michael Porter</td>\n",
       "      <td>michaelporter</td>\n",
       "    </tr>\n",
       "    <tr>\n",
       "      <th>1</th>\n",
       "      <td>2018-2019</td>\n",
       "      <td>Washington Wizards</td>\n",
       "      <td>Dwight Howard</td>\n",
       "      <td>dwighthoward</td>\n",
       "    </tr>\n",
       "    <tr>\n",
       "      <th>2</th>\n",
       "      <td>2019-2020</td>\n",
       "      <td>Atlanta Hawks</td>\n",
       "      <td>Dewayne Dedmon</td>\n",
       "      <td>dewaynededmon</td>\n",
       "    </tr>\n",
       "    <tr>\n",
       "      <th>3</th>\n",
       "      <td>2019-2020</td>\n",
       "      <td>New York Knicks</td>\n",
       "      <td>Maurice Harkless</td>\n",
       "      <td>mauriceharkless</td>\n",
       "    </tr>\n",
       "    <tr>\n",
       "      <th>4</th>\n",
       "      <td>2018-2019</td>\n",
       "      <td>Phoenix Suns</td>\n",
       "      <td>Ryan Anderson</td>\n",
       "      <td>ryananderson</td>\n",
       "    </tr>\n",
       "    <tr>\n",
       "      <th>5</th>\n",
       "      <td>2018-2019</td>\n",
       "      <td>Golden State Warriors</td>\n",
       "      <td>Andrew Bogut</td>\n",
       "      <td>andrewbogut</td>\n",
       "    </tr>\n",
       "    <tr>\n",
       "      <th>6</th>\n",
       "      <td>2019-2020</td>\n",
       "      <td>Portland Trail Blazers</td>\n",
       "      <td>Zach Collins</td>\n",
       "      <td>zachcollins</td>\n",
       "    </tr>\n",
       "    <tr>\n",
       "      <th>7</th>\n",
       "      <td>2019-2020</td>\n",
       "      <td>Portland Trail Blazers</td>\n",
       "      <td>Jusuf Nurkic</td>\n",
       "      <td>jusufnurkic</td>\n",
       "    </tr>\n",
       "    <tr>\n",
       "      <th>8</th>\n",
       "      <td>2017-2018</td>\n",
       "      <td>Cleveland Cavaliers</td>\n",
       "      <td>Iman Shumpert</td>\n",
       "      <td>imanshumpert</td>\n",
       "    </tr>\n",
       "    <tr>\n",
       "      <th>9</th>\n",
       "      <td>2020-2021</td>\n",
       "      <td>Philadelphia 76ers</td>\n",
       "      <td>Tony Bradley</td>\n",
       "      <td>tonybradley</td>\n",
       "    </tr>\n",
       "    <tr>\n",
       "      <th>10</th>\n",
       "      <td>2020-2021</td>\n",
       "      <td>Orlando Magic</td>\n",
       "      <td>Moritz Wagner</td>\n",
       "      <td>moritzwagner</td>\n",
       "    </tr>\n",
       "    <tr>\n",
       "      <th>11</th>\n",
       "      <td>2018-2019</td>\n",
       "      <td>Los Angeles Clippers</td>\n",
       "      <td>Wilson Chandler</td>\n",
       "      <td>wilsonchandler</td>\n",
       "    </tr>\n",
       "    <tr>\n",
       "      <th>12</th>\n",
       "      <td>2021-2022</td>\n",
       "      <td>Phoenix Suns</td>\n",
       "      <td>Frank Kaminsky</td>\n",
       "      <td>frankkaminsky</td>\n",
       "    </tr>\n",
       "    <tr>\n",
       "      <th>13</th>\n",
       "      <td>2019-2020</td>\n",
       "      <td>Washington Wizards</td>\n",
       "      <td>CJ Miles</td>\n",
       "      <td>cjmiles</td>\n",
       "    </tr>\n",
       "    <tr>\n",
       "      <th>14</th>\n",
       "      <td>2021-2022</td>\n",
       "      <td>Milwaukee Bucks</td>\n",
       "      <td>Brook Lopez</td>\n",
       "      <td>brooklopez</td>\n",
       "    </tr>\n",
       "    <tr>\n",
       "      <th>15</th>\n",
       "      <td>2018-2019</td>\n",
       "      <td>Cleveland Cavaliers</td>\n",
       "      <td>Sam Dekker</td>\n",
       "      <td>samdekker</td>\n",
       "    </tr>\n",
       "    <tr>\n",
       "      <th>16</th>\n",
       "      <td>2018-2019</td>\n",
       "      <td>Cleveland Cavaliers</td>\n",
       "      <td>Tristan Thompson</td>\n",
       "      <td>tristanthompson</td>\n",
       "    </tr>\n",
       "    <tr>\n",
       "      <th>17</th>\n",
       "      <td>2017-2018</td>\n",
       "      <td>Charlotte Hornets</td>\n",
       "      <td>Julyan Stone</td>\n",
       "      <td>julyanstone</td>\n",
       "    </tr>\n",
       "    <tr>\n",
       "      <th>18</th>\n",
       "      <td>2017-2018</td>\n",
       "      <td>Charlotte Hornets</td>\n",
       "      <td>Willy Hernangomez</td>\n",
       "      <td>willyhernangomez</td>\n",
       "    </tr>\n",
       "    <tr>\n",
       "      <th>19</th>\n",
       "      <td>2021-2022</td>\n",
       "      <td>Oklahoma City Thunder</td>\n",
       "      <td>Melvin Frazier Jr.</td>\n",
       "      <td>melvinfrazierjr</td>\n",
       "    </tr>\n",
       "    <tr>\n",
       "      <th>20</th>\n",
       "      <td>2021-2022</td>\n",
       "      <td>Oklahoma City Thunder</td>\n",
       "      <td>Jaylen Hoard</td>\n",
       "      <td>jaylenhoard</td>\n",
       "    </tr>\n",
       "    <tr>\n",
       "      <th>21</th>\n",
       "      <td>2021-2022</td>\n",
       "      <td>Oklahoma City Thunder</td>\n",
       "      <td>Georgios Kalaitzakis</td>\n",
       "      <td>georgioskalaitzakis</td>\n",
       "    </tr>\n",
       "    <tr>\n",
       "      <th>22</th>\n",
       "      <td>2021-2022</td>\n",
       "      <td>Oklahoma City Thunder</td>\n",
       "      <td>Zavier Simpson</td>\n",
       "      <td>zaviersimpson</td>\n",
       "    </tr>\n",
       "    <tr>\n",
       "      <th>23</th>\n",
       "      <td>2021-2022</td>\n",
       "      <td>Portland Trail Blazers</td>\n",
       "      <td>Justise Winslow</td>\n",
       "      <td>justisewinslow</td>\n",
       "    </tr>\n",
       "    <tr>\n",
       "      <th>24</th>\n",
       "      <td>2018-2019</td>\n",
       "      <td>Orlando Magic</td>\n",
       "      <td>Michael Carter-Williams</td>\n",
       "      <td>michaelcarter-williams</td>\n",
       "    </tr>\n",
       "    <tr>\n",
       "      <th>25</th>\n",
       "      <td>2021-2022</td>\n",
       "      <td>Cleveland Cavaliers</td>\n",
       "      <td>Moses Brown</td>\n",
       "      <td>mosesbrown</td>\n",
       "    </tr>\n",
       "    <tr>\n",
       "      <th>26</th>\n",
       "      <td>2018-2019</td>\n",
       "      <td>Cleveland Cavaliers</td>\n",
       "      <td>JR Smith</td>\n",
       "      <td>jrsmith</td>\n",
       "    </tr>\n",
       "    <tr>\n",
       "      <th>27</th>\n",
       "      <td>2020-2021</td>\n",
       "      <td>Orlando Magic</td>\n",
       "      <td>Markelle Fultz</td>\n",
       "      <td>markellefultz</td>\n",
       "    </tr>\n",
       "    <tr>\n",
       "      <th>28</th>\n",
       "      <td>2017-2018</td>\n",
       "      <td>Los Angeles Clippers</td>\n",
       "      <td>Avery Bradley</td>\n",
       "      <td>averybradley</td>\n",
       "    </tr>\n",
       "    <tr>\n",
       "      <th>29</th>\n",
       "      <td>2017-2018</td>\n",
       "      <td>Los Angeles Clippers</td>\n",
       "      <td>DeAndre Jordan</td>\n",
       "      <td>deandrejordan</td>\n",
       "    </tr>\n",
       "    <tr>\n",
       "      <th>30</th>\n",
       "      <td>2017-2018</td>\n",
       "      <td>Washington Wizards</td>\n",
       "      <td>Ramon Sessions</td>\n",
       "      <td>ramonsessions</td>\n",
       "    </tr>\n",
       "    <tr>\n",
       "      <th>31</th>\n",
       "      <td>2017-2018</td>\n",
       "      <td>Washington Wizards</td>\n",
       "      <td>Ian Mahinmi</td>\n",
       "      <td>ianmahinmi</td>\n",
       "    </tr>\n",
       "    <tr>\n",
       "      <th>32</th>\n",
       "      <td>2017-2018</td>\n",
       "      <td>Toronto Raptors</td>\n",
       "      <td>Malcolm Miller</td>\n",
       "      <td>malcolmmiller</td>\n",
       "    </tr>\n",
       "    <tr>\n",
       "      <th>33</th>\n",
       "      <td>2020-2021</td>\n",
       "      <td>Houston Rockets</td>\n",
       "      <td>James Harden</td>\n",
       "      <td>jamesharden</td>\n",
       "    </tr>\n",
       "    <tr>\n",
       "      <th>34</th>\n",
       "      <td>2017-2018</td>\n",
       "      <td>Los Angeles Clippers</td>\n",
       "      <td>Jamil Wilson</td>\n",
       "      <td>jamilwilson</td>\n",
       "    </tr>\n",
       "    <tr>\n",
       "      <th>35</th>\n",
       "      <td>2021-2022</td>\n",
       "      <td>Utah Jazz</td>\n",
       "      <td>Udoka Azubuike</td>\n",
       "      <td>udokaazubuike</td>\n",
       "    </tr>\n",
       "    <tr>\n",
       "      <th>36</th>\n",
       "      <td>2019-2020</td>\n",
       "      <td>New York Knicks</td>\n",
       "      <td>Mitchell Robinson</td>\n",
       "      <td>mitchellrobinson</td>\n",
       "    </tr>\n",
       "    <tr>\n",
       "      <th>37</th>\n",
       "      <td>2020-2021</td>\n",
       "      <td>Miami Heat</td>\n",
       "      <td>Victor Oladipo</td>\n",
       "      <td>victoroladipo</td>\n",
       "    </tr>\n",
       "    <tr>\n",
       "      <th>38</th>\n",
       "      <td>2019-2020</td>\n",
       "      <td>Cleveland Cavaliers</td>\n",
       "      <td>Andre Drummond</td>\n",
       "      <td>andredrummond</td>\n",
       "    </tr>\n",
       "    <tr>\n",
       "      <th>39</th>\n",
       "      <td>2017-2018</td>\n",
       "      <td>San Antonio Spurs</td>\n",
       "      <td>Kawhi Leonard</td>\n",
       "      <td>kawhileonard</td>\n",
       "    </tr>\n",
       "    <tr>\n",
       "      <th>40</th>\n",
       "      <td>2017-2018</td>\n",
       "      <td>Oklahoma City Thunder</td>\n",
       "      <td>Dakari Johnson</td>\n",
       "      <td>dakarijohnson</td>\n",
       "    </tr>\n",
       "    <tr>\n",
       "      <th>41</th>\n",
       "      <td>2018-2019</td>\n",
       "      <td>Portland Trail Blazers</td>\n",
       "      <td>Caleb Swanigan</td>\n",
       "      <td>calebswanigan</td>\n",
       "    </tr>\n",
       "    <tr>\n",
       "      <th>42</th>\n",
       "      <td>2020-2021</td>\n",
       "      <td>Memphis Grizzlies</td>\n",
       "      <td>Jaren Jackson</td>\n",
       "      <td>jarenjackson</td>\n",
       "    </tr>\n",
       "    <tr>\n",
       "      <th>43</th>\n",
       "      <td>2017-2018</td>\n",
       "      <td>Milwaukee Bucks</td>\n",
       "      <td>Gary Payton II</td>\n",
       "      <td>garypaytonii</td>\n",
       "    </tr>\n",
       "    <tr>\n",
       "      <th>44</th>\n",
       "      <td>2020-2021</td>\n",
       "      <td>Minnesota Timberwolves</td>\n",
       "      <td>Ed Davis</td>\n",
       "      <td>eddavis</td>\n",
       "    </tr>\n",
       "  </tbody>\n",
       "</table>\n",
       "</div>"
      ],
      "text/plain": [
       "       season                    team                   player  \\\n",
       "0   2021-2022          Denver Nuggets           Michael Porter   \n",
       "1   2018-2019      Washington Wizards            Dwight Howard   \n",
       "2   2019-2020           Atlanta Hawks           Dewayne Dedmon   \n",
       "3   2019-2020         New York Knicks         Maurice Harkless   \n",
       "4   2018-2019            Phoenix Suns            Ryan Anderson   \n",
       "5   2018-2019   Golden State Warriors             Andrew Bogut   \n",
       "6   2019-2020  Portland Trail Blazers             Zach Collins   \n",
       "7   2019-2020  Portland Trail Blazers             Jusuf Nurkic   \n",
       "8   2017-2018     Cleveland Cavaliers            Iman Shumpert   \n",
       "9   2020-2021      Philadelphia 76ers             Tony Bradley   \n",
       "10  2020-2021           Orlando Magic            Moritz Wagner   \n",
       "11  2018-2019    Los Angeles Clippers          Wilson Chandler   \n",
       "12  2021-2022            Phoenix Suns           Frank Kaminsky   \n",
       "13  2019-2020      Washington Wizards                 CJ Miles   \n",
       "14  2021-2022         Milwaukee Bucks              Brook Lopez   \n",
       "15  2018-2019     Cleveland Cavaliers               Sam Dekker   \n",
       "16  2018-2019     Cleveland Cavaliers         Tristan Thompson   \n",
       "17  2017-2018       Charlotte Hornets             Julyan Stone   \n",
       "18  2017-2018       Charlotte Hornets        Willy Hernangomez   \n",
       "19  2021-2022   Oklahoma City Thunder       Melvin Frazier Jr.   \n",
       "20  2021-2022   Oklahoma City Thunder             Jaylen Hoard   \n",
       "21  2021-2022   Oklahoma City Thunder     Georgios Kalaitzakis   \n",
       "22  2021-2022   Oklahoma City Thunder           Zavier Simpson   \n",
       "23  2021-2022  Portland Trail Blazers          Justise Winslow   \n",
       "24  2018-2019           Orlando Magic  Michael Carter-Williams   \n",
       "25  2021-2022     Cleveland Cavaliers              Moses Brown   \n",
       "26  2018-2019     Cleveland Cavaliers                 JR Smith   \n",
       "27  2020-2021           Orlando Magic           Markelle Fultz   \n",
       "28  2017-2018    Los Angeles Clippers            Avery Bradley   \n",
       "29  2017-2018    Los Angeles Clippers           DeAndre Jordan   \n",
       "30  2017-2018      Washington Wizards           Ramon Sessions   \n",
       "31  2017-2018      Washington Wizards              Ian Mahinmi   \n",
       "32  2017-2018         Toronto Raptors           Malcolm Miller   \n",
       "33  2020-2021         Houston Rockets             James Harden   \n",
       "34  2017-2018    Los Angeles Clippers             Jamil Wilson   \n",
       "35  2021-2022               Utah Jazz           Udoka Azubuike   \n",
       "36  2019-2020         New York Knicks        Mitchell Robinson   \n",
       "37  2020-2021              Miami Heat           Victor Oladipo   \n",
       "38  2019-2020     Cleveland Cavaliers           Andre Drummond   \n",
       "39  2017-2018       San Antonio Spurs            Kawhi Leonard   \n",
       "40  2017-2018   Oklahoma City Thunder           Dakari Johnson   \n",
       "41  2018-2019  Portland Trail Blazers           Caleb Swanigan   \n",
       "42  2020-2021       Memphis Grizzlies            Jaren Jackson   \n",
       "43  2017-2018         Milwaukee Bucks           Gary Payton II   \n",
       "44  2020-2021  Minnesota Timberwolves                 Ed Davis   \n",
       "\n",
       "                player_alt  \n",
       "0            michaelporter  \n",
       "1             dwighthoward  \n",
       "2            dewaynededmon  \n",
       "3          mauriceharkless  \n",
       "4             ryananderson  \n",
       "5              andrewbogut  \n",
       "6              zachcollins  \n",
       "7              jusufnurkic  \n",
       "8             imanshumpert  \n",
       "9              tonybradley  \n",
       "10            moritzwagner  \n",
       "11          wilsonchandler  \n",
       "12           frankkaminsky  \n",
       "13                 cjmiles  \n",
       "14              brooklopez  \n",
       "15               samdekker  \n",
       "16         tristanthompson  \n",
       "17             julyanstone  \n",
       "18        willyhernangomez  \n",
       "19         melvinfrazierjr  \n",
       "20             jaylenhoard  \n",
       "21     georgioskalaitzakis  \n",
       "22           zaviersimpson  \n",
       "23          justisewinslow  \n",
       "24  michaelcarter-williams  \n",
       "25              mosesbrown  \n",
       "26                 jrsmith  \n",
       "27           markellefultz  \n",
       "28            averybradley  \n",
       "29           deandrejordan  \n",
       "30           ramonsessions  \n",
       "31              ianmahinmi  \n",
       "32           malcolmmiller  \n",
       "33             jamesharden  \n",
       "34             jamilwilson  \n",
       "35           udokaazubuike  \n",
       "36        mitchellrobinson  \n",
       "37           victoroladipo  \n",
       "38           andredrummond  \n",
       "39            kawhileonard  \n",
       "40           dakarijohnson  \n",
       "41           calebswanigan  \n",
       "42            jarenjackson  \n",
       "43            garypaytonii  \n",
       "44                 eddavis  "
      ]
     },
     "execution_count": 28,
     "metadata": {},
     "output_type": "execute_result"
    }
   ],
   "source": [
    "rows_missing = pd.concat([temp[(temp[f'{pos}_cluster'].isna()) & \n",
    "                               (temp['Poss'] >= 100)]\n",
    "                          for pos in positions])\\\n",
    "                 .drop_duplicates()\\\n",
    "                 .sort_values('Poss', ascending=False)\n",
    "\n",
    "missing_players_data = []\n",
    "for idx in rows_missing.index:\n",
    "    row = rows_missing.loc[idx]\n",
    "    for pos in positions:\n",
    "        if row[f'{pos}_cluster'] not in [0, 1, 2, 3, 4, 5, 6]:\n",
    "            missing_players_data.append([row['season'], \n",
    "                                         row['team'],\n",
    "                                         row[pos],\n",
    "                                         row[f'{pos}_alt']])\n",
    "\n",
    "missing_players_df = pd.DataFrame(missing_players_data,\n",
    "                                  columns=['season', 'team', 'player', 'player_alt'])\\\n",
    "                       .drop_duplicates().reset_index(drop=True)\n",
    "missing_players_df"
   ]
  },
  {
   "cell_type": "markdown",
   "id": "bbac9c80",
   "metadata": {},
   "source": [
    "Find out how many players are missing."
   ]
  },
  {
   "cell_type": "code",
   "execution_count": 29,
   "id": "9f1a4e5f",
   "metadata": {
    "ExecuteTime": {
     "end_time": "2023-03-01T08:53:04.747736Z",
     "start_time": "2023-03-01T08:53:04.742933Z"
    }
   },
   "outputs": [
    {
     "data": {
      "text/plain": [
       "(45, 4)"
      ]
     },
     "execution_count": 29,
     "metadata": {},
     "output_type": "execute_result"
    }
   ],
   "source": [
    "missing_players_df.shape"
   ]
  },
  {
   "cell_type": "code",
   "execution_count": 30,
   "id": "079d47a2",
   "metadata": {
    "ExecuteTime": {
     "end_time": "2023-03-01T08:53:04.982019Z",
     "start_time": "2023-03-01T08:53:04.972731Z"
    }
   },
   "outputs": [],
   "source": [
    "s_df['player_alt'] = s_df['Player'].apply(lambda x: x.replace(' ', '').lower())\\\n",
    "                                   .apply(lambda x: x.replace(\"'\", ''))\\\n",
    "                                   .apply(lambda x: x.replace('.', ''))\\\n",
    "                                   .apply(lambda x: synergy_name_dict[x] \n",
    "                                          if x in synergy_name_dict.keys()\n",
    "                                          else x)"
   ]
  },
  {
   "cell_type": "markdown",
   "id": "c37a2cb9",
   "metadata": {},
   "source": [
    "Merge Synergy records to missing players."
   ]
  },
  {
   "cell_type": "code",
   "execution_count": 31,
   "id": "d28be167",
   "metadata": {
    "ExecuteTime": {
     "end_time": "2023-03-01T08:53:05.420066Z",
     "start_time": "2023-03-01T08:53:05.405998Z"
    }
   },
   "outputs": [],
   "source": [
    "missing_players_df = missing_players_df.merge(s_df,\n",
    "                                              left_on=['team', 'season', 'player_alt'],\n",
    "                                              right_on=['Team', 'Season', 'player_alt'],\n",
    "                                              how='left')"
   ]
  },
  {
   "cell_type": "markdown",
   "id": "8ce79e45",
   "metadata": {
    "ExecuteTime": {
     "end_time": "2022-06-22T11:04:09.352336Z",
     "start_time": "2022-06-22T11:04:09.347994Z"
    }
   },
   "source": [
    "Make sure that we find all the Synergy data for the missing players."
   ]
  },
  {
   "cell_type": "code",
   "execution_count": 32,
   "id": "221b67c3",
   "metadata": {
    "ExecuteTime": {
     "end_time": "2023-03-01T08:53:05.844709Z",
     "start_time": "2023-03-01T08:53:05.835525Z"
    }
   },
   "outputs": [
    {
     "data": {
      "text/html": [
       "<div>\n",
       "<style scoped>\n",
       "    .dataframe tbody tr th:only-of-type {\n",
       "        vertical-align: middle;\n",
       "    }\n",
       "\n",
       "    .dataframe tbody tr th {\n",
       "        vertical-align: top;\n",
       "    }\n",
       "\n",
       "    .dataframe thead th {\n",
       "        text-align: right;\n",
       "    }\n",
       "</style>\n",
       "<table border=\"1\" class=\"dataframe\">\n",
       "  <thead>\n",
       "    <tr style=\"text-align: right;\">\n",
       "      <th></th>\n",
       "      <th>Player</th>\n",
       "      <th>Team</th>\n",
       "      <th>Season</th>\n",
       "      <th>Overall_Poss</th>\n",
       "    </tr>\n",
       "  </thead>\n",
       "  <tbody>\n",
       "  </tbody>\n",
       "</table>\n",
       "</div>"
      ],
      "text/plain": [
       "Empty DataFrame\n",
       "Columns: [Player, Team, Season, Overall_Poss]\n",
       "Index: []"
      ]
     },
     "execution_count": 32,
     "metadata": {},
     "output_type": "execute_result"
    }
   ],
   "source": [
    "missing_players_df[missing_players_df['Overall_Poss'].isna()]\\\n",
    "[['Player', 'Team', 'Season', 'Overall_Poss']]"
   ]
  },
  {
   "cell_type": "markdown",
   "id": "092f4450",
   "metadata": {},
   "source": [
    "### Step 2: Create cluster tags for those who don't have one"
   ]
  },
  {
   "cell_type": "markdown",
   "id": "fcecc484",
   "metadata": {},
   "source": [
    "Assign player clusters using previously-trained model."
   ]
  },
  {
   "cell_type": "code",
   "execution_count": 33,
   "id": "8c3366b7",
   "metadata": {
    "ExecuteTime": {
     "end_time": "2023-03-01T08:53:06.537673Z",
     "start_time": "2023-03-01T08:53:06.486940Z"
    }
   },
   "outputs": [],
   "source": [
    "X = missing_players_df[weights].copy()\n",
    "X_transformed = pre_cluster_scaler.transform(pca.transform(pre_pca_pipe.transform(X)))\n",
    "missing_players_df['player_cluster'] = km.predict(X_transformed)\n",
    "missing_players_df['player_cluster'] = missing_players_df['player_cluster'].map(cluster_map_km_to_sc)"
   ]
  },
  {
   "cell_type": "markdown",
   "id": "3bfe41b0",
   "metadata": {},
   "source": [
    "Check players got assigned to cluster 2 or 6, which are relatively primary role."
   ]
  },
  {
   "cell_type": "code",
   "execution_count": 34,
   "id": "03db9e79",
   "metadata": {
    "ExecuteTime": {
     "end_time": "2023-03-01T08:53:06.927015Z",
     "start_time": "2023-03-01T08:53:06.922366Z"
    }
   },
   "outputs": [
    {
     "data": {
      "text/plain": [
       "{1: 'Ballhandler (Iso+PnR)',\n",
       " 0: 'Ballhandler (PnR)',\n",
       " 2: 'Big (Post Up+Roll)',\n",
       " 7: 'Big (Roll+Cut)',\n",
       " 3: 'Big (Roll+Spot Up)',\n",
       " 6: 'Wing (Off Screen)',\n",
       " 4: 'Wing (Hand Off)',\n",
       " 5: 'Wing (Spot Up+Transition)'}"
      ]
     },
     "execution_count": 34,
     "metadata": {},
     "output_type": "execute_result"
    }
   ],
   "source": [
    "cluster_dict_detail"
   ]
  },
  {
   "cell_type": "code",
   "execution_count": 35,
   "id": "e284fa65",
   "metadata": {
    "ExecuteTime": {
     "end_time": "2023-03-01T08:53:07.165292Z",
     "start_time": "2023-03-01T08:53:07.157293Z"
    }
   },
   "outputs": [
    {
     "data": {
      "text/plain": [
       "player_cluster\n",
       "0    2\n",
       "1    1\n",
       "2    3\n",
       "3    6\n",
       "4    5\n",
       "5    5\n",
       "6    1\n",
       "7    6\n",
       "Name: player, dtype: int64"
      ]
     },
     "execution_count": 35,
     "metadata": {},
     "output_type": "execute_result"
    }
   ],
   "source": [
    "missing_players_df[missing_players_df['Overall_Poss'] < 100]\\\n",
    ".groupby('player_cluster')['player'].count()"
   ]
  },
  {
   "cell_type": "code",
   "execution_count": 36,
   "id": "365c32ea",
   "metadata": {
    "ExecuteTime": {
     "end_time": "2023-03-01T08:53:07.408464Z",
     "start_time": "2023-03-01T08:53:07.393789Z"
    }
   },
   "outputs": [
    {
     "data": {
      "text/html": [
       "<div>\n",
       "<style scoped>\n",
       "    .dataframe tbody tr th:only-of-type {\n",
       "        vertical-align: middle;\n",
       "    }\n",
       "\n",
       "    .dataframe tbody tr th {\n",
       "        vertical-align: top;\n",
       "    }\n",
       "\n",
       "    .dataframe thead th {\n",
       "        text-align: right;\n",
       "    }\n",
       "</style>\n",
       "<table border=\"1\" class=\"dataframe\">\n",
       "  <thead>\n",
       "    <tr style=\"text-align: right;\">\n",
       "      <th></th>\n",
       "      <th>Player</th>\n",
       "      <th>Team</th>\n",
       "      <th>Season</th>\n",
       "      <th>Overall_Poss</th>\n",
       "      <th>player_cluster</th>\n",
       "    </tr>\n",
       "  </thead>\n",
       "  <tbody>\n",
       "    <tr>\n",
       "      <th>40</th>\n",
       "      <td>Dakari Johnson</td>\n",
       "      <td>Oklahoma City Thunder</td>\n",
       "      <td>2017-2018</td>\n",
       "      <td>47.0</td>\n",
       "      <td>2</td>\n",
       "    </tr>\n",
       "    <tr>\n",
       "      <th>41</th>\n",
       "      <td>Caleb Swanigan</td>\n",
       "      <td>Portland Trail Blazers</td>\n",
       "      <td>2018-2019</td>\n",
       "      <td>55.0</td>\n",
       "      <td>2</td>\n",
       "    </tr>\n",
       "    <tr>\n",
       "      <th>4</th>\n",
       "      <td>Ryan Anderson</td>\n",
       "      <td>Phoenix Suns</td>\n",
       "      <td>2018-2019</td>\n",
       "      <td>73.0</td>\n",
       "      <td>6</td>\n",
       "    </tr>\n",
       "    <tr>\n",
       "      <th>1</th>\n",
       "      <td>Dwight Howard</td>\n",
       "      <td>Washington Wizards</td>\n",
       "      <td>2018-2019</td>\n",
       "      <td>95.0</td>\n",
       "      <td>2</td>\n",
       "    </tr>\n",
       "  </tbody>\n",
       "</table>\n",
       "</div>"
      ],
      "text/plain": [
       "            Player                    Team     Season  Overall_Poss  \\\n",
       "40  Dakari Johnson   Oklahoma City Thunder  2017-2018          47.0   \n",
       "41  Caleb Swanigan  Portland Trail Blazers  2018-2019          55.0   \n",
       "4    Ryan Anderson            Phoenix Suns  2018-2019          73.0   \n",
       "1    Dwight Howard      Washington Wizards  2018-2019          95.0   \n",
       "\n",
       "    player_cluster  \n",
       "40               2  \n",
       "41               2  \n",
       "4                6  \n",
       "1                2  "
      ]
     },
     "execution_count": 36,
     "metadata": {},
     "output_type": "execute_result"
    }
   ],
   "source": [
    "missing_players_df[(missing_players_df['Overall_Poss'] < 100) &\n",
    "                   (missing_players_df['player_cluster'].isin([2, 6]))]\\\n",
    "[['Player', 'Team', 'Season', 'Overall_Poss', 'player_cluster']].sort_values('Overall_Poss')"
   ]
  },
  {
   "cell_type": "markdown",
   "id": "739b90da",
   "metadata": {},
   "source": [
    "### Step 3: Complete assigning cluster labels in lineup data"
   ]
  },
  {
   "cell_type": "markdown",
   "id": "9310e3bc",
   "metadata": {},
   "source": [
    "Add cluster labels of missing players to the original label data."
   ]
  },
  {
   "cell_type": "code",
   "execution_count": 37,
   "id": "41ca7965",
   "metadata": {
    "ExecuteTime": {
     "end_time": "2023-03-01T08:53:08.125592Z",
     "start_time": "2023-03-01T08:53:08.118311Z"
    }
   },
   "outputs": [
    {
     "data": {
      "text/plain": [
       "(2185, 4)"
      ]
     },
     "execution_count": 37,
     "metadata": {},
     "output_type": "execute_result"
    }
   ],
   "source": [
    "label_df_adj = pd.concat([label_df,\n",
    "                          missing_players_df[['season', 'team', \n",
    "                                              'player_cluster', 'player_alt']]])\\\n",
    "                 .reset_index(drop=True)\n",
    "label_df_adj.shape"
   ]
  },
  {
   "cell_type": "markdown",
   "id": "10280af0",
   "metadata": {},
   "source": [
    "Assign labels."
   ]
  },
  {
   "cell_type": "code",
   "execution_count": 38,
   "id": "ab5461ea",
   "metadata": {
    "ExecuteTime": {
     "end_time": "2023-03-01T08:53:09.102427Z",
     "start_time": "2023-03-01T08:53:08.563277Z"
    }
   },
   "outputs": [],
   "source": [
    "for pos in positions:\n",
    "    lineup_df = lineup_df.merge(label_df_adj.rename(columns={'player_alt': f'{pos}_alt'}),\n",
    "                                how='left')\\\n",
    "                         .rename(columns={'player_cluster': f'{pos}_cluster'})"
   ]
  },
  {
   "cell_type": "markdown",
   "id": "7216bf92",
   "metadata": {
    "ExecuteTime": {
     "end_time": "2022-06-22T11:23:57.877440Z",
     "start_time": "2022-06-22T11:23:57.836219Z"
    }
   },
   "source": [
    "Check if there are missing records with no cluster labels."
   ]
  },
  {
   "cell_type": "code",
   "execution_count": 39,
   "id": "6951971a",
   "metadata": {
    "ExecuteTime": {
     "end_time": "2023-03-01T08:53:09.131842Z",
     "start_time": "2023-03-01T08:53:09.105630Z"
    }
   },
   "outputs": [
    {
     "data": {
      "text/html": [
       "<div>\n",
       "<style scoped>\n",
       "    .dataframe tbody tr th:only-of-type {\n",
       "        vertical-align: middle;\n",
       "    }\n",
       "\n",
       "    .dataframe tbody tr th {\n",
       "        vertical-align: top;\n",
       "    }\n",
       "\n",
       "    .dataframe thead th {\n",
       "        text-align: right;\n",
       "    }\n",
       "</style>\n",
       "<table border=\"1\" class=\"dataframe\">\n",
       "  <thead>\n",
       "    <tr style=\"text-align: right;\">\n",
       "      <th></th>\n",
       "      <th>PG</th>\n",
       "      <th>SG</th>\n",
       "      <th>SF</th>\n",
       "      <th>PF</th>\n",
       "      <th>C</th>\n",
       "      <th>season</th>\n",
       "      <th>team</th>\n",
       "      <th>Poss</th>\n",
       "      <th>off_Pts/Poss_rank</th>\n",
       "      <th>off_Pts/Poss</th>\n",
       "      <th>off_eFG%_rank</th>\n",
       "      <th>off_eFG%</th>\n",
       "      <th>off_TOV%_rank</th>\n",
       "      <th>off_TOV%</th>\n",
       "      <th>off_OREB%_rank</th>\n",
       "      <th>off_OREB%</th>\n",
       "      <th>off_FTr_rank</th>\n",
       "      <th>off_FTr</th>\n",
       "      <th>PG_alt</th>\n",
       "      <th>SG_alt</th>\n",
       "      <th>SF_alt</th>\n",
       "      <th>PF_alt</th>\n",
       "      <th>C_alt</th>\n",
       "      <th>PG_cluster</th>\n",
       "      <th>SG_cluster</th>\n",
       "      <th>SF_cluster</th>\n",
       "      <th>PF_cluster</th>\n",
       "      <th>C_cluster</th>\n",
       "    </tr>\n",
       "  </thead>\n",
       "  <tbody>\n",
       "  </tbody>\n",
       "</table>\n",
       "</div>"
      ],
      "text/plain": [
       "Empty DataFrame\n",
       "Columns: [PG, SG, SF, PF, C, season, team, Poss, off_Pts/Poss_rank, off_Pts/Poss, off_eFG%_rank, off_eFG%, off_TOV%_rank, off_TOV%, off_OREB%_rank, off_OREB%, off_FTr_rank, off_FTr, PG_alt, SG_alt, SF_alt, PF_alt, C_alt, PG_cluster, SG_cluster, SF_cluster, PF_cluster, C_cluster]\n",
       "Index: []"
      ]
     },
     "execution_count": 39,
     "metadata": {},
     "output_type": "execute_result"
    }
   ],
   "source": [
    "pd.concat([lineup_df[(lineup_df[f'{pos}_cluster'].isna()) & \n",
    "                     (lineup_df['Poss'] >= 100)]\n",
    "           for pos in positions])\\\n",
    "  .drop_duplicates()\\\n",
    "  .sort_values('Poss', ascending=False)"
   ]
  },
  {
   "cell_type": "markdown",
   "id": "47feb13e",
   "metadata": {},
   "source": [
    "### Step 4: Create cluster embeddings"
   ]
  },
  {
   "cell_type": "code",
   "execution_count": 40,
   "id": "abc6a2f6",
   "metadata": {
    "ExecuteTime": {
     "end_time": "2023-03-01T08:53:09.432450Z",
     "start_time": "2023-03-01T08:53:09.424163Z"
    }
   },
   "outputs": [],
   "source": [
    "lineup_df_100 = lineup_df[lineup_df['Poss'] >= 100].reset_index(drop=True)"
   ]
  },
  {
   "cell_type": "code",
   "execution_count": 41,
   "id": "0b0670c1",
   "metadata": {
    "ExecuteTime": {
     "end_time": "2023-03-01T08:53:09.718008Z",
     "start_time": "2023-03-01T08:53:09.678861Z"
    }
   },
   "outputs": [],
   "source": [
    "lineup_df_100['lineup_clusters'] = lineup_df_100.apply(lambda x: [x[f'{pos}_cluster'] \n",
    "                                                                  for pos in positions], \n",
    "                                                       axis=1)"
   ]
  },
  {
   "cell_type": "code",
   "execution_count": 42,
   "id": "b8188908",
   "metadata": {
    "ExecuteTime": {
     "end_time": "2023-03-01T08:53:09.913366Z",
     "start_time": "2023-03-01T08:53:09.909359Z"
    }
   },
   "outputs": [],
   "source": [
    "n_clusters = 8"
   ]
  },
  {
   "cell_type": "code",
   "execution_count": 43,
   "id": "f1835110",
   "metadata": {
    "ExecuteTime": {
     "end_time": "2023-03-01T08:53:10.298139Z",
     "start_time": "2023-03-01T08:53:10.283175Z"
    }
   },
   "outputs": [],
   "source": [
    "for i in range(n_clusters):\n",
    "    lineup_df_100[i] = lineup_df_100['lineup_clusters'].apply(lambda x: x.count(i))"
   ]
  },
  {
   "cell_type": "code",
   "execution_count": 44,
   "id": "9afb03a9",
   "metadata": {
    "ExecuteTime": {
     "end_time": "2023-03-01T08:53:10.599493Z",
     "start_time": "2023-03-01T08:53:10.541456Z"
    }
   },
   "outputs": [],
   "source": [
    "lineup_df_100['lineup_embedding'] = lineup_df_100.apply(lambda x: '-'.join([str(x[i]) \n",
    "                                                                            for i in range(n_clusters)]), \n",
    "                                                        axis=1)"
   ]
  },
  {
   "cell_type": "markdown",
   "id": "ae49fdf4",
   "metadata": {},
   "source": [
    "### Step 5: Compute 'adjusted offensive ratings'"
   ]
  },
  {
   "cell_type": "markdown",
   "id": "5392caf9",
   "metadata": {},
   "source": [
    "Inspired by 'NBA Lineup Analysis on Clustered Player Tendencies: A new approach to the positions of basketball & modeling lineup efficiency', the adjusted offensive ratings for lineups that logged under 300 possession are computed like the following:  "
   ]
  },
  {
   "cell_type": "markdown",
   "id": "a6e33579",
   "metadata": {},
   "source": [
    "$Adj. Off Rating = (\\frac{Poss}{300}) * Off Rating + (\\frac{300-Poss}{300}) * Tm Off Rating$"
   ]
  },
  {
   "cell_type": "code",
   "execution_count": 45,
   "id": "994da94e",
   "metadata": {
    "ExecuteTime": {
     "end_time": "2023-03-01T08:53:11.598838Z",
     "start_time": "2023-03-01T08:53:11.591040Z"
    }
   },
   "outputs": [
    {
     "data": {
      "text/plain": [
       "((1550, 38), (305, 38))"
      ]
     },
     "execution_count": 45,
     "metadata": {},
     "output_type": "execute_result"
    }
   ],
   "source": [
    "lineup_df_100.shape, lineup_df_100[lineup_df_100['Poss'] >= 300].shape"
   ]
  },
  {
   "cell_type": "code",
   "execution_count": 46,
   "id": "28bb60cc",
   "metadata": {
    "ExecuteTime": {
     "end_time": "2023-03-01T08:53:11.690326Z",
     "start_time": "2023-03-01T08:53:11.679753Z"
    }
   },
   "outputs": [],
   "source": [
    "lineup_df_100 = lineup_df_100.merge(tm_off_ratings, how='left')"
   ]
  },
  {
   "cell_type": "code",
   "execution_count": 47,
   "id": "2faef619",
   "metadata": {
    "ExecuteTime": {
     "end_time": "2023-03-01T08:53:11.774893Z",
     "start_time": "2023-03-01T08:53:11.765489Z"
    }
   },
   "outputs": [],
   "source": [
    "lineup_df_100['adj_off_Pts/Poss'] = lineup_df_100['off_Pts/Poss']\n",
    "cond = lineup_df_100['Poss'] < 300\n",
    "lineup_df_100.loc[cond, 'adj_off_Pts/Poss'] = lineup_df_100.loc[cond, 'off_Pts/Poss'] * \\\n",
    "                                              (lineup_df_100.loc[cond, 'Poss'] / 300) + \\\n",
    "                                              lineup_df_100.loc[cond, 'tm_off_Pts/Poss'] * \\\n",
    "                                              ((300 - lineup_df_100.loc[cond, 'Poss']) / 300)"
   ]
  },
  {
   "cell_type": "code",
   "execution_count": 48,
   "id": "aee11900",
   "metadata": {
    "ExecuteTime": {
     "end_time": "2023-03-01T08:53:12.533156Z",
     "start_time": "2023-03-01T08:53:11.848419Z"
    }
   },
   "outputs": [
    {
     "data": {
      "text/plain": [
       "<matplotlib.legend.Legend at 0x16087faf0>"
      ]
     },
     "execution_count": 48,
     "metadata": {},
     "output_type": "execute_result"
    },
    {
     "data": {
      "image/png": "[encoded data removed]",
      "text/plain": [
       "<Figure size 432x288 with 1 Axes>"
      ]
     },
     "metadata": {
      "needs_background": "light"
     },
     "output_type": "display_data"
    }
   ],
   "source": [
    "figsize(12, 8)\n",
    "sns.distplot(lineup_df_100['off_Pts/Poss'], \n",
    "             label='Raw Points Scored Per 100 Possessions')\n",
    "sns.distplot(lineup_df_100['adj_off_Pts/Poss'], \n",
    "             label='Adjusted Points Scored Per 100 Possessions')\n",
    "plt.xlabel('Points Scored Per 100 Possessions')\n",
    "plt.legend()"
   ]
  },
  {
   "cell_type": "code",
   "execution_count": 49,
   "id": "36ff96eb",
   "metadata": {
    "ExecuteTime": {
     "end_time": "2023-03-01T08:53:12.549190Z",
     "start_time": "2023-03-01T08:53:12.535648Z"
    }
   },
   "outputs": [],
   "source": [
    "league_avg = season_off_ratings[['off_Pts/Poss']].reset_index()\\\n",
    "                                                 .rename(columns={'off_Pts/Poss': \n",
    "                                                                  'league_avg_off_Pts/Poss'})\n",
    "lineup_df_100 = lineup_df_100.merge(league_avg, how='left')\n",
    "lineup_df_100['diff_to_league_avg'] = lineup_df_100['off_Pts/Poss'] - \\\n",
    "                                      lineup_df_100['league_avg_off_Pts/Poss']\n",
    "lineup_df_100['adj_diff_to_league_avg'] = lineup_df_100['adj_off_Pts/Poss'] - \\\n",
    "                                          lineup_df_100['league_avg_off_Pts/Poss']"
   ]
  },
  {
   "cell_type": "markdown",
   "id": "17087e00",
   "metadata": {},
   "source": [
    "## Exploratory Data Analysis"
   ]
  },
  {
   "cell_type": "markdown",
   "id": "00dafd16",
   "metadata": {},
   "source": [
    "### Ticket 1: How many types of lineups?"
   ]
  },
  {
   "cell_type": "code",
   "execution_count": 50,
   "id": "d89f781e",
   "metadata": {
    "ExecuteTime": {
     "end_time": "2023-03-01T08:53:12.561196Z",
     "start_time": "2023-03-01T08:53:12.551126Z"
    }
   },
   "outputs": [
    {
     "data": {
      "text/plain": [
       "(204, 1)"
      ]
     },
     "execution_count": 50,
     "metadata": {},
     "output_type": "execute_result"
    }
   ],
   "source": [
    "lineup_df_100.groupby('lineup_embedding')[['lineup_clusters']].count().shape"
   ]
  },
  {
   "cell_type": "markdown",
   "id": "394be870",
   "metadata": {},
   "source": [
    "### Ticket 2: What are the top 10 most popular lineups?"
   ]
  },
  {
   "cell_type": "code",
   "execution_count": 51,
   "id": "40085725",
   "metadata": {
    "ExecuteTime": {
     "end_time": "2023-03-01T08:53:12.586905Z",
     "start_time": "2023-03-01T08:53:12.582071Z"
    }
   },
   "outputs": [
    {
     "data": {
      "text/plain": [
       "{1: 'Ballhandler (Iso+PnR)',\n",
       " 0: 'Ballhandler (PnR)',\n",
       " 2: 'Big (Post Up+Roll)',\n",
       " 7: 'Big (Roll+Cut)',\n",
       " 3: 'Big (Roll+Spot Up)',\n",
       " 6: 'Wing (Off Screen)',\n",
       " 4: 'Wing (Hand Off)',\n",
       " 5: 'Wing (Spot Up+Transition)'}"
      ]
     },
     "execution_count": 51,
     "metadata": {},
     "output_type": "execute_result"
    }
   ],
   "source": [
    "cluster_dict_detail"
   ]
  },
  {
   "cell_type": "code",
   "execution_count": 52,
   "id": "46ae2a0b",
   "metadata": {
    "ExecuteTime": {
     "end_time": "2023-03-01T08:53:12.915833Z",
     "start_time": "2023-03-01T08:53:12.910780Z"
    }
   },
   "outputs": [],
   "source": [
    "def lineup_embedding_to_detail(s, cluster_dict_detail=cluster_dict_detail):\n",
    "    detail = []\n",
    "    lineup = s.split('-')\n",
    "    for i in range(n_clusters):\n",
    "        n = int(lineup[i])\n",
    "        if n != 0:\n",
    "            detail.append(f'{n} {cluster_dict_detail[i]}')\n",
    "    return ' | '.join(detail)"
   ]
  },
  {
   "cell_type": "code",
   "execution_count": 53,
   "id": "c41c02a3",
   "metadata": {
    "ExecuteTime": {
     "end_time": "2023-03-01T08:53:13.233185Z",
     "start_time": "2023-03-01T08:53:13.216547Z"
    }
   },
   "outputs": [
    {
     "data": {
      "text/html": [
       "<div>\n",
       "<style scoped>\n",
       "    .dataframe tbody tr th:only-of-type {\n",
       "        vertical-align: middle;\n",
       "    }\n",
       "\n",
       "    .dataframe tbody tr th {\n",
       "        vertical-align: top;\n",
       "    }\n",
       "\n",
       "    .dataframe thead th {\n",
       "        text-align: right;\n",
       "    }\n",
       "</style>\n",
       "<table border=\"1\" class=\"dataframe\">\n",
       "  <thead>\n",
       "    <tr style=\"text-align: right;\">\n",
       "      <th></th>\n",
       "      <th>lineup_embedding</th>\n",
       "      <th>num_lineups</th>\n",
       "      <th>lineup_detail</th>\n",
       "    </tr>\n",
       "  </thead>\n",
       "  <tbody>\n",
       "    <tr>\n",
       "      <th>109</th>\n",
       "      <td>1-1-0-1-0-2-0-0</td>\n",
       "      <td>68</td>\n",
       "      <td>1 Ballhandler (PnR) | 1 Ballhandler (Iso+PnR) | 1 Big (Roll+Spot Up) | 2 Wing (Spot Up+Transition)</td>\n",
       "    </tr>\n",
       "    <tr>\n",
       "      <th>163</th>\n",
       "      <td>2-0-1-0-0-2-0-0</td>\n",
       "      <td>60</td>\n",
       "      <td>2 Ballhandler (PnR) | 1 Big (Post Up+Roll) | 2 Wing (Spot Up+Transition)</td>\n",
       "    </tr>\n",
       "    <tr>\n",
       "      <th>120</th>\n",
       "      <td>1-1-1-0-0-2-0-0</td>\n",
       "      <td>59</td>\n",
       "      <td>1 Ballhandler (PnR) | 1 Ballhandler (Iso+PnR) | 1 Big (Post Up+Roll) | 2 Wing (Spot Up+Transition)</td>\n",
       "    </tr>\n",
       "    <tr>\n",
       "      <th>154</th>\n",
       "      <td>2-0-0-1-0-2-0-0</td>\n",
       "      <td>45</td>\n",
       "      <td>2 Ballhandler (PnR) | 1 Big (Roll+Spot Up) | 2 Wing (Spot Up+Transition)</td>\n",
       "    </tr>\n",
       "    <tr>\n",
       "      <th>82</th>\n",
       "      <td>1-0-1-0-0-3-0-0</td>\n",
       "      <td>41</td>\n",
       "      <td>1 Ballhandler (PnR) | 1 Big (Post Up+Roll) | 3 Wing (Spot Up+Transition)</td>\n",
       "    </tr>\n",
       "    <tr>\n",
       "      <th>179</th>\n",
       "      <td>2-1-0-1-0-1-0-0</td>\n",
       "      <td>39</td>\n",
       "      <td>2 Ballhandler (PnR) | 1 Ballhandler (Iso+PnR) | 1 Big (Roll+Spot Up) | 1 Wing (Spot Up+Transition)</td>\n",
       "    </tr>\n",
       "    <tr>\n",
       "      <th>72</th>\n",
       "      <td>1-0-0-1-0-3-0-0</td>\n",
       "      <td>38</td>\n",
       "      <td>1 Ballhandler (PnR) | 1 Big (Roll+Spot Up) | 3 Wing (Spot Up+Transition)</td>\n",
       "    </tr>\n",
       "    <tr>\n",
       "      <th>108</th>\n",
       "      <td>1-1-0-1-0-1-1-0</td>\n",
       "      <td>35</td>\n",
       "      <td>1 Ballhandler (PnR) | 1 Ballhandler (Iso+PnR) | 1 Big (Roll+Spot Up) | 1 Wing (Spot Up+Transition) | 1 Wing (Off Screen)</td>\n",
       "    </tr>\n",
       "    <tr>\n",
       "      <th>124</th>\n",
       "      <td>1-1-1-1-0-1-0-0</td>\n",
       "      <td>30</td>\n",
       "      <td>1 Ballhandler (PnR) | 1 Ballhandler (Iso+PnR) | 1 Big (Post Up+Roll) | 1 Big (Roll+Spot Up) | 1 Wing (Spot Up+Transition)</td>\n",
       "    </tr>\n",
       "    <tr>\n",
       "      <th>41</th>\n",
       "      <td>0-2-0-1-0-2-0-0</td>\n",
       "      <td>29</td>\n",
       "      <td>2 Ballhandler (Iso+PnR) | 1 Big (Roll+Spot Up) | 2 Wing (Spot Up+Transition)</td>\n",
       "    </tr>\n",
       "  </tbody>\n",
       "</table>\n",
       "</div>"
      ],
      "text/plain": [
       "    lineup_embedding  num_lineups  \\\n",
       "109  1-1-0-1-0-2-0-0           68   \n",
       "163  2-0-1-0-0-2-0-0           60   \n",
       "120  1-1-1-0-0-2-0-0           59   \n",
       "154  2-0-0-1-0-2-0-0           45   \n",
       "82   1-0-1-0-0-3-0-0           41   \n",
       "179  2-1-0-1-0-1-0-0           39   \n",
       "72   1-0-0-1-0-3-0-0           38   \n",
       "108  1-1-0-1-0-1-1-0           35   \n",
       "124  1-1-1-1-0-1-0-0           30   \n",
       "41   0-2-0-1-0-2-0-0           29   \n",
       "\n",
       "                                                                                                                 lineup_detail  \n",
       "109                         1 Ballhandler (PnR) | 1 Ballhandler (Iso+PnR) | 1 Big (Roll+Spot Up) | 2 Wing (Spot Up+Transition)  \n",
       "163                                                   2 Ballhandler (PnR) | 1 Big (Post Up+Roll) | 2 Wing (Spot Up+Transition)  \n",
       "120                         1 Ballhandler (PnR) | 1 Ballhandler (Iso+PnR) | 1 Big (Post Up+Roll) | 2 Wing (Spot Up+Transition)  \n",
       "154                                                   2 Ballhandler (PnR) | 1 Big (Roll+Spot Up) | 2 Wing (Spot Up+Transition)  \n",
       "82                                                    1 Ballhandler (PnR) | 1 Big (Post Up+Roll) | 3 Wing (Spot Up+Transition)  \n",
       "179                         2 Ballhandler (PnR) | 1 Ballhandler (Iso+PnR) | 1 Big (Roll+Spot Up) | 1 Wing (Spot Up+Transition)  \n",
       "72                                                    1 Ballhandler (PnR) | 1 Big (Roll+Spot Up) | 3 Wing (Spot Up+Transition)  \n",
       "108   1 Ballhandler (PnR) | 1 Ballhandler (Iso+PnR) | 1 Big (Roll+Spot Up) | 1 Wing (Spot Up+Transition) | 1 Wing (Off Screen)  \n",
       "124  1 Ballhandler (PnR) | 1 Ballhandler (Iso+PnR) | 1 Big (Post Up+Roll) | 1 Big (Roll+Spot Up) | 1 Wing (Spot Up+Transition)  \n",
       "41                                                2 Ballhandler (Iso+PnR) | 1 Big (Roll+Spot Up) | 2 Wing (Spot Up+Transition)  "
      ]
     },
     "execution_count": 53,
     "metadata": {},
     "output_type": "execute_result"
    }
   ],
   "source": [
    "t_2 = lineup_df_100.groupby('lineup_embedding')[['lineup_clusters']]\\\n",
    "                   .count().reset_index()\\\n",
    "                   .rename(columns={'lineup_clusters': 'num_lineups'})\n",
    "t_2['lineup_detail'] = t_2['lineup_embedding'].apply(lineup_embedding_to_detail)\n",
    "t_2.sort_values('num_lineups', ascending=False).head(10)"
   ]
  },
  {
   "cell_type": "code",
   "execution_count": 54,
   "id": "cbe51e4b",
   "metadata": {
    "ExecuteTime": {
     "end_time": "2023-03-01T08:53:13.473538Z",
     "start_time": "2023-03-01T08:53:13.467429Z"
    }
   },
   "outputs": [
    {
     "data": {
      "text/plain": [
       "((204, 3), (47, 3), (9, 3))"
      ]
     },
     "execution_count": 54,
     "metadata": {},
     "output_type": "execute_result"
    }
   ],
   "source": [
    "t_2.shape, t_2[t_2['num_lineups'] >= 10].shape, t_2[t_2['num_lineups'] >= 30].shape"
   ]
  },
  {
   "cell_type": "markdown",
   "id": "a4d93c40",
   "metadata": {},
   "source": [
    "Distributions of lineups with # >= 30"
   ]
  },
  {
   "cell_type": "code",
   "execution_count": 55,
   "id": "ab0ece9a",
   "metadata": {
    "ExecuteTime": {
     "end_time": "2023-03-01T08:53:17.615441Z",
     "start_time": "2023-03-01T08:53:14.442794Z"
    }
   },
   "outputs": [
    {
     "data": {
      "image/png": "[encoded data removed]",
      "text/plain": [
       "<Figure size 720x1152 with 9 Axes>"
      ]
     },
     "metadata": {
      "needs_background": "light"
     },
     "output_type": "display_data"
    }
   ],
   "source": [
    "figsize(10, 16)\n",
    "\n",
    "n = 9\n",
    "temp = t_2.sort_values('num_lineups', ascending=False)\\\n",
    "          .head(n).values\n",
    "\n",
    "for idx in range(n):\n",
    "    le, num, ld = temp[idx]\n",
    "    lineup_cond = lineup_df_100['lineup_embedding'] == le\n",
    "    \n",
    "    plt.subplot(n, 1, idx+1)\n",
    "    title = f'Lineup: {ld}\\n# of Lineups (2017-2022): {num}'\n",
    "    plt.title(title)\n",
    "    color = '#2E5C6E'\n",
    "    label = 'Ballhandler (Iso+PnR)\\nin Lineup? -- No'\n",
    "    if 'Ballhandler (Iso+PnR)' in title:\n",
    "        color = '#AB3B3A'\n",
    "        label = label.replace('No', 'Yes')\n",
    "    sns.distplot(lineup_df_100[lineup_cond]['adj_diff_to_league_avg'], \n",
    "                 color=color,\n",
    "                 label=label)\n",
    "    plt.xlabel('adjusted points scored per 100 possessions minus league average')\n",
    "    plt.legend(loc='upper left')\n",
    "    plt.xlim(-30, 30)\n",
    "    \n",
    "plt.tight_layout()"
   ]
  },
  {
   "cell_type": "markdown",
   "id": "24da9cad",
   "metadata": {},
   "source": [
    "### Ticket 3: What are the most/least productive lineups?"
   ]
  },
  {
   "cell_type": "markdown",
   "id": "2576d4b8",
   "metadata": {},
   "source": [
    "Find 10 lineup types with the best offensive ratings"
   ]
  },
  {
   "cell_type": "code",
   "execution_count": 56,
   "id": "7182b507",
   "metadata": {
    "ExecuteTime": {
     "end_time": "2023-03-01T08:53:25.276112Z",
     "start_time": "2023-03-01T08:53:25.258041Z"
    }
   },
   "outputs": [
    {
     "data": {
      "text/html": [
       "<div>\n",
       "<style scoped>\n",
       "    .dataframe tbody tr th:only-of-type {\n",
       "        vertical-align: middle;\n",
       "    }\n",
       "\n",
       "    .dataframe tbody tr th {\n",
       "        vertical-align: top;\n",
       "    }\n",
       "\n",
       "    .dataframe thead th {\n",
       "        text-align: right;\n",
       "    }\n",
       "</style>\n",
       "<table border=\"1\" class=\"dataframe\">\n",
       "  <thead>\n",
       "    <tr style=\"text-align: right;\">\n",
       "      <th></th>\n",
       "      <th>lineup_embedding</th>\n",
       "      <th>adj_off_Pts/Poss</th>\n",
       "      <th>adj_diff_to_league_avg</th>\n",
       "      <th>lineup_detail</th>\n",
       "      <th>num_lineups</th>\n",
       "    </tr>\n",
       "  </thead>\n",
       "  <tbody>\n",
       "    <tr>\n",
       "      <th>185</th>\n",
       "      <td>2-1-2-0-0-0-0-0</td>\n",
       "      <td>136.400000</td>\n",
       "      <td>25.606102</td>\n",
       "      <td>2 Ballhandler (PnR) | 1 Ballhandler (Iso+PnR) | 2 Big (Post Up+Roll)</td>\n",
       "      <td>1</td>\n",
       "    </tr>\n",
       "    <tr>\n",
       "      <th>14</th>\n",
       "      <td>0-1-0-0-0-2-2-0</td>\n",
       "      <td>125.423703</td>\n",
       "      <td>15.660237</td>\n",
       "      <td>1 Ballhandler (Iso+PnR) | 2 Wing (Spot Up+Transition) | 2 Wing (Off Screen)</td>\n",
       "      <td>3</td>\n",
       "    </tr>\n",
       "    <tr>\n",
       "      <th>54</th>\n",
       "      <td>0-3-0-0-0-1-1-0</td>\n",
       "      <td>128.251674</td>\n",
       "      <td>15.456370</td>\n",
       "      <td>3 Ballhandler (Iso+PnR) | 1 Wing (Spot Up+Transition) | 1 Wing (Off Screen)</td>\n",
       "      <td>1</td>\n",
       "    </tr>\n",
       "    <tr>\n",
       "      <th>24</th>\n",
       "      <td>0-1-0-2-0-2-0-0</td>\n",
       "      <td>124.830988</td>\n",
       "      <td>14.037090</td>\n",
       "      <td>1 Ballhandler (Iso+PnR) | 2 Big (Roll+Spot Up) | 2 Wing (Spot Up+Transition)</td>\n",
       "      <td>1</td>\n",
       "    </tr>\n",
       "    <tr>\n",
       "      <th>142</th>\n",
       "      <td>1-2-2-0-0-0-0-0</td>\n",
       "      <td>121.500000</td>\n",
       "      <td>13.170012</td>\n",
       "      <td>1 Ballhandler (PnR) | 2 Ballhandler (Iso+PnR) | 2 Big (Post Up+Roll)</td>\n",
       "      <td>1</td>\n",
       "    </tr>\n",
       "    <tr>\n",
       "      <th>159</th>\n",
       "      <td>2-0-1-0-0-0-1-1</td>\n",
       "      <td>124.095621</td>\n",
       "      <td>11.300317</td>\n",
       "      <td>2 Ballhandler (PnR) | 1 Big (Post Up+Roll) | 1 Wing (Off Screen) | 1 Big (Roll+Cut)</td>\n",
       "      <td>1</td>\n",
       "    </tr>\n",
       "    <tr>\n",
       "      <th>30</th>\n",
       "      <td>0-1-2-0-0-1-1-0</td>\n",
       "      <td>119.200000</td>\n",
       "      <td>10.870012</td>\n",
       "      <td>1 Ballhandler (Iso+PnR) | 2 Big (Post Up+Roll) | 1 Wing (Spot Up+Transition) | 1 Wing (Off Screen)</td>\n",
       "      <td>1</td>\n",
       "    </tr>\n",
       "    <tr>\n",
       "      <th>128</th>\n",
       "      <td>1-2-0-0-0-0-1-1</td>\n",
       "      <td>122.710627</td>\n",
       "      <td>10.455238</td>\n",
       "      <td>1 Ballhandler (PnR) | 2 Ballhandler (Iso+PnR) | 1 Wing (Off Screen) | 1 Big (Roll+Cut)</td>\n",
       "      <td>2</td>\n",
       "    </tr>\n",
       "    <tr>\n",
       "      <th>36</th>\n",
       "      <td>0-2-0-0-1-1-0-1</td>\n",
       "      <td>121.540182</td>\n",
       "      <td>9.284793</td>\n",
       "      <td>2 Ballhandler (Iso+PnR) | 1 Wing (Hand Off) | 1 Wing (Spot Up+Transition) | 1 Big (Roll+Cut)</td>\n",
       "      <td>1</td>\n",
       "    </tr>\n",
       "    <tr>\n",
       "      <th>65</th>\n",
       "      <td>1-0-0-0-1-3-0-0</td>\n",
       "      <td>119.555721</td>\n",
       "      <td>8.918670</td>\n",
       "      <td>1 Ballhandler (PnR) | 1 Wing (Hand Off) | 3 Wing (Spot Up+Transition)</td>\n",
       "      <td>2</td>\n",
       "    </tr>\n",
       "  </tbody>\n",
       "</table>\n",
       "</div>"
      ],
      "text/plain": [
       "    lineup_embedding  adj_off_Pts/Poss  adj_diff_to_league_avg  \\\n",
       "185  2-1-2-0-0-0-0-0        136.400000               25.606102   \n",
       "14   0-1-0-0-0-2-2-0        125.423703               15.660237   \n",
       "54   0-3-0-0-0-1-1-0        128.251674               15.456370   \n",
       "24   0-1-0-2-0-2-0-0        124.830988               14.037090   \n",
       "142  1-2-2-0-0-0-0-0        121.500000               13.170012   \n",
       "159  2-0-1-0-0-0-1-1        124.095621               11.300317   \n",
       "30   0-1-2-0-0-1-1-0        119.200000               10.870012   \n",
       "128  1-2-0-0-0-0-1-1        122.710627               10.455238   \n",
       "36   0-2-0-0-1-1-0-1        121.540182                9.284793   \n",
       "65   1-0-0-0-1-3-0-0        119.555721                8.918670   \n",
       "\n",
       "                                                                                          lineup_detail  \\\n",
       "185                                2 Ballhandler (PnR) | 1 Ballhandler (Iso+PnR) | 2 Big (Post Up+Roll)   \n",
       "14                          1 Ballhandler (Iso+PnR) | 2 Wing (Spot Up+Transition) | 2 Wing (Off Screen)   \n",
       "54                          3 Ballhandler (Iso+PnR) | 1 Wing (Spot Up+Transition) | 1 Wing (Off Screen)   \n",
       "24                         1 Ballhandler (Iso+PnR) | 2 Big (Roll+Spot Up) | 2 Wing (Spot Up+Transition)   \n",
       "142                                1 Ballhandler (PnR) | 2 Ballhandler (Iso+PnR) | 2 Big (Post Up+Roll)   \n",
       "159                 2 Ballhandler (PnR) | 1 Big (Post Up+Roll) | 1 Wing (Off Screen) | 1 Big (Roll+Cut)   \n",
       "30   1 Ballhandler (Iso+PnR) | 2 Big (Post Up+Roll) | 1 Wing (Spot Up+Transition) | 1 Wing (Off Screen)   \n",
       "128              1 Ballhandler (PnR) | 2 Ballhandler (Iso+PnR) | 1 Wing (Off Screen) | 1 Big (Roll+Cut)   \n",
       "36         2 Ballhandler (Iso+PnR) | 1 Wing (Hand Off) | 1 Wing (Spot Up+Transition) | 1 Big (Roll+Cut)   \n",
       "65                                1 Ballhandler (PnR) | 1 Wing (Hand Off) | 3 Wing (Spot Up+Transition)   \n",
       "\n",
       "     num_lineups  \n",
       "185            1  \n",
       "14             3  \n",
       "54             1  \n",
       "24             1  \n",
       "142            1  \n",
       "159            1  \n",
       "30             1  \n",
       "128            2  \n",
       "36             1  \n",
       "65             2  "
      ]
     },
     "execution_count": 56,
     "metadata": {},
     "output_type": "execute_result"
    }
   ],
   "source": [
    "t_3 = lineup_df_100.groupby('lineup_embedding')[['adj_off_Pts/Poss',\n",
    "                                                 'adj_diff_to_league_avg']]\\\n",
    "                   .mean().reset_index()\n",
    "t_3['lineup_detail'] = t_3['lineup_embedding'].apply(lineup_embedding_to_detail)\n",
    "t_3 = t_3.merge(t_2, how='left')\n",
    "t_3.sort_values('adj_diff_to_league_avg', ascending=False).head(10)"
   ]
  },
  {
   "cell_type": "markdown",
   "id": "d9d5b360",
   "metadata": {},
   "source": [
    "Find 10 common lineup types (at least 10 lineups) with the best offensive ratings"
   ]
  },
  {
   "cell_type": "code",
   "execution_count": 57,
   "id": "7bc78c12",
   "metadata": {
    "ExecuteTime": {
     "end_time": "2023-03-01T08:53:27.518111Z",
     "start_time": "2023-03-01T08:53:27.515119Z"
    }
   },
   "outputs": [],
   "source": [
    "def color_cluster_1(l):\n",
    "    if 'Ballhandler (Iso+PnR)' in l:\n",
    "        return 'color: #AB3B3A' \n",
    "    else:\n",
    "        return 'color: #2E5C6E' "
   ]
  },
  {
   "cell_type": "code",
   "execution_count": 58,
   "id": "69efc7f6",
   "metadata": {
    "ExecuteTime": {
     "end_time": "2023-03-01T08:53:27.807833Z",
     "start_time": "2023-03-01T08:53:27.719800Z"
    }
   },
   "outputs": [
    {
     "data": {
      "text/html": [
       "<style type=\"text/css\">\n",
       "#T_3b393_row0_col0, #T_3b393_row2_col0, #T_3b393_row3_col0, #T_3b393_row4_col0, #T_3b393_row5_col0, #T_3b393_row6_col0, #T_3b393_row7_col0, #T_3b393_row8_col0, #T_3b393_row9_col0 {\n",
       "  color: #AB3B3A;\n",
       "}\n",
       "#T_3b393_row1_col0 {\n",
       "  color: #2E5C6E;\n",
       "}\n",
       "</style>\n",
       "<table id=\"T_3b393\">\n",
       "  <thead>\n",
       "    <tr>\n",
       "      <th class=\"blank level0\" >&nbsp;</th>\n",
       "      <th id=\"T_3b393_level0_col0\" class=\"col_heading level0 col0\" >lineup combination</th>\n",
       "      <th id=\"T_3b393_level0_col1\" class=\"col_heading level0 col1\" ># of unique lineups</th>\n",
       "      <th id=\"T_3b393_level0_col2\" class=\"col_heading level0 col2\" >adj. points scored per 100 possessions</th>\n",
       "      <th id=\"T_3b393_level0_col3\" class=\"col_heading level0 col3\" >adj. difference to league average</th>\n",
       "    </tr>\n",
       "  </thead>\n",
       "  <tbody>\n",
       "    <tr>\n",
       "      <th id=\"T_3b393_level0_row0\" class=\"row_heading level0 row0\" >118</th>\n",
       "      <td id=\"T_3b393_row0_col0\" class=\"data row0 col0\" >1 Ballhandler (PnR) | 1 Ballhandler (Iso+PnR) | 1 Big (Post Up+Roll) | 1 Wing (Spot Up+Transition) | 1 Big (Roll+Cut)</td>\n",
       "      <td id=\"T_3b393_row0_col1\" class=\"data row0 col1\" >16</td>\n",
       "      <td id=\"T_3b393_row0_col2\" class=\"data row0 col2\" >116.4</td>\n",
       "      <td id=\"T_3b393_row0_col3\" class=\"data row0 col3\" >5.2</td>\n",
       "    </tr>\n",
       "    <tr>\n",
       "      <th id=\"T_3b393_level0_row1\" class=\"row_heading level0 row1\" >145</th>\n",
       "      <td id=\"T_3b393_row1_col0\" class=\"data row1 col0\" >2 Ballhandler (PnR) | 1 Wing (Spot Up+Transition) | 1 Wing (Off Screen) | 1 Big (Roll+Cut)</td>\n",
       "      <td id=\"T_3b393_row1_col1\" class=\"data row1 col1\" >13</td>\n",
       "      <td id=\"T_3b393_row1_col2\" class=\"data row1 col2\" >115.0</td>\n",
       "      <td id=\"T_3b393_row1_col3\" class=\"data row1 col3\" >4.9</td>\n",
       "    </tr>\n",
       "    <tr>\n",
       "      <th id=\"T_3b393_level0_row2\" class=\"row_heading level0 row2\" >131</th>\n",
       "      <td id=\"T_3b393_row2_col0\" class=\"data row2 col0\" >1 Ballhandler (PnR) | 2 Ballhandler (Iso+PnR) | 2 Wing (Spot Up+Transition)</td>\n",
       "      <td id=\"T_3b393_row2_col1\" class=\"data row2 col1\" >13</td>\n",
       "      <td id=\"T_3b393_row2_col2\" class=\"data row2 col2\" >115.3</td>\n",
       "      <td id=\"T_3b393_row2_col3\" class=\"data row2 col3\" >3.7</td>\n",
       "    </tr>\n",
       "    <tr>\n",
       "      <th id=\"T_3b393_level0_row3\" class=\"row_heading level0 row3\" >101</th>\n",
       "      <td id=\"T_3b393_row3_col0\" class=\"data row3 col0\" >1 Ballhandler (PnR) | 1 Ballhandler (Iso+PnR) | 3 Wing (Spot Up+Transition)</td>\n",
       "      <td id=\"T_3b393_row3_col1\" class=\"data row3 col1\" >14</td>\n",
       "      <td id=\"T_3b393_row3_col2\" class=\"data row3 col2\" >115.2</td>\n",
       "      <td id=\"T_3b393_row3_col3\" class=\"data row3 col3\" >3.5</td>\n",
       "    </tr>\n",
       "    <tr>\n",
       "      <th id=\"T_3b393_level0_row4\" class=\"row_heading level0 row4\" >21</th>\n",
       "      <td id=\"T_3b393_row4_col0\" class=\"data row4 col0\" >1 Ballhandler (Iso+PnR) | 1 Big (Roll+Spot Up) | 3 Wing (Spot Up+Transition)</td>\n",
       "      <td id=\"T_3b393_row4_col1\" class=\"data row4 col1\" >25</td>\n",
       "      <td id=\"T_3b393_row4_col2\" class=\"data row4 col2\" >113.6</td>\n",
       "      <td id=\"T_3b393_row4_col3\" class=\"data row4 col3\" >3.4</td>\n",
       "    </tr>\n",
       "    <tr>\n",
       "      <th id=\"T_3b393_level0_row5\" class=\"row_heading level0 row5\" >35</th>\n",
       "      <td id=\"T_3b393_row5_col0\" class=\"data row5 col0\" >2 Ballhandler (Iso+PnR) | 3 Wing (Spot Up+Transition)</td>\n",
       "      <td id=\"T_3b393_row5_col1\" class=\"data row5 col1\" >13</td>\n",
       "      <td id=\"T_3b393_row5_col2\" class=\"data row5 col2\" >114.8</td>\n",
       "      <td id=\"T_3b393_row5_col3\" class=\"data row5 col3\" >3.1</td>\n",
       "    </tr>\n",
       "    <tr>\n",
       "      <th id=\"T_3b393_level0_row6\" class=\"row_heading level0 row6\" >41</th>\n",
       "      <td id=\"T_3b393_row6_col0\" class=\"data row6 col0\" >2 Ballhandler (Iso+PnR) | 1 Big (Roll+Spot Up) | 2 Wing (Spot Up+Transition)</td>\n",
       "      <td id=\"T_3b393_row6_col1\" class=\"data row6 col1\" >29</td>\n",
       "      <td id=\"T_3b393_row6_col2\" class=\"data row6 col2\" >113.4</td>\n",
       "      <td id=\"T_3b393_row6_col3\" class=\"data row6 col3\" >2.9</td>\n",
       "    </tr>\n",
       "    <tr>\n",
       "      <th id=\"T_3b393_level0_row7\" class=\"row_heading level0 row7\" >13</th>\n",
       "      <td id=\"T_3b393_row7_col0\" class=\"data row7 col0\" >1 Ballhandler (Iso+PnR) | 2 Wing (Spot Up+Transition) | 1 Wing (Off Screen) | 1 Big (Roll+Cut)</td>\n",
       "      <td id=\"T_3b393_row7_col1\" class=\"data row7 col1\" >12</td>\n",
       "      <td id=\"T_3b393_row7_col2\" class=\"data row7 col2\" >113.8</td>\n",
       "      <td id=\"T_3b393_row7_col3\" class=\"data row7 col3\" >2.5</td>\n",
       "    </tr>\n",
       "    <tr>\n",
       "      <th id=\"T_3b393_level0_row8\" class=\"row_heading level0 row8\" >98</th>\n",
       "      <td id=\"T_3b393_row8_col0\" class=\"data row8 col0\" >1 Ballhandler (PnR) | 1 Ballhandler (Iso+PnR) | 1 Wing (Spot Up+Transition) | 1 Wing (Off Screen) | 1 Big (Roll+Cut)</td>\n",
       "      <td id=\"T_3b393_row8_col1\" class=\"data row8 col1\" >18</td>\n",
       "      <td id=\"T_3b393_row8_col2\" class=\"data row8 col2\" >111.3</td>\n",
       "      <td id=\"T_3b393_row8_col3\" class=\"data row8 col3\" >2.0</td>\n",
       "    </tr>\n",
       "    <tr>\n",
       "      <th id=\"T_3b393_level0_row9\" class=\"row_heading level0 row9\" >129</th>\n",
       "      <td id=\"T_3b393_row9_col0\" class=\"data row9 col0\" >1 Ballhandler (PnR) | 2 Ballhandler (Iso+PnR) | 1 Wing (Spot Up+Transition) | 1 Big (Roll+Cut)</td>\n",
       "      <td id=\"T_3b393_row9_col1\" class=\"data row9 col1\" >18</td>\n",
       "      <td id=\"T_3b393_row9_col2\" class=\"data row9 col2\" >111.4</td>\n",
       "      <td id=\"T_3b393_row9_col3\" class=\"data row9 col3\" >1.7</td>\n",
       "    </tr>\n",
       "  </tbody>\n",
       "</table>\n"
      ],
      "text/plain": [
       "<pandas.io.formats.style.Styler at 0x16087f130>"
      ]
     },
     "execution_count": 58,
     "metadata": {},
     "output_type": "execute_result"
    }
   ],
   "source": [
    "t_3[t_3['num_lineups'] >= 10].sort_values('adj_diff_to_league_avg', ascending=False)\\\n",
    "                             .head(10)[['lineup_detail', \n",
    "                                        'num_lineups',\n",
    "                                        'adj_off_Pts/Poss',\n",
    "                                        'adj_diff_to_league_avg']]\\\n",
    "                             .rename(columns={'lineup_detail': 'lineup combination',\n",
    "                                              'num_lineups': '# of unique lineups',\n",
    "                                              'adj_off_Pts/Poss': 'adj. points scored per 100 possessions',\n",
    "                                              'adj_diff_to_league_avg': 'adj. difference to league average'})\\\n",
    "                             .style.format(precision=1).applymap(color_cluster_1, subset='lineup combination')"
   ]
  },
  {
   "cell_type": "markdown",
   "id": "7d4197e4",
   "metadata": {},
   "source": [
    "Find 10 common lineup types with worst offensive ratings"
   ]
  },
  {
   "cell_type": "code",
   "execution_count": 59,
   "id": "634a507d",
   "metadata": {
    "ExecuteTime": {
     "end_time": "2023-03-01T08:53:29.350792Z",
     "start_time": "2023-03-01T08:53:29.338108Z"
    }
   },
   "outputs": [
    {
     "data": {
      "text/html": [
       "<style type=\"text/css\">\n",
       "#T_0ba45_row0_col0, #T_0ba45_row1_col0, #T_0ba45_row2_col0, #T_0ba45_row3_col0, #T_0ba45_row5_col0, #T_0ba45_row6_col0, #T_0ba45_row7_col0, #T_0ba45_row8_col0, #T_0ba45_row9_col0 {\n",
       "  color: #2E5C6E;\n",
       "}\n",
       "#T_0ba45_row4_col0 {\n",
       "  color: #AB3B3A;\n",
       "}\n",
       "</style>\n",
       "<table id=\"T_0ba45\">\n",
       "  <thead>\n",
       "    <tr>\n",
       "      <th class=\"blank level0\" >&nbsp;</th>\n",
       "      <th id=\"T_0ba45_level0_col0\" class=\"col_heading level0 col0\" >lineup combination</th>\n",
       "      <th id=\"T_0ba45_level0_col1\" class=\"col_heading level0 col1\" ># of unique lineups</th>\n",
       "      <th id=\"T_0ba45_level0_col2\" class=\"col_heading level0 col2\" >adj. points scored per 100 possessions</th>\n",
       "      <th id=\"T_0ba45_level0_col3\" class=\"col_heading level0 col3\" >adj. difference to league average</th>\n",
       "    </tr>\n",
       "  </thead>\n",
       "  <tbody>\n",
       "    <tr>\n",
       "      <th id=\"T_0ba45_level0_row0\" class=\"row_heading level0 row0\" >154</th>\n",
       "      <td id=\"T_0ba45_row0_col0\" class=\"data row0 col0\" >2 Ballhandler (PnR) | 1 Big (Roll+Spot Up) | 2 Wing (Spot Up+Transition)</td>\n",
       "      <td id=\"T_0ba45_row0_col1\" class=\"data row0 col1\" >45</td>\n",
       "      <td id=\"T_0ba45_row0_col2\" class=\"data row0 col2\" >108.2</td>\n",
       "      <td id=\"T_0ba45_row0_col3\" class=\"data row0 col3\" >-3.5</td>\n",
       "    </tr>\n",
       "    <tr>\n",
       "      <th id=\"T_0ba45_level0_row1\" class=\"row_heading level0 row1\" >153</th>\n",
       "      <td id=\"T_0ba45_row1_col0\" class=\"data row1 col0\" >2 Ballhandler (PnR) | 1 Big (Roll+Spot Up) | 1 Wing (Spot Up+Transition) | 1 Wing (Off Screen)</td>\n",
       "      <td id=\"T_0ba45_row1_col1\" class=\"data row1 col1\" >23</td>\n",
       "      <td id=\"T_0ba45_row1_col2\" class=\"data row1 col2\" >107.2</td>\n",
       "      <td id=\"T_0ba45_row1_col3\" class=\"data row1 col3\" >-3.0</td>\n",
       "    </tr>\n",
       "    <tr>\n",
       "      <th id=\"T_0ba45_level0_row2\" class=\"row_heading level0 row2\" >73</th>\n",
       "      <td id=\"T_0ba45_row2_col0\" class=\"data row2 col0\" >1 Ballhandler (PnR) | 1 Big (Roll+Spot Up) | 1 Wing (Hand Off) | 2 Wing (Spot Up+Transition)</td>\n",
       "      <td id=\"T_0ba45_row2_col1\" class=\"data row2 col1\" >11</td>\n",
       "      <td id=\"T_0ba45_row2_col2\" class=\"data row2 col2\" >107.9</td>\n",
       "      <td id=\"T_0ba45_row2_col3\" class=\"data row2 col3\" >-2.7</td>\n",
       "    </tr>\n",
       "    <tr>\n",
       "      <th id=\"T_0ba45_level0_row3\" class=\"row_heading level0 row3\" >77</th>\n",
       "      <td id=\"T_0ba45_row3_col0\" class=\"data row3 col0\" >1 Ballhandler (PnR) | 2 Big (Roll+Spot Up) | 2 Wing (Spot Up+Transition)</td>\n",
       "      <td id=\"T_0ba45_row3_col1\" class=\"data row3 col1\" >13</td>\n",
       "      <td id=\"T_0ba45_row3_col2\" class=\"data row3 col2\" >108.5</td>\n",
       "      <td id=\"T_0ba45_row3_col3\" class=\"data row3 col3\" >-2.6</td>\n",
       "    </tr>\n",
       "    <tr>\n",
       "      <th id=\"T_0ba45_level0_row4\" class=\"row_heading level0 row4\" >202</th>\n",
       "      <td id=\"T_0ba45_row4_col0\" class=\"data row4 col0\" >3 Ballhandler (PnR) | 1 Ballhandler (Iso+PnR) | 1 Big (Roll+Spot Up)</td>\n",
       "      <td id=\"T_0ba45_row4_col1\" class=\"data row4 col1\" >10</td>\n",
       "      <td id=\"T_0ba45_row4_col2\" class=\"data row4 col2\" >110.1</td>\n",
       "      <td id=\"T_0ba45_row4_col3\" class=\"data row4 col3\" >-1.5</td>\n",
       "    </tr>\n",
       "    <tr>\n",
       "      <th id=\"T_0ba45_level0_row5\" class=\"row_heading level0 row5\" >72</th>\n",
       "      <td id=\"T_0ba45_row5_col0\" class=\"data row5 col0\" >1 Ballhandler (PnR) | 1 Big (Roll+Spot Up) | 3 Wing (Spot Up+Transition)</td>\n",
       "      <td id=\"T_0ba45_row5_col1\" class=\"data row5 col1\" >38</td>\n",
       "      <td id=\"T_0ba45_row5_col2\" class=\"data row5 col2\" >110.5</td>\n",
       "      <td id=\"T_0ba45_row5_col3\" class=\"data row5 col3\" >-1.2</td>\n",
       "    </tr>\n",
       "    <tr>\n",
       "      <th id=\"T_0ba45_level0_row6\" class=\"row_heading level0 row6\" >90</th>\n",
       "      <td id=\"T_0ba45_row6_col0\" class=\"data row6 col0\" >1 Ballhandler (PnR) | 1 Big (Post Up+Roll) | 1 Big (Roll+Spot Up) | 2 Wing (Spot Up+Transition)</td>\n",
       "      <td id=\"T_0ba45_row6_col1\" class=\"data row6 col1\" >17</td>\n",
       "      <td id=\"T_0ba45_row6_col2\" class=\"data row6 col2\" >110.1</td>\n",
       "      <td id=\"T_0ba45_row6_col3\" class=\"data row6 col3\" >-1.2</td>\n",
       "    </tr>\n",
       "    <tr>\n",
       "      <th id=\"T_0ba45_level0_row7\" class=\"row_heading level0 row7\" >94</th>\n",
       "      <td id=\"T_0ba45_row7_col0\" class=\"data row7 col0\" >1 Ballhandler (PnR) | 2 Big (Post Up+Roll) | 2 Wing (Spot Up+Transition)</td>\n",
       "      <td id=\"T_0ba45_row7_col1\" class=\"data row7 col1\" >19</td>\n",
       "      <td id=\"T_0ba45_row7_col2\" class=\"data row7 col2\" >109.1</td>\n",
       "      <td id=\"T_0ba45_row7_col3\" class=\"data row7 col3\" >-0.8</td>\n",
       "    </tr>\n",
       "    <tr>\n",
       "      <th id=\"T_0ba45_level0_row8\" class=\"row_heading level0 row8\" >170</th>\n",
       "      <td id=\"T_0ba45_row8_col0\" class=\"data row8 col0\" >2 Ballhandler (PnR) | 2 Big (Post Up+Roll) | 1 Wing (Spot Up+Transition)</td>\n",
       "      <td id=\"T_0ba45_row8_col1\" class=\"data row8 col1\" >28</td>\n",
       "      <td id=\"T_0ba45_row8_col2\" class=\"data row8 col2\" >109.5</td>\n",
       "      <td id=\"T_0ba45_row8_col3\" class=\"data row8 col3\" >-0.7</td>\n",
       "    </tr>\n",
       "    <tr>\n",
       "      <th id=\"T_0ba45_level0_row9\" class=\"row_heading level0 row9\" >85</th>\n",
       "      <td id=\"T_0ba45_row9_col0\" class=\"data row9 col0\" >1 Ballhandler (PnR) | 1 Big (Post Up+Roll) | 1 Wing (Hand Off) | 2 Wing (Spot Up+Transition)</td>\n",
       "      <td id=\"T_0ba45_row9_col1\" class=\"data row9 col1\" >20</td>\n",
       "      <td id=\"T_0ba45_row9_col2\" class=\"data row9 col2\" >110.9</td>\n",
       "      <td id=\"T_0ba45_row9_col3\" class=\"data row9 col3\" >-0.4</td>\n",
       "    </tr>\n",
       "  </tbody>\n",
       "</table>\n"
      ],
      "text/plain": [
       "<pandas.io.formats.style.Styler at 0x1624c5490>"
      ]
     },
     "execution_count": 59,
     "metadata": {},
     "output_type": "execute_result"
    }
   ],
   "source": [
    "t_3[t_3['num_lineups'] >= 10].sort_values('adj_diff_to_league_avg')\\\n",
    "                             .head(10)[['lineup_detail', \n",
    "                                        'num_lineups',\n",
    "                                        'adj_off_Pts/Poss',\n",
    "                                        'adj_diff_to_league_avg']]\\\n",
    "                             .rename(columns={'lineup_detail': 'lineup combination',\n",
    "                                              'num_lineups': '# of unique lineups',\n",
    "                                              'adj_off_Pts/Poss': 'adj. points scored per 100 possessions',\n",
    "                                              'adj_diff_to_league_avg': 'adj. difference to league average'})\\\n",
    "                             .style.format(precision=1).applymap(color_cluster_1, subset='lineup combination')"
   ]
  },
  {
   "cell_type": "markdown",
   "id": "354936b9",
   "metadata": {},
   "source": [
    "### Ticket 4: How good are the 'Death Lineups' of the Warriors?"
   ]
  },
  {
   "cell_type": "code",
   "execution_count": 60,
   "id": "2b112e81",
   "metadata": {
    "ExecuteTime": {
     "end_time": "2023-03-01T08:53:31.140860Z",
     "start_time": "2023-03-01T08:53:31.110235Z"
    }
   },
   "outputs": [
    {
     "data": {
      "text/html": [
       "<div>\n",
       "<style scoped>\n",
       "    .dataframe tbody tr th:only-of-type {\n",
       "        vertical-align: middle;\n",
       "    }\n",
       "\n",
       "    .dataframe tbody tr th {\n",
       "        vertical-align: top;\n",
       "    }\n",
       "\n",
       "    .dataframe thead th {\n",
       "        text-align: right;\n",
       "    }\n",
       "</style>\n",
       "<table border=\"1\" class=\"dataframe\">\n",
       "  <thead>\n",
       "    <tr style=\"text-align: right;\">\n",
       "      <th></th>\n",
       "      <th>PG</th>\n",
       "      <th>SG</th>\n",
       "      <th>SF</th>\n",
       "      <th>PF</th>\n",
       "      <th>C</th>\n",
       "      <th>season</th>\n",
       "      <th>team</th>\n",
       "      <th>Poss</th>\n",
       "      <th>off_Pts/Poss_rank</th>\n",
       "      <th>off_Pts/Poss</th>\n",
       "      <th>off_eFG%_rank</th>\n",
       "      <th>off_eFG%</th>\n",
       "      <th>off_TOV%_rank</th>\n",
       "      <th>off_TOV%</th>\n",
       "      <th>off_OREB%_rank</th>\n",
       "      <th>off_OREB%</th>\n",
       "      <th>off_FTr_rank</th>\n",
       "      <th>off_FTr</th>\n",
       "      <th>PG_alt</th>\n",
       "      <th>SG_alt</th>\n",
       "      <th>SF_alt</th>\n",
       "      <th>PF_alt</th>\n",
       "      <th>C_alt</th>\n",
       "      <th>PG_cluster</th>\n",
       "      <th>SG_cluster</th>\n",
       "      <th>SF_cluster</th>\n",
       "      <th>PF_cluster</th>\n",
       "      <th>C_cluster</th>\n",
       "      <th>lineup_clusters</th>\n",
       "      <th>0</th>\n",
       "      <th>1</th>\n",
       "      <th>2</th>\n",
       "      <th>3</th>\n",
       "      <th>4</th>\n",
       "      <th>5</th>\n",
       "      <th>6</th>\n",
       "      <th>7</th>\n",
       "      <th>lineup_embedding</th>\n",
       "      <th>tm_off_Pts/Poss</th>\n",
       "      <th>adj_off_Pts/Poss</th>\n",
       "      <th>league_avg_off_Pts/Poss</th>\n",
       "      <th>diff_to_league_avg</th>\n",
       "      <th>adj_diff_to_league_avg</th>\n",
       "    </tr>\n",
       "  </thead>\n",
       "  <tbody>\n",
       "    <tr>\n",
       "      <th>460</th>\n",
       "      <td>Stephen Curry</td>\n",
       "      <td>Klay Thompson</td>\n",
       "      <td>Andre Iguodala</td>\n",
       "      <td>Kevin Durant</td>\n",
       "      <td>Draymond Green</td>\n",
       "      <td>2018-2019</td>\n",
       "      <td>Golden State Warriors</td>\n",
       "      <td>388</td>\n",
       "      <td>96.0</td>\n",
       "      <td>132.5</td>\n",
       "      <td>98.0</td>\n",
       "      <td>65.9%</td>\n",
       "      <td>55.0</td>\n",
       "      <td>13.4%</td>\n",
       "      <td>4.0</td>\n",
       "      <td>15.6%</td>\n",
       "      <td>93.0</td>\n",
       "      <td>29.6</td>\n",
       "      <td>stephencurry</td>\n",
       "      <td>klaythompson</td>\n",
       "      <td>andreiguodala</td>\n",
       "      <td>kevindurant</td>\n",
       "      <td>draymondgreen</td>\n",
       "      <td>6.0</td>\n",
       "      <td>6.0</td>\n",
       "      <td>5.0</td>\n",
       "      <td>1.0</td>\n",
       "      <td>5.0</td>\n",
       "      <td>[6.0, 6.0, 5.0, 1.0, 5.0]</td>\n",
       "      <td>0</td>\n",
       "      <td>1</td>\n",
       "      <td>0</td>\n",
       "      <td>0</td>\n",
       "      <td>0</td>\n",
       "      <td>2</td>\n",
       "      <td>2</td>\n",
       "      <td>0</td>\n",
       "      <td>0-1-0-0-0-2-2-0</td>\n",
       "      <td>116.488638</td>\n",
       "      <td>132.500000</td>\n",
       "      <td>110.480204</td>\n",
       "      <td>22.019796</td>\n",
       "      <td>22.019796</td>\n",
       "    </tr>\n",
       "    <tr>\n",
       "      <th>449</th>\n",
       "      <td>Stephen Curry</td>\n",
       "      <td>Klay Thompson</td>\n",
       "      <td>Andre Iguodala</td>\n",
       "      <td>Kevin Durant</td>\n",
       "      <td>Draymond Green</td>\n",
       "      <td>2017-2018</td>\n",
       "      <td>Golden State Warriors</td>\n",
       "      <td>275</td>\n",
       "      <td>97.0</td>\n",
       "      <td>127.6</td>\n",
       "      <td>92.0</td>\n",
       "      <td>59.9%</td>\n",
       "      <td>87.0</td>\n",
       "      <td>11.3%</td>\n",
       "      <td>18.0</td>\n",
       "      <td>19.7%</td>\n",
       "      <td>94.0</td>\n",
       "      <td>30.9</td>\n",
       "      <td>stephencurry</td>\n",
       "      <td>klaythompson</td>\n",
       "      <td>andreiguodala</td>\n",
       "      <td>kevindurant</td>\n",
       "      <td>draymondgreen</td>\n",
       "      <td>6.0</td>\n",
       "      <td>6.0</td>\n",
       "      <td>5.0</td>\n",
       "      <td>1.0</td>\n",
       "      <td>5.0</td>\n",
       "      <td>[6.0, 6.0, 5.0, 1.0, 5.0]</td>\n",
       "      <td>0</td>\n",
       "      <td>1</td>\n",
       "      <td>0</td>\n",
       "      <td>0</td>\n",
       "      <td>0</td>\n",
       "      <td>2</td>\n",
       "      <td>2</td>\n",
       "      <td>0</td>\n",
       "      <td>0-1-0-0-0-2-2-0</td>\n",
       "      <td>113.744191</td>\n",
       "      <td>126.445349</td>\n",
       "      <td>108.329988</td>\n",
       "      <td>19.270012</td>\n",
       "      <td>18.115361</td>\n",
       "    </tr>\n",
       "  </tbody>\n",
       "</table>\n",
       "</div>"
      ],
      "text/plain": [
       "                PG             SG              SF            PF  \\\n",
       "460  Stephen Curry  Klay Thompson  Andre Iguodala  Kevin Durant   \n",
       "449  Stephen Curry  Klay Thompson  Andre Iguodala  Kevin Durant   \n",
       "\n",
       "                  C     season                   team  Poss  \\\n",
       "460  Draymond Green  2018-2019  Golden State Warriors   388   \n",
       "449  Draymond Green  2017-2018  Golden State Warriors   275   \n",
       "\n",
       "     off_Pts/Poss_rank  off_Pts/Poss  off_eFG%_rank off_eFG%  off_TOV%_rank  \\\n",
       "460               96.0         132.5           98.0    65.9%           55.0   \n",
       "449               97.0         127.6           92.0    59.9%           87.0   \n",
       "\n",
       "    off_TOV%  off_OREB%_rank off_OREB%  off_FTr_rank  off_FTr        PG_alt  \\\n",
       "460    13.4%             4.0     15.6%          93.0     29.6  stephencurry   \n",
       "449    11.3%            18.0     19.7%          94.0     30.9  stephencurry   \n",
       "\n",
       "           SG_alt         SF_alt       PF_alt          C_alt  PG_cluster  \\\n",
       "460  klaythompson  andreiguodala  kevindurant  draymondgreen         6.0   \n",
       "449  klaythompson  andreiguodala  kevindurant  draymondgreen         6.0   \n",
       "\n",
       "     SG_cluster  SF_cluster  PF_cluster  C_cluster            lineup_clusters  \\\n",
       "460         6.0         5.0         1.0        5.0  [6.0, 6.0, 5.0, 1.0, 5.0]   \n",
       "449         6.0         5.0         1.0        5.0  [6.0, 6.0, 5.0, 1.0, 5.0]   \n",
       "\n",
       "     0  1  2  3  4  5  6  7 lineup_embedding  tm_off_Pts/Poss  \\\n",
       "460  0  1  0  0  0  2  2  0  0-1-0-0-0-2-2-0       116.488638   \n",
       "449  0  1  0  0  0  2  2  0  0-1-0-0-0-2-2-0       113.744191   \n",
       "\n",
       "     adj_off_Pts/Poss  league_avg_off_Pts/Poss  diff_to_league_avg  \\\n",
       "460        132.500000               110.480204           22.019796   \n",
       "449        126.445349               108.329988           19.270012   \n",
       "\n",
       "     adj_diff_to_league_avg  \n",
       "460               22.019796  \n",
       "449               18.115361  "
      ]
     },
     "execution_count": 60,
     "metadata": {},
     "output_type": "execute_result"
    }
   ],
   "source": [
    "lineup_df_100[(lineup_df_100['lineup_embedding'] == '0-1-0-0-0-2-2-0') &\n",
    "              (lineup_df_100['team'] == 'Golden State Warriors')]\\\n",
    ".sort_values('adj_off_Pts/Poss', ascending=False).head(2)"
   ]
  },
  {
   "cell_type": "markdown",
   "id": "729d5250",
   "metadata": {},
   "source": [
    "### Ticket 5: What are the differences that 'alpha/iso-heavy ballhandlers' can provide?"
   ]
  },
  {
   "cell_type": "code",
   "execution_count": 61,
   "id": "4a4810e8",
   "metadata": {
    "ExecuteTime": {
     "end_time": "2023-03-01T08:53:32.903849Z",
     "start_time": "2023-03-01T08:53:32.899388Z"
    }
   },
   "outputs": [
    {
     "data": {
      "text/plain": [
       "{1: 'Ballhandler (Iso+PnR)',\n",
       " 0: 'Ballhandler (PnR)',\n",
       " 2: 'Big (Post Up+Roll)',\n",
       " 7: 'Big (Roll+Cut)',\n",
       " 3: 'Big (Roll+Spot Up)',\n",
       " 6: 'Wing (Off Screen)',\n",
       " 4: 'Wing (Hand Off)',\n",
       " 5: 'Wing (Spot Up+Transition)'}"
      ]
     },
     "execution_count": 61,
     "metadata": {},
     "output_type": "execute_result"
    }
   ],
   "source": [
    "cluster_dict_detail"
   ]
  },
  {
   "cell_type": "code",
   "execution_count": 62,
   "id": "3d0d24e8",
   "metadata": {
    "ExecuteTime": {
     "end_time": "2023-03-01T08:53:33.322269Z",
     "start_time": "2023-03-01T08:53:33.309217Z"
    }
   },
   "outputs": [
    {
     "data": {
      "text/html": [
       "<style type=\"text/css\">\n",
       "#T_b4716_row0_col0 {\n",
       "  color: #2E5C6E;\n",
       "}\n",
       "#T_b4716_row1_col0, #T_b4716_row2_col0, #T_b4716_row3_col0 {\n",
       "  color: #AB3B3A;\n",
       "  font-weight: bold;\n",
       "}\n",
       "</style>\n",
       "<table id=\"T_b4716\">\n",
       "  <thead>\n",
       "    <tr>\n",
       "      <th class=\"blank level0\" >&nbsp;</th>\n",
       "      <th id=\"T_b4716_level0_col0\" class=\"col_heading level0 col0\" ># of Ballhandler (Iso+PnR) in the lineup</th>\n",
       "      <th id=\"T_b4716_level0_col1\" class=\"col_heading level0 col1\" ># of unique lineups (100+ possessions)</th>\n",
       "      <th id=\"T_b4716_level0_col2\" class=\"col_heading level0 col2\" >avg. adj. difference to league average</th>\n",
       "    </tr>\n",
       "  </thead>\n",
       "  <tbody>\n",
       "    <tr>\n",
       "      <th id=\"T_b4716_level0_row0\" class=\"row_heading level0 row0\" >0</th>\n",
       "      <td id=\"T_b4716_row0_col0\" class=\"data row0 col0\" >0</td>\n",
       "      <td id=\"T_b4716_row0_col1\" class=\"data row0 col1\" >682</td>\n",
       "      <td id=\"T_b4716_row0_col2\" class=\"data row0 col2\" >-0.6</td>\n",
       "    </tr>\n",
       "    <tr>\n",
       "      <th id=\"T_b4716_level0_row1\" class=\"row_heading level0 row1\" >1</th>\n",
       "      <td id=\"T_b4716_row1_col0\" class=\"data row1 col0\" >1</td>\n",
       "      <td id=\"T_b4716_row1_col1\" class=\"data row1 col1\" >606</td>\n",
       "      <td id=\"T_b4716_row1_col2\" class=\"data row1 col2\" >1.5</td>\n",
       "    </tr>\n",
       "    <tr>\n",
       "      <th id=\"T_b4716_level0_row2\" class=\"row_heading level0 row2\" >2</th>\n",
       "      <td id=\"T_b4716_row2_col0\" class=\"data row2 col0\" >2</td>\n",
       "      <td id=\"T_b4716_row2_col1\" class=\"data row2 col1\" >242</td>\n",
       "      <td id=\"T_b4716_row2_col2\" class=\"data row2 col2\" >2.3</td>\n",
       "    </tr>\n",
       "    <tr>\n",
       "      <th id=\"T_b4716_level0_row3\" class=\"row_heading level0 row3\" >3</th>\n",
       "      <td id=\"T_b4716_row3_col0\" class=\"data row3 col0\" >3</td>\n",
       "      <td id=\"T_b4716_row3_col1\" class=\"data row3 col1\" >20</td>\n",
       "      <td id=\"T_b4716_row3_col2\" class=\"data row3 col2\" >4.0</td>\n",
       "    </tr>\n",
       "  </tbody>\n",
       "</table>\n"
      ],
      "text/plain": [
       "<pandas.io.formats.style.Styler at 0x1624de820>"
      ]
     },
     "execution_count": 62,
     "metadata": {},
     "output_type": "execute_result"
    }
   ],
   "source": [
    "lineup_df_100.groupby(1)['adj_diff_to_league_avg']\\\n",
    "             .agg(['count', 'mean'])\\\n",
    "             .reset_index()\\\n",
    "             .rename(columns={1: '# of Ballhandler (Iso+PnR) in the lineup',\n",
    "                              'count': '# of unique lineups (100+ possessions)',\n",
    "                              'mean': 'avg. adj. difference to league average'})\\\n",
    "             .style.format(precision=1)\\\n",
    "             .applymap(lambda x: 'color: #AB3B3A; font-weight: bold' if x > 0 \n",
    "                       else 'color: #2E5C6E' , \n",
    "                       subset='# of Ballhandler (Iso+PnR) in the lineup')"
   ]
  },
  {
   "cell_type": "code",
   "execution_count": 63,
   "id": "e5a69c03",
   "metadata": {
    "ExecuteTime": {
     "end_time": "2023-03-01T08:53:34.080080Z",
     "start_time": "2023-03-01T08:53:34.043967Z"
    }
   },
   "outputs": [
    {
     "data": {
      "text/html": [
       "<div>\n",
       "<style scoped>\n",
       "    .dataframe tbody tr th:only-of-type {\n",
       "        vertical-align: middle;\n",
       "    }\n",
       "\n",
       "    .dataframe tbody tr th {\n",
       "        vertical-align: top;\n",
       "    }\n",
       "\n",
       "    .dataframe thead th {\n",
       "        text-align: right;\n",
       "    }\n",
       "</style>\n",
       "<table border=\"1\" class=\"dataframe\">\n",
       "  <thead>\n",
       "    <tr style=\"text-align: right;\">\n",
       "      <th></th>\n",
       "      <th>PG</th>\n",
       "      <th>SG</th>\n",
       "      <th>SF</th>\n",
       "      <th>PF</th>\n",
       "      <th>C</th>\n",
       "      <th>season</th>\n",
       "      <th>team</th>\n",
       "      <th>Poss</th>\n",
       "      <th>off_Pts/Poss_rank</th>\n",
       "      <th>off_Pts/Poss</th>\n",
       "      <th>off_eFG%_rank</th>\n",
       "      <th>off_eFG%</th>\n",
       "      <th>off_TOV%_rank</th>\n",
       "      <th>off_TOV%</th>\n",
       "      <th>off_OREB%_rank</th>\n",
       "      <th>off_OREB%</th>\n",
       "      <th>off_FTr_rank</th>\n",
       "      <th>off_FTr</th>\n",
       "      <th>PG_alt</th>\n",
       "      <th>SG_alt</th>\n",
       "      <th>SF_alt</th>\n",
       "      <th>PF_alt</th>\n",
       "      <th>C_alt</th>\n",
       "      <th>PG_cluster</th>\n",
       "      <th>SG_cluster</th>\n",
       "      <th>SF_cluster</th>\n",
       "      <th>PF_cluster</th>\n",
       "      <th>C_cluster</th>\n",
       "      <th>lineup_clusters</th>\n",
       "      <th>0</th>\n",
       "      <th>1</th>\n",
       "      <th>2</th>\n",
       "      <th>3</th>\n",
       "      <th>4</th>\n",
       "      <th>5</th>\n",
       "      <th>6</th>\n",
       "      <th>7</th>\n",
       "      <th>lineup_embedding</th>\n",
       "      <th>tm_off_Pts/Poss</th>\n",
       "      <th>adj_off_Pts/Poss</th>\n",
       "      <th>league_avg_off_Pts/Poss</th>\n",
       "      <th>diff_to_league_avg</th>\n",
       "      <th>adj_diff_to_league_avg</th>\n",
       "    </tr>\n",
       "  </thead>\n",
       "  <tbody>\n",
       "    <tr>\n",
       "      <th>129</th>\n",
       "      <td>James Harden</td>\n",
       "      <td>Kyrie Irving</td>\n",
       "      <td>Joe Harris</td>\n",
       "      <td>Kevin Durant</td>\n",
       "      <td>Jeff Green</td>\n",
       "      <td>2020-2021</td>\n",
       "      <td>Brooklyn Nets</td>\n",
       "      <td>150</td>\n",
       "      <td>97.0</td>\n",
       "      <td>137.3</td>\n",
       "      <td>97.0</td>\n",
       "      <td>64.9%</td>\n",
       "      <td>45.0</td>\n",
       "      <td>14.0%</td>\n",
       "      <td>24.0</td>\n",
       "      <td>20.6%</td>\n",
       "      <td>64.0</td>\n",
       "      <td>19.6</td>\n",
       "      <td>jamesharden</td>\n",
       "      <td>kyrieirving</td>\n",
       "      <td>joeharris</td>\n",
       "      <td>kevindurant</td>\n",
       "      <td>jeffgreen</td>\n",
       "      <td>1.0</td>\n",
       "      <td>1.0</td>\n",
       "      <td>6.0</td>\n",
       "      <td>1.0</td>\n",
       "      <td>5.0</td>\n",
       "      <td>[1.0, 1.0, 6.0, 1.0, 5.0]</td>\n",
       "      <td>0</td>\n",
       "      <td>3</td>\n",
       "      <td>0</td>\n",
       "      <td>0</td>\n",
       "      <td>0</td>\n",
       "      <td>1</td>\n",
       "      <td>1</td>\n",
       "      <td>0</td>\n",
       "      <td>0-3-0-0-0-1-1-0</td>\n",
       "      <td>119.203348</td>\n",
       "      <td>128.251674</td>\n",
       "      <td>112.795304</td>\n",
       "      <td>24.504696</td>\n",
       "      <td>15.456370</td>\n",
       "    </tr>\n",
       "    <tr>\n",
       "      <th>849</th>\n",
       "      <td>Jrue Holiday</td>\n",
       "      <td>Grayson Allen</td>\n",
       "      <td>Pat Connaughton</td>\n",
       "      <td>Khris Middleton</td>\n",
       "      <td>Giannis Antetokounmpo</td>\n",
       "      <td>2021-2022</td>\n",
       "      <td>Milwaukee Bucks</td>\n",
       "      <td>111</td>\n",
       "      <td>95.0</td>\n",
       "      <td>132.4</td>\n",
       "      <td>86.0</td>\n",
       "      <td>60.3%</td>\n",
       "      <td>33.0</td>\n",
       "      <td>14.4%</td>\n",
       "      <td>53.0</td>\n",
       "      <td>26.0%</td>\n",
       "      <td>97.0</td>\n",
       "      <td>32.0</td>\n",
       "      <td>jrueholiday</td>\n",
       "      <td>graysonallen</td>\n",
       "      <td>patconnaughton</td>\n",
       "      <td>khrismiddleton</td>\n",
       "      <td>giannisantetokounmpo</td>\n",
       "      <td>1.0</td>\n",
       "      <td>5.0</td>\n",
       "      <td>5.0</td>\n",
       "      <td>1.0</td>\n",
       "      <td>1.0</td>\n",
       "      <td>[1.0, 5.0, 5.0, 1.0, 1.0]</td>\n",
       "      <td>0</td>\n",
       "      <td>3</td>\n",
       "      <td>0</td>\n",
       "      <td>0</td>\n",
       "      <td>0</td>\n",
       "      <td>2</td>\n",
       "      <td>0</td>\n",
       "      <td>0</td>\n",
       "      <td>0-3-0-0-0-2-0-0</td>\n",
       "      <td>115.508863</td>\n",
       "      <td>121.758584</td>\n",
       "      <td>112.255389</td>\n",
       "      <td>20.144611</td>\n",
       "      <td>9.503195</td>\n",
       "    </tr>\n",
       "    <tr>\n",
       "      <th>1028</th>\n",
       "      <td>Russell Westbrook</td>\n",
       "      <td>Paul George</td>\n",
       "      <td>Josh Huestis</td>\n",
       "      <td>Carmelo Anthony</td>\n",
       "      <td>Steven Adams</td>\n",
       "      <td>2017-2018</td>\n",
       "      <td>Oklahoma City Thunder</td>\n",
       "      <td>349</td>\n",
       "      <td>91.0</td>\n",
       "      <td>121.5</td>\n",
       "      <td>68.0</td>\n",
       "      <td>55.3%</td>\n",
       "      <td>44.0</td>\n",
       "      <td>14.6%</td>\n",
       "      <td>99.0</td>\n",
       "      <td>39.4%</td>\n",
       "      <td>54.0</td>\n",
       "      <td>18.2</td>\n",
       "      <td>russellwestbrook</td>\n",
       "      <td>paulgeorge</td>\n",
       "      <td>joshhuestis</td>\n",
       "      <td>carmeloanthony</td>\n",
       "      <td>stevenadams</td>\n",
       "      <td>1.0</td>\n",
       "      <td>1.0</td>\n",
       "      <td>5.0</td>\n",
       "      <td>1.0</td>\n",
       "      <td>7.0</td>\n",
       "      <td>[1.0, 1.0, 5.0, 1.0, 7.0]</td>\n",
       "      <td>0</td>\n",
       "      <td>3</td>\n",
       "      <td>0</td>\n",
       "      <td>0</td>\n",
       "      <td>0</td>\n",
       "      <td>1</td>\n",
       "      <td>0</td>\n",
       "      <td>1</td>\n",
       "      <td>0-3-0-0-0-1-0-1</td>\n",
       "      <td>110.134239</td>\n",
       "      <td>121.500000</td>\n",
       "      <td>108.329988</td>\n",
       "      <td>13.170012</td>\n",
       "      <td>13.170012</td>\n",
       "    </tr>\n",
       "    <tr>\n",
       "      <th>847</th>\n",
       "      <td>Jrue Holiday</td>\n",
       "      <td>Pat Connaughton</td>\n",
       "      <td>Khris Middleton</td>\n",
       "      <td>Giannis Antetokounmpo</td>\n",
       "      <td>Bobby Portis</td>\n",
       "      <td>2021-2022</td>\n",
       "      <td>Milwaukee Bucks</td>\n",
       "      <td>117</td>\n",
       "      <td>92.0</td>\n",
       "      <td>129.9</td>\n",
       "      <td>94.0</td>\n",
       "      <td>62.9%</td>\n",
       "      <td>4.0</td>\n",
       "      <td>18.8%</td>\n",
       "      <td>78.0</td>\n",
       "      <td>30.0%</td>\n",
       "      <td>96.0</td>\n",
       "      <td>30.9</td>\n",
       "      <td>jrueholiday</td>\n",
       "      <td>patconnaughton</td>\n",
       "      <td>khrismiddleton</td>\n",
       "      <td>giannisantetokounmpo</td>\n",
       "      <td>bobbyportis</td>\n",
       "      <td>1.0</td>\n",
       "      <td>5.0</td>\n",
       "      <td>1.0</td>\n",
       "      <td>1.0</td>\n",
       "      <td>5.0</td>\n",
       "      <td>[1.0, 5.0, 1.0, 1.0, 5.0]</td>\n",
       "      <td>0</td>\n",
       "      <td>3</td>\n",
       "      <td>0</td>\n",
       "      <td>0</td>\n",
       "      <td>0</td>\n",
       "      <td>2</td>\n",
       "      <td>0</td>\n",
       "      <td>0</td>\n",
       "      <td>0-3-0-0-0-2-0-0</td>\n",
       "      <td>115.508863</td>\n",
       "      <td>121.121406</td>\n",
       "      <td>112.255389</td>\n",
       "      <td>17.644611</td>\n",
       "      <td>8.866018</td>\n",
       "    </tr>\n",
       "    <tr>\n",
       "      <th>133</th>\n",
       "      <td>James Harden</td>\n",
       "      <td>Kyrie Irving</td>\n",
       "      <td>Joe Harris</td>\n",
       "      <td>Kevin Durant</td>\n",
       "      <td>DeAndre Jordan</td>\n",
       "      <td>2020-2021</td>\n",
       "      <td>Brooklyn Nets</td>\n",
       "      <td>107</td>\n",
       "      <td>73.0</td>\n",
       "      <td>120.6</td>\n",
       "      <td>84.0</td>\n",
       "      <td>60.9%</td>\n",
       "      <td>23.0</td>\n",
       "      <td>15.9%</td>\n",
       "      <td>44.0</td>\n",
       "      <td>23.8%</td>\n",
       "      <td>95.0</td>\n",
       "      <td>28.7</td>\n",
       "      <td>jamesharden</td>\n",
       "      <td>kyrieirving</td>\n",
       "      <td>joeharris</td>\n",
       "      <td>kevindurant</td>\n",
       "      <td>deandrejordan</td>\n",
       "      <td>1.0</td>\n",
       "      <td>1.0</td>\n",
       "      <td>6.0</td>\n",
       "      <td>1.0</td>\n",
       "      <td>7.0</td>\n",
       "      <td>[1.0, 1.0, 6.0, 1.0, 7.0]</td>\n",
       "      <td>0</td>\n",
       "      <td>3</td>\n",
       "      <td>0</td>\n",
       "      <td>0</td>\n",
       "      <td>0</td>\n",
       "      <td>0</td>\n",
       "      <td>1</td>\n",
       "      <td>1</td>\n",
       "      <td>0-3-0-0-0-0-1-1</td>\n",
       "      <td>119.203348</td>\n",
       "      <td>119.701487</td>\n",
       "      <td>112.795304</td>\n",
       "      <td>7.804696</td>\n",
       "      <td>6.906183</td>\n",
       "    </tr>\n",
       "  </tbody>\n",
       "</table>\n",
       "</div>"
      ],
      "text/plain": [
       "                     PG               SG               SF  \\\n",
       "129        James Harden     Kyrie Irving       Joe Harris   \n",
       "849        Jrue Holiday    Grayson Allen  Pat Connaughton   \n",
       "1028  Russell Westbrook      Paul George     Josh Huestis   \n",
       "847        Jrue Holiday  Pat Connaughton  Khris Middleton   \n",
       "133        James Harden     Kyrie Irving       Joe Harris   \n",
       "\n",
       "                         PF                      C     season  \\\n",
       "129            Kevin Durant             Jeff Green  2020-2021   \n",
       "849         Khris Middleton  Giannis Antetokounmpo  2021-2022   \n",
       "1028        Carmelo Anthony           Steven Adams  2017-2018   \n",
       "847   Giannis Antetokounmpo           Bobby Portis  2021-2022   \n",
       "133            Kevin Durant         DeAndre Jordan  2020-2021   \n",
       "\n",
       "                       team  Poss  off_Pts/Poss_rank  off_Pts/Poss  \\\n",
       "129           Brooklyn Nets   150               97.0         137.3   \n",
       "849         Milwaukee Bucks   111               95.0         132.4   \n",
       "1028  Oklahoma City Thunder   349               91.0         121.5   \n",
       "847         Milwaukee Bucks   117               92.0         129.9   \n",
       "133           Brooklyn Nets   107               73.0         120.6   \n",
       "\n",
       "      off_eFG%_rank off_eFG%  off_TOV%_rank off_TOV%  off_OREB%_rank  \\\n",
       "129            97.0    64.9%           45.0    14.0%            24.0   \n",
       "849            86.0    60.3%           33.0    14.4%            53.0   \n",
       "1028           68.0    55.3%           44.0    14.6%            99.0   \n",
       "847            94.0    62.9%            4.0    18.8%            78.0   \n",
       "133            84.0    60.9%           23.0    15.9%            44.0   \n",
       "\n",
       "     off_OREB%  off_FTr_rank  off_FTr            PG_alt          SG_alt  \\\n",
       "129      20.6%          64.0     19.6       jamesharden     kyrieirving   \n",
       "849      26.0%          97.0     32.0       jrueholiday    graysonallen   \n",
       "1028     39.4%          54.0     18.2  russellwestbrook      paulgeorge   \n",
       "847      30.0%          96.0     30.9       jrueholiday  patconnaughton   \n",
       "133      23.8%          95.0     28.7       jamesharden     kyrieirving   \n",
       "\n",
       "              SF_alt                PF_alt                 C_alt  PG_cluster  \\\n",
       "129        joeharris           kevindurant             jeffgreen         1.0   \n",
       "849   patconnaughton        khrismiddleton  giannisantetokounmpo         1.0   \n",
       "1028     joshhuestis        carmeloanthony           stevenadams         1.0   \n",
       "847   khrismiddleton  giannisantetokounmpo           bobbyportis         1.0   \n",
       "133        joeharris           kevindurant         deandrejordan         1.0   \n",
       "\n",
       "      SG_cluster  SF_cluster  PF_cluster  C_cluster  \\\n",
       "129          1.0         6.0         1.0        5.0   \n",
       "849          5.0         5.0         1.0        1.0   \n",
       "1028         1.0         5.0         1.0        7.0   \n",
       "847          5.0         1.0         1.0        5.0   \n",
       "133          1.0         6.0         1.0        7.0   \n",
       "\n",
       "                lineup_clusters  0  1  2  3  4  5  6  7 lineup_embedding  \\\n",
       "129   [1.0, 1.0, 6.0, 1.0, 5.0]  0  3  0  0  0  1  1  0  0-3-0-0-0-1-1-0   \n",
       "849   [1.0, 5.0, 5.0, 1.0, 1.0]  0  3  0  0  0  2  0  0  0-3-0-0-0-2-0-0   \n",
       "1028  [1.0, 1.0, 5.0, 1.0, 7.0]  0  3  0  0  0  1  0  1  0-3-0-0-0-1-0-1   \n",
       "847   [1.0, 5.0, 1.0, 1.0, 5.0]  0  3  0  0  0  2  0  0  0-3-0-0-0-2-0-0   \n",
       "133   [1.0, 1.0, 6.0, 1.0, 7.0]  0  3  0  0  0  0  1  1  0-3-0-0-0-0-1-1   \n",
       "\n",
       "      tm_off_Pts/Poss  adj_off_Pts/Poss  league_avg_off_Pts/Poss  \\\n",
       "129        119.203348        128.251674               112.795304   \n",
       "849        115.508863        121.758584               112.255389   \n",
       "1028       110.134239        121.500000               108.329988   \n",
       "847        115.508863        121.121406               112.255389   \n",
       "133        119.203348        119.701487               112.795304   \n",
       "\n",
       "      diff_to_league_avg  adj_diff_to_league_avg  \n",
       "129            24.504696               15.456370  \n",
       "849            20.144611                9.503195  \n",
       "1028           13.170012               13.170012  \n",
       "847            17.644611                8.866018  \n",
       "133             7.804696                6.906183  "
      ]
     },
     "execution_count": 63,
     "metadata": {},
     "output_type": "execute_result"
    }
   ],
   "source": [
    "lineup_df_100[lineup_df_100[1] == 3]\\\n",
    ".sort_values('adj_off_Pts/Poss', ascending=False).head(5)"
   ]
  },
  {
   "cell_type": "markdown",
   "id": "5fb34ee3",
   "metadata": {},
   "source": [
    "## Modeling"
   ]
  },
  {
   "cell_type": "markdown",
   "id": "637532c7",
   "metadata": {},
   "source": [
    "### Linear Regression"
   ]
  },
  {
   "cell_type": "code",
   "execution_count": 64,
   "id": "1eccc899",
   "metadata": {
    "ExecuteTime": {
     "end_time": "2023-03-01T08:53:36.134772Z",
     "start_time": "2023-03-01T08:53:36.131027Z"
    }
   },
   "outputs": [],
   "source": [
    "data = lineup_df_100[list(range(n_clusters))]\n",
    "y = lineup_df_100['adj_diff_to_league_avg'].values"
   ]
  },
  {
   "cell_type": "code",
   "execution_count": 65,
   "id": "71a364b9",
   "metadata": {
    "ExecuteTime": {
     "end_time": "2023-03-01T08:53:36.605038Z",
     "start_time": "2023-03-01T08:53:36.597962Z"
    }
   },
   "outputs": [
    {
     "data": {
      "text/plain": [
       "[['Ballhandler (PnR) - 1', 'Ballhandler (PnR) - 2', 'Ballhandler (PnR) - 3'],\n",
       " ['Ballhandler (Iso+PnR) - 1',\n",
       "  'Ballhandler (Iso+PnR) - 2',\n",
       "  'Ballhandler (Iso+PnR) - 3'],\n",
       " ['Big (Post Up+Roll) - 1', 'Big (Post Up+Roll) - 2'],\n",
       " ['Big (Roll+Spot Up) - 1',\n",
       "  'Big (Roll+Spot Up) - 2',\n",
       "  'Big (Roll+Spot Up) - 3'],\n",
       " ['Wing (Hand Off) - 1', 'Wing (Hand Off) - 2', 'Wing (Hand Off) - 3'],\n",
       " ['Wing (Spot Up+Transition) - 1',\n",
       "  'Wing (Spot Up+Transition) - 2',\n",
       "  'Wing (Spot Up+Transition) - 3',\n",
       "  'Wing (Spot Up+Transition) - 4'],\n",
       " ['Wing (Off Screen) - 1', 'Wing (Off Screen) - 2'],\n",
       " ['Big (Roll+Cut) - 1']]"
      ]
     },
     "execution_count": 65,
     "metadata": {},
     "output_type": "execute_result"
    }
   ],
   "source": [
    "categorical_cols = [[f'{cluster_dict_detail[i]} - {n}' \n",
    "                     for n in sorted(data[i].unique()) if n != 0]\n",
    "                     for i in range(n_clusters)]\n",
    "categorical_cols"
   ]
  },
  {
   "cell_type": "code",
   "execution_count": 66,
   "id": "e55c79a2",
   "metadata": {
    "ExecuteTime": {
     "end_time": "2023-03-01T08:53:39.120216Z",
     "start_time": "2023-03-01T08:53:39.093532Z"
    }
   },
   "outputs": [
    {
     "data": {
      "text/html": [
       "<div>\n",
       "<style scoped>\n",
       "    .dataframe tbody tr th:only-of-type {\n",
       "        vertical-align: middle;\n",
       "    }\n",
       "\n",
       "    .dataframe tbody tr th {\n",
       "        vertical-align: top;\n",
       "    }\n",
       "\n",
       "    .dataframe thead th {\n",
       "        text-align: right;\n",
       "    }\n",
       "</style>\n",
       "<table border=\"1\" class=\"dataframe\">\n",
       "  <thead>\n",
       "    <tr style=\"text-align: right;\">\n",
       "      <th></th>\n",
       "      <th>Ballhandler (PnR) - 1</th>\n",
       "      <th>Ballhandler (PnR) - 2</th>\n",
       "      <th>Ballhandler (PnR) - 3</th>\n",
       "      <th>Ballhandler (Iso+PnR) - 1</th>\n",
       "      <th>Ballhandler (Iso+PnR) - 2</th>\n",
       "      <th>Ballhandler (Iso+PnR) - 3</th>\n",
       "      <th>Big (Post Up+Roll) - 1</th>\n",
       "      <th>Big (Post Up+Roll) - 2</th>\n",
       "      <th>Big (Roll+Spot Up) - 1</th>\n",
       "      <th>Big (Roll+Spot Up) - 2</th>\n",
       "      <th>Big (Roll+Spot Up) - 3</th>\n",
       "      <th>Wing (Hand Off) - 1</th>\n",
       "      <th>Wing (Hand Off) - 2</th>\n",
       "      <th>Wing (Hand Off) - 3</th>\n",
       "      <th>Wing (Spot Up+Transition) - 1</th>\n",
       "      <th>Wing (Spot Up+Transition) - 2</th>\n",
       "      <th>Wing (Spot Up+Transition) - 3</th>\n",
       "      <th>Wing (Spot Up+Transition) - 4</th>\n",
       "      <th>Wing (Off Screen) - 1</th>\n",
       "      <th>Wing (Off Screen) - 2</th>\n",
       "      <th>Big (Roll+Cut) - 1</th>\n",
       "    </tr>\n",
       "  </thead>\n",
       "  <tbody>\n",
       "    <tr>\n",
       "      <th>0</th>\n",
       "      <td>1.0</td>\n",
       "      <td>0.0</td>\n",
       "      <td>0.0</td>\n",
       "      <td>1.0</td>\n",
       "      <td>0.0</td>\n",
       "      <td>0.0</td>\n",
       "      <td>0.0</td>\n",
       "      <td>0.0</td>\n",
       "      <td>0.0</td>\n",
       "      <td>1.0</td>\n",
       "      <td>0.0</td>\n",
       "      <td>0.0</td>\n",
       "      <td>0.0</td>\n",
       "      <td>0.0</td>\n",
       "      <td>0.0</td>\n",
       "      <td>0.0</td>\n",
       "      <td>0.0</td>\n",
       "      <td>0.0</td>\n",
       "      <td>1.0</td>\n",
       "      <td>0.0</td>\n",
       "      <td>0.0</td>\n",
       "    </tr>\n",
       "  </tbody>\n",
       "</table>\n",
       "</div>"
      ],
      "text/plain": [
       "   Ballhandler (PnR) - 1  Ballhandler (PnR) - 2  Ballhandler (PnR) - 3  \\\n",
       "0                    1.0                    0.0                    0.0   \n",
       "\n",
       "   Ballhandler (Iso+PnR) - 1  Ballhandler (Iso+PnR) - 2  \\\n",
       "0                        1.0                        0.0   \n",
       "\n",
       "   Ballhandler (Iso+PnR) - 3  Big (Post Up+Roll) - 1  Big (Post Up+Roll) - 2  \\\n",
       "0                        0.0                     0.0                     0.0   \n",
       "\n",
       "   Big (Roll+Spot Up) - 1  Big (Roll+Spot Up) - 2  Big (Roll+Spot Up) - 3  \\\n",
       "0                     0.0                     1.0                     0.0   \n",
       "\n",
       "   Wing (Hand Off) - 1  Wing (Hand Off) - 2  Wing (Hand Off) - 3  \\\n",
       "0                  0.0                  0.0                  0.0   \n",
       "\n",
       "   Wing (Spot Up+Transition) - 1  Wing (Spot Up+Transition) - 2  \\\n",
       "0                            0.0                            0.0   \n",
       "\n",
       "   Wing (Spot Up+Transition) - 3  Wing (Spot Up+Transition) - 4  \\\n",
       "0                            0.0                            0.0   \n",
       "\n",
       "   Wing (Off Screen) - 1  Wing (Off Screen) - 2  Big (Roll+Cut) - 1  \n",
       "0                    1.0                    0.0                 0.0  "
      ]
     },
     "execution_count": 66,
     "metadata": {},
     "output_type": "execute_result"
    }
   ],
   "source": [
    "data_encoded = pd.DataFrame(OneHotEncoder(drop='first').fit_transform(data).toarray(),\n",
    "                            columns=list(itertools.chain(*categorical_cols)))\n",
    "data_encoded.head(1)"
   ]
  },
  {
   "cell_type": "code",
   "execution_count": 67,
   "id": "f837fc6f",
   "metadata": {
    "ExecuteTime": {
     "end_time": "2023-03-01T08:53:41.955523Z",
     "start_time": "2023-03-01T08:53:41.902202Z"
    }
   },
   "outputs": [
    {
     "data": {
      "text/html": [
       "<table class=\"simpletable\">\n",
       "<caption>OLS Regression Results</caption>\n",
       "<tr>\n",
       "  <th>Dep. Variable:</th>            <td>y</td>        <th>  R-squared:         </th> <td>   0.059</td> \n",
       "</tr>\n",
       "<tr>\n",
       "  <th>Model:</th>                   <td>OLS</td>       <th>  Adj. R-squared:    </th> <td>   0.047</td> \n",
       "</tr>\n",
       "<tr>\n",
       "  <th>Method:</th>             <td>Least Squares</td>  <th>  F-statistic:       </th> <td>   4.832</td> \n",
       "</tr>\n",
       "<tr>\n",
       "  <th>Date:</th>             <td>Wed, 01 Mar 2023</td> <th>  Prob (F-statistic):</th> <td>1.33e-11</td> \n",
       "</tr>\n",
       "<tr>\n",
       "  <th>Time:</th>                 <td>16:53:41</td>     <th>  Log-Likelihood:    </th> <td> -5116.3</td> \n",
       "</tr>\n",
       "<tr>\n",
       "  <th>No. Observations:</th>      <td>  1550</td>      <th>  AIC:               </th> <td>1.027e+04</td>\n",
       "</tr>\n",
       "<tr>\n",
       "  <th>Df Residuals:</th>          <td>  1529</td>      <th>  BIC:               </th> <td>1.039e+04</td>\n",
       "</tr>\n",
       "<tr>\n",
       "  <th>Df Model:</th>              <td>    20</td>      <th>                     </th>     <td> </td>    \n",
       "</tr>\n",
       "<tr>\n",
       "  <th>Covariance Type:</th>      <td>nonrobust</td>    <th>                     </th>     <td> </td>    \n",
       "</tr>\n",
       "</table>\n",
       "<table class=\"simpletable\">\n",
       "<tr>\n",
       "                <td></td>                   <th>coef</th>     <th>std err</th>      <th>t</th>      <th>P>|t|</th>  <th>[0.025</th>    <th>0.975]</th>  \n",
       "</tr>\n",
       "<tr>\n",
       "  <th>const</th>                         <td>    0.5218</td> <td>    1.079</td> <td>    0.484</td> <td> 0.629</td> <td>   -1.594</td> <td>    2.637</td>\n",
       "</tr>\n",
       "<tr>\n",
       "  <th>Ballhandler (PnR) - 1</th>         <td>   -0.7693</td> <td>    0.520</td> <td>   -1.480</td> <td> 0.139</td> <td>   -1.789</td> <td>    0.250</td>\n",
       "</tr>\n",
       "<tr>\n",
       "  <th>Ballhandler (PnR) - 2</th>         <td>   -0.2042</td> <td>    0.651</td> <td>   -0.313</td> <td> 0.754</td> <td>   -1.482</td> <td>    1.074</td>\n",
       "</tr>\n",
       "<tr>\n",
       "  <th>Ballhandler (PnR) - 3</th>         <td>    0.2601</td> <td>    1.071</td> <td>    0.243</td> <td> 0.808</td> <td>   -1.840</td> <td>    2.360</td>\n",
       "</tr>\n",
       "<tr>\n",
       "  <th>Ballhandler (Iso+PnR) - 1</th>     <td>    2.3236</td> <td>    0.433</td> <td>    5.367</td> <td> 0.000</td> <td>    1.474</td> <td>    3.173</td>\n",
       "</tr>\n",
       "<tr>\n",
       "  <th>Ballhandler (Iso+PnR) - 2</th>     <td>    2.8508</td> <td>    0.639</td> <td>    4.462</td> <td> 0.000</td> <td>    1.597</td> <td>    4.104</td>\n",
       "</tr>\n",
       "<tr>\n",
       "  <th>Ballhandler (Iso+PnR) - 3</th>     <td>    3.9754</td> <td>    1.539</td> <td>    2.583</td> <td> 0.010</td> <td>    0.956</td> <td>    6.995</td>\n",
       "</tr>\n",
       "<tr>\n",
       "  <th>Big (Post Up+Roll) - 1</th>        <td>    0.1314</td> <td>    0.449</td> <td>    0.293</td> <td> 0.770</td> <td>   -0.749</td> <td>    1.012</td>\n",
       "</tr>\n",
       "<tr>\n",
       "  <th>Big (Post Up+Roll) - 2</th>        <td>    0.8864</td> <td>    0.821</td> <td>    1.079</td> <td> 0.281</td> <td>   -0.724</td> <td>    2.497</td>\n",
       "</tr>\n",
       "<tr>\n",
       "  <th>Big (Roll+Spot Up) - 1</th>        <td>   -1.1871</td> <td>    0.463</td> <td>   -2.566</td> <td> 0.010</td> <td>   -2.095</td> <td>   -0.280</td>\n",
       "</tr>\n",
       "<tr>\n",
       "  <th>Big (Roll+Spot Up) - 2</th>        <td>   -3.0929</td> <td>    1.091</td> <td>   -2.836</td> <td> 0.005</td> <td>   -5.232</td> <td>   -0.954</td>\n",
       "</tr>\n",
       "<tr>\n",
       "  <th>Big (Roll+Spot Up) - 3</th>        <td>    1.1480</td> <td>    6.158</td> <td>    0.186</td> <td> 0.852</td> <td>  -10.931</td> <td>   13.227</td>\n",
       "</tr>\n",
       "<tr>\n",
       "  <th>Wing (Hand Off) - 1</th>           <td>    0.9481</td> <td>    0.613</td> <td>    1.547</td> <td> 0.122</td> <td>   -0.254</td> <td>    2.151</td>\n",
       "</tr>\n",
       "<tr>\n",
       "  <th>Wing (Hand Off) - 2</th>           <td>   -3.0616</td> <td>    1.477</td> <td>   -2.073</td> <td> 0.038</td> <td>   -5.959</td> <td>   -0.165</td>\n",
       "</tr>\n",
       "<tr>\n",
       "  <th>Wing (Hand Off) - 3</th>           <td>   -3.1912</td> <td>    4.383</td> <td>   -0.728</td> <td> 0.467</td> <td>  -11.788</td> <td>    5.406</td>\n",
       "</tr>\n",
       "<tr>\n",
       "  <th>Wing (Spot Up+Transition) - 1</th> <td>   -0.4603</td> <td>    0.553</td> <td>   -0.833</td> <td> 0.405</td> <td>   -1.544</td> <td>    0.624</td>\n",
       "</tr>\n",
       "<tr>\n",
       "  <th>Wing (Spot Up+Transition) - 2</th> <td>   -0.7280</td> <td>    0.626</td> <td>   -1.162</td> <td> 0.245</td> <td>   -1.957</td> <td>    0.501</td>\n",
       "</tr>\n",
       "<tr>\n",
       "  <th>Wing (Spot Up+Transition) - 3</th> <td>    0.3280</td> <td>    0.840</td> <td>    0.391</td> <td> 0.696</td> <td>   -1.319</td> <td>    1.975</td>\n",
       "</tr>\n",
       "<tr>\n",
       "  <th>Wing (Spot Up+Transition) - 4</th> <td>   -0.8567</td> <td>    1.632</td> <td>   -0.525</td> <td> 0.600</td> <td>   -4.057</td> <td>    2.344</td>\n",
       "</tr>\n",
       "<tr>\n",
       "  <th>Wing (Off Screen) - 1</th>         <td>    0.1178</td> <td>    0.467</td> <td>    0.252</td> <td> 0.801</td> <td>   -0.798</td> <td>    1.033</td>\n",
       "</tr>\n",
       "<tr>\n",
       "  <th>Wing (Off Screen) - 2</th>         <td>    2.0432</td> <td>    1.183</td> <td>    1.727</td> <td> 0.084</td> <td>   -0.277</td> <td>    4.364</td>\n",
       "</tr>\n",
       "<tr>\n",
       "  <th>Big (Roll+Cut) - 1</th>            <td>   -0.0166</td> <td>    0.518</td> <td>   -0.032</td> <td> 0.975</td> <td>   -1.034</td> <td>    1.000</td>\n",
       "</tr>\n",
       "</table>\n",
       "<table class=\"simpletable\">\n",
       "<tr>\n",
       "  <th>Omnibus:</th>       <td> 4.057</td> <th>  Durbin-Watson:     </th> <td>   1.570</td>\n",
       "</tr>\n",
       "<tr>\n",
       "  <th>Prob(Omnibus):</th> <td> 0.132</td> <th>  Jarque-Bera (JB):  </th> <td>   4.646</td>\n",
       "</tr>\n",
       "<tr>\n",
       "  <th>Skew:</th>          <td>-0.007</td> <th>  Prob(JB):          </th> <td>  0.0980</td>\n",
       "</tr>\n",
       "<tr>\n",
       "  <th>Kurtosis:</th>      <td> 3.268</td> <th>  Cond. No.          </th> <td>2.81e+15</td>\n",
       "</tr>\n",
       "</table><br/><br/>Notes:<br/>[1] Standard Errors assume that the covariance matrix of the errors is correctly specified.<br/>[2] The smallest eigenvalue is 4.46e-28. This might indicate that there are<br/>strong multicollinearity problems or that the design matrix is singular."
      ],
      "text/plain": [
       "<class 'statsmodels.iolib.summary.Summary'>\n",
       "\"\"\"\n",
       "                            OLS Regression Results                            \n",
       "==============================================================================\n",
       "Dep. Variable:                      y   R-squared:                       0.059\n",
       "Model:                            OLS   Adj. R-squared:                  0.047\n",
       "Method:                 Least Squares   F-statistic:                     4.832\n",
       "Date:                Wed, 01 Mar 2023   Prob (F-statistic):           1.33e-11\n",
       "Time:                        16:53:41   Log-Likelihood:                -5116.3\n",
       "No. Observations:                1550   AIC:                         1.027e+04\n",
       "Df Residuals:                    1529   BIC:                         1.039e+04\n",
       "Df Model:                          20                                         \n",
       "Covariance Type:            nonrobust                                         \n",
       "=================================================================================================\n",
       "                                    coef    std err          t      P>|t|      [0.025      0.975]\n",
       "-------------------------------------------------------------------------------------------------\n",
       "const                             0.5218      1.079      0.484      0.629      -1.594       2.637\n",
       "Ballhandler (PnR) - 1            -0.7693      0.520     -1.480      0.139      -1.789       0.250\n",
       "Ballhandler (PnR) - 2            -0.2042      0.651     -0.313      0.754      -1.482       1.074\n",
       "Ballhandler (PnR) - 3             0.2601      1.071      0.243      0.808      -1.840       2.360\n",
       "Ballhandler (Iso+PnR) - 1         2.3236      0.433      5.367      0.000       1.474       3.173\n",
       "Ballhandler (Iso+PnR) - 2         2.8508      0.639      4.462      0.000       1.597       4.104\n",
       "Ballhandler (Iso+PnR) - 3         3.9754      1.539      2.583      0.010       0.956       6.995\n",
       "Big (Post Up+Roll) - 1            0.1314      0.449      0.293      0.770      -0.749       1.012\n",
       "Big (Post Up+Roll) - 2            0.8864      0.821      1.079      0.281      -0.724       2.497\n",
       "Big (Roll+Spot Up) - 1           -1.1871      0.463     -2.566      0.010      -2.095      -0.280\n",
       "Big (Roll+Spot Up) - 2           -3.0929      1.091     -2.836      0.005      -5.232      -0.954\n",
       "Big (Roll+Spot Up) - 3            1.1480      6.158      0.186      0.852     -10.931      13.227\n",
       "Wing (Hand Off) - 1               0.9481      0.613      1.547      0.122      -0.254       2.151\n",
       "Wing (Hand Off) - 2              -3.0616      1.477     -2.073      0.038      -5.959      -0.165\n",
       "Wing (Hand Off) - 3              -3.1912      4.383     -0.728      0.467     -11.788       5.406\n",
       "Wing (Spot Up+Transition) - 1    -0.4603      0.553     -0.833      0.405      -1.544       0.624\n",
       "Wing (Spot Up+Transition) - 2    -0.7280      0.626     -1.162      0.245      -1.957       0.501\n",
       "Wing (Spot Up+Transition) - 3     0.3280      0.840      0.391      0.696      -1.319       1.975\n",
       "Wing (Spot Up+Transition) - 4    -0.8567      1.632     -0.525      0.600      -4.057       2.344\n",
       "Wing (Off Screen) - 1             0.1178      0.467      0.252      0.801      -0.798       1.033\n",
       "Wing (Off Screen) - 2             2.0432      1.183      1.727      0.084      -0.277       4.364\n",
       "Big (Roll+Cut) - 1               -0.0166      0.518     -0.032      0.975      -1.034       1.000\n",
       "==============================================================================\n",
       "Omnibus:                        4.057   Durbin-Watson:                   1.570\n",
       "Prob(Omnibus):                  0.132   Jarque-Bera (JB):                4.646\n",
       "Skew:                          -0.007   Prob(JB):                       0.0980\n",
       "Kurtosis:                       3.268   Cond. No.                     2.81e+15\n",
       "==============================================================================\n",
       "\n",
       "Notes:\n",
       "[1] Standard Errors assume that the covariance matrix of the errors is correctly specified.\n",
       "[2] The smallest eigenvalue is 4.46e-28. This might indicate that there are\n",
       "strong multicollinearity problems or that the design matrix is singular.\n",
       "\"\"\""
      ]
     },
     "execution_count": 67,
     "metadata": {},
     "output_type": "execute_result"
    }
   ],
   "source": [
    "X = sm.add_constant(data_encoded)\n",
    "model = sm.OLS(y, X)\n",
    "res = model.fit()\n",
    "res.summary()"
   ]
  },
  {
   "cell_type": "code",
   "execution_count": 68,
   "id": "3060c16c",
   "metadata": {
    "ExecuteTime": {
     "end_time": "2023-03-01T08:53:42.200786Z",
     "start_time": "2023-03-01T08:53:42.187837Z"
    }
   },
   "outputs": [
    {
     "data": {
      "text/html": [
       "<style type=\"text/css\">\n",
       "#T_2b007_row0_col0, #T_2b007_row1_col0, #T_2b007_row2_col0 {\n",
       "  color: #AB3B3A;\n",
       "}\n",
       "#T_2b007_row3_col0, #T_2b007_row4_col0, #T_2b007_row5_col0 {\n",
       "  color: #2E5C6E;\n",
       "}\n",
       "</style>\n",
       "<table id=\"T_2b007\">\n",
       "  <thead>\n",
       "    <tr>\n",
       "      <th class=\"blank level0\" >&nbsp;</th>\n",
       "      <th id=\"T_2b007_level0_col0\" class=\"col_heading level0 col0\" >feature</th>\n",
       "      <th id=\"T_2b007_level0_col1\" class=\"col_heading level0 col1\" >coef</th>\n",
       "      <th id=\"T_2b007_level0_col2\" class=\"col_heading level0 col2\" >p_value</th>\n",
       "    </tr>\n",
       "  </thead>\n",
       "  <tbody>\n",
       "    <tr>\n",
       "      <th id=\"T_2b007_level0_row0\" class=\"row_heading level0 row0\" >6</th>\n",
       "      <td id=\"T_2b007_row0_col0\" class=\"data row0 col0\" >Ballhandler (Iso+PnR) - 3</td>\n",
       "      <td id=\"T_2b007_row0_col1\" class=\"data row0 col1\" >3.975</td>\n",
       "      <td id=\"T_2b007_row0_col2\" class=\"data row0 col2\" >0.010</td>\n",
       "    </tr>\n",
       "    <tr>\n",
       "      <th id=\"T_2b007_level0_row1\" class=\"row_heading level0 row1\" >5</th>\n",
       "      <td id=\"T_2b007_row1_col0\" class=\"data row1 col0\" >Ballhandler (Iso+PnR) - 2</td>\n",
       "      <td id=\"T_2b007_row1_col1\" class=\"data row1 col1\" >2.851</td>\n",
       "      <td id=\"T_2b007_row1_col2\" class=\"data row1 col2\" >0.000</td>\n",
       "    </tr>\n",
       "    <tr>\n",
       "      <th id=\"T_2b007_level0_row2\" class=\"row_heading level0 row2\" >4</th>\n",
       "      <td id=\"T_2b007_row2_col0\" class=\"data row2 col0\" >Ballhandler (Iso+PnR) - 1</td>\n",
       "      <td id=\"T_2b007_row2_col1\" class=\"data row2 col1\" >2.324</td>\n",
       "      <td id=\"T_2b007_row2_col2\" class=\"data row2 col2\" >0.000</td>\n",
       "    </tr>\n",
       "    <tr>\n",
       "      <th id=\"T_2b007_level0_row3\" class=\"row_heading level0 row3\" >9</th>\n",
       "      <td id=\"T_2b007_row3_col0\" class=\"data row3 col0\" >Big (Roll+Spot Up) - 1</td>\n",
       "      <td id=\"T_2b007_row3_col1\" class=\"data row3 col1\" >-1.187</td>\n",
       "      <td id=\"T_2b007_row3_col2\" class=\"data row3 col2\" >0.010</td>\n",
       "    </tr>\n",
       "    <tr>\n",
       "      <th id=\"T_2b007_level0_row4\" class=\"row_heading level0 row4\" >13</th>\n",
       "      <td id=\"T_2b007_row4_col0\" class=\"data row4 col0\" >Wing (Hand Off) - 2</td>\n",
       "      <td id=\"T_2b007_row4_col1\" class=\"data row4 col1\" >-3.062</td>\n",
       "      <td id=\"T_2b007_row4_col2\" class=\"data row4 col2\" >0.038</td>\n",
       "    </tr>\n",
       "    <tr>\n",
       "      <th id=\"T_2b007_level0_row5\" class=\"row_heading level0 row5\" >10</th>\n",
       "      <td id=\"T_2b007_row5_col0\" class=\"data row5 col0\" >Big (Roll+Spot Up) - 2</td>\n",
       "      <td id=\"T_2b007_row5_col1\" class=\"data row5 col1\" >-3.093</td>\n",
       "      <td id=\"T_2b007_row5_col2\" class=\"data row5 col2\" >0.005</td>\n",
       "    </tr>\n",
       "  </tbody>\n",
       "</table>\n"
      ],
      "text/plain": [
       "<pandas.io.formats.style.Styler at 0x1624cd850>"
      ]
     },
     "execution_count": 68,
     "metadata": {},
     "output_type": "execute_result"
    }
   ],
   "source": [
    "coef_df = pd.DataFrame(res.params, \n",
    "                       columns=['coef']).reset_index()\\\n",
    "                                        .rename(columns={'index': 'feature'})\n",
    "coef_df['p_value'] = coef_df['feature'].map(res.pvalues)\n",
    "coef_df[coef_df['p_value'] < 0.05].sort_values('coef', ascending=False)\\\n",
    "                                  .style.format(precision=3)\\\n",
    "                                  .applymap(color_cluster_1, subset='feature')"
   ]
  },
  {
   "cell_type": "markdown",
   "id": "e4abb7ab",
   "metadata": {},
   "source": [
    "### Bayesian Modeling"
   ]
  },
  {
   "cell_type": "markdown",
   "id": "c4e5c609",
   "metadata": {},
   "source": [
    "#### Functions"
   ]
  },
  {
   "cell_type": "code",
   "execution_count": 69,
   "id": "83c39e9b",
   "metadata": {
    "ExecuteTime": {
     "end_time": "2023-03-01T08:54:00.786595Z",
     "start_time": "2023-03-01T08:54:00.783245Z"
    }
   },
   "outputs": [],
   "source": [
    "def team_cluster_lookup(season, team, label_df=label_df):\n",
    "    return label_df[(label_df['season'] == season) &\n",
    "                    (label_df['team'] == team)]"
   ]
  },
  {
   "cell_type": "code",
   "execution_count": 70,
   "id": "8239551b",
   "metadata": {
    "ExecuteTime": {
     "end_time": "2023-03-01T08:54:01.213058Z",
     "start_time": "2023-03-01T08:54:01.208603Z"
    }
   },
   "outputs": [],
   "source": [
    "def generate_player_queries(player, season, cluster):\n",
    "    A_query = ' | '.join([f'{pos} == \"{player}\"' for pos in positions])\n",
    "    B_query = ' & '.join([f'{pos} != \"{player}\"' for pos in positions])\n",
    "    return A_query, B_query"
   ]
  },
  {
   "cell_type": "markdown",
   "id": "610dcb8b",
   "metadata": {},
   "source": [
    "### Ticket 1: \n",
    "#### Get Expectation of Steph Curry/Klay Thompson/Draymond Green"
   ]
  },
  {
   "cell_type": "code",
   "execution_count": 73,
   "id": "5697c9b6",
   "metadata": {
    "ExecuteTime": {
     "end_time": "2023-03-01T08:54:37.405230Z",
     "start_time": "2023-03-01T08:54:37.402863Z"
    }
   },
   "outputs": [],
   "source": [
    "# team_cluster_lookup('2021-2022', 'Golden State Warriors')"
   ]
  },
  {
   "cell_type": "code",
   "execution_count": 74,
   "id": "e1aa4ead",
   "metadata": {
    "ExecuteTime": {
     "end_time": "2023-03-01T08:54:39.360255Z",
     "start_time": "2023-03-01T08:54:39.357037Z"
    }
   },
   "outputs": [],
   "source": [
    "# L_cond = (lineup_df_100[6] > 1) & (lineup_df_100[5] > 0)\n",
    "# lineups_L = lineup_df_100[L_cond]['adj_diff_to_league_avg'].values\n",
    "# len(lineups_L)"
   ]
  },
  {
   "cell_type": "code",
   "execution_count": 75,
   "id": "9424d78d",
   "metadata": {
    "ExecuteTime": {
     "end_time": "2023-03-01T08:54:41.365735Z",
     "start_time": "2023-03-01T08:54:41.362125Z"
    }
   },
   "outputs": [],
   "source": [
    "# avg_diff_L = np.mean(lineups_L)\n",
    "# var_diff_L = np.var(lineups_L)\n",
    "# alpha_L = 1 / var_diff_L\n",
    "# observations_L = list(lineups_L)"
   ]
  },
  {
   "cell_type": "code",
   "execution_count": 76,
   "id": "8500992d",
   "metadata": {
    "ExecuteTime": {
     "end_time": "2023-03-01T08:54:43.231347Z",
     "start_time": "2023-03-01T08:54:43.228797Z"
    }
   },
   "outputs": [],
   "source": [
    "# with pm.Model() as model:\n",
    "#     mu_L = pm.Uniform('mu_L', -20, 20)\n",
    "#     var_L = pm.Exponential('var_L', alpha_L)\n",
    "#     obs_L = pm.Normal('obs_L', mu_L, var_L, observed=observations_L)\n",
    "    \n",
    "#     step = pm.Metropolis()\n",
    "#     trace = pm.sample(20000, step=step)"
   ]
  },
  {
   "cell_type": "code",
   "execution_count": 77,
   "id": "aba0f57a",
   "metadata": {
    "ExecuteTime": {
     "end_time": "2023-03-01T08:55:05.001057Z",
     "start_time": "2023-03-01T08:55:04.998241Z"
    }
   },
   "outputs": [],
   "source": [
    "# burned_trace = trace[2000:]\n",
    "# mu_L_samples = burned_trace['mu_L']"
   ]
  },
  {
   "cell_type": "code",
   "execution_count": 78,
   "id": "3f489bef",
   "metadata": {
    "ExecuteTime": {
     "end_time": "2023-03-01T08:55:07.196385Z",
     "start_time": "2023-03-01T08:55:07.193874Z"
    }
   },
   "outputs": [],
   "source": [
    "# figsize(13, 4)\n",
    "\n",
    "# #histogram of posteriors\n",
    "# plt.hist(mu_L_samples, histtype='stepfilled', bins=25, alpha=0.85,\n",
    "#          label=r'posterior of $\\mu L$', color='#A60628')\n",
    "# plt.vlines(avg_diff_L, 0, 10000, linestyle='--', \n",
    "#            label=r'observed $\\mu L$')\n",
    "# plt.legend(loc='upper right')\n",
    "# plt.xlim(-10, 10)\n",
    "# plt.xlabel('adjusted points scored per 100 possessions minus league average')\n",
    "# plt.title(r'Posterior distributions of $\\mu L$')"
   ]
  },
  {
   "cell_type": "markdown",
   "id": "65e09a45",
   "metadata": {},
   "source": [
    "### Two-Lineup-Configuration Comparison"
   ]
  },
  {
   "cell_type": "markdown",
   "id": "c544a484",
   "metadata": {},
   "source": [
    "A Bayesisan model that we can use is as follows:  \n",
    "$x_A$ ~ $\\mathcal{N}(\\mu_A, \\sigma_A)$  \n",
    "$x_A$ ~ $\\mathcal{N}(\\mu_B, \\sigma_B)$  \n",
    "$\\mu_A$ ~ $\\mathcal{Uniform}(-20, 20)$  \n",
    "$\\mu_B$ ~ $\\mathcal{Uniform}(-20, 20)$  \n",
    "$\\sigma_A$ ~ $\\mathcal{Exp}(\\alpha_A)$  \n",
    "$\\sigma_B$ ~ $\\mathcal{Exp}(\\alpha_B)$  \n",
    "$\\Delta$ = $\\mu_A-\\mu_B$"
   ]
  },
  {
   "cell_type": "code",
   "execution_count": 79,
   "id": "90a566cf",
   "metadata": {
    "ExecuteTime": {
     "end_time": "2023-03-01T09:21:41.541343Z",
     "start_time": "2023-03-01T09:21:41.529760Z"
    }
   },
   "outputs": [],
   "source": [
    "def compare_lineup_efficiency(lineups_A, lineups_B):\n",
    "    avg_diff_A = np.mean(lineups_A)\n",
    "    avg_diff_B = np.mean(lineups_B)\n",
    "    print(f'Mean | A: {avg_diff_A:.2f}; B: {avg_diff_B:.2f}')\n",
    "    \n",
    "    var_diff_A = np.var(lineups_A)\n",
    "    var_diff_B = np.var(lineups_B)\n",
    "    print(f'Variance | A: {var_diff_A:.2f}; B: {var_diff_B:.2f}')\n",
    "    \n",
    "    alpha_A = 1 / var_diff_A\n",
    "    alpha_B = 1 / var_diff_B\n",
    "    \n",
    "    observations_A = list(lineups_A)\n",
    "    observations_B = list(lineups_B)\n",
    "    \n",
    "    with pm.Model() as model:\n",
    "        mu_A = pm.Uniform('mu_A', -20, 20)\n",
    "        mu_B = pm.Uniform('mu_B', -20, 20)\n",
    "\n",
    "        delta = pm.Deterministic('delta', mu_A - mu_B)\n",
    "\n",
    "        var_A = pm.Exponential('var_A', alpha_A)\n",
    "        var_B = pm.Exponential('var_B', alpha_B)\n",
    "\n",
    "        obs_A = pm.Normal('obs_A', mu_A, var_A, observed=observations_A)\n",
    "        obs_B = pm.Normal('obs_B', mu_B, var_B, observed=observations_B)\n",
    "\n",
    "        step = pm.Metropolis()\n",
    "        trace = pm.sample(20000, step=step)\n",
    "        \n",
    "    return trace, avg_diff_A, avg_diff_B"
   ]
  },
  {
   "cell_type": "code",
   "execution_count": 81,
   "id": "58f3ee35",
   "metadata": {
    "ExecuteTime": {
     "end_time": "2023-03-01T09:22:01.765083Z",
     "start_time": "2023-03-01T09:22:01.760472Z"
    }
   },
   "outputs": [
    {
     "data": {
      "text/plain": [
       "{1: 'Ballhandler (Iso+PnR)',\n",
       " 0: 'Ballhandler (PnR)',\n",
       " 2: 'Big (Post Up+Roll)',\n",
       " 7: 'Big (Roll+Cut)',\n",
       " 3: 'Big (Roll+Spot Up)',\n",
       " 6: 'Wing (Off Screen)',\n",
       " 4: 'Wing (Hand Off)',\n",
       " 5: 'Wing (Spot Up+Transition)'}"
      ]
     },
     "execution_count": 81,
     "metadata": {},
     "output_type": "execute_result"
    }
   ],
   "source": [
    "cluster_dict_detail"
   ]
  },
  {
   "cell_type": "markdown",
   "id": "84d8e07f",
   "metadata": {},
   "source": [
    "### Ticket 2: \n",
    "#### Lineups w/ 1 Wing (Off Screen)\n",
    "#### vs. \n",
    "#### Lineups w/ 0 Wing (Off Screen)"
   ]
  },
  {
   "cell_type": "code",
   "execution_count": 108,
   "id": "c49580d4",
   "metadata": {
    "ExecuteTime": {
     "end_time": "2023-03-01T10:13:21.793666Z",
     "start_time": "2023-03-01T10:13:21.789275Z"
    }
   },
   "outputs": [
    {
     "data": {
      "text/plain": [
       "{1: 'Ballhandler (Iso+PnR)',\n",
       " 0: 'Ballhandler (PnR)',\n",
       " 2: 'Big (Post Up+Roll)',\n",
       " 7: 'Big (Roll+Cut)',\n",
       " 3: 'Big (Roll+Spot Up)',\n",
       " 6: 'Wing (Off Screen)',\n",
       " 4: 'Wing (Hand Off)',\n",
       " 5: 'Wing (Spot Up+Transition)'}"
      ]
     },
     "execution_count": 108,
     "metadata": {},
     "output_type": "execute_result"
    }
   ],
   "source": [
    "cluster_dict_detail"
   ]
  },
  {
   "cell_type": "code",
   "execution_count": 109,
   "id": "dd933bbd",
   "metadata": {
    "ExecuteTime": {
     "end_time": "2023-03-01T10:13:57.508620Z",
     "start_time": "2023-03-01T10:13:57.502515Z"
    }
   },
   "outputs": [],
   "source": [
    "no_curry_cond = lineup_df_100['PG'] != 'Stephen Curry'\n",
    "A_cond = lineup_df_100[6] == 1\n",
    "B_cond = (lineup_df_100[6] == 0) & (lineup_df_100[4] == 0) & (lineup_df_100[5] == 0)"
   ]
  },
  {
   "cell_type": "code",
   "execution_count": 110,
   "id": "927f765a",
   "metadata": {
    "ExecuteTime": {
     "end_time": "2023-03-01T10:13:58.212791Z",
     "start_time": "2023-03-01T10:13:58.201482Z"
    }
   },
   "outputs": [
    {
     "data": {
      "text/plain": [
       "(316, 68)"
      ]
     },
     "execution_count": 110,
     "metadata": {},
     "output_type": "execute_result"
    }
   ],
   "source": [
    "lineups_A = lineup_df_100[no_curry_cond][A_cond]['adj_diff_to_league_avg'].values\n",
    "lineups_B = lineup_df_100[no_curry_cond][B_cond]['adj_diff_to_league_avg'].values\n",
    "len(lineups_A), len(lineups_B)"
   ]
  },
  {
   "cell_type": "code",
   "execution_count": 111,
   "id": "b20fefac",
   "metadata": {
    "ExecuteTime": {
     "end_time": "2023-03-01T10:14:58.100078Z",
     "start_time": "2023-03-01T10:14:04.268542Z"
    }
   },
   "outputs": [
    {
     "name": "stdout",
     "output_type": "stream",
     "text": [
      "Mean | A: 0.58; B: 2.24\n",
      "Variance | A: 41.55; B: 47.94\n"
     ]
    },
    {
     "name": "stderr",
     "output_type": "stream",
     "text": [
      "Multiprocess sampling (4 chains in 4 jobs)\n",
      "CompoundStep\n",
      ">Metropolis: [var_B]\n",
      ">Metropolis: [var_A]\n",
      ">Metropolis: [mu_B]\n",
      ">Metropolis: [mu_A]\n"
     ]
    },
    {
     "data": {
      "text/html": [
       "\n",
       "<style>\n",
       "    /* Turns off some styling */\n",
       "    progress {\n",
       "        /* gets rid of default border in Firefox and Opera. */\n",
       "        border: none;\n",
       "        /* Needs to be in here for Safari polyfill so background images work as expected. */\n",
       "        background-size: auto;\n",
       "    }\n",
       "    progress:not([value]), progress:not([value])::-webkit-progress-bar {\n",
       "        background: repeating-linear-gradient(45deg, #7e7e7e, #7e7e7e 10px, #5c5c5c 10px, #5c5c5c 20px);\n",
       "    }\n",
       "    .progress-bar-interrupted, .progress-bar-interrupted::-webkit-progress-bar {\n",
       "        background: #F44336;\n",
       "    }\n",
       "</style>\n"
      ],
      "text/plain": [
       "<IPython.core.display.HTML object>"
      ]
     },
     "metadata": {},
     "output_type": "display_data"
    },
    {
     "data": {
      "text/html": [
       "\n",
       "    <div>\n",
       "      <progress value='84000' class='' max='84000' style='width:300px; height:20px; vertical-align: middle;'></progress>\n",
       "      100.00% [84000/84000 00:21&lt;00:00 Sampling 4 chains, 0 divergences]\n",
       "    </div>\n",
       "    "
      ],
      "text/plain": [
       "<IPython.core.display.HTML object>"
      ]
     },
     "metadata": {},
     "output_type": "display_data"
    },
    {
     "name": "stderr",
     "output_type": "stream",
     "text": [
      "Sampling 4 chains for 1_000 tune and 20_000 draw iterations (4_000 + 80_000 draws total) took 38 seconds.\n",
      "The number of effective samples is smaller than 10% for some parameters.\n"
     ]
    }
   ],
   "source": [
    "trace, avg_diff_A, avg_diff_B = compare_lineup_efficiency(lineups_A, \n",
    "                                                          lineups_B)"
   ]
  },
  {
   "cell_type": "code",
   "execution_count": 112,
   "id": "9d7020ed",
   "metadata": {
    "ExecuteTime": {
     "end_time": "2023-03-01T10:14:58.271844Z",
     "start_time": "2023-03-01T10:14:58.104328Z"
    }
   },
   "outputs": [],
   "source": [
    "burned_trace = trace[2000:]\n",
    "mu_A_samples = burned_trace['mu_A']\n",
    "mu_B_samples = burned_trace['mu_B']\n",
    "delta_samples = burned_trace['delta']"
   ]
  },
  {
   "cell_type": "code",
   "execution_count": 113,
   "id": "c0c274ef",
   "metadata": {
    "ExecuteTime": {
     "end_time": "2023-03-01T10:14:59.302272Z",
     "start_time": "2023-03-01T10:14:58.273738Z"
    }
   },
   "outputs": [
    {
     "data": {
      "image/png": "[encoded data removed]",
      "text/plain": [
       "<Figure size 936x720 with 3 Axes>"
      ]
     },
     "metadata": {
      "needs_background": "light"
     },
     "output_type": "display_data"
    }
   ],
   "source": [
    "figsize(13, 10)\n",
    "\n",
    "#histogram of posteriors\n",
    "\n",
    "plt.subplot(3, 1, 1)\n",
    "plt.hist(mu_A_samples, histtype='stepfilled', bins=25, alpha=0.65,\n",
    "         label=r'posterior of $\\mu A$', color='#2E5C6E')\n",
    "plt.vlines(avg_diff_A, 0, 10000, linestyle='--', \n",
    "           label=r'observed $\\mu A$')\n",
    "plt.legend(loc='upper right')\n",
    "plt.xlim(-5, 5)\n",
    "plt.xlabel('adjusted points scored per 100 possessions minus league average')\n",
    "plt.title(r'Posterior distributions of $\\mu A$, $\\mu B$, and $\\Delta$ unknowns')\n",
    "\n",
    "plt.subplot(3, 1, 2)\n",
    "plt.hist(mu_B_samples, histtype='stepfilled', bins=25, alpha=0.65,\n",
    "         label=r'posterior of $\\mu B$', color='#AB3B3A')\n",
    "plt.vlines(avg_diff_B, 0, 10000, linestyle='--', \n",
    "           label=r'observed $\\mu B$')\n",
    "plt.legend(loc='upper right')\n",
    "plt.xlim(-5, 5)\n",
    "plt.xlabel('adjusted points scored per 100 possessions minus league average')\n",
    "\n",
    "plt.subplot(3, 1, 3)\n",
    "plt.hist(delta_samples, histtype='stepfilled', bins=30, alpha=0.65,\n",
    "         label=r'posterior of $\\Delta$', color='#7A68A6')\n",
    "plt.vlines(avg_diff_A - avg_diff_B, 0, 10000, linestyle='--',\n",
    "           label=r'observed diff b/w $\\mu A$ and $\\mu B$')\n",
    "plt.vlines(0, 0, 10000, color='black', alpha=0.2)\n",
    "plt.legend(loc='upper right');\n",
    "plt.xlim(-5, 5)\n",
    "plt.xlabel('difference between the two lineup configurations')\n",
    "\n",
    "plt.tight_layout()"
   ]
  },
  {
   "cell_type": "markdown",
   "id": "2a55ab99",
   "metadata": {},
   "source": [
    "### Player Performance Comparison"
   ]
  },
  {
   "cell_type": "markdown",
   "id": "2e212802",
   "metadata": {},
   "source": [
    "A Bayesisan model that we can use is as follows:  \n",
    "$x_A$ ~ $\\mathcal{N}(\\mu_A, \\sigma_A)$  \n",
    "$x_A$ ~ $\\mathcal{N}(\\mu_B, \\sigma_B)$  \n",
    "$x_T$ ~ $\\mathcal{N}(\\mu_T, \\sigma_T)$  \n",
    "$\\mu_A$ ~ $\\mathcal{Uniform}(-20, 20)$  \n",
    "$\\mu_B$ ~ $\\mathcal{Uniform}(-20, 20)$  \n",
    "$\\mu_T$ ~ $\\mathcal{Uniform}(-20, 20)$  \n",
    "$\\sigma_A$ ~ $\\mathcal{Exp}(\\alpha_A)$  \n",
    "$\\sigma_B$ ~ $\\mathcal{Exp}(\\alpha_B)$  \n",
    "$\\sigma_T$ ~ $\\mathcal{Exp}(\\alpha_T)$  \n",
    "$\\Delta$ = $\\mu_A-\\mu_B$"
   ]
  },
  {
   "cell_type": "code",
   "execution_count": null,
   "id": "71c40057",
   "metadata": {
    "ExecuteTime": {
     "end_time": "2023-02-24T03:58:55.782334Z",
     "start_time": "2023-02-24T03:58:55.782313Z"
    }
   },
   "outputs": [],
   "source": [
    "# def compare_player_efficiency(lineups_A, lineups_B, lineups_T):\n",
    "#     avg_diff_A = np.mean(lineups_A)\n",
    "#     avg_diff_B = np.mean(lineups_B)\n",
    "#     avg_diff_T = np.mean(lineups_T)\n",
    "    \n",
    "#     var_diff_A = np.var(lineups_A)\n",
    "#     var_diff_B = np.var(lineups_B)\n",
    "#     var_diff_T = np.var(lineups_T)\n",
    "    \n",
    "#     alpha_A = 1 / var_diff_A\n",
    "#     alpha_B = 1 / var_diff_B\n",
    "#     alpha_T = 1 / var_diff_T\n",
    "    \n",
    "#     observations_A = list(lineups_A)\n",
    "#     observations_B = list(lineups_B)\n",
    "#     observations_T = list(lineups_T)\n",
    "    \n",
    "#     with pm.Model() as model:\n",
    "#         mu_A = pm.Uniform('mu_A', -20, 20)\n",
    "#         mu_B = pm.Uniform('mu_B', -20, 20)\n",
    "#         mu_T  = pm.Uniform('mu_T', -20, 20)\n",
    "\n",
    "#         delta = pm.Deterministic('delta', mu_A - mu_B)\n",
    "\n",
    "#         var_A = pm.Exponential('var_A', alpha_A)\n",
    "#         var_B = pm.Exponential('var_B', alpha_B)\n",
    "#         var_T = pm.Exponential('var_T', alpha_T)\n",
    "\n",
    "#         obs_A = pm.Normal('obs_A', mu_A, var_A, observed=observations_A)\n",
    "#         obs_B = pm.Normal('obs_B', mu_B, var_B, observed=observations_B)\n",
    "#         obs_T = pm.Normal('obs_T', mu_T, var_T, observed=observations_T)\n",
    "\n",
    "#         step = pm.Metropolis()\n",
    "#         trace = pm.sample(20000, step=step)\n",
    "        \n",
    "#     return trace, avg_diff_A, avg_diff_B, avg_diff_T"
   ]
  },
  {
   "cell_type": "markdown",
   "id": "10b8018f",
   "metadata": {},
   "source": [
    "### Ticket 6: \n",
    "#### Lineups w/ Nikola Jokic\n",
    "#### vs. \n",
    "#### Lineups w/ Similar Configurations"
   ]
  },
  {
   "cell_type": "code",
   "execution_count": null,
   "id": "cf7da5a6",
   "metadata": {
    "ExecuteTime": {
     "end_time": "2023-02-24T03:58:55.783812Z",
     "start_time": "2023-02-24T03:58:55.783797Z"
    }
   },
   "outputs": [],
   "source": [
    "# team_cluster_lookup(2021, 'Denver Nuggets')"
   ]
  },
  {
   "cell_type": "code",
   "execution_count": null,
   "id": "4b9fe772",
   "metadata": {
    "ExecuteTime": {
     "end_time": "2023-02-24T03:58:55.785599Z",
     "start_time": "2023-02-24T03:58:55.785559Z"
    }
   },
   "outputs": [],
   "source": [
    "# player = 'Nikola Jokic'\n",
    "# team = 'Denver Nuggets'\n",
    "# season = 2021\n",
    "# cluster = 6"
   ]
  },
  {
   "cell_type": "code",
   "execution_count": null,
   "id": "44aa9e15",
   "metadata": {
    "ExecuteTime": {
     "end_time": "2023-02-24T03:58:55.787423Z",
     "start_time": "2023-02-24T03:58:55.787404Z"
    }
   },
   "outputs": [],
   "source": [
    "# A_query, B_query = generate_player_queries(player, season, cluster)\n",
    "# season_cond = lineup_df_100['season'] == season\n",
    "# cluster_cond = lineup_df_100[cluster] > 0\n",
    "# team_cond = lineup_df_100['team'] == team"
   ]
  },
  {
   "cell_type": "code",
   "execution_count": null,
   "id": "32022926",
   "metadata": {
    "ExecuteTime": {
     "end_time": "2023-02-24T03:58:55.789250Z",
     "start_time": "2023-02-24T03:58:55.789215Z"
    }
   },
   "outputs": [],
   "source": [
    "# lineups_A = lineup_df_100[season_cond & cluster_cond].query(A_query)\\\n",
    "#             ['adj_diff_to_league_avg'].values\n",
    "# lineups_B = lineup_df_100[season_cond & cluster_cond].query(B_query)\\\n",
    "#             ['adj_diff_to_league_avg'].values\n",
    "# lineups_T = lineup_df_100[season_cond & team_cond]\\\n",
    "#             ['adj_diff_to_league_avg'].values\n",
    "# len(lineups_A), len(lineups_B), len(lineups_T)"
   ]
  },
  {
   "cell_type": "code",
   "execution_count": null,
   "id": "e72a05a8",
   "metadata": {
    "ExecuteTime": {
     "end_time": "2023-02-24T03:58:55.790754Z",
     "start_time": "2023-02-24T03:58:55.790738Z"
    }
   },
   "outputs": [],
   "source": [
    "# lineup_df_100[season_cond & cluster_cond].query(A_query)\\\n",
    "# [positions + ['Poss', 'adj_diff_to_league_avg']]"
   ]
  },
  {
   "cell_type": "code",
   "execution_count": null,
   "id": "ce7c0309",
   "metadata": {
    "ExecuteTime": {
     "end_time": "2023-02-24T03:58:55.792649Z",
     "start_time": "2023-02-24T03:58:55.792630Z"
    }
   },
   "outputs": [],
   "source": [
    "# dump = compare_player_efficiency(lineups_A, lineups_B, lineups_T)\n",
    "# trace, avg_diff_A, avg_diff_B, avg_diff_T = dump"
   ]
  },
  {
   "cell_type": "code",
   "execution_count": null,
   "id": "231fc515",
   "metadata": {
    "ExecuteTime": {
     "end_time": "2023-02-24T03:58:55.793864Z",
     "start_time": "2023-02-24T03:58:55.793846Z"
    }
   },
   "outputs": [],
   "source": [
    "# burned_trace = trace[2000:]\n",
    "# mu_A_samples = burned_trace['mu_A']\n",
    "# mu_B_samples = burned_trace['mu_B']\n",
    "# mu_T_samples = burned_trace['mu_T']\n",
    "# delta_samples = burned_trace['delta']"
   ]
  },
  {
   "cell_type": "code",
   "execution_count": null,
   "id": "faba0df9",
   "metadata": {
    "ExecuteTime": {
     "end_time": "2023-02-24T03:58:55.795444Z",
     "start_time": "2023-02-24T03:58:55.795418Z"
    }
   },
   "outputs": [],
   "source": [
    "# figsize(13, 10)\n",
    "\n",
    "# #histogram of posteriors\n",
    "\n",
    "# plt.subplot(3, 1, 1)\n",
    "# plt.hist(mu_A_samples, histtype='stepfilled', bins=25, alpha=0.65,\n",
    "#          label=r'posterior of $\\mu A$', color='#2E5C6E')\n",
    "# plt.vlines(avg_diff_A, 0, 20000, linestyle='--', \n",
    "#            label=r'observed $\\mu A$')\n",
    "# plt.legend(loc='upper right')\n",
    "# plt.xlim(-15, 15)\n",
    "# plt.xlabel('adjusted points scored per 100 possessions minus league average')\n",
    "# plt.title(r'Posterior distributions of $\\mu A$, $\\mu B$, and $\\Delta$ unknowns')\n",
    "\n",
    "# plt.subplot(3, 1, 2)\n",
    "# plt.hist(mu_B_samples, histtype='stepfilled', bins=25, alpha=0.65,\n",
    "#          label=r'posterior of $\\mu B$', color='#AB3B3A')\n",
    "# plt.vlines(avg_diff_B, 0, 20000, linestyle='--', \n",
    "#            label=r'observed $\\mu B$')\n",
    "# # plt.hist(mu_T_samples, histtype='stepfilled', bins=25, alpha=0.65,\n",
    "# #          label=r'posterior of $\\mu T$', color='yellow')\n",
    "# # plt.vlines(avg_diff_T, 0, 20000, linestyle='-', \n",
    "# #            label=r'observed $\\mu T$')\n",
    "# plt.legend(loc='upper right')\n",
    "# plt.xlim(-15, 15)\n",
    "# plt.xlabel('adjusted points scored per 100 possessions minus league average')\n",
    "\n",
    "# plt.subplot(3, 1, 3)\n",
    "# plt.hist(delta_samples, histtype='stepfilled', bins=30, alpha=0.65,\n",
    "#          label=r'posterior of $\\Delta$', color='#7A68A6')\n",
    "# plt.vlines(avg_diff_A - avg_diff_B, 0, 20000, linestyle='--',\n",
    "#            label=r'observed diff b/w $\\mu A$ and $\\mu B$')\n",
    "# plt.vlines(0, 0, 20000, color='black', alpha=0.2)\n",
    "# plt.legend(loc='upper right');\n",
    "# plt.xlim(-15, 15)\n",
    "# plt.xlabel('difference between the two lineup configurations')\n",
    "\n",
    "# plt.tight_layout()"
   ]
  },
  {
   "cell_type": "code",
   "execution_count": null,
   "id": "24345b30",
   "metadata": {
    "ExecuteTime": {
     "end_time": "2023-02-24T03:58:55.797306Z",
     "start_time": "2023-02-24T03:58:55.797288Z"
    }
   },
   "outputs": [],
   "source": [
    "# np.mean(delta_samples > 0)"
   ]
  },
  {
   "cell_type": "code",
   "execution_count": null,
   "id": "e4a3ea81",
   "metadata": {
    "ExecuteTime": {
     "end_time": "2023-02-24T03:58:55.798902Z",
     "start_time": "2023-02-24T03:58:55.798887Z"
    }
   },
   "outputs": [],
   "source": [
    "# np.mean(delta_samples)"
   ]
  },
  {
   "cell_type": "code",
   "execution_count": null,
   "id": "0f72363a",
   "metadata": {},
   "outputs": [],
   "source": []
  },
  {
   "cell_type": "code",
   "execution_count": null,
   "id": "cafadc45",
   "metadata": {},
   "outputs": [],
   "source": []
  }
 ],
 "metadata": {
  "kernelspec": {
   "display_name": "Python 3 (ipykernel)",
   "language": "python",
   "name": "python3"
  },
  "language_info": {
   "codemirror_mode": {
    "name": "ipython",
    "version": 3
   },
   "file_extension": ".py",
   "mimetype": "text/x-python",
   "name": "python",
   "nbconvert_exporter": "python",
   "pygments_lexer": "ipython3",
   "version": "3.9.16"
  }
 },
 "nbformat": 4,
 "nbformat_minor": 5
}
