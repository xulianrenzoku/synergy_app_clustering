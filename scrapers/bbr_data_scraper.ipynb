{
 "cells": [
  {
   "cell_type": "code",
   "execution_count": 1,
   "metadata": {
    "ExecuteTime": {
     "end_time": "2023-06-15T20:52:52.390832Z",
     "start_time": "2023-06-15T20:52:51.216558Z"
    }
   },
   "outputs": [],
   "source": [
    "import pandas as pd\n",
    "import requests\n",
    "import re\n",
    "import time\n",
    "from bs4 import BeautifulSoup\n",
    "from unidecode import unidecode"
   ]
  },
  {
   "cell_type": "code",
   "execution_count": 2,
   "metadata": {
    "ExecuteTime": {
     "end_time": "2023-06-15T20:52:52.399886Z",
     "start_time": "2023-06-15T20:52:52.395473Z"
    }
   },
   "outputs": [],
   "source": [
    "import warnings\n",
    "warnings.filterwarnings('ignore')"
   ]
  },
  {
   "cell_type": "markdown",
   "metadata": {},
   "source": [
    "## Functions"
   ]
  },
  {
   "cell_type": "code",
   "execution_count": 3,
   "metadata": {
    "ExecuteTime": {
     "end_time": "2023-06-15T20:52:52.408185Z",
     "start_time": "2023-06-15T20:52:52.402678Z"
    }
   },
   "outputs": [],
   "source": [
    "def fetch(url):\n",
    "    \"\"\"\n",
    "    Use BeautifulSoup to get the text of a web page.\n",
    "    \"\"\"\n",
    "    r = requests.get(url)\n",
    "    comm = re.compile(\"<!--|-->\")\n",
    "    soup = BeautifulSoup(comm.sub(\"\", r.text), \"html.parser\")\n",
    "    return soup"
   ]
  },
  {
   "cell_type": "markdown",
   "metadata": {},
   "source": [
    "## Scrape"
   ]
  },
  {
   "cell_type": "markdown",
   "metadata": {},
   "source": [
    "Steps:\n",
    "- Get team ID's\n",
    "- Go to each team's page to scrape"
   ]
  },
  {
   "cell_type": "code",
   "execution_count": 5,
   "metadata": {
    "ExecuteTime": {
     "end_time": "2023-06-15T21:07:31.599813Z",
     "start_time": "2023-06-15T21:07:31.160398Z"
    }
   },
   "outputs": [],
   "source": [
    "bbr_url = 'https://www.basketball-reference.com'\n",
    "bbr_teams_soup = fetch(f'{bbr_url}/teams/')\n",
    "active_teams_table = bbr_teams_soup.find_all('table', {'id': 'teams_active'})[0]\n",
    "bbr_teams_dict = {row.text: row.a['href']\n",
    "                  for row in active_teams_table.find_all('th', \n",
    "                                                         {'data-stat': 'franch_name'})\n",
    "                  if row.text != 'Franchise'}"
   ]
  },
  {
   "cell_type": "code",
   "execution_count": 6,
   "metadata": {
    "ExecuteTime": {
     "end_time": "2023-06-15T21:07:32.223031Z",
     "start_time": "2023-06-15T21:07:32.213533Z"
    }
   },
   "outputs": [
    {
     "data": {
      "text/plain": [
       "{'Atlanta Hawks': '/teams/ATL/',\n",
       " 'Boston Celtics': '/teams/BOS/',\n",
       " 'Brooklyn Nets': '/teams/BRK/',\n",
       " 'Charlotte Hornets': '/teams/CHO/',\n",
       " 'Chicago Bulls': '/teams/CHI/',\n",
       " 'Cleveland Cavaliers': '/teams/CLE/',\n",
       " 'Dallas Mavericks': '/teams/DAL/',\n",
       " 'Denver Nuggets': '/teams/DEN/',\n",
       " 'Detroit Pistons': '/teams/DET/',\n",
       " 'Golden State Warriors': '/teams/GSW/',\n",
       " 'Houston Rockets': '/teams/HOU/',\n",
       " 'Indiana Pacers': '/teams/IND/',\n",
       " 'Los Angeles Clippers': '/teams/LAC/',\n",
       " 'Los Angeles Lakers': '/teams/LAL/',\n",
       " 'Memphis Grizzlies': '/teams/MEM/',\n",
       " 'Miami Heat': '/teams/MIA/',\n",
       " 'Milwaukee Bucks': '/teams/MIL/',\n",
       " 'Minnesota Timberwolves': '/teams/MIN/',\n",
       " 'New Orleans Pelicans': '/teams/NOP/',\n",
       " 'New York Knicks': '/teams/NYK/',\n",
       " 'Oklahoma City Thunder': '/teams/OKC/',\n",
       " 'Orlando Magic': '/teams/ORL/',\n",
       " 'Philadelphia 76ers': '/teams/PHI/',\n",
       " 'Phoenix Suns': '/teams/PHO/',\n",
       " 'Portland Trail Blazers': '/teams/POR/',\n",
       " 'Sacramento Kings': '/teams/SAC/',\n",
       " 'San Antonio Spurs': '/teams/SAS/',\n",
       " 'Toronto Raptors': '/teams/TOR/',\n",
       " 'Utah Jazz': '/teams/UTA/',\n",
       " 'Washington Wizards': '/teams/WAS/'}"
      ]
     },
     "execution_count": 6,
     "metadata": {},
     "output_type": "execute_result"
    }
   ],
   "source": [
    "replace_dict = {'Brooklyn Nets': ['NJN', 'BRK'],\n",
    "                'Charlotte Hornets': ['CHA', 'CHO'],\n",
    "                'New Orleans Pelicans': ['NOH', 'NOP']}\n",
    "for team in replace_dict.keys():\n",
    "    old, new = replace_dict[team]\n",
    "    bbr_teams_dict[team] = bbr_teams_dict[team].replace(old, new)\n",
    "bbr_teams_dict"
   ]
  },
  {
   "cell_type": "code",
   "execution_count": 7,
   "metadata": {
    "ExecuteTime": {
     "end_time": "2023-06-15T21:07:32.435054Z",
     "start_time": "2023-06-15T21:07:32.428077Z"
    }
   },
   "outputs": [],
   "source": [
    "def scrape_team_season_table(team, season, table_id,\n",
    "                             bbr_teams_dict=bbr_teams_dict, bbr_url=bbr_url):\n",
    "    team_season_url = f'{bbr_url}{bbr_teams_dict[team]}{season+1}.html'\n",
    "#     print(team_season_url)\n",
    "    time.sleep(10)\n",
    "    team_season_soup = fetch(team_season_url)\n",
    "    table = team_season_soup.find_all('table', {'id': table_id})[0]\n",
    "    \n",
    "    cols = [th['data-stat'] for th in table.find_all('thead')[0].find_all('th')\n",
    "            if th['data-stat'] != 'DUMMY']\n",
    "    data = [[row.find_all('th', {'data-stat': cols[0]})[0].text] +\n",
    "            [row.find_all('td', {'data-stat': col})[0].text\n",
    "             for col in cols[1:]]\n",
    "            for row in table.find_all('tbody')[0].find_all('tr')]\n",
    "    df = pd.DataFrame(data, columns=cols)\n",
    "    df['season'] = season\n",
    "    df['team'] = team\n",
    "    return df"
   ]
  },
  {
   "cell_type": "markdown",
   "metadata": {},
   "source": [
    "### Advanced"
   ]
  },
  {
   "cell_type": "code",
   "execution_count": 8,
   "metadata": {
    "ExecuteTime": {
     "end_time": "2023-06-15T21:55:12.784440Z",
     "start_time": "2023-06-15T21:07:33.619587Z"
    }
   },
   "outputs": [
    {
     "name": "stdout",
     "output_type": "stream",
     "text": [
      "Start Scraping...\n",
      "Atlanta Hawks\n",
      "Boston Celtics\n",
      "Brooklyn Nets\n",
      "Charlotte Hornets\n",
      "Chicago Bulls\n",
      "Cleveland Cavaliers\n",
      "Dallas Mavericks\n",
      "Denver Nuggets\n",
      "Detroit Pistons\n",
      "Golden State Warriors\n",
      "Houston Rockets\n",
      "Indiana Pacers\n",
      "Los Angeles Clippers\n",
      "Los Angeles Lakers\n",
      "Memphis Grizzlies\n",
      "Miami Heat\n",
      "Milwaukee Bucks\n",
      "Minnesota Timberwolves\n",
      "New Orleans Pelicans\n",
      "New York Knicks\n",
      "Oklahoma City Thunder\n",
      "Orlando Magic\n",
      "Philadelphia 76ers\n",
      "Phoenix Suns\n",
      "Portland Trail Blazers\n",
      "Sacramento Kings\n",
      "San Antonio Spurs\n",
      "Toronto Raptors\n",
      "Utah Jazz\n",
      "Washington Wizards\n",
      "Done.\n"
     ]
    }
   ],
   "source": [
    "print('Start Scraping...')\n",
    "team_dfs = {}\n",
    "for team in bbr_teams_dict.keys():\n",
    "    print(team)\n",
    "    team_dfs[team] = pd.concat([scrape_team_season_table(team, season, 'advanced')\n",
    "                                for season in range(2017, 2023)])\n",
    "    time.sleep(30)\n",
    "print('Done.')"
   ]
  },
  {
   "cell_type": "code",
   "execution_count": 9,
   "metadata": {
    "ExecuteTime": {
     "end_time": "2023-06-15T21:55:12.821140Z",
     "start_time": "2023-06-15T21:55:12.789236Z"
    }
   },
   "outputs": [],
   "source": [
    "df = pd.concat([team_dfs[team] for team in team_dfs.keys()])\\\n",
    "       .reset_index().drop('index', axis=1)\n",
    "df['player_alt'] = df['player'].apply(unidecode)"
   ]
  },
  {
   "cell_type": "code",
   "execution_count": 10,
   "metadata": {
    "ExecuteTime": {
     "end_time": "2023-06-15T21:55:12.876835Z",
     "start_time": "2023-06-15T21:55:12.823036Z"
    }
   },
   "outputs": [],
   "source": [
    "df.to_csv('bbr_nba_advanced_stats.csv', index=False)"
   ]
  },
  {
   "cell_type": "code",
   "execution_count": 11,
   "metadata": {
    "ExecuteTime": {
     "end_time": "2023-06-15T21:55:12.905082Z",
     "start_time": "2023-06-15T21:55:12.880413Z"
    }
   },
   "outputs": [
    {
     "data": {
      "text/html": [
       "<div>\n",
       "<style scoped>\n",
       "    .dataframe tbody tr th:only-of-type {\n",
       "        vertical-align: middle;\n",
       "    }\n",
       "\n",
       "    .dataframe tbody tr th {\n",
       "        vertical-align: top;\n",
       "    }\n",
       "\n",
       "    .dataframe thead th {\n",
       "        text-align: right;\n",
       "    }\n",
       "</style>\n",
       "<table border=\"1\" class=\"dataframe\">\n",
       "  <thead>\n",
       "    <tr style=\"text-align: right;\">\n",
       "      <th></th>\n",
       "      <th>player</th>\n",
       "      <th>player_alt</th>\n",
       "    </tr>\n",
       "  </thead>\n",
       "  <tbody>\n",
       "    <tr>\n",
       "      <th>1</th>\n",
       "      <td>Dennis Schröder</td>\n",
       "      <td>Dennis Schroder</td>\n",
       "    </tr>\n",
       "    <tr>\n",
       "      <th>6</th>\n",
       "      <td>Ersan İlyasova</td>\n",
       "      <td>Ersan Ilyasova</td>\n",
       "    </tr>\n",
       "    <tr>\n",
       "      <th>20</th>\n",
       "      <td>Nicolás Brussino</td>\n",
       "      <td>Nicolas Brussino</td>\n",
       "    </tr>\n",
       "    <tr>\n",
       "      <th>70</th>\n",
       "      <td>Bogdan Bogdanović</td>\n",
       "      <td>Bogdan Bogdanovic</td>\n",
       "    </tr>\n",
       "    <tr>\n",
       "      <th>94</th>\n",
       "      <td>Timothé Luwawu-Cabarrot</td>\n",
       "      <td>Timothe Luwawu-Cabarrot</td>\n",
       "    </tr>\n",
       "    <tr>\n",
       "      <th>218</th>\n",
       "      <td>Juancho Hernangómez</td>\n",
       "      <td>Juancho Hernangomez</td>\n",
       "    </tr>\n",
       "    <tr>\n",
       "      <th>285</th>\n",
       "      <td>Džanan Musa</td>\n",
       "      <td>Dzanan Musa</td>\n",
       "    </tr>\n",
       "    <tr>\n",
       "      <th>356</th>\n",
       "      <td>Goran Dragić</td>\n",
       "      <td>Goran Dragic</td>\n",
       "    </tr>\n",
       "    <tr>\n",
       "      <th>402</th>\n",
       "      <td>Willy Hernangómez</td>\n",
       "      <td>Willy Hernangomez</td>\n",
       "    </tr>\n",
       "    <tr>\n",
       "      <th>485</th>\n",
       "      <td>Théo Maledon</td>\n",
       "      <td>Theo Maledon</td>\n",
       "    </tr>\n",
       "    <tr>\n",
       "      <th>502</th>\n",
       "      <td>Cristiano Felício</td>\n",
       "      <td>Cristiano Felicio</td>\n",
       "    </tr>\n",
       "    <tr>\n",
       "      <th>505</th>\n",
       "      <td>Nikola Mirotić</td>\n",
       "      <td>Nikola Mirotic</td>\n",
       "    </tr>\n",
       "    <tr>\n",
       "      <th>513</th>\n",
       "      <td>Ömer Aşık</td>\n",
       "      <td>Omer Asik</td>\n",
       "    </tr>\n",
       "    <tr>\n",
       "      <th>538</th>\n",
       "      <td>Tomáš Satoranský</td>\n",
       "      <td>Tomas Satoransky</td>\n",
       "    </tr>\n",
       "    <tr>\n",
       "      <th>562</th>\n",
       "      <td>Nikola Vučević</td>\n",
       "      <td>Nikola Vucevic</td>\n",
       "    </tr>\n",
       "    <tr>\n",
       "      <th>624</th>\n",
       "      <td>José Calderón</td>\n",
       "      <td>Jose Calderon</td>\n",
       "    </tr>\n",
       "    <tr>\n",
       "      <th>634</th>\n",
       "      <td>Ante Žižić</td>\n",
       "      <td>Ante Zizic</td>\n",
       "    </tr>\n",
       "    <tr>\n",
       "      <th>709</th>\n",
       "      <td>Anderson Varejão</td>\n",
       "      <td>Anderson Varejao</td>\n",
       "    </tr>\n",
       "    <tr>\n",
       "      <th>778</th>\n",
       "      <td>Luka Dončić</td>\n",
       "      <td>Luka Doncic</td>\n",
       "    </tr>\n",
       "    <tr>\n",
       "      <th>803</th>\n",
       "      <td>Kristaps Porziņģis</td>\n",
       "      <td>Kristaps Porzingis</td>\n",
       "    </tr>\n",
       "    <tr>\n",
       "      <th>810</th>\n",
       "      <td>Boban Marjanović</td>\n",
       "      <td>Boban Marjanovic</td>\n",
       "    </tr>\n",
       "    <tr>\n",
       "      <th>830</th>\n",
       "      <td>Nicolò Melli</td>\n",
       "      <td>Nicolo Melli</td>\n",
       "    </tr>\n",
       "    <tr>\n",
       "      <th>851</th>\n",
       "      <td>Dāvis Bertāns</td>\n",
       "      <td>Davis Bertans</td>\n",
       "    </tr>\n",
       "    <tr>\n",
       "      <th>889</th>\n",
       "      <td>Nikola Jokić</td>\n",
       "      <td>Nikola Jokic</td>\n",
       "    </tr>\n",
       "    <tr>\n",
       "      <th>939</th>\n",
       "      <td>Vlatko Čančar</td>\n",
       "      <td>Vlatko Cancar</td>\n",
       "    </tr>\n",
       "    <tr>\n",
       "      <th>1120</th>\n",
       "      <td>Bojan Bogdanović</td>\n",
       "      <td>Bojan Bogdanovic</td>\n",
       "    </tr>\n",
       "    <tr>\n",
       "      <th>1191</th>\n",
       "      <td>Alen Smailagić</td>\n",
       "      <td>Alen Smailagic</td>\n",
       "    </tr>\n",
       "    <tr>\n",
       "      <th>1258</th>\n",
       "      <td>Nenê</td>\n",
       "      <td>Nene</td>\n",
       "    </tr>\n",
       "    <tr>\n",
       "      <th>1354</th>\n",
       "      <td>Alperen Şengün</td>\n",
       "      <td>Alperen Sengun</td>\n",
       "    </tr>\n",
       "    <tr>\n",
       "      <th>1512</th>\n",
       "      <td>Miloš Teodosić</td>\n",
       "      <td>Milos Teodosic</td>\n",
       "    </tr>\n",
       "    <tr>\n",
       "      <th>1547</th>\n",
       "      <td>Ángel Delgado</td>\n",
       "      <td>Angel Delgado</td>\n",
       "    </tr>\n",
       "    <tr>\n",
       "      <th>1629</th>\n",
       "      <td>Moussa Diabaté</td>\n",
       "      <td>Moussa Diabate</td>\n",
       "    </tr>\n",
       "    <tr>\n",
       "      <th>1803</th>\n",
       "      <td>Jonas Valančiūnas</td>\n",
       "      <td>Jonas Valanciunas</td>\n",
       "    </tr>\n",
       "    <tr>\n",
       "      <th>2015</th>\n",
       "      <td>Nikola Jović</td>\n",
       "      <td>Nikola Jovic</td>\n",
       "    </tr>\n",
       "    <tr>\n",
       "      <th>2036</th>\n",
       "      <td>Mirza Teletović</td>\n",
       "      <td>Mirza Teletovic</td>\n",
       "    </tr>\n",
       "    <tr>\n",
       "      <th>2177</th>\n",
       "      <td>Dario Šarić</td>\n",
       "      <td>Dario Saric</td>\n",
       "    </tr>\n",
       "    <tr>\n",
       "      <th>2312</th>\n",
       "      <td>Dairis Bertāns</td>\n",
       "      <td>Dairis Bertans</td>\n",
       "    </tr>\n",
       "    <tr>\n",
       "      <th>2519</th>\n",
       "      <td>Álex Abrines</td>\n",
       "      <td>Alex Abrines</td>\n",
       "    </tr>\n",
       "    <tr>\n",
       "      <th>2711</th>\n",
       "      <td>Karim Mané</td>\n",
       "      <td>Karim Mane</td>\n",
       "    </tr>\n",
       "    <tr>\n",
       "      <th>3019</th>\n",
       "      <td>Jusuf Nurkić</td>\n",
       "      <td>Jusuf Nurkic</td>\n",
       "    </tr>\n",
       "    <tr>\n",
       "      <th>3050</th>\n",
       "      <td>Skal Labissière</td>\n",
       "      <td>Skal Labissiere</td>\n",
       "    </tr>\n",
       "    <tr>\n",
       "      <th>3276</th>\n",
       "      <td>Manu Ginóbili</td>\n",
       "      <td>Manu Ginobili</td>\n",
       "    </tr>\n",
       "    <tr>\n",
       "      <th>3301</th>\n",
       "      <td>Donatas Motiejūnas</td>\n",
       "      <td>Donatas Motiejunas</td>\n",
       "    </tr>\n",
       "    <tr>\n",
       "      <th>3318</th>\n",
       "      <td>Luka Šamanić</td>\n",
       "      <td>Luka Samanic</td>\n",
       "    </tr>\n",
       "    <tr>\n",
       "      <th>3685</th>\n",
       "      <td>Anžejs Pasečņiks</td>\n",
       "      <td>Anzejs Pasecniks</td>\n",
       "    </tr>\n",
       "  </tbody>\n",
       "</table>\n",
       "</div>"
      ],
      "text/plain": [
       "                       player               player_alt\n",
       "1             Dennis Schröder          Dennis Schroder\n",
       "6              Ersan İlyasova           Ersan Ilyasova\n",
       "20           Nicolás Brussino         Nicolas Brussino\n",
       "70          Bogdan Bogdanović        Bogdan Bogdanovic\n",
       "94    Timothé Luwawu-Cabarrot  Timothe Luwawu-Cabarrot\n",
       "218       Juancho Hernangómez      Juancho Hernangomez\n",
       "285               Džanan Musa              Dzanan Musa\n",
       "356              Goran Dragić             Goran Dragic\n",
       "402         Willy Hernangómez        Willy Hernangomez\n",
       "485              Théo Maledon             Theo Maledon\n",
       "502         Cristiano Felício        Cristiano Felicio\n",
       "505            Nikola Mirotić           Nikola Mirotic\n",
       "513                 Ömer Aşık                Omer Asik\n",
       "538          Tomáš Satoranský         Tomas Satoransky\n",
       "562            Nikola Vučević           Nikola Vucevic\n",
       "624             José Calderón            Jose Calderon\n",
       "634                Ante Žižić               Ante Zizic\n",
       "709          Anderson Varejão         Anderson Varejao\n",
       "778               Luka Dončić              Luka Doncic\n",
       "803        Kristaps Porziņģis       Kristaps Porzingis\n",
       "810          Boban Marjanović         Boban Marjanovic\n",
       "830              Nicolò Melli             Nicolo Melli\n",
       "851             Dāvis Bertāns            Davis Bertans\n",
       "889              Nikola Jokić             Nikola Jokic\n",
       "939             Vlatko Čančar            Vlatko Cancar\n",
       "1120         Bojan Bogdanović         Bojan Bogdanovic\n",
       "1191           Alen Smailagić           Alen Smailagic\n",
       "1258                     Nenê                     Nene\n",
       "1354           Alperen Şengün           Alperen Sengun\n",
       "1512           Miloš Teodosić           Milos Teodosic\n",
       "1547            Ángel Delgado            Angel Delgado\n",
       "1629           Moussa Diabaté           Moussa Diabate\n",
       "1803        Jonas Valančiūnas        Jonas Valanciunas\n",
       "2015             Nikola Jović             Nikola Jovic\n",
       "2036          Mirza Teletović          Mirza Teletovic\n",
       "2177              Dario Šarić              Dario Saric\n",
       "2312           Dairis Bertāns           Dairis Bertans\n",
       "2519             Álex Abrines             Alex Abrines\n",
       "2711               Karim Mané               Karim Mane\n",
       "3019             Jusuf Nurkić             Jusuf Nurkic\n",
       "3050          Skal Labissière          Skal Labissiere\n",
       "3276            Manu Ginóbili            Manu Ginobili\n",
       "3301       Donatas Motiejūnas       Donatas Motiejunas\n",
       "3318             Luka Šamanić             Luka Samanic\n",
       "3685         Anžejs Pasečņiks         Anzejs Pasecniks"
      ]
     },
     "execution_count": 11,
     "metadata": {},
     "output_type": "execute_result"
    }
   ],
   "source": [
    "df[df['player'] != df['player_alt']][['player', 'player_alt']].drop_duplicates()"
   ]
  },
  {
   "cell_type": "markdown",
   "metadata": {},
   "source": [
    "### Roster"
   ]
  },
  {
   "cell_type": "code",
   "execution_count": 12,
   "metadata": {
    "ExecuteTime": {
     "end_time": "2023-06-15T22:46:06.980201Z",
     "start_time": "2023-06-15T21:58:34.752552Z"
    }
   },
   "outputs": [
    {
     "name": "stdout",
     "output_type": "stream",
     "text": [
      "Start Scraping...\n",
      "Atlanta Hawks\n",
      "Boston Celtics\n",
      "Brooklyn Nets\n",
      "Charlotte Hornets\n",
      "Chicago Bulls\n",
      "Cleveland Cavaliers\n",
      "Dallas Mavericks\n",
      "Denver Nuggets\n",
      "Detroit Pistons\n",
      "Golden State Warriors\n",
      "Houston Rockets\n",
      "Indiana Pacers\n",
      "Los Angeles Clippers\n",
      "Los Angeles Lakers\n",
      "Memphis Grizzlies\n",
      "Miami Heat\n",
      "Milwaukee Bucks\n",
      "Minnesota Timberwolves\n",
      "New Orleans Pelicans\n",
      "New York Knicks\n",
      "Oklahoma City Thunder\n",
      "Orlando Magic\n",
      "Philadelphia 76ers\n",
      "Phoenix Suns\n",
      "Portland Trail Blazers\n",
      "Sacramento Kings\n",
      "San Antonio Spurs\n",
      "Toronto Raptors\n",
      "Utah Jazz\n",
      "Washington Wizards\n",
      "Done.\n"
     ]
    }
   ],
   "source": [
    "print('Start Scraping...')\n",
    "team_dfs = {}\n",
    "for team in bbr_teams_dict.keys():\n",
    "    print(team)\n",
    "    team_dfs[team] = pd.concat([scrape_team_season_table(team, season, 'roster')\n",
    "                                for season in range(2017, 2023)])\n",
    "    time.sleep(30)\n",
    "print('Done.')"
   ]
  },
  {
   "cell_type": "code",
   "execution_count": 13,
   "metadata": {
    "ExecuteTime": {
     "end_time": "2023-06-15T22:46:07.006664Z",
     "start_time": "2023-06-15T22:46:06.984014Z"
    }
   },
   "outputs": [],
   "source": [
    "df = pd.concat([team_dfs[team] for team in team_dfs.keys()])\\\n",
    "       .reset_index().drop('index', axis=1)\n",
    "df['player_alt'] = df['player'].apply(unidecode)"
   ]
  },
  {
   "cell_type": "code",
   "execution_count": 14,
   "metadata": {
    "ExecuteTime": {
     "end_time": "2023-06-15T22:46:07.039353Z",
     "start_time": "2023-06-15T22:46:07.009153Z"
    }
   },
   "outputs": [],
   "source": [
    "df.to_csv('bbr_nba_roster_stats.csv', index=False)"
   ]
  },
  {
   "cell_type": "code",
   "execution_count": 15,
   "metadata": {
    "ExecuteTime": {
     "end_time": "2023-06-15T22:46:07.058853Z",
     "start_time": "2023-06-15T22:46:07.043069Z"
    }
   },
   "outputs": [
    {
     "data": {
      "text/html": [
       "<div>\n",
       "<style scoped>\n",
       "    .dataframe tbody tr th:only-of-type {\n",
       "        vertical-align: middle;\n",
       "    }\n",
       "\n",
       "    .dataframe tbody tr th {\n",
       "        vertical-align: top;\n",
       "    }\n",
       "\n",
       "    .dataframe thead th {\n",
       "        text-align: right;\n",
       "    }\n",
       "</style>\n",
       "<table border=\"1\" class=\"dataframe\">\n",
       "  <thead>\n",
       "    <tr style=\"text-align: right;\">\n",
       "      <th></th>\n",
       "      <th>player</th>\n",
       "      <th>player_alt</th>\n",
       "    </tr>\n",
       "  </thead>\n",
       "  <tbody>\n",
       "    <tr>\n",
       "      <th>4</th>\n",
       "      <td>Nicolás Brussino</td>\n",
       "      <td>Nicolas Brussino</td>\n",
       "    </tr>\n",
       "    <tr>\n",
       "      <th>12</th>\n",
       "      <td>Ersan İlyasova</td>\n",
       "      <td>Ersan Ilyasova</td>\n",
       "    </tr>\n",
       "    <tr>\n",
       "      <th>19</th>\n",
       "      <td>Dennis Schröder</td>\n",
       "      <td>Dennis Schroder</td>\n",
       "    </tr>\n",
       "    <tr>\n",
       "      <th>65</th>\n",
       "      <td>Bogdan Bogdanović</td>\n",
       "      <td>Bogdan Bogdanovic</td>\n",
       "    </tr>\n",
       "    <tr>\n",
       "      <th>98</th>\n",
       "      <td>Timothé Luwawu-Cabarrot</td>\n",
       "      <td>Timothe Luwawu-Cabarrot</td>\n",
       "    </tr>\n",
       "    <tr>\n",
       "      <th>...</th>\n",
       "      <td>...</td>\n",
       "      <td>...</td>\n",
       "    </tr>\n",
       "    <tr>\n",
       "      <th>3538</th>\n",
       "      <td>Johnny Juzang  (TW)</td>\n",
       "      <td>Johnny Juzang  (TW)</td>\n",
       "    </tr>\n",
       "    <tr>\n",
       "      <th>3540</th>\n",
       "      <td>Micah Potter  (TW)</td>\n",
       "      <td>Micah Potter  (TW)</td>\n",
       "    </tr>\n",
       "    <tr>\n",
       "      <th>3596</th>\n",
       "      <td>Anžejs Pasečņiks</td>\n",
       "      <td>Anzejs Pasecniks</td>\n",
       "    </tr>\n",
       "    <tr>\n",
       "      <th>3670</th>\n",
       "      <td>Quenton Jackson  (TW)</td>\n",
       "      <td>Quenton Jackson  (TW)</td>\n",
       "    </tr>\n",
       "    <tr>\n",
       "      <th>3671</th>\n",
       "      <td>Jay Huff  (TW)</td>\n",
       "      <td>Jay Huff  (TW)</td>\n",
       "    </tr>\n",
       "  </tbody>\n",
       "</table>\n",
       "<p>103 rows × 2 columns</p>\n",
       "</div>"
      ],
      "text/plain": [
       "                       player               player_alt\n",
       "4            Nicolás Brussino         Nicolas Brussino\n",
       "12             Ersan İlyasova           Ersan Ilyasova\n",
       "19            Dennis Schröder          Dennis Schroder\n",
       "65          Bogdan Bogdanović        Bogdan Bogdanovic\n",
       "98    Timothé Luwawu-Cabarrot  Timothe Luwawu-Cabarrot\n",
       "...                       ...                      ...\n",
       "3538      Johnny Juzang  (TW)      Johnny Juzang  (TW)\n",
       "3540       Micah Potter  (TW)       Micah Potter  (TW)\n",
       "3596         Anžejs Pasečņiks         Anzejs Pasecniks\n",
       "3670    Quenton Jackson  (TW)    Quenton Jackson  (TW)\n",
       "3671           Jay Huff  (TW)           Jay Huff  (TW)\n",
       "\n",
       "[103 rows x 2 columns]"
      ]
     },
     "execution_count": 15,
     "metadata": {},
     "output_type": "execute_result"
    }
   ],
   "source": [
    "df[df['player'] != df['player_alt']][['player', 'player_alt']].drop_duplicates()"
   ]
  },
  {
   "cell_type": "code",
   "execution_count": null,
   "metadata": {},
   "outputs": [],
   "source": []
  }
 ],
 "metadata": {
  "kernelspec": {
   "display_name": "Python 3 (ipykernel)",
   "language": "python",
   "name": "python3"
  },
  "language_info": {
   "codemirror_mode": {
    "name": "ipython",
    "version": 3
   },
   "file_extension": ".py",
   "mimetype": "text/x-python",
   "name": "python",
   "nbconvert_exporter": "python",
   "pygments_lexer": "ipython3",
   "version": "3.8.15"
  }
 },
 "nbformat": 4,
 "nbformat_minor": 2
}
