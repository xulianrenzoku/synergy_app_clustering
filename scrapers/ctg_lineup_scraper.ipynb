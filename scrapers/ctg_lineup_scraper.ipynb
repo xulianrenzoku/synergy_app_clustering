{
 "cells": [
  {
   "cell_type": "code",
   "execution_count": 1,
   "id": "87150b0d",
   "metadata": {
    "ExecuteTime": {
     "end_time": "2023-06-15T15:35:23.411340Z",
     "start_time": "2023-06-15T15:35:22.516240Z"
    }
   },
   "outputs": [],
   "source": [
    "import pandas as pd\n",
    "import numpy as np\n",
    "import os\n",
    "import time\n",
    "import pickle\n",
    "import re\n",
    "from tqdm import tqdm\n",
    "from bs4 import BeautifulSoup\n",
    "from selenium import webdriver\n",
    "from selenium.webdriver.chrome.service import Service\n",
    "from selenium.webdriver.common.by import By\n",
    "from webdriver_manager.chrome import ChromeDriverManager"
   ]
  },
  {
   "cell_type": "code",
   "execution_count": 2,
   "id": "29bd0584",
   "metadata": {
    "ExecuteTime": {
     "end_time": "2023-06-15T15:35:23.417455Z",
     "start_time": "2023-06-15T15:35:23.414305Z"
    }
   },
   "outputs": [],
   "source": [
    "pd.set_option('display.max_columns', None)"
   ]
  },
  {
   "cell_type": "code",
   "execution_count": 3,
   "id": "aad7930d",
   "metadata": {
    "ExecuteTime": {
     "end_time": "2023-06-15T15:35:23.424257Z",
     "start_time": "2023-06-15T15:35:23.420634Z"
    }
   },
   "outputs": [],
   "source": [
    "import warnings\n",
    "warnings.filterwarnings('ignore')"
   ]
  },
  {
   "cell_type": "code",
   "execution_count": 4,
   "id": "57477ad1",
   "metadata": {
    "ExecuteTime": {
     "end_time": "2023-06-15T15:35:24.673845Z",
     "start_time": "2023-06-15T15:35:23.428576Z"
    }
   },
   "outputs": [],
   "source": [
    "import seaborn as sns\n",
    "import matplotlib\n",
    "import matplotlib.pyplot as plt\n",
    "from IPython.core.pylabtools import figsize"
   ]
  },
  {
   "cell_type": "code",
   "execution_count": 5,
   "id": "a9663d2d",
   "metadata": {
    "ExecuteTime": {
     "end_time": "2023-06-15T15:35:24.682403Z",
     "start_time": "2023-06-15T15:35:24.677021Z"
    }
   },
   "outputs": [],
   "source": [
    "sns.set()"
   ]
  },
  {
   "cell_type": "markdown",
   "id": "7d568419",
   "metadata": {},
   "source": [
    "## Login"
   ]
  },
  {
   "cell_type": "code",
   "execution_count": 6,
   "id": "5f4ac544",
   "metadata": {
    "ExecuteTime": {
     "end_time": "2023-06-15T15:35:24.688439Z",
     "start_time": "2023-06-15T15:35:24.685285Z"
    }
   },
   "outputs": [],
   "source": [
    "ctg_url = 'https://cleaningtheglass.com'"
   ]
  },
  {
   "cell_type": "code",
   "execution_count": 7,
   "id": "e4b38d77",
   "metadata": {
    "ExecuteTime": {
     "end_time": "2023-06-15T15:35:24.695905Z",
     "start_time": "2023-06-15T15:35:24.692234Z"
    }
   },
   "outputs": [],
   "source": [
    "ctg_login_url = 'https://cleaningtheglass.memberful.com/auth/sign_in'"
   ]
  },
  {
   "cell_type": "code",
   "execution_count": 8,
   "id": "747fec02",
   "metadata": {
    "ExecuteTime": {
     "end_time": "2023-06-15T15:35:25.171038Z",
     "start_time": "2023-06-15T15:35:25.166671Z"
    }
   },
   "outputs": [],
   "source": [
    "def login(driver, cred, ctg_login_url=ctg_login_url):\n",
    "    driver.get(ctg_login_url)\n",
    "\n",
    "    # Get username & password\n",
    "    with open(cred, 'r') as f:\n",
    "        user_password = f.readlines()[0].replace('\\n', '').split(', ')\n",
    "\n",
    "    # Login\n",
    "    userfield = driver.find_element_by_id('session_email')\n",
    "    userfield.send_keys(user_password[0])\n",
    "    driver.find_element_by_xpath(\"//button[@class='btn-main btn-expanded']\").click()\n",
    "\n",
    "    time.sleep(3)\n",
    "\n",
    "    passwordfield = driver.find_element_by_id('session_password')\n",
    "    passwordfield.send_keys(user_password[1])\n",
    "    driver.find_element_by_xpath(\"//button[@data-session-form-target='passwordButton']\").click()"
   ]
  },
  {
   "cell_type": "code",
   "execution_count": 9,
   "id": "7fe0e728",
   "metadata": {
    "ExecuteTime": {
     "end_time": "2023-06-15T15:35:28.432173Z",
     "start_time": "2023-06-15T15:35:26.017742Z"
    }
   },
   "outputs": [
    {
     "name": "stderr",
     "output_type": "stream",
     "text": [
      "\n",
      "\n",
      "====== WebDriver manager ======\n",
      "Current google-chrome version is 114.0.5735\n",
      "Get LATEST chromedriver version for 114.0.5735 google-chrome\n",
      "Driver [/Users/xulian/.wdm/drivers/chromedriver/mac64/114.0.5735.90/chromedriver] found in cache\n"
     ]
    }
   ],
   "source": [
    "service = Service(executable_path=ChromeDriverManager().install())\n",
    "driver = webdriver.Chrome(service=service)"
   ]
  },
  {
   "cell_type": "code",
   "execution_count": 10,
   "id": "91f92254",
   "metadata": {
    "ExecuteTime": {
     "end_time": "2023-06-15T15:35:33.007174Z",
     "start_time": "2023-06-15T15:35:28.439418Z"
    },
    "scrolled": true
   },
   "outputs": [],
   "source": [
    "cred = 'ctg_cred.txt'\n",
    "login(driver, cred)"
   ]
  },
  {
   "cell_type": "code",
   "execution_count": 11,
   "id": "5f17e72e",
   "metadata": {
    "ExecuteTime": {
     "end_time": "2023-06-15T15:36:02.848616Z",
     "start_time": "2023-06-15T15:35:59.489674Z"
    }
   },
   "outputs": [
    {
     "data": {
      "text/plain": [
       "{'1': 'Atlanta Hawks',\n",
       " '2': 'Boston Celtics',\n",
       " '3': 'Brooklyn Nets',\n",
       " '4': 'Charlotte Hornets',\n",
       " '5': 'Chicago Bulls',\n",
       " '6': 'Cleveland Cavaliers',\n",
       " '7': 'Dallas Mavericks',\n",
       " '8': 'Denver Nuggets',\n",
       " '9': 'Detroit Pistons',\n",
       " '10': 'Golden State Warriors',\n",
       " '11': 'Houston Rockets',\n",
       " '12': 'Indiana Pacers',\n",
       " '13': 'Los Angeles Clippers',\n",
       " '14': 'Los Angeles Lakers',\n",
       " '15': 'Memphis Grizzlies',\n",
       " '16': 'Miami Heat',\n",
       " '17': 'Milwaukee Bucks',\n",
       " '18': 'Minnesota Timberwolves',\n",
       " '19': 'New Orleans Pelicans',\n",
       " '20': 'New York Knicks',\n",
       " '21': 'Oklahoma City Thunder',\n",
       " '22': 'Orlando Magic',\n",
       " '23': 'Philadelphia 76ers',\n",
       " '24': 'Phoenix Suns',\n",
       " '25': 'Portland Trail Blazers',\n",
       " '26': 'Sacramento Kings',\n",
       " '27': 'San Antonio Spurs',\n",
       " '28': 'Toronto Raptors',\n",
       " '29': 'Utah Jazz',\n",
       " '30': 'Washington Wizards'}"
      ]
     },
     "execution_count": 11,
     "metadata": {},
     "output_type": "execute_result"
    }
   ],
   "source": [
    "driver.get(f'{ctg_url}/stats/teams')\n",
    "team_container = driver.find_element_by_id('team_container')\n",
    "team_dict = {a.get_attribute('href').split('/')[-1]:\n",
    "             a.find_element_by_tag_name('img').get_attribute('alt')\n",
    "             for a in team_container.find_elements_by_tag_name('a')}\n",
    "team_dict"
   ]
  },
  {
   "cell_type": "markdown",
   "id": "1e452e86",
   "metadata": {},
   "source": [
    "## Basic Function"
   ]
  },
  {
   "cell_type": "code",
   "execution_count": 12,
   "id": "f9e9599b",
   "metadata": {
    "ExecuteTime": {
     "end_time": "2023-06-15T15:36:07.263416Z",
     "start_time": "2023-06-15T15:36:07.255588Z"
    }
   },
   "outputs": [],
   "source": [
    "def fetch(driver):\n",
    "    \"\"\"\n",
    "    Use BeautifulSoup to get the text of a web page.\n",
    "    \"\"\"\n",
    "    d = driver.page_source\n",
    "    comm = re.compile(\"<!--|-->\")\n",
    "    soup = BeautifulSoup(comm.sub(\"\", d), \"html.parser\")\n",
    "    return soup"
   ]
  },
  {
   "cell_type": "markdown",
   "id": "8c03213b",
   "metadata": {},
   "source": [
    "## Download Lineup Data"
   ]
  },
  {
   "cell_type": "code",
   "execution_count": 13,
   "id": "bfae002c",
   "metadata": {
    "ExecuteTime": {
     "end_time": "2023-06-15T15:36:30.633512Z",
     "start_time": "2023-06-15T15:36:30.626211Z"
    }
   },
   "outputs": [],
   "source": [
    "def scrape_team_lineup_table(team_id, season, driver,\n",
    "                             team_dict=team_dict):\n",
    "    driver.get(f'{ctg_url}/stats/team/{team_id}/lineups?season={season}')\n",
    "    time.sleep(3)\n",
    "    soup = fetch(driver)\n",
    "    table = soup.find_all('table', {'id': 'lineups_four_factors'})[0]\n",
    "    # Build dataframe\n",
    "    cols = ['PG', 'SG', 'SF', 'PF', 'C', 'Poss', 'Diff_Rank', 'Diff']\n",
    "    for side in ['off', 'def']:\n",
    "        for factor in ['Pts/Poss', 'eFG%', 'TOV%', 'OREB%', 'FTr']:\n",
    "            cols = cols + [f'{side}_{factor}_rank', f'{side}_{factor}']\n",
    "        if side == 'off':\n",
    "            cols = cols + ['']\n",
    "    data = [[td['data-full-name'] for td in row.find_all('td')[:5]] +\n",
    "            [td.text for td in row.find_all('td')[5:]]\n",
    "            for row in table.find_all('tbody')[1].find_all('tr')]\n",
    "    df = pd.DataFrame(data, columns=cols).drop('', axis=1)\n",
    "    df['season'] = season\n",
    "    df['team'] = team_dict[team_id]\n",
    "    return df"
   ]
  },
  {
   "cell_type": "code",
   "execution_count": 14,
   "id": "f3ff3338",
   "metadata": {
    "ExecuteTime": {
     "end_time": "2023-06-15T15:36:38.576647Z",
     "start_time": "2023-06-15T15:36:38.572798Z"
    }
   },
   "outputs": [],
   "source": [
    "seasons = list(range(2017, 2023))"
   ]
  },
  {
   "cell_type": "code",
   "execution_count": 15,
   "id": "3bab604e",
   "metadata": {
    "ExecuteTime": {
     "end_time": "2023-06-15T17:01:27.844890Z",
     "start_time": "2023-06-15T15:37:22.116014Z"
    }
   },
   "outputs": [
    {
     "name": "stdout",
     "output_type": "stream",
     "text": [
      "Start Scraping...\n",
      "Atlanta Hawks\n",
      "Boston Celtics\n",
      "Brooklyn Nets\n",
      "Charlotte Hornets\n",
      "Chicago Bulls\n",
      "Cleveland Cavaliers\n",
      "Dallas Mavericks\n",
      "Denver Nuggets\n",
      "Detroit Pistons\n",
      "Golden State Warriors\n",
      "Houston Rockets\n",
      "Indiana Pacers\n",
      "Los Angeles Clippers\n",
      "Los Angeles Lakers\n",
      "Memphis Grizzlies\n",
      "Miami Heat\n",
      "Milwaukee Bucks\n",
      "Minnesota Timberwolves\n",
      "New Orleans Pelicans\n",
      "New York Knicks\n",
      "Oklahoma City Thunder\n",
      "Orlando Magic\n",
      "Philadelphia 76ers\n",
      "Phoenix Suns\n",
      "Portland Trail Blazers\n",
      "Sacramento Kings\n",
      "San Antonio Spurs\n",
      "Toronto Raptors\n",
      "Utah Jazz\n",
      "Washington Wizards\n",
      "Done.\n"
     ]
    }
   ],
   "source": [
    "print('Start Scraping...')\n",
    "team_dfs = {}\n",
    "for team_id in team_dict.keys():\n",
    "    team = team_dict[team_id]\n",
    "    print(team)\n",
    "    team_dfs[team] = pd.concat([scrape_team_lineup_table(team_id, season, driver)\n",
    "                                for season in seasons])\n",
    "print('Done.')"
   ]
  },
  {
   "cell_type": "code",
   "execution_count": 18,
   "id": "5d0beec3",
   "metadata": {
    "ExecuteTime": {
     "end_time": "2023-06-15T17:06:06.326618Z",
     "start_time": "2023-06-15T17:06:06.152831Z"
    }
   },
   "outputs": [],
   "source": [
    "driver.close()"
   ]
  },
  {
   "cell_type": "code",
   "execution_count": 16,
   "id": "3aa2acde",
   "metadata": {
    "ExecuteTime": {
     "end_time": "2023-06-15T17:01:28.435097Z",
     "start_time": "2023-06-15T17:01:27.850153Z"
    }
   },
   "outputs": [
    {
     "data": {
      "text/html": [
       "<div>\n",
       "<style scoped>\n",
       "    .dataframe tbody tr th:only-of-type {\n",
       "        vertical-align: middle;\n",
       "    }\n",
       "\n",
       "    .dataframe tbody tr th {\n",
       "        vertical-align: top;\n",
       "    }\n",
       "\n",
       "    .dataframe thead th {\n",
       "        text-align: right;\n",
       "    }\n",
       "</style>\n",
       "<table border=\"1\" class=\"dataframe\">\n",
       "  <thead>\n",
       "    <tr style=\"text-align: right;\">\n",
       "      <th></th>\n",
       "      <th>PG</th>\n",
       "      <th>SG</th>\n",
       "      <th>SF</th>\n",
       "      <th>PF</th>\n",
       "      <th>C</th>\n",
       "      <th>Poss</th>\n",
       "      <th>Diff_Rank</th>\n",
       "      <th>Diff</th>\n",
       "      <th>off_Pts/Poss_rank</th>\n",
       "      <th>off_Pts/Poss</th>\n",
       "      <th>off_eFG%_rank</th>\n",
       "      <th>off_eFG%</th>\n",
       "      <th>off_TOV%_rank</th>\n",
       "      <th>off_TOV%</th>\n",
       "      <th>off_OREB%_rank</th>\n",
       "      <th>off_OREB%</th>\n",
       "      <th>off_FTr_rank</th>\n",
       "      <th>off_FTr</th>\n",
       "      <th>def_Pts/Poss_rank</th>\n",
       "      <th>def_Pts/Poss</th>\n",
       "      <th>def_eFG%_rank</th>\n",
       "      <th>def_eFG%</th>\n",
       "      <th>def_TOV%_rank</th>\n",
       "      <th>def_TOV%</th>\n",
       "      <th>def_OREB%_rank</th>\n",
       "      <th>def_OREB%</th>\n",
       "      <th>def_FTr_rank</th>\n",
       "      <th>def_FTr</th>\n",
       "      <th>season</th>\n",
       "      <th>team</th>\n",
       "    </tr>\n",
       "  </thead>\n",
       "  <tbody>\n",
       "    <tr>\n",
       "      <th>0</th>\n",
       "      <td>Dennis Schroder</td>\n",
       "      <td>Kent Bazemore</td>\n",
       "      <td>Taurean Prince</td>\n",
       "      <td>Ersan Ilyasova</td>\n",
       "      <td>Miles Plumlee</td>\n",
       "      <td>733</td>\n",
       "      <td>26</td>\n",
       "      <td>-6.7</td>\n",
       "      <td>18</td>\n",
       "      <td>99.9</td>\n",
       "      <td>41</td>\n",
       "      <td>51.5%</td>\n",
       "      <td>12</td>\n",
       "      <td>17.7%</td>\n",
       "      <td>59</td>\n",
       "      <td>25.9%</td>\n",
       "      <td>37</td>\n",
       "      <td>15.0</td>\n",
       "      <td>50</td>\n",
       "      <td>106.5</td>\n",
       "      <td>34</td>\n",
       "      <td>54.0%</td>\n",
       "      <td>57</td>\n",
       "      <td>15.0%</td>\n",
       "      <td>44</td>\n",
       "      <td>25.9%</td>\n",
       "      <td>73</td>\n",
       "      <td>14.2</td>\n",
       "      <td>2017</td>\n",
       "      <td>Atlanta Hawks</td>\n",
       "    </tr>\n",
       "    <tr>\n",
       "      <th>1</th>\n",
       "      <td>Dennis Schroder</td>\n",
       "      <td>Kent Bazemore</td>\n",
       "      <td>Taurean Prince</td>\n",
       "      <td>John Collins</td>\n",
       "      <td>Dewayne Dedmon</td>\n",
       "      <td>245</td>\n",
       "      <td>69</td>\n",
       "      <td>+8.6</td>\n",
       "      <td>66</td>\n",
       "      <td>112.7</td>\n",
       "      <td>81</td>\n",
       "      <td>57.9%</td>\n",
       "      <td>15</td>\n",
       "      <td>17.1%</td>\n",
       "      <td>37</td>\n",
       "      <td>23.1%</td>\n",
       "      <td>41</td>\n",
       "      <td>15.7</td>\n",
       "      <td>60</td>\n",
       "      <td>104.0</td>\n",
       "      <td>56</td>\n",
       "      <td>51.6%</td>\n",
       "      <td>92</td>\n",
       "      <td>19.4%</td>\n",
       "      <td>15</td>\n",
       "      <td>30.6%</td>\n",
       "      <td>73</td>\n",
       "      <td>14.2</td>\n",
       "      <td>2017</td>\n",
       "      <td>Atlanta Hawks</td>\n",
       "    </tr>\n",
       "    <tr>\n",
       "      <th>2</th>\n",
       "      <td>Dennis Schroder</td>\n",
       "      <td>Kent Bazemore</td>\n",
       "      <td>Taurean Prince</td>\n",
       "      <td>Ersan Ilyasova</td>\n",
       "      <td>Dewayne Dedmon</td>\n",
       "      <td>193</td>\n",
       "      <td>25</td>\n",
       "      <td>-7.0</td>\n",
       "      <td>22</td>\n",
       "      <td>101.0</td>\n",
       "      <td>18</td>\n",
       "      <td>48.8%</td>\n",
       "      <td>78</td>\n",
       "      <td>12.4%</td>\n",
       "      <td>22</td>\n",
       "      <td>20.4%</td>\n",
       "      <td>73</td>\n",
       "      <td>22.1</td>\n",
       "      <td>42</td>\n",
       "      <td>108.0</td>\n",
       "      <td>38</td>\n",
       "      <td>53.3%</td>\n",
       "      <td>94</td>\n",
       "      <td>19.8%</td>\n",
       "      <td>18</td>\n",
       "      <td>29.7%</td>\n",
       "      <td>63</td>\n",
       "      <td>15.7</td>\n",
       "      <td>2017</td>\n",
       "      <td>Atlanta Hawks</td>\n",
       "    </tr>\n",
       "    <tr>\n",
       "      <th>3</th>\n",
       "      <td>Dennis Schroder</td>\n",
       "      <td>Kent Bazemore</td>\n",
       "      <td>Taurean Prince</td>\n",
       "      <td>Luke Babbitt</td>\n",
       "      <td>Dewayne Dedmon</td>\n",
       "      <td>142</td>\n",
       "      <td>66</td>\n",
       "      <td>+7.9</td>\n",
       "      <td>62</td>\n",
       "      <td>112.0</td>\n",
       "      <td>91</td>\n",
       "      <td>59.7%</td>\n",
       "      <td>7</td>\n",
       "      <td>19.0%</td>\n",
       "      <td>44</td>\n",
       "      <td>23.8%</td>\n",
       "      <td>5</td>\n",
       "      <td>8.9</td>\n",
       "      <td>59</td>\n",
       "      <td>104.1</td>\n",
       "      <td>44</td>\n",
       "      <td>52.9%</td>\n",
       "      <td>49</td>\n",
       "      <td>14.4%</td>\n",
       "      <td>80</td>\n",
       "      <td>20.6%</td>\n",
       "      <td>38</td>\n",
       "      <td>18.9</td>\n",
       "      <td>2017</td>\n",
       "      <td>Atlanta Hawks</td>\n",
       "    </tr>\n",
       "    <tr>\n",
       "      <th>4</th>\n",
       "      <td>Isaiah Taylor</td>\n",
       "      <td>Taurean Prince</td>\n",
       "      <td>Damion Lee</td>\n",
       "      <td>John Collins</td>\n",
       "      <td>Dewayne Dedmon</td>\n",
       "      <td>140</td>\n",
       "      <td>18</td>\n",
       "      <td>-10.0</td>\n",
       "      <td>36</td>\n",
       "      <td>105.7</td>\n",
       "      <td>41</td>\n",
       "      <td>51.5%</td>\n",
       "      <td>62</td>\n",
       "      <td>13.6%</td>\n",
       "      <td>36</td>\n",
       "      <td>23.1%</td>\n",
       "      <td>4</td>\n",
       "      <td>8.3</td>\n",
       "      <td>16</td>\n",
       "      <td>115.8</td>\n",
       "      <td>11</td>\n",
       "      <td>58.3%</td>\n",
       "      <td>14</td>\n",
       "      <td>11.0%</td>\n",
       "      <td>96</td>\n",
       "      <td>15.6%</td>\n",
       "      <td>15</td>\n",
       "      <td>24.2</td>\n",
       "      <td>2017</td>\n",
       "      <td>Atlanta Hawks</td>\n",
       "    </tr>\n",
       "  </tbody>\n",
       "</table>\n",
       "</div>"
      ],
      "text/plain": [
       "                PG              SG              SF              PF  \\\n",
       "0  Dennis Schroder   Kent Bazemore  Taurean Prince  Ersan Ilyasova   \n",
       "1  Dennis Schroder   Kent Bazemore  Taurean Prince    John Collins   \n",
       "2  Dennis Schroder   Kent Bazemore  Taurean Prince  Ersan Ilyasova   \n",
       "3  Dennis Schroder   Kent Bazemore  Taurean Prince    Luke Babbitt   \n",
       "4    Isaiah Taylor  Taurean Prince      Damion Lee    John Collins   \n",
       "\n",
       "                C Poss Diff_Rank   Diff off_Pts/Poss_rank off_Pts/Poss  \\\n",
       "0   Miles Plumlee  733        26   -6.7                18         99.9   \n",
       "1  Dewayne Dedmon  245        69   +8.6                66        112.7   \n",
       "2  Dewayne Dedmon  193        25   -7.0                22        101.0   \n",
       "3  Dewayne Dedmon  142        66   +7.9                62        112.0   \n",
       "4  Dewayne Dedmon  140        18  -10.0                36        105.7   \n",
       "\n",
       "  off_eFG%_rank off_eFG% off_TOV%_rank off_TOV% off_OREB%_rank off_OREB%  \\\n",
       "0            41    51.5%            12    17.7%             59     25.9%   \n",
       "1            81    57.9%            15    17.1%             37     23.1%   \n",
       "2            18    48.8%            78    12.4%             22     20.4%   \n",
       "3            91    59.7%             7    19.0%             44     23.8%   \n",
       "4            41    51.5%            62    13.6%             36     23.1%   \n",
       "\n",
       "  off_FTr_rank off_FTr def_Pts/Poss_rank def_Pts/Poss def_eFG%_rank def_eFG%  \\\n",
       "0           37    15.0                50        106.5            34    54.0%   \n",
       "1           41    15.7                60        104.0            56    51.6%   \n",
       "2           73    22.1                42        108.0            38    53.3%   \n",
       "3            5     8.9                59        104.1            44    52.9%   \n",
       "4            4     8.3                16        115.8            11    58.3%   \n",
       "\n",
       "  def_TOV%_rank def_TOV% def_OREB%_rank def_OREB% def_FTr_rank def_FTr  \\\n",
       "0            57    15.0%             44     25.9%           73    14.2   \n",
       "1            92    19.4%             15     30.6%           73    14.2   \n",
       "2            94    19.8%             18     29.7%           63    15.7   \n",
       "3            49    14.4%             80     20.6%           38    18.9   \n",
       "4            14    11.0%             96     15.6%           15    24.2   \n",
       "\n",
       "   season           team  \n",
       "0    2017  Atlanta Hawks  \n",
       "1    2017  Atlanta Hawks  \n",
       "2    2017  Atlanta Hawks  \n",
       "3    2017  Atlanta Hawks  \n",
       "4    2017  Atlanta Hawks  "
      ]
     },
     "execution_count": 16,
     "metadata": {},
     "output_type": "execute_result"
    }
   ],
   "source": [
    "df = pd.concat([team_dfs[team] for team in team_dict.values()])\\\n",
    "       .reset_index().drop('index', axis=1)\n",
    "df.head()"
   ]
  },
  {
   "cell_type": "code",
   "execution_count": 17,
   "id": "04bc7e9c",
   "metadata": {
    "ExecuteTime": {
     "end_time": "2023-06-15T17:06:03.219361Z",
     "start_time": "2023-06-15T17:06:02.168542Z"
    }
   },
   "outputs": [],
   "source": [
    "df.to_csv('ctg_nba_lineup_stats.csv', index=False)"
   ]
  }
 ],
 "metadata": {
  "kernelspec": {
   "display_name": "Python 3 (ipykernel)",
   "language": "python",
   "name": "python3"
  },
  "language_info": {
   "codemirror_mode": {
    "name": "ipython",
    "version": 3
   },
   "file_extension": ".py",
   "mimetype": "text/x-python",
   "name": "python",
   "nbconvert_exporter": "python",
   "pygments_lexer": "ipython3",
   "version": "3.8.15"
  }
 },
 "nbformat": 4,
 "nbformat_minor": 5
}
