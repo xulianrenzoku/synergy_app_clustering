{
 "cells": [
  {
   "cell_type": "code",
   "execution_count": 1,
   "id": "691a98d6",
   "metadata": {
    "ExecuteTime": {
     "end_time": "2023-04-07T02:41:47.474402Z",
     "start_time": "2023-04-07T02:41:46.143347Z"
    }
   },
   "outputs": [],
   "source": [
    "import pandas as pd\n",
    "import numpy as np\n",
    "import os\n",
    "import time\n",
    "import pickle\n",
    "import re\n",
    "from tqdm import tqdm\n",
    "from bs4 import BeautifulSoup\n",
    "from selenium import webdriver\n",
    "from selenium.webdriver.chrome.service import Service\n",
    "from selenium.webdriver.common.by import By\n",
    "from selenium.common.exceptions import ElementClickInterceptedException, ElementNotInteractableException \n",
    "from webdriver_manager.chrome import ChromeDriverManager"
   ]
  },
  {
   "cell_type": "code",
   "execution_count": 2,
   "id": "550a6f70",
   "metadata": {
    "ExecuteTime": {
     "end_time": "2023-04-07T02:41:47.483541Z",
     "start_time": "2023-04-07T02:41:47.477792Z"
    }
   },
   "outputs": [],
   "source": [
    "pd.set_option('display.max_columns', None)"
   ]
  },
  {
   "cell_type": "code",
   "execution_count": 3,
   "id": "fbd00cf6",
   "metadata": {
    "ExecuteTime": {
     "end_time": "2023-04-07T02:41:47.490083Z",
     "start_time": "2023-04-07T02:41:47.487263Z"
    }
   },
   "outputs": [],
   "source": [
    "import warnings\n",
    "warnings.filterwarnings('ignore')"
   ]
  },
  {
   "cell_type": "markdown",
   "id": "441501e5",
   "metadata": {},
   "source": [
    "## Set Up Driver"
   ]
  },
  {
   "cell_type": "code",
   "execution_count": 4,
   "id": "b6a4f572",
   "metadata": {
    "ExecuteTime": {
     "end_time": "2023-04-07T02:42:00.931114Z",
     "start_time": "2023-04-07T02:41:47.567346Z"
    }
   },
   "outputs": [
    {
     "name": "stderr",
     "output_type": "stream",
     "text": [
      "\n",
      "\n",
      "====== WebDriver manager ======\n",
      "Current google-chrome version is 112.0.5615\n",
      "Get LATEST chromedriver version for 112.0.5615 google-chrome\n",
      "There is no [mac64] chromedriver for browser 112.0.5615 in cache\n",
      "Trying to download new driver from https://chromedriver.storage.googleapis.com/112.0.5615.49/chromedriver_mac64.zip\n",
      "Driver has been saved in cache [/Users/xulian/.wdm/drivers/chromedriver/mac64/112.0.5615.49]\n"
     ]
    }
   ],
   "source": [
    "service = Service(executable_path=ChromeDriverManager().install())\n",
    "driver = webdriver.Chrome(service=service)"
   ]
  },
  {
   "cell_type": "code",
   "execution_count": 5,
   "id": "ee7122bc",
   "metadata": {
    "ExecuteTime": {
     "end_time": "2023-04-07T02:42:00.941643Z",
     "start_time": "2023-04-07T02:42:00.937290Z"
    }
   },
   "outputs": [],
   "source": [
    "proballers_url = 'https://www.proballers.com'"
   ]
  },
  {
   "cell_type": "markdown",
   "id": "3dbe8685",
   "metadata": {},
   "source": [
    "## Dictionary"
   ]
  },
  {
   "cell_type": "code",
   "execution_count": 6,
   "id": "05876990",
   "metadata": {
    "ExecuteTime": {
     "end_time": "2023-04-07T02:42:01.018207Z",
     "start_time": "2023-04-07T02:42:00.944721Z"
    }
   },
   "outputs": [],
   "source": [
    "leagues_dict = {\n",
    "    'China - CBA': 159,\n",
    "    'China - CBA Play-Offs': 159\n",
    "}"
   ]
  },
  {
   "cell_type": "markdown",
   "id": "96c5f830",
   "metadata": {},
   "source": [
    "## Functions"
   ]
  },
  {
   "cell_type": "code",
   "execution_count": 7,
   "id": "02de9713",
   "metadata": {
    "ExecuteTime": {
     "end_time": "2023-04-07T02:42:01.086224Z",
     "start_time": "2023-04-07T02:42:01.023614Z"
    }
   },
   "outputs": [],
   "source": [
    "def create_dirs(league, seasons):\n",
    "    for season in seasons:\n",
    "        dirname = f'{league}_{season}'\n",
    "        if dirname not in os.listdir('data'):\n",
    "            os.mkdir(f'data/{dirname}')"
   ]
  },
  {
   "cell_type": "code",
   "execution_count": 8,
   "id": "dd245870",
   "metadata": {
    "ExecuteTime": {
     "end_time": "2023-04-07T02:42:01.143328Z",
     "start_time": "2023-04-07T02:42:01.088581Z"
    }
   },
   "outputs": [],
   "source": [
    "def fetch(driver):\n",
    "    \"\"\"\n",
    "    Use BeautifulSoup to get the text of a web page.\n",
    "    \"\"\"\n",
    "    d = driver.page_source\n",
    "    comm = re.compile(\"<!--|-->\")\n",
    "    soup = BeautifulSoup(comm.sub(\"\", d), \"html.parser\")\n",
    "    return soup"
   ]
  },
  {
   "cell_type": "code",
   "execution_count": 9,
   "id": "fc79edc8",
   "metadata": {
    "ExecuteTime": {
     "end_time": "2023-04-07T02:42:01.170843Z",
     "start_time": "2023-04-07T02:42:01.146639Z"
    }
   },
   "outputs": [],
   "source": [
    "def get_team_urls(league, season, \n",
    "                  driver=driver,\n",
    "                  proballers_url=proballers_url,\n",
    "                  leagues_dict=leagues_dict):\n",
    "    league_id = leagues_dict[league]\n",
    "    season_url = (\n",
    "        f'{proballers_url}/basketball/league/'\n",
    "        f'{league_id}/{league.lower()}/'\n",
    "        f'teams/{season}'\n",
    "    )\n",
    "    driver.get(season_url)\n",
    "    \n",
    "    # Get team urls\n",
    "    soup = fetch(driver)\n",
    "    team_urls = [a['href'] for a in soup.find_all('a')\n",
    "                 if a.text == 'Team Roster']\n",
    "    \n",
    "    return team_urls"
   ]
  },
  {
   "cell_type": "code",
   "execution_count": 10,
   "id": "6a9ff385",
   "metadata": {
    "ExecuteTime": {
     "end_time": "2023-04-07T02:42:01.202718Z",
     "start_time": "2023-04-07T02:42:01.182014Z"
    }
   },
   "outputs": [],
   "source": [
    "def get_team_stats(league, team_url,\n",
    "                   driver=driver,\n",
    "                   proballers_url=proballers_url,\n",
    "                   leagues_dict=leagues_dict):\n",
    "    driver.get(f'{proballers_url}{team_url}')\n",
    "    \n",
    "    time.sleep(3)\n",
    "\n",
    "    league_id = leagues_dict[league]\n",
    "\n",
    "    # Locate & Get Data\n",
    "    soup = fetch(driver)\n",
    "    tables = soup.find_all('table')\n",
    "    league_options = [a.text.strip('\\n').strip(' ').strip('\\n')\n",
    "                      for a in soup.find_all('div', {'class': 'list-group'})[0]\n",
    "                                   .find_all('a')]\n",
    "    if len(tables) < len(league_options) * 7:\n",
    "        return ValueError('Error in number of tables')\n",
    "    for i in range(len(league_options)):\n",
    "        if league == league_options[i]:\n",
    "            league_order = i\n",
    "    \n",
    "            return pd.read_html(str(tables))[league_order*7+1]"
   ]
  },
  {
   "cell_type": "code",
   "execution_count": 11,
   "id": "d815997b",
   "metadata": {
    "ExecuteTime": {
     "end_time": "2023-04-07T02:42:01.227787Z",
     "start_time": "2023-04-07T02:42:01.206664Z"
    }
   },
   "outputs": [],
   "source": [
    "def download_season(league, season, \n",
    "                    driver=driver,\n",
    "                    proballers_url=proballers_url,\n",
    "                    leagues_dict=leagues_dict):\n",
    "    data_dir = f'data/{league}_{season}'\n",
    "    \n",
    "    team_urls = get_team_urls(league, season)\n",
    "    missing_teams_dict = {}\n",
    "    \n",
    "    for team_url in tqdm(team_urls):\n",
    "        team = team_url.split('/')[-2]\n",
    "        team_df = get_team_stats(league, team_url,\n",
    "                                 driver=driver,\n",
    "                                 proballers_url=proballers_url,\n",
    "                                 leagues_dict=leagues_dict)\n",
    "        if team_df is not None:\n",
    "            team_df['Team'] = team\n",
    "            team_df.to_csv(f'{data_dir}/{team}.csv', index=False)\n",
    "            time.sleep(5)"
   ]
  },
  {
   "cell_type": "markdown",
   "id": "47cc53c0",
   "metadata": {},
   "source": [
    "## Scrape"
   ]
  },
  {
   "cell_type": "code",
   "execution_count": 12,
   "id": "fbe9c8dd",
   "metadata": {
    "ExecuteTime": {
     "end_time": "2023-04-07T02:42:06.333935Z",
     "start_time": "2023-04-07T02:42:06.329488Z"
    }
   },
   "outputs": [],
   "source": [
    "league = 'China - CBA'\n",
    "seasons = list(range(2017, 2023))\n",
    "create_dirs(league, seasons)"
   ]
  },
  {
   "cell_type": "markdown",
   "id": "ef3a409a",
   "metadata": {},
   "source": [
    "### 2022-2023"
   ]
  },
  {
   "cell_type": "code",
   "execution_count": 13,
   "id": "bf3477a6",
   "metadata": {
    "ExecuteTime": {
     "end_time": "2023-04-07T02:48:14.335813Z",
     "start_time": "2023-04-07T02:42:22.613591Z"
    }
   },
   "outputs": [
    {
     "name": "stderr",
     "output_type": "stream",
     "text": [
      "100%|█████████████████████████████████████████████████████████████████████████████████████████████| 20/20 [05:27<00:00, 16.38s/it]\n"
     ]
    }
   ],
   "source": [
    "season = 2022\n",
    "download_season(league, season)"
   ]
  },
  {
   "cell_type": "markdown",
   "id": "84f8c1d2",
   "metadata": {},
   "source": [
    "### 2021-2022"
   ]
  },
  {
   "cell_type": "code",
   "execution_count": 13,
   "id": "667ec0d7",
   "metadata": {
    "ExecuteTime": {
     "end_time": "2023-03-30T07:32:59.358623Z",
     "start_time": "2023-03-30T07:26:29.974357Z"
    }
   },
   "outputs": [
    {
     "name": "stderr",
     "output_type": "stream",
     "text": [
      "100%|███████████████████████████████████████████| 20/20 [06:21<00:00, 19.05s/it]\n"
     ]
    }
   ],
   "source": [
    "season = 2021\n",
    "download_season(league, season)"
   ]
  },
  {
   "cell_type": "markdown",
   "id": "afa7c111",
   "metadata": {},
   "source": [
    "### 2020-2021"
   ]
  },
  {
   "cell_type": "code",
   "execution_count": 14,
   "id": "f77f8852",
   "metadata": {
    "ExecuteTime": {
     "end_time": "2023-03-30T07:38:35.407034Z",
     "start_time": "2023-03-30T07:32:59.368795Z"
    }
   },
   "outputs": [
    {
     "name": "stderr",
     "output_type": "stream",
     "text": [
      "100%|███████████████████████████████████████████| 19/19 [05:27<00:00, 17.26s/it]\n"
     ]
    }
   ],
   "source": [
    "season = 2020\n",
    "download_season(league, season)"
   ]
  },
  {
   "cell_type": "markdown",
   "id": "f5eba6c4",
   "metadata": {},
   "source": [
    "### 2019-2020"
   ]
  },
  {
   "cell_type": "code",
   "execution_count": 15,
   "id": "d901912c",
   "metadata": {
    "ExecuteTime": {
     "end_time": "2023-03-30T07:44:17.253065Z",
     "start_time": "2023-03-30T07:38:35.413939Z"
    }
   },
   "outputs": [
    {
     "name": "stderr",
     "output_type": "stream",
     "text": [
      "100%|███████████████████████████████████████████| 20/20 [05:32<00:00, 16.64s/it]\n"
     ]
    }
   ],
   "source": [
    "season = 2019\n",
    "download_season(league, season)"
   ]
  },
  {
   "cell_type": "markdown",
   "id": "c2db528c",
   "metadata": {},
   "source": [
    "### 2018-2019"
   ]
  },
  {
   "cell_type": "code",
   "execution_count": 16,
   "id": "589ee1cb",
   "metadata": {
    "ExecuteTime": {
     "end_time": "2023-03-30T07:49:16.652418Z",
     "start_time": "2023-03-30T07:44:17.258319Z"
    }
   },
   "outputs": [
    {
     "name": "stderr",
     "output_type": "stream",
     "text": [
      "100%|███████████████████████████████████████████| 20/20 [04:50<00:00, 14.51s/it]\n"
     ]
    }
   ],
   "source": [
    "season = 2018\n",
    "download_season(league, season)"
   ]
  },
  {
   "cell_type": "markdown",
   "id": "8724c4f1",
   "metadata": {},
   "source": [
    "### 2017-2018"
   ]
  },
  {
   "cell_type": "code",
   "execution_count": 17,
   "id": "ba3d5907",
   "metadata": {
    "ExecuteTime": {
     "end_time": "2023-03-30T07:54:38.065152Z",
     "start_time": "2023-03-30T07:49:16.655915Z"
    }
   },
   "outputs": [
    {
     "name": "stderr",
     "output_type": "stream",
     "text": [
      "100%|███████████████████████████████████████████| 20/20 [05:12<00:00, 15.64s/it]\n"
     ]
    }
   ],
   "source": [
    "season = 2017\n",
    "download_season(league, season)"
   ]
  },
  {
   "cell_type": "markdown",
   "id": "2303387a",
   "metadata": {},
   "source": [
    "## Scrape"
   ]
  },
  {
   "cell_type": "code",
   "execution_count": 18,
   "id": "2d55071c",
   "metadata": {
    "ExecuteTime": {
     "end_time": "2023-03-30T07:54:59.430302Z",
     "start_time": "2023-03-30T07:54:59.425820Z"
    }
   },
   "outputs": [],
   "source": [
    "league = 'China - CBA Play-Offs'\n",
    "seasons = list(range(2017, 2022))\n",
    "create_dirs(league, seasons)"
   ]
  },
  {
   "cell_type": "markdown",
   "id": "2ad92a85",
   "metadata": {},
   "source": [
    "### 2021-2022"
   ]
  },
  {
   "cell_type": "code",
   "execution_count": 24,
   "id": "edbf78d1",
   "metadata": {
    "ExecuteTime": {
     "end_time": "2023-03-30T08:16:04.316488Z",
     "start_time": "2023-03-30T08:12:28.037014Z"
    }
   },
   "outputs": [
    {
     "name": "stderr",
     "output_type": "stream",
     "text": [
      "100%|███████████████████████████████████████████| 20/20 [03:31<00:00, 10.59s/it]\n"
     ]
    }
   ],
   "source": [
    "season = 2021\n",
    "download_season(league, season)"
   ]
  },
  {
   "cell_type": "markdown",
   "id": "89695177",
   "metadata": {},
   "source": [
    "### 2020-2021"
   ]
  },
  {
   "cell_type": "code",
   "execution_count": 25,
   "id": "3cf6ff43",
   "metadata": {
    "ExecuteTime": {
     "end_time": "2023-03-30T08:20:11.568718Z",
     "start_time": "2023-03-30T08:16:04.321670Z"
    }
   },
   "outputs": [
    {
     "name": "stderr",
     "output_type": "stream",
     "text": [
      "100%|███████████████████████████████████████████| 19/19 [04:04<00:00, 12.86s/it]\n"
     ]
    }
   ],
   "source": [
    "season = 2020\n",
    "download_season(league, season)"
   ]
  },
  {
   "cell_type": "markdown",
   "id": "2e5f370b",
   "metadata": {},
   "source": [
    "### 2019-2020"
   ]
  },
  {
   "cell_type": "code",
   "execution_count": 26,
   "id": "3cc64972",
   "metadata": {
    "ExecuteTime": {
     "end_time": "2023-03-30T08:24:21.023636Z",
     "start_time": "2023-03-30T08:20:11.571793Z"
    }
   },
   "outputs": [
    {
     "name": "stderr",
     "output_type": "stream",
     "text": [
      "100%|███████████████████████████████████████████| 20/20 [04:00<00:00, 12.02s/it]\n"
     ]
    }
   ],
   "source": [
    "season = 2019\n",
    "download_season(league, season)"
   ]
  },
  {
   "cell_type": "markdown",
   "id": "9ad9be7b",
   "metadata": {},
   "source": [
    "### 2018-2019"
   ]
  },
  {
   "cell_type": "code",
   "execution_count": 27,
   "id": "a1361e71",
   "metadata": {
    "ExecuteTime": {
     "end_time": "2023-03-30T08:28:32.602688Z",
     "start_time": "2023-03-30T08:24:21.030610Z"
    }
   },
   "outputs": [
    {
     "name": "stderr",
     "output_type": "stream",
     "text": [
      "100%|███████████████████████████████████████████| 20/20 [04:02<00:00, 12.14s/it]\n"
     ]
    }
   ],
   "source": [
    "season = 2018\n",
    "download_season(league, season)"
   ]
  },
  {
   "cell_type": "markdown",
   "id": "7313fd85",
   "metadata": {},
   "source": [
    "### 2017-2018"
   ]
  },
  {
   "cell_type": "code",
   "execution_count": 28,
   "id": "96b3fd82",
   "metadata": {
    "ExecuteTime": {
     "end_time": "2023-03-30T08:32:27.725758Z",
     "start_time": "2023-03-30T08:28:32.605803Z"
    }
   },
   "outputs": [
    {
     "name": "stderr",
     "output_type": "stream",
     "text": [
      "100%|███████████████████████████████████████████| 20/20 [03:45<00:00, 11.30s/it]\n"
     ]
    }
   ],
   "source": [
    "season = 2017\n",
    "download_season(league, season)"
   ]
  },
  {
   "cell_type": "code",
   "execution_count": null,
   "id": "73a95312",
   "metadata": {},
   "outputs": [],
   "source": []
  },
  {
   "cell_type": "code",
   "execution_count": 14,
   "id": "33d847ec",
   "metadata": {
    "ExecuteTime": {
     "end_time": "2023-04-07T02:49:29.128504Z",
     "start_time": "2023-04-07T02:49:28.872626Z"
    }
   },
   "outputs": [],
   "source": [
    "driver.close()"
   ]
  },
  {
   "cell_type": "code",
   "execution_count": null,
   "id": "a04098a7",
   "metadata": {},
   "outputs": [],
   "source": []
  }
 ],
 "metadata": {
  "kernelspec": {
   "display_name": "Python 3 (ipykernel)",
   "language": "python",
   "name": "python3"
  },
  "language_info": {
   "codemirror_mode": {
    "name": "ipython",
    "version": 3
   },
   "file_extension": ".py",
   "mimetype": "text/x-python",
   "name": "python",
   "nbconvert_exporter": "python",
   "pygments_lexer": "ipython3",
   "version": "3.8.15"
  }
 },
 "nbformat": 4,
 "nbformat_minor": 5
}
