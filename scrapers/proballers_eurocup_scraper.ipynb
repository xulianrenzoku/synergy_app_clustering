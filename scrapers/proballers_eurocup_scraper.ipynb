{
 "cells": [
  {
   "cell_type": "code",
   "execution_count": 1,
   "id": "691a98d6",
   "metadata": {
    "ExecuteTime": {
     "end_time": "2023-02-21T12:52:00.551998Z",
     "start_time": "2023-02-21T12:51:59.361800Z"
    }
   },
   "outputs": [],
   "source": [
    "import pandas as pd\n",
    "import numpy as np\n",
    "import os\n",
    "import time\n",
    "import pickle\n",
    "import re\n",
    "from tqdm import tqdm\n",
    "from bs4 import BeautifulSoup\n",
    "from selenium import webdriver\n",
    "from selenium.webdriver.chrome.service import Service\n",
    "from selenium.webdriver.common.by import By\n",
    "from selenium.common.exceptions import ElementClickInterceptedException, ElementNotInteractableException \n",
    "from webdriver_manager.chrome import ChromeDriverManager"
   ]
  },
  {
   "cell_type": "code",
   "execution_count": 2,
   "id": "550a6f70",
   "metadata": {
    "ExecuteTime": {
     "end_time": "2023-02-21T12:52:00.560101Z",
     "start_time": "2023-02-21T12:52:00.554976Z"
    }
   },
   "outputs": [],
   "source": [
    "pd.set_option('display.max_columns', None)"
   ]
  },
  {
   "cell_type": "code",
   "execution_count": 3,
   "id": "fbd00cf6",
   "metadata": {
    "ExecuteTime": {
     "end_time": "2023-02-21T12:52:00.567504Z",
     "start_time": "2023-02-21T12:52:00.563246Z"
    }
   },
   "outputs": [],
   "source": [
    "import warnings\n",
    "warnings.filterwarnings('ignore')"
   ]
  },
  {
   "cell_type": "markdown",
   "id": "441501e5",
   "metadata": {},
   "source": [
    "## Set Up Driver"
   ]
  },
  {
   "cell_type": "code",
   "execution_count": 4,
   "id": "b6a4f572",
   "metadata": {
    "ExecuteTime": {
     "end_time": "2023-02-21T12:52:03.466144Z",
     "start_time": "2023-02-21T12:52:00.572536Z"
    }
   },
   "outputs": [
    {
     "name": "stderr",
     "output_type": "stream",
     "text": [
      "\n",
      "\n",
      "====== WebDriver manager ======\n",
      "Current google-chrome version is 110.0.5481\n",
      "Get LATEST chromedriver version for 110.0.5481 google-chrome\n",
      "Driver [/Users/xulian/.wdm/drivers/chromedriver/mac64/110.0.5481.77/chromedriver] found in cache\n"
     ]
    }
   ],
   "source": [
    "service = Service(executable_path=ChromeDriverManager().install())\n",
    "driver = webdriver.Chrome(service=service)"
   ]
  },
  {
   "cell_type": "code",
   "execution_count": 5,
   "id": "ee7122bc",
   "metadata": {
    "ExecuteTime": {
     "end_time": "2023-02-21T12:52:03.484306Z",
     "start_time": "2023-02-21T12:52:03.472921Z"
    }
   },
   "outputs": [],
   "source": [
    "proballers_url = 'https://www.proballers.com'"
   ]
  },
  {
   "cell_type": "markdown",
   "id": "3dbe8685",
   "metadata": {},
   "source": [
    "## Dictionary"
   ]
  },
  {
   "cell_type": "code",
   "execution_count": 6,
   "id": "05876990",
   "metadata": {
    "ExecuteTime": {
     "end_time": "2023-02-21T12:52:03.586760Z",
     "start_time": "2023-02-21T12:52:03.492648Z"
    }
   },
   "outputs": [],
   "source": [
    "leagues_dict = {\n",
    "    'Eurocup': 192\n",
    "}"
   ]
  },
  {
   "cell_type": "markdown",
   "id": "96c5f830",
   "metadata": {},
   "source": [
    "## Functions"
   ]
  },
  {
   "cell_type": "code",
   "execution_count": 7,
   "id": "02de9713",
   "metadata": {
    "ExecuteTime": {
     "end_time": "2023-02-21T12:52:03.625509Z",
     "start_time": "2023-02-21T12:52:03.593620Z"
    }
   },
   "outputs": [],
   "source": [
    "def create_dirs(league, seasons):\n",
    "    for season in seasons:\n",
    "        dirname = f'{league}_{season}'\n",
    "        if dirname not in os.listdir('data'):\n",
    "            os.mkdir(f'data/{dirname}')"
   ]
  },
  {
   "cell_type": "code",
   "execution_count": 8,
   "id": "dd245870",
   "metadata": {
    "ExecuteTime": {
     "end_time": "2023-02-21T12:52:03.647294Z",
     "start_time": "2023-02-21T12:52:03.637806Z"
    }
   },
   "outputs": [],
   "source": [
    "def fetch(driver):\n",
    "    \"\"\"\n",
    "    Use BeautifulSoup to get the text of a web page.\n",
    "    \"\"\"\n",
    "    d = driver.page_source\n",
    "    comm = re.compile(\"<!--|-->\")\n",
    "    soup = BeautifulSoup(comm.sub(\"\", d), \"html.parser\")\n",
    "    return soup"
   ]
  },
  {
   "cell_type": "code",
   "execution_count": 9,
   "id": "fc79edc8",
   "metadata": {
    "ExecuteTime": {
     "end_time": "2023-02-21T12:52:03.668931Z",
     "start_time": "2023-02-21T12:52:03.650742Z"
    }
   },
   "outputs": [],
   "source": [
    "def get_team_urls(league, season, \n",
    "                  driver=driver,\n",
    "                  proballers_url=proballers_url,\n",
    "                  leagues_dict=leagues_dict):\n",
    "    league_id = leagues_dict[league]\n",
    "    season_url = (\n",
    "        f'{proballers_url}/basketball/league/'\n",
    "        f'{league_id}/{league.lower()}/'\n",
    "        f'teams/{season}'\n",
    "    )\n",
    "    driver.get(season_url)\n",
    "    \n",
    "    # Get team urls\n",
    "    soup = fetch(driver)\n",
    "    team_urls = [a['href'] for a in soup.find_all('a')\n",
    "                 if a.text == 'Team Roster']\n",
    "    \n",
    "    return team_urls"
   ]
  },
  {
   "cell_type": "code",
   "execution_count": 24,
   "id": "6a9ff385",
   "metadata": {
    "ExecuteTime": {
     "end_time": "2023-02-21T13:00:44.920440Z",
     "start_time": "2023-02-21T13:00:44.915364Z"
    }
   },
   "outputs": [],
   "source": [
    "def get_team_stats(league, team_url,\n",
    "                   driver=driver,\n",
    "                   proballers_url=proballers_url,\n",
    "                   leagues_dict=leagues_dict):\n",
    "    driver.get(f'{proballers_url}{team_url}')\n",
    "    \n",
    "    time.sleep(3)\n",
    "\n",
    "    league_id = leagues_dict[league]\n",
    "\n",
    "    # Locate & Get Data\n",
    "    soup = fetch(driver)\n",
    "    tables = soup.find_all('table')\n",
    "    league_options = [a.text.strip('\\n').strip(' ').strip('\\n')\n",
    "                      for a in soup.find_all('div', {'class': 'list-group'})[0]\n",
    "                                   .find_all('a')]\n",
    "    if len(tables) < len(league_options) * 7:\n",
    "        return ValueError('Error in number of tables')\n",
    "    for i in range(len(league_options)):\n",
    "        if league == league_options[i]:\n",
    "            league_order = i\n",
    "    \n",
    "    return pd.read_html(str(tables))[league_order*7+1]"
   ]
  },
  {
   "cell_type": "code",
   "execution_count": 11,
   "id": "d815997b",
   "metadata": {
    "ExecuteTime": {
     "end_time": "2023-02-21T12:52:16.648248Z",
     "start_time": "2023-02-21T12:52:16.642858Z"
    }
   },
   "outputs": [],
   "source": [
    "def download_season(league, season, \n",
    "                    driver=driver,\n",
    "                    proballers_url=proballers_url,\n",
    "                    leagues_dict=leagues_dict):\n",
    "    data_dir = f'data/{league}_{season}'\n",
    "    \n",
    "    team_urls = get_team_urls(league, season)\n",
    "    missing_teams_dict = {}\n",
    "    \n",
    "    for team_url in tqdm(team_urls):\n",
    "        team = team_url.split('/')[-2]\n",
    "        team_df = get_team_stats(league, team_url,\n",
    "                                 driver=driver,\n",
    "                                 proballers_url=proballers_url,\n",
    "                                 leagues_dict=leagues_dict)\n",
    "        team_df['Team'] = team\n",
    "        team_df.to_csv(f'{data_dir}/{team}.csv', index=False)\n",
    "        time.sleep(5)"
   ]
  },
  {
   "cell_type": "markdown",
   "id": "47cc53c0",
   "metadata": {},
   "source": [
    "## Scrape"
   ]
  },
  {
   "cell_type": "code",
   "execution_count": 12,
   "id": "fbe9c8dd",
   "metadata": {
    "ExecuteTime": {
     "end_time": "2023-02-21T12:52:22.062772Z",
     "start_time": "2023-02-21T12:52:22.058325Z"
    }
   },
   "outputs": [],
   "source": [
    "league = 'Eurocup'\n",
    "seasons = list(range(2017, 2022))\n",
    "create_dirs(league, seasons)"
   ]
  },
  {
   "cell_type": "markdown",
   "id": "84f8c1d2",
   "metadata": {},
   "source": [
    "### 2021-2022"
   ]
  },
  {
   "cell_type": "code",
   "execution_count": 26,
   "id": "667ec0d7",
   "metadata": {
    "ExecuteTime": {
     "end_time": "2023-02-21T13:06:18.234222Z",
     "start_time": "2023-02-21T13:01:27.313915Z"
    }
   },
   "outputs": [
    {
     "name": "stderr",
     "output_type": "stream",
     "text": [
      "100%|███████████████████████████████████████████| 20/20 [04:48<00:00, 14.44s/it]\n"
     ]
    }
   ],
   "source": [
    "season = 2021\n",
    "download_season(league, season)"
   ]
  },
  {
   "cell_type": "markdown",
   "id": "afa7c111",
   "metadata": {},
   "source": [
    "### 2020-2021"
   ]
  },
  {
   "cell_type": "code",
   "execution_count": 27,
   "id": "f77f8852",
   "metadata": {
    "ExecuteTime": {
     "end_time": "2023-02-21T13:16:39.543754Z",
     "start_time": "2023-02-21T13:10:05.782852Z"
    }
   },
   "outputs": [
    {
     "name": "stderr",
     "output_type": "stream",
     "text": [
      "100%|███████████████████████████████████████████| 24/24 [06:27<00:00, 16.16s/it]\n"
     ]
    }
   ],
   "source": [
    "season = 2020\n",
    "download_season(league, season)"
   ]
  },
  {
   "cell_type": "markdown",
   "id": "f5eba6c4",
   "metadata": {},
   "source": [
    "### 2019-2020"
   ]
  },
  {
   "cell_type": "code",
   "execution_count": 28,
   "id": "d901912c",
   "metadata": {
    "ExecuteTime": {
     "end_time": "2023-02-21T13:26:08.818533Z",
     "start_time": "2023-02-21T13:19:58.308489Z"
    }
   },
   "outputs": [
    {
     "name": "stderr",
     "output_type": "stream",
     "text": [
      "100%|███████████████████████████████████████████| 24/24 [06:04<00:00, 15.19s/it]\n"
     ]
    }
   ],
   "source": [
    "season = 2019\n",
    "download_season(league, season)"
   ]
  },
  {
   "cell_type": "markdown",
   "id": "c2db528c",
   "metadata": {},
   "source": [
    "### 2018-2019"
   ]
  },
  {
   "cell_type": "code",
   "execution_count": 29,
   "id": "589ee1cb",
   "metadata": {
    "ExecuteTime": {
     "end_time": "2023-02-21T13:32:16.049473Z",
     "start_time": "2023-02-21T13:26:08.823290Z"
    }
   },
   "outputs": [
    {
     "name": "stderr",
     "output_type": "stream",
     "text": [
      "100%|███████████████████████████████████████████| 24/24 [06:01<00:00, 15.06s/it]\n"
     ]
    }
   ],
   "source": [
    "season = 2018\n",
    "download_season(league, season)"
   ]
  },
  {
   "cell_type": "markdown",
   "id": "8724c4f1",
   "metadata": {},
   "source": [
    "### 2017-2018"
   ]
  },
  {
   "cell_type": "code",
   "execution_count": 30,
   "id": "ba3d5907",
   "metadata": {
    "ExecuteTime": {
     "end_time": "2023-02-21T13:34:20.440700Z",
     "start_time": "2023-02-21T13:32:16.051999Z"
    }
   },
   "outputs": [
    {
     "name": "stderr",
     "output_type": "stream",
     "text": [
      "100%|█████████████████████████████████████████████| 8/8 [02:00<00:00, 15.03s/it]\n"
     ]
    }
   ],
   "source": [
    "season = 2017\n",
    "download_season(league, season)"
   ]
  },
  {
   "cell_type": "code",
   "execution_count": null,
   "id": "73a95312",
   "metadata": {},
   "outputs": [],
   "source": []
  },
  {
   "cell_type": "code",
   "execution_count": 31,
   "id": "33d847ec",
   "metadata": {
    "ExecuteTime": {
     "end_time": "2023-02-21T13:37:57.336177Z",
     "start_time": "2023-02-21T13:37:57.119439Z"
    }
   },
   "outputs": [],
   "source": [
    "driver.close()"
   ]
  },
  {
   "cell_type": "code",
   "execution_count": null,
   "id": "a04098a7",
   "metadata": {},
   "outputs": [],
   "source": []
  }
 ],
 "metadata": {
  "kernelspec": {
   "display_name": "Python 3 (ipykernel)",
   "language": "python",
   "name": "python3"
  },
  "language_info": {
   "codemirror_mode": {
    "name": "ipython",
    "version": 3
   },
   "file_extension": ".py",
   "mimetype": "text/x-python",
   "name": "python",
   "nbconvert_exporter": "python",
   "pygments_lexer": "ipython3",
   "version": "3.8.15"
  }
 },
 "nbformat": 4,
 "nbformat_minor": 5
}
