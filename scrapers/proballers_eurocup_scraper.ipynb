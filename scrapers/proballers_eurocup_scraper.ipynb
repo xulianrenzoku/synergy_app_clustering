{
 "cells": [
  {
   "cell_type": "code",
   "execution_count": 1,
   "id": "691a98d6",
   "metadata": {
    "ExecuteTime": {
     "end_time": "2023-02-21T03:05:24.029374Z",
     "start_time": "2023-02-21T03:05:23.014307Z"
    }
   },
   "outputs": [],
   "source": [
    "import pandas as pd\n",
    "import numpy as np\n",
    "import os\n",
    "import time\n",
    "import pickle\n",
    "import re\n",
    "from tqdm import tqdm\n",
    "from bs4 import BeautifulSoup\n",
    "from selenium import webdriver\n",
    "from selenium.webdriver.chrome.service import Service\n",
    "from selenium.webdriver.common.by import By\n",
    "from selenium.common.exceptions import ElementClickInterceptedException, ElementNotInteractableException \n",
    "from webdriver_manager.chrome import ChromeDriverManager"
   ]
  },
  {
   "cell_type": "code",
   "execution_count": 2,
   "id": "550a6f70",
   "metadata": {
    "ExecuteTime": {
     "end_time": "2023-02-21T03:05:24.035121Z",
     "start_time": "2023-02-21T03:05:24.031685Z"
    }
   },
   "outputs": [],
   "source": [
    "pd.set_option('display.max_columns', None)"
   ]
  },
  {
   "cell_type": "code",
   "execution_count": 3,
   "id": "fbd00cf6",
   "metadata": {
    "ExecuteTime": {
     "end_time": "2023-02-21T03:05:24.043864Z",
     "start_time": "2023-02-21T03:05:24.040348Z"
    }
   },
   "outputs": [],
   "source": [
    "import warnings\n",
    "warnings.filterwarnings('ignore')"
   ]
  },
  {
   "cell_type": "markdown",
   "id": "441501e5",
   "metadata": {},
   "source": [
    "## Set Up Driver"
   ]
  },
  {
   "cell_type": "code",
   "execution_count": 4,
   "id": "b6a4f572",
   "metadata": {
    "ExecuteTime": {
     "end_time": "2023-02-21T03:05:26.974747Z",
     "start_time": "2023-02-21T03:05:24.050720Z"
    }
   },
   "outputs": [
    {
     "name": "stderr",
     "output_type": "stream",
     "text": [
      "\n",
      "\n",
      "====== WebDriver manager ======\n",
      "Current google-chrome version is 110.0.5481\n",
      "Get LATEST chromedriver version for 110.0.5481 google-chrome\n",
      "Driver [/Users/xulian/.wdm/drivers/chromedriver/mac64/110.0.5481.77/chromedriver] found in cache\n"
     ]
    }
   ],
   "source": [
    "service = Service(executable_path=ChromeDriverManager().install())\n",
    "driver = webdriver.Chrome(service=service)"
   ]
  },
  {
   "cell_type": "code",
   "execution_count": 5,
   "id": "ee7122bc",
   "metadata": {
    "ExecuteTime": {
     "end_time": "2023-02-21T03:05:27.040664Z",
     "start_time": "2023-02-21T03:05:27.018953Z"
    }
   },
   "outputs": [],
   "source": [
    "proballers_url = 'https://www.proballers.com'"
   ]
  },
  {
   "cell_type": "markdown",
   "id": "3dbe8685",
   "metadata": {},
   "source": [
    "## Dictionary"
   ]
  },
  {
   "cell_type": "code",
   "execution_count": 6,
   "id": "05876990",
   "metadata": {
    "ExecuteTime": {
     "end_time": "2023-02-21T03:05:27.065153Z",
     "start_time": "2023-02-21T03:05:27.047238Z"
    }
   },
   "outputs": [],
   "source": [
    "leagues_dict = {\n",
    "    'Eurocup': 192\n",
    "}"
   ]
  },
  {
   "cell_type": "markdown",
   "id": "96c5f830",
   "metadata": {},
   "source": [
    "## Functions"
   ]
  },
  {
   "cell_type": "code",
   "execution_count": 7,
   "id": "02de9713",
   "metadata": {
    "ExecuteTime": {
     "end_time": "2023-02-21T03:05:27.112989Z",
     "start_time": "2023-02-21T03:05:27.072978Z"
    }
   },
   "outputs": [],
   "source": [
    "def create_dirs(league, seasons):\n",
    "    for season in seasons:\n",
    "        dirname = f'{league}_{season}'\n",
    "        if dirname not in os.listdir('data'):\n",
    "            os.mkdir(f'data/{dirname}')"
   ]
  },
  {
   "cell_type": "code",
   "execution_count": 8,
   "id": "dd245870",
   "metadata": {
    "ExecuteTime": {
     "end_time": "2023-02-21T03:05:27.144239Z",
     "start_time": "2023-02-21T03:05:27.136136Z"
    }
   },
   "outputs": [],
   "source": [
    "def fetch(driver):\n",
    "    \"\"\"\n",
    "    Use BeautifulSoup to get the text of a web page.\n",
    "    \"\"\"\n",
    "    d = driver.page_source\n",
    "    comm = re.compile(\"<!--|-->\")\n",
    "    soup = BeautifulSoup(comm.sub(\"\", d), \"html.parser\")\n",
    "    return soup"
   ]
  },
  {
   "cell_type": "code",
   "execution_count": 9,
   "id": "fc79edc8",
   "metadata": {
    "ExecuteTime": {
     "end_time": "2023-02-21T03:05:27.175445Z",
     "start_time": "2023-02-21T03:05:27.149887Z"
    }
   },
   "outputs": [],
   "source": [
    "def get_team_urls(league, season, \n",
    "                  driver=driver,\n",
    "                  proballers_url=proballers_url,\n",
    "                  leagues_dict=leagues_dict):\n",
    "    league_id = leagues_dict[league]\n",
    "    season_url = (\n",
    "        f'{proballers_url}/basketball/league/'\n",
    "        f'{league_id}/{league.lower()}/'\n",
    "        f'teams/{season}'\n",
    "    )\n",
    "    driver.get(season_url)\n",
    "    \n",
    "    # Get team urls\n",
    "    soup = fetch(driver)\n",
    "    team_urls = [a['href'] for a in soup.find_all('a')\n",
    "                 if a.text == 'Team Roster']\n",
    "    \n",
    "    return team_urls"
   ]
  },
  {
   "cell_type": "code",
   "execution_count": 27,
   "id": "c426090d",
   "metadata": {
    "ExecuteTime": {
     "end_time": "2023-02-21T03:12:01.208509Z",
     "start_time": "2023-02-21T03:12:01.202393Z"
    }
   },
   "outputs": [],
   "source": [
    "def get_team_stats(league, team_url,\n",
    "                   driver=driver,\n",
    "                   proballers_url=proballers_url,\n",
    "                   leagues_dict=leagues_dict):\n",
    "    driver.get(f'{proballers_url}{team_url}')\n",
    "    \n",
    "    time.sleep(3)\n",
    "    driver.execute_script('window.scrollTo(0, 1600)') \n",
    "    \n",
    "    # Click League\n",
    "    league_id = leagues_dict[league]\n",
    "    driver.find_element_by_id(f'league-{league_id}-list').click()\n",
    "    \n",
    "    time.sleep(3)\n",
    "    \n",
    "    # Change to Total\n",
    "    driver.find_element_by_id(f'league-{league_id}')\\\n",
    "          .find_element_by_xpath(\"//select[@class='select-box']\")\\\n",
    "          .find_element_by_xpath(f\"//option[@value='accumulated-{league_id}']\")\\\n",
    "          .click()\n",
    "\n",
    "    # Get Data\n",
    "    soup = fetch(driver)\n",
    "    table = soup.find_all('table')[0]\n",
    "    \n",
    "    # Build DataFrame\n",
    "    cols = [th.text for th in table.find_all('th')]\n",
    "    data = [[td.text for td in tr.find_all('td')]\n",
    "            for tr in table.find_all('tr')]\n",
    "    data = [row for row in data\n",
    "            if len(row) == len(cols)]\n",
    "    df = pd.DataFrame(data, columns=cols)\n",
    "    \n",
    "    # Clean a bit\n",
    "    for col in cols:\n",
    "        if col in ['Player', 'W-L'] or '%' in col:\n",
    "            df[col] = df[col].apply(lambda x: x.strip('\\n').strip(' ').strip('\\n'))\n",
    "    \n",
    "    return df"
   ]
  },
  {
   "cell_type": "code",
   "execution_count": 28,
   "id": "d815997b",
   "metadata": {
    "ExecuteTime": {
     "end_time": "2023-02-21T03:12:01.984284Z",
     "start_time": "2023-02-21T03:12:01.978944Z"
    }
   },
   "outputs": [],
   "source": [
    "def download_season(league, season, \n",
    "                    driver=driver,\n",
    "                    proballers_url=proballers_url,\n",
    "                    leagues_dict=leagues_dict):\n",
    "    data_dir = f'data/{league}_{season}'\n",
    "    \n",
    "    team_urls = get_team_urls(league, season)\n",
    "    missing_teams_dict = {}\n",
    "    \n",
    "    for team_url in tqdm(team_urls):\n",
    "        team = team_url.split('/')[-2]\n",
    "        team_df = get_team_stats(league, team_url,\n",
    "                                 driver=driver,\n",
    "                                 proballers_url=proballers_url,\n",
    "                                 leagues_dict=leagues_dict)\n",
    "        team_df['Team'] = team\n",
    "        team_df.to_csv(f'{data_dir}/{team}.csv', index=False)\n",
    "        time.sleep(5)"
   ]
  },
  {
   "cell_type": "markdown",
   "id": "47cc53c0",
   "metadata": {},
   "source": [
    "## Scrape"
   ]
  },
  {
   "cell_type": "code",
   "execution_count": 29,
   "id": "fbe9c8dd",
   "metadata": {
    "ExecuteTime": {
     "end_time": "2023-02-21T03:12:03.033295Z",
     "start_time": "2023-02-21T03:12:03.029162Z"
    }
   },
   "outputs": [],
   "source": [
    "league = 'Eurocup'\n",
    "seasons = list(range(2017, 2022))\n",
    "create_dirs(league, seasons)"
   ]
  },
  {
   "cell_type": "markdown",
   "id": "84f8c1d2",
   "metadata": {},
   "source": [
    "### 2021-2022"
   ]
  },
  {
   "cell_type": "code",
   "execution_count": 30,
   "id": "667ec0d7",
   "metadata": {
    "ExecuteTime": {
     "end_time": "2023-02-21T03:18:16.844053Z",
     "start_time": "2023-02-21T03:12:04.005127Z"
    }
   },
   "outputs": [
    {
     "name": "stderr",
     "output_type": "stream",
     "text": [
      "100%|███████████████████████████████████████████| 20/20 [06:10<00:00, 18.52s/it]\n"
     ]
    }
   ],
   "source": [
    "season = 2021\n",
    "download_season(league, season)"
   ]
  },
  {
   "cell_type": "markdown",
   "id": "afa7c111",
   "metadata": {},
   "source": [
    "### 2020-2021"
   ]
  },
  {
   "cell_type": "code",
   "execution_count": 31,
   "id": "f77f8852",
   "metadata": {
    "ExecuteTime": {
     "end_time": "2023-02-21T03:25:33.999513Z",
     "start_time": "2023-02-21T03:18:16.849713Z"
    }
   },
   "outputs": [
    {
     "name": "stderr",
     "output_type": "stream",
     "text": [
      "100%|███████████████████████████████████████████| 24/24 [07:10<00:00, 17.96s/it]\n"
     ]
    }
   ],
   "source": [
    "season = 2020\n",
    "download_season(league, season)"
   ]
  },
  {
   "cell_type": "markdown",
   "id": "f5eba6c4",
   "metadata": {},
   "source": [
    "### 2019-2020"
   ]
  },
  {
   "cell_type": "code",
   "execution_count": 32,
   "id": "d901912c",
   "metadata": {
    "ExecuteTime": {
     "end_time": "2023-02-21T03:32:47.347069Z",
     "start_time": "2023-02-21T03:25:54.062545Z"
    }
   },
   "outputs": [
    {
     "name": "stderr",
     "output_type": "stream",
     "text": [
      "100%|███████████████████████████████████████████| 24/24 [06:48<00:00, 17.04s/it]\n"
     ]
    }
   ],
   "source": [
    "season = 2019\n",
    "download_season(league, season)"
   ]
  },
  {
   "cell_type": "markdown",
   "id": "c2db528c",
   "metadata": {},
   "source": [
    "### 2018-2019"
   ]
  },
  {
   "cell_type": "code",
   "execution_count": 34,
   "id": "589ee1cb",
   "metadata": {
    "ExecuteTime": {
     "end_time": "2023-02-21T04:17:44.225619Z",
     "start_time": "2023-02-21T04:10:35.560664Z"
    }
   },
   "outputs": [
    {
     "name": "stderr",
     "output_type": "stream",
     "text": [
      "100%|███████████████████████████████████████████| 24/24 [07:02<00:00, 17.61s/it]\n"
     ]
    }
   ],
   "source": [
    "season = 2018\n",
    "download_season(league, season)"
   ]
  },
  {
   "cell_type": "markdown",
   "id": "8724c4f1",
   "metadata": {},
   "source": [
    "### 2017-2018"
   ]
  },
  {
   "cell_type": "code",
   "execution_count": 35,
   "id": "ba3d5907",
   "metadata": {
    "ExecuteTime": {
     "end_time": "2023-02-21T04:20:31.501750Z",
     "start_time": "2023-02-21T04:18:20.835773Z"
    }
   },
   "outputs": [
    {
     "name": "stderr",
     "output_type": "stream",
     "text": [
      "100%|█████████████████████████████████████████████| 8/8 [02:08<00:00, 16.08s/it]\n"
     ]
    }
   ],
   "source": [
    "season = 2017\n",
    "download_season(league, season)"
   ]
  },
  {
   "cell_type": "code",
   "execution_count": null,
   "id": "73a95312",
   "metadata": {},
   "outputs": [],
   "source": []
  },
  {
   "cell_type": "code",
   "execution_count": 36,
   "id": "33d847ec",
   "metadata": {
    "ExecuteTime": {
     "end_time": "2023-02-21T04:40:40.808822Z",
     "start_time": "2023-02-21T04:40:40.573232Z"
    }
   },
   "outputs": [],
   "source": [
    "driver.close()"
   ]
  },
  {
   "cell_type": "code",
   "execution_count": null,
   "id": "a04098a7",
   "metadata": {},
   "outputs": [],
   "source": []
  }
 ],
 "metadata": {
  "kernelspec": {
   "display_name": "Python 3 (ipykernel)",
   "language": "python",
   "name": "python3"
  },
  "language_info": {
   "codemirror_mode": {
    "name": "ipython",
    "version": 3
   },
   "file_extension": ".py",
   "mimetype": "text/x-python",
   "name": "python",
   "nbconvert_exporter": "python",
   "pygments_lexer": "ipython3",
   "version": "3.8.15"
  }
 },
 "nbformat": 4,
 "nbformat_minor": 5
}
