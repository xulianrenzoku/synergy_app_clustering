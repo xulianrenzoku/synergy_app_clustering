{
 "cells": [
  {
   "cell_type": "code",
   "execution_count": 1,
   "metadata": {
    "ExecuteTime": {
     "end_time": "2023-02-22T03:42:04.571097Z",
     "start_time": "2023-02-22T03:42:03.473951Z"
    }
   },
   "outputs": [],
   "source": [
    "import pandas as pd\n",
    "import numpy as np\n",
    "import os\n",
    "import time\n",
    "import pickle\n",
    "from tqdm import tqdm\n",
    "from selenium import webdriver\n",
    "from selenium.webdriver.chrome.service import Service\n",
    "from webdriver_manager.chrome import ChromeDriverManager"
   ]
  },
  {
   "cell_type": "code",
   "execution_count": 2,
   "metadata": {
    "ExecuteTime": {
     "end_time": "2023-02-22T03:42:04.578246Z",
     "start_time": "2023-02-22T03:42:04.573631Z"
    }
   },
   "outputs": [],
   "source": [
    "import warnings\n",
    "warnings.filterwarnings('ignore')"
   ]
  },
  {
   "cell_type": "markdown",
   "metadata": {},
   "source": [
    "## Login"
   ]
  },
  {
   "cell_type": "code",
   "execution_count": 3,
   "metadata": {
    "ExecuteTime": {
     "end_time": "2023-02-22T03:42:04.787355Z",
     "start_time": "2023-02-22T03:42:04.782674Z"
    }
   },
   "outputs": [],
   "source": [
    "synergy_url = 'https://www.synergysportstech.com'\n",
    "app_url = 'https://apps.synergysports.com/basketball'"
   ]
  },
  {
   "cell_type": "code",
   "execution_count": 4,
   "metadata": {
    "ExecuteTime": {
     "end_time": "2023-02-22T03:42:05.490012Z",
     "start_time": "2023-02-22T03:42:05.483884Z"
    }
   },
   "outputs": [],
   "source": [
    "def login(driver, cred, synergy_url=synergy_url):\n",
    "    driver.get(f'{synergy_url}/synergy/')\n",
    "    time.sleep(5)\n",
    "    # Get username & password\n",
    "    with open(cred, 'r') as f:\n",
    "        user_password = f.readlines()[0].replace('\\n', '').split(', ')\n",
    "    # Login\n",
    "    userfield = driver.find_element_by_id('Username')\n",
    "    userfield.send_keys(user_password[0])\n",
    "    passwordfield = driver.find_element_by_id('Password')\n",
    "    passwordfield.send_keys(user_password[1])\n",
    "    driver.find_element_by_xpath(\"//button[@class='btn btn-primary']\").click()"
   ]
  },
  {
   "cell_type": "code",
   "execution_count": 5,
   "metadata": {
    "ExecuteTime": {
     "end_time": "2023-02-22T03:42:13.310580Z",
     "start_time": "2023-02-22T03:42:05.979788Z"
    }
   },
   "outputs": [
    {
     "name": "stderr",
     "output_type": "stream",
     "text": [
      "\n",
      "\n",
      "====== WebDriver manager ======\n",
      "Current google-chrome version is 110.0.5481\n",
      "Get LATEST chromedriver version for 110.0.5481 google-chrome\n",
      "Trying to download new driver from https://chromedriver.storage.googleapis.com/110.0.5481.77/chromedriver_mac64.zip\n",
      "Driver has been saved in cache [/Users/xulian/.wdm/drivers/chromedriver/mac64/110.0.5481.77]\n"
     ]
    }
   ],
   "source": [
    "# driver = webdriver.Chrome('/usr/local/bin/chromedriver')\n",
    "service = Service(executable_path=ChromeDriverManager().install())\n",
    "driver = webdriver.Chrome(service=service)"
   ]
  },
  {
   "cell_type": "code",
   "execution_count": 8,
   "metadata": {
    "ExecuteTime": {
     "end_time": "2023-02-22T03:42:41.680099Z",
     "start_time": "2023-02-22T03:42:33.521966Z"
    }
   },
   "outputs": [],
   "source": [
    "cred = '../synergy_cred.txt'\n",
    "login(driver, cred)"
   ]
  },
  {
   "cell_type": "markdown",
   "metadata": {},
   "source": [
    "## Scrape Setup"
   ]
  },
  {
   "cell_type": "code",
   "execution_count": 9,
   "metadata": {
    "ExecuteTime": {
     "end_time": "2023-02-22T03:42:43.910378Z",
     "start_time": "2023-02-22T03:42:43.907518Z"
    }
   },
   "outputs": [],
   "source": [
    "downloads_dir = '../../../../Downloads'"
   ]
  },
  {
   "cell_type": "markdown",
   "metadata": {},
   "source": [
    "### Situations"
   ]
  },
  {
   "cell_type": "code",
   "execution_count": 10,
   "metadata": {
    "ExecuteTime": {
     "end_time": "2023-02-22T03:42:46.159381Z",
     "start_time": "2023-02-22T03:42:46.155270Z"
    }
   },
   "outputs": [],
   "source": [
    "situations_dict = {\n",
    "    'Pick and Rolls Including Passes': '101',\n",
    "    'Isolations Including Passes': '100',\n",
    "    'Post-Ups Including Passes': '102',\n",
    "    'Catch and Shoot': '116',\n",
    "    'Isolation': '10',\n",
    "    'P&R Ball Handler': '11',\n",
    "    'Post-Up': '15',\n",
    "    'P&R Roll Man': '31',\n",
    "    'Spot Up': '50',\n",
    "    'Off Screen': '67',\n",
    "    'Hand Off': '78',\n",
    "    'Cut': '81',\n",
    "    'Offensive Rebounds': '89',\n",
    "    'Transition': '92',\n",
    "    'Miscellaneous': '124',\n",
    "    'All field goal attempts': '99',\n",
    "    'At Rim': '127',\n",
    "    'Long (3 point jump shots)': '109',\n",
    "    'All Jump Shots off the Dribble': '110'\n",
    "}"
   ]
  },
  {
   "cell_type": "markdown",
   "metadata": {},
   "source": [
    "### Functions"
   ]
  },
  {
   "cell_type": "code",
   "execution_count": 11,
   "metadata": {
    "ExecuteTime": {
     "end_time": "2023-02-22T03:43:19.266416Z",
     "start_time": "2023-02-22T03:43:19.262772Z"
    }
   },
   "outputs": [],
   "source": [
    "def create_dirs(league_dict):\n",
    "    league = league_dict['league']\n",
    "    for season in league_dict['seasonId'].keys():\n",
    "        dirname = f'../data/{league}_{season}'\n",
    "        if dirname not in os.listdir():\n",
    "            os.mkdir(dirname)"
   ]
  },
  {
   "cell_type": "code",
   "execution_count": 12,
   "metadata": {
    "ExecuteTime": {
     "end_time": "2023-02-22T03:43:20.577685Z",
     "start_time": "2023-02-22T03:43:20.573669Z"
    }
   },
   "outputs": [],
   "source": [
    "def get_stats_sheet(situation, \n",
    "                    reportType, season,\n",
    "                    league_dict, \n",
    "                    output_format='xlsx',\n",
    "                    situations_dict=situations_dict,\n",
    "                    driver=driver):\n",
    "    sheet_url = (\n",
    "        f'{app_url}/'\n",
    "        'leaderboards?'\n",
    "        f'leagueId={league_dict[\"leagueId\"]}&'\n",
    "        f'seasonId={league_dict[\"seasonId\"][season]}&'\n",
    "        f'competitionIds={league_dict[\"competitionIds\"]}&'\n",
    "        f'reportType={league_dict[\"reportType\"][reportType]}&'\n",
    "        f'situation={situations_dict[situation]}&'\n",
    "        'perGame=0&cutoff=0'\n",
    "    )\n",
    "    driver.get(sheet_url)\n",
    "    time.sleep(10)\n",
    "    \n",
    "    # Download\n",
    "    xpath = \"//div[@class='ng-select']\"\n",
    "    if output_format == 'csv':\n",
    "        xpath = \"//div[@class='ng-select ml-2']\"\n",
    "        \n",
    "    for b in driver.find_elements_by_xpath(xpath):\n",
    "        if b.text == output_format.upper():\n",
    "            b.click()\n",
    "    \n",
    "    time.sleep(10)"
   ]
  },
  {
   "cell_type": "code",
   "execution_count": 13,
   "metadata": {
    "ExecuteTime": {
     "end_time": "2023-02-22T03:43:22.449484Z",
     "start_time": "2023-02-22T03:43:22.443172Z"
    }
   },
   "outputs": [],
   "source": [
    "def download_season(season, \n",
    "                    reportType, \n",
    "                    league_dict, \n",
    "                    output_format='xlsx',\n",
    "                    situations_dict=situations_dict,\n",
    "                    driver=driver):\n",
    "    print(f'Downloading Season {season}')\n",
    "    for situation in tqdm(situations_dict.keys()):\n",
    "        get_stats_sheet(situation=situation,\n",
    "                        reportType=reportType,\n",
    "                        season=season,\n",
    "                        league_dict=league_dict,\n",
    "                        output_format=output_format)\n",
    "    print('Done.')"
   ]
  },
  {
   "cell_type": "code",
   "execution_count": 23,
   "metadata": {
    "ExecuteTime": {
     "end_time": "2023-02-22T03:52:04.968638Z",
     "start_time": "2023-02-22T03:52:04.962773Z"
    }
   },
   "outputs": [],
   "source": [
    "def move_season(season, league_dict, \n",
    "                downloads_dir=downloads_dir):\n",
    "    league = league_dict[\"league\"]\n",
    "    filename_prefix = (\n",
    "        'Leaderboards - '\n",
    "        f'International '\n",
    "        f'{season} '\n",
    "    )\n",
    "    \n",
    "    new_dir = f'../data/{league}_{season}'\n",
    "    for fn in os.listdir(downloads_dir):\n",
    "        if fn.startswith(filename_prefix):\n",
    "            os.rename(f'{downloads_dir}/{fn}',\n",
    "                      f'{new_dir}/{fn}')\n",
    "            \n",
    "    print(f'{new_dir}: {len(os.listdir(new_dir))}')"
   ]
  },
  {
   "cell_type": "code",
   "execution_count": 37,
   "metadata": {
    "ExecuteTime": {
     "end_time": "2023-02-22T04:31:43.754361Z",
     "start_time": "2023-02-22T04:31:43.749115Z"
    }
   },
   "outputs": [],
   "source": [
    "def find_missing_sheets(season, reportType, league,\n",
    "                        output_format, league_dict, \n",
    "                        situations_dict=situations_dict,\n",
    "                        driver=driver,\n",
    "                        downloads_dir=downloads_dir):\n",
    "    for situation in situations_dict.keys():\n",
    "        miss_flag = 1\n",
    "        for f in os.listdir(f'../data/{league}_{season}'):\n",
    "            if situation in f:\n",
    "                miss_flag = 0\n",
    "                break\n",
    "        if miss_flag == 1:\n",
    "            print(situation)\n",
    "            get_stats_sheet(situation=situation,\n",
    "                            reportType=reportType,\n",
    "                            season=season,\n",
    "                            league_dict=league_dict, \n",
    "                            output_format=output_format)\n",
    "    move_season(season=season, \n",
    "                league_dict=league_dict)"
   ]
  },
  {
   "cell_type": "markdown",
   "metadata": {},
   "source": [
    "## Scrape EuroCup"
   ]
  },
  {
   "cell_type": "code",
   "execution_count": 16,
   "metadata": {
    "ExecuteTime": {
     "end_time": "2023-02-22T03:43:27.289269Z",
     "start_time": "2023-02-22T03:43:27.284964Z"
    }
   },
   "outputs": [],
   "source": [
    "eurocup_dict = {\n",
    "    'league': 'EuroCup',\n",
    "    'leagueId': '54457dce300969b132fcfb3f',\n",
    "    'seasonId': {\n",
    "        '2021-2022': '6089924f5e7b4977beddb1d1',\n",
    "        '2020-2021': '5f171af2e0962f87ad2aafb2',\n",
    "        '2019-2020': '5c6cc33b85d07ba976fe09ca',\n",
    "        '2018-2019': '5b5360189559b26e7ed69ded',\n",
    "        '2017-2018': '59af08c917120e9c9a979910'\n",
    "    },\n",
    "    'competitionIds': '560100ac8dc7a24394b95656',\n",
    "    'reportType': {\n",
    "        'Player Offensive': '0',\n",
    "        'Player Defensive': '1',\n",
    "        'Team Offensive': '2',\n",
    "        'Team Defensive': '3'\n",
    "    }\n",
    "}"
   ]
  },
  {
   "cell_type": "code",
   "execution_count": 17,
   "metadata": {
    "ExecuteTime": {
     "end_time": "2023-02-22T03:43:27.714841Z",
     "start_time": "2023-02-22T03:43:27.710043Z"
    }
   },
   "outputs": [],
   "source": [
    "create_dirs(eurocup_dict)"
   ]
  },
  {
   "cell_type": "code",
   "execution_count": 18,
   "metadata": {
    "ExecuteTime": {
     "end_time": "2023-02-22T03:43:32.323493Z",
     "start_time": "2023-02-22T03:43:32.319127Z"
    }
   },
   "outputs": [],
   "source": [
    "reportType = 'Player Offensive'\n",
    "output_format = 'csv'"
   ]
  },
  {
   "cell_type": "markdown",
   "metadata": {},
   "source": [
    "### 2021-2022"
   ]
  },
  {
   "cell_type": "code",
   "execution_count": 19,
   "metadata": {
    "ExecuteTime": {
     "end_time": "2023-02-22T03:44:03.910575Z",
     "start_time": "2023-02-22T03:44:03.907754Z"
    }
   },
   "outputs": [],
   "source": [
    "league = 'EuroCup'"
   ]
  },
  {
   "cell_type": "code",
   "execution_count": 24,
   "metadata": {
    "ExecuteTime": {
     "end_time": "2023-02-22T03:53:12.143246Z",
     "start_time": "2023-02-22T03:53:12.139708Z"
    }
   },
   "outputs": [],
   "source": [
    "season = '2021-2022'"
   ]
  },
  {
   "cell_type": "code",
   "execution_count": 25,
   "metadata": {
    "ExecuteTime": {
     "end_time": "2023-02-22T03:59:53.734348Z",
     "start_time": "2023-02-22T03:53:13.096606Z"
    }
   },
   "outputs": [
    {
     "name": "stdout",
     "output_type": "stream",
     "text": [
      "Downloading Season 2021-2022\n"
     ]
    },
    {
     "name": "stderr",
     "output_type": "stream",
     "text": [
      "100%|███████████████████████████████████████████| 19/19 [06:40<00:00, 21.08s/it]"
     ]
    },
    {
     "name": "stdout",
     "output_type": "stream",
     "text": [
      "Done.\n",
      "../data/EuroCup_2021-2022: 19\n"
     ]
    },
    {
     "name": "stderr",
     "output_type": "stream",
     "text": [
      "\n"
     ]
    }
   ],
   "source": [
    "download_season(season=season,\n",
    "                reportType=reportType,\n",
    "                league_dict=eurocup_dict,\n",
    "                output_format=output_format)\n",
    "move_season(season=season, \n",
    "            league_dict=eurocup_dict)"
   ]
  },
  {
   "cell_type": "markdown",
   "metadata": {},
   "source": [
    "### 2020-2021"
   ]
  },
  {
   "cell_type": "code",
   "execution_count": 27,
   "metadata": {
    "ExecuteTime": {
     "end_time": "2023-02-22T04:00:10.668030Z",
     "start_time": "2023-02-22T04:00:10.663663Z"
    }
   },
   "outputs": [],
   "source": [
    "season = '2020-2021'"
   ]
  },
  {
   "cell_type": "code",
   "execution_count": 28,
   "metadata": {
    "ExecuteTime": {
     "end_time": "2023-02-22T04:06:52.728074Z",
     "start_time": "2023-02-22T04:00:11.171646Z"
    }
   },
   "outputs": [
    {
     "name": "stdout",
     "output_type": "stream",
     "text": [
      "Downloading Season 2020-2021\n"
     ]
    },
    {
     "name": "stderr",
     "output_type": "stream",
     "text": [
      "100%|███████████████████████████████████████████| 19/19 [06:41<00:00, 21.13s/it]"
     ]
    },
    {
     "name": "stdout",
     "output_type": "stream",
     "text": [
      "Done.\n",
      "../data/EuroCup_2020-2021: 19\n"
     ]
    },
    {
     "name": "stderr",
     "output_type": "stream",
     "text": [
      "\n"
     ]
    }
   ],
   "source": [
    "download_season(season=season,\n",
    "                reportType=reportType,\n",
    "                league_dict=eurocup_dict,\n",
    "                output_format=output_format)\n",
    "move_season(season=season, \n",
    "            league_dict=eurocup_dict)"
   ]
  },
  {
   "cell_type": "markdown",
   "metadata": {},
   "source": [
    "### 2019-2020"
   ]
  },
  {
   "cell_type": "code",
   "execution_count": 35,
   "metadata": {
    "ExecuteTime": {
     "end_time": "2023-02-22T04:31:23.620050Z",
     "start_time": "2023-02-22T04:31:23.616457Z"
    }
   },
   "outputs": [],
   "source": [
    "season = '2019-2020'"
   ]
  },
  {
   "cell_type": "code",
   "execution_count": 30,
   "metadata": {
    "ExecuteTime": {
     "end_time": "2023-02-22T04:13:32.615384Z",
     "start_time": "2023-02-22T04:06:52.747919Z"
    }
   },
   "outputs": [
    {
     "name": "stdout",
     "output_type": "stream",
     "text": [
      "Downloading Season 2019-2020\n"
     ]
    },
    {
     "name": "stderr",
     "output_type": "stream",
     "text": [
      "100%|███████████████████████████████████████████| 19/19 [06:39<00:00, 21.04s/it]"
     ]
    },
    {
     "name": "stdout",
     "output_type": "stream",
     "text": [
      "Done.\n",
      "../data/EuroCup_2019-2020: 18\n"
     ]
    },
    {
     "name": "stderr",
     "output_type": "stream",
     "text": [
      "\n"
     ]
    }
   ],
   "source": [
    "download_season(season=season,\n",
    "                reportType=reportType,\n",
    "                league_dict=eurocup_dict,\n",
    "                output_format=output_format)\n",
    "move_season(season=season, \n",
    "            league_dict=eurocup_dict)"
   ]
  },
  {
   "cell_type": "code",
   "execution_count": 38,
   "metadata": {
    "ExecuteTime": {
     "end_time": "2023-02-22T04:32:09.082723Z",
     "start_time": "2023-02-22T04:31:46.409994Z"
    }
   },
   "outputs": [
    {
     "name": "stdout",
     "output_type": "stream",
     "text": [
      "All field goal attempts\n",
      "../data/EuroCup_2019-2020: 19\n"
     ]
    }
   ],
   "source": [
    "find_missing_sheets(season=season, \n",
    "                    reportType=reportType, \n",
    "                    league=league,\n",
    "                    output_format=output_format, \n",
    "                    league_dict=eurocup_dict)"
   ]
  },
  {
   "cell_type": "markdown",
   "metadata": {},
   "source": [
    "### 2018-2019"
   ]
  },
  {
   "cell_type": "code",
   "execution_count": 31,
   "metadata": {
    "ExecuteTime": {
     "end_time": "2023-02-22T04:13:32.640095Z",
     "start_time": "2023-02-22T04:13:32.624566Z"
    }
   },
   "outputs": [],
   "source": [
    "season = '2018-2019'"
   ]
  },
  {
   "cell_type": "code",
   "execution_count": 32,
   "metadata": {
    "ExecuteTime": {
     "end_time": "2023-02-22T04:20:12.217923Z",
     "start_time": "2023-02-22T04:13:32.654048Z"
    }
   },
   "outputs": [
    {
     "name": "stdout",
     "output_type": "stream",
     "text": [
      "Downloading Season 2018-2019\n"
     ]
    },
    {
     "name": "stderr",
     "output_type": "stream",
     "text": [
      "100%|███████████████████████████████████████████| 19/19 [06:39<00:00, 21.03s/it]"
     ]
    },
    {
     "name": "stdout",
     "output_type": "stream",
     "text": [
      "Done.\n",
      "../data/EuroCup_2018-2019: 19\n"
     ]
    },
    {
     "name": "stderr",
     "output_type": "stream",
     "text": [
      "\n"
     ]
    }
   ],
   "source": [
    "download_season(season=season,\n",
    "                reportType=reportType,\n",
    "                league_dict=eurocup_dict,\n",
    "                output_format=output_format)\n",
    "move_season(season=season, \n",
    "            league_dict=eurocup_dict)"
   ]
  },
  {
   "cell_type": "markdown",
   "metadata": {},
   "source": [
    "### 2017-2018"
   ]
  },
  {
   "cell_type": "code",
   "execution_count": 33,
   "metadata": {
    "ExecuteTime": {
     "end_time": "2023-02-22T04:20:12.229103Z",
     "start_time": "2023-02-22T04:20:12.223486Z"
    }
   },
   "outputs": [],
   "source": [
    "season = '2017-2018'"
   ]
  },
  {
   "cell_type": "code",
   "execution_count": 34,
   "metadata": {
    "ExecuteTime": {
     "end_time": "2023-02-22T04:26:51.806089Z",
     "start_time": "2023-02-22T04:20:12.235237Z"
    }
   },
   "outputs": [
    {
     "name": "stdout",
     "output_type": "stream",
     "text": [
      "Downloading Season 2017-2018\n"
     ]
    },
    {
     "name": "stderr",
     "output_type": "stream",
     "text": [
      "100%|███████████████████████████████████████████| 19/19 [06:39<00:00, 21.03s/it]"
     ]
    },
    {
     "name": "stdout",
     "output_type": "stream",
     "text": [
      "Done.\n",
      "../data/EuroCup_2017-2018: 19\n"
     ]
    },
    {
     "name": "stderr",
     "output_type": "stream",
     "text": [
      "\n"
     ]
    }
   ],
   "source": [
    "download_season(season=season,\n",
    "                reportType=reportType,\n",
    "                league_dict=eurocup_dict,\n",
    "                output_format=output_format)\n",
    "move_season(season=season, \n",
    "            league_dict=eurocup_dict)"
   ]
  },
  {
   "cell_type": "code",
   "execution_count": null,
   "metadata": {},
   "outputs": [],
   "source": []
  },
  {
   "cell_type": "code",
   "execution_count": 39,
   "metadata": {
    "ExecuteTime": {
     "end_time": "2023-02-22T04:32:23.774257Z",
     "start_time": "2023-02-22T04:32:23.600914Z"
    }
   },
   "outputs": [],
   "source": [
    "driver.close()"
   ]
  },
  {
   "cell_type": "code",
   "execution_count": null,
   "metadata": {},
   "outputs": [],
   "source": []
  }
 ],
 "metadata": {
  "kernelspec": {
   "display_name": "Python 3 (ipykernel)",
   "language": "python",
   "name": "python3"
  },
  "language_info": {
   "codemirror_mode": {
    "name": "ipython",
    "version": 3
   },
   "file_extension": ".py",
   "mimetype": "text/x-python",
   "name": "python",
   "nbconvert_exporter": "python",
   "pygments_lexer": "ipython3",
   "version": "3.8.15"
  }
 },
 "nbformat": 4,
 "nbformat_minor": 2
}
