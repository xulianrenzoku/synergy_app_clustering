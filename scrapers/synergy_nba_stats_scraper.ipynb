{
 "cells": [
  {
   "cell_type": "code",
   "execution_count": 1,
   "metadata": {
    "ExecuteTime": {
     "end_time": "2023-02-22T04:33:30.242009Z",
     "start_time": "2023-02-22T04:33:29.106407Z"
    }
   },
   "outputs": [],
   "source": [
    "import pandas as pd\n",
    "import numpy as np\n",
    "import os\n",
    "import time\n",
    "import pickle\n",
    "from tqdm import tqdm\n",
    "from selenium import webdriver\n",
    "from selenium.webdriver.chrome.service import Service\n",
    "from webdriver_manager.chrome import ChromeDriverManager"
   ]
  },
  {
   "cell_type": "code",
   "execution_count": 2,
   "metadata": {
    "ExecuteTime": {
     "end_time": "2023-02-22T04:33:30.250045Z",
     "start_time": "2023-02-22T04:33:30.245916Z"
    }
   },
   "outputs": [],
   "source": [
    "import warnings\n",
    "warnings.filterwarnings('ignore')"
   ]
  },
  {
   "cell_type": "markdown",
   "metadata": {},
   "source": [
    "## Login"
   ]
  },
  {
   "cell_type": "code",
   "execution_count": 3,
   "metadata": {
    "ExecuteTime": {
     "end_time": "2023-02-22T04:33:30.257108Z",
     "start_time": "2023-02-22T04:33:30.253724Z"
    }
   },
   "outputs": [],
   "source": [
    "synergy_url = 'https://www.synergysportstech.com'\n",
    "app_url = 'https://apps.synergysports.com/basketball'"
   ]
  },
  {
   "cell_type": "code",
   "execution_count": 4,
   "metadata": {
    "ExecuteTime": {
     "end_time": "2023-02-22T04:33:30.342443Z",
     "start_time": "2023-02-22T04:33:30.335957Z"
    }
   },
   "outputs": [],
   "source": [
    "def login(driver, cred, synergy_url=synergy_url):\n",
    "    driver.get(f'{synergy_url}/synergy/')\n",
    "    time.sleep(5)\n",
    "    # Get username & password\n",
    "    with open(cred, 'r') as f:\n",
    "        user_password = f.readlines()[0].replace('\\n', '').split(', ')\n",
    "    # Login\n",
    "    userfield = driver.find_element_by_id('Username')\n",
    "    userfield.send_keys(user_password[0])\n",
    "    passwordfield = driver.find_element_by_id('Password')\n",
    "    passwordfield.send_keys(user_password[1])\n",
    "    driver.find_element_by_xpath(\"//button[@class='btn btn-primary']\").click()"
   ]
  },
  {
   "cell_type": "code",
   "execution_count": 5,
   "metadata": {
    "ExecuteTime": {
     "end_time": "2023-02-22T04:33:36.947185Z",
     "start_time": "2023-02-22T04:33:32.583168Z"
    }
   },
   "outputs": [
    {
     "name": "stderr",
     "output_type": "stream",
     "text": [
      "\n",
      "\n",
      "====== WebDriver manager ======\n",
      "Current google-chrome version is 110.0.5481\n",
      "Get LATEST chromedriver version for 110.0.5481 google-chrome\n",
      "Driver [/Users/xulian/.wdm/drivers/chromedriver/mac64/110.0.5481.77/chromedriver] found in cache\n"
     ]
    }
   ],
   "source": [
    "# driver = webdriver.Chrome('/usr/local/bin/chromedriver')\n",
    "service = Service(executable_path=ChromeDriverManager().install())\n",
    "driver = webdriver.Chrome(service=service)"
   ]
  },
  {
   "cell_type": "code",
   "execution_count": 6,
   "metadata": {
    "ExecuteTime": {
     "end_time": "2023-02-22T04:33:51.029723Z",
     "start_time": "2023-02-22T04:33:38.899387Z"
    }
   },
   "outputs": [],
   "source": [
    "cred = '../synergy_cred.txt'\n",
    "login(driver, cred)"
   ]
  },
  {
   "cell_type": "markdown",
   "metadata": {},
   "source": [
    "## Scrape Setup"
   ]
  },
  {
   "cell_type": "code",
   "execution_count": 7,
   "metadata": {
    "ExecuteTime": {
     "end_time": "2023-02-22T04:33:51.038921Z",
     "start_time": "2023-02-22T04:33:51.032853Z"
    }
   },
   "outputs": [],
   "source": [
    "downloads_dir = '../../../../Downloads'"
   ]
  },
  {
   "cell_type": "markdown",
   "metadata": {},
   "source": [
    "### Situations"
   ]
  },
  {
   "cell_type": "code",
   "execution_count": 8,
   "metadata": {
    "ExecuteTime": {
     "end_time": "2023-02-22T04:33:51.048163Z",
     "start_time": "2023-02-22T04:33:51.043865Z"
    }
   },
   "outputs": [],
   "source": [
    "situations_dict = {\n",
    "    'Pick and Rolls Including Passes': '101',\n",
    "    'Isolations Including Passes': '100',\n",
    "    'Post-Ups Including Passes': '102',\n",
    "    'Catch and Shoot': '116',\n",
    "    'Isolation': '10',\n",
    "    'P&R Ball Handler': '11',\n",
    "    'Post-Up': '15',\n",
    "    'P&R Roll Man': '31',\n",
    "    'Spot Up': '50',\n",
    "    'Off Screen': '67',\n",
    "    'Hand Off': '78',\n",
    "    'Cut': '81',\n",
    "    'Offensive Rebounds': '89',\n",
    "    'Transition': '92',\n",
    "    'Miscellaneous': '124',\n",
    "    'All field goal attempts': '99',\n",
    "    'At Rim': '127',\n",
    "    'Long (3 point jump shots)': '109',\n",
    "    'All Jump Shots off the Dribble': '110'\n",
    "}"
   ]
  },
  {
   "cell_type": "markdown",
   "metadata": {},
   "source": [
    "### Functions"
   ]
  },
  {
   "cell_type": "code",
   "execution_count": 16,
   "metadata": {
    "ExecuteTime": {
     "end_time": "2023-02-22T04:35:28.210398Z",
     "start_time": "2023-02-22T04:35:28.206754Z"
    }
   },
   "outputs": [],
   "source": [
    "def create_dirs(league_dict):\n",
    "    league = league_dict['league']\n",
    "    for season in league_dict['seasonId'].keys():\n",
    "        dirname = f'../data/{league}_{season}'\n",
    "        if dirname not in os.listdir():\n",
    "            os.mkdir(dirname)"
   ]
  },
  {
   "cell_type": "code",
   "execution_count": 10,
   "metadata": {
    "ExecuteTime": {
     "end_time": "2023-02-22T04:34:04.203382Z",
     "start_time": "2023-02-22T04:34:04.197246Z"
    }
   },
   "outputs": [],
   "source": [
    "def get_stats_sheet(situation, \n",
    "                    reportType, competition, season,\n",
    "                    league_dict, \n",
    "                    output_format='xlsx',\n",
    "                    situations_dict=situations_dict,\n",
    "                    driver=driver):\n",
    "    sheet_url = (\n",
    "        f'{app_url}/'\n",
    "        'leaderboards?'\n",
    "        f'leagueId={league_dict[\"leagueId\"]}&'\n",
    "        f'seasonId={league_dict[\"seasonId\"][season]}&'\n",
    "        f'competitionIds={league_dict[\"competitionIds\"][competition]}&'\n",
    "        f'reportType={league_dict[\"reportType\"][reportType]}&'\n",
    "        f'situation={situations_dict[situation]}&'\n",
    "        'perGame=0&cutoff=0'\n",
    "    )\n",
    "    driver.get(sheet_url)\n",
    "    time.sleep(10)\n",
    "    \n",
    "    # Download\n",
    "    xpath = \"//div[@class='ng-select']\"\n",
    "    if output_format == 'csv':\n",
    "        xpath = \"//div[@class='ng-select ml-2']\"\n",
    "        \n",
    "    for b in driver.find_elements_by_xpath(xpath):\n",
    "        if b.text == output_format.upper():\n",
    "            b.click()\n",
    "    \n",
    "    time.sleep(10)"
   ]
  },
  {
   "cell_type": "code",
   "execution_count": 11,
   "metadata": {
    "ExecuteTime": {
     "end_time": "2023-02-22T04:34:08.193110Z",
     "start_time": "2023-02-22T04:34:08.188952Z"
    }
   },
   "outputs": [],
   "source": [
    "def download_season(season, \n",
    "                    reportType, competition, \n",
    "                    league_dict, \n",
    "                    output_format='xlsx',\n",
    "                    situations_dict=situations_dict,\n",
    "                    driver=driver):\n",
    "    print(f'Downloading Season {season}')\n",
    "    for situation in tqdm(situations_dict.keys()):\n",
    "        get_stats_sheet(situation=situation,\n",
    "                        reportType=reportType,\n",
    "                        competition=competition,\n",
    "                        season=season,\n",
    "                        league_dict=league_dict,\n",
    "                        output_format=output_format)\n",
    "    print('Done.')"
   ]
  },
  {
   "cell_type": "code",
   "execution_count": 12,
   "metadata": {
    "ExecuteTime": {
     "end_time": "2023-02-22T04:34:17.852685Z",
     "start_time": "2023-02-22T04:34:17.847673Z"
    }
   },
   "outputs": [],
   "source": [
    "def move_season(season, league_dict, competition,\n",
    "                downloads_dir=downloads_dir):\n",
    "    league = league_dict[\"league\"]\n",
    "    filename_prefix = (\n",
    "        'Leaderboards - '\n",
    "        f'{league} '\n",
    "        f'{season} '\n",
    "        f'{competition} - '\n",
    "    )\n",
    "    \n",
    "    new_dir = f'../data/{league}_{season}'\n",
    "    for fn in os.listdir(downloads_dir):\n",
    "        if fn.startswith(filename_prefix):\n",
    "            os.rename(f'{downloads_dir}/{fn}',\n",
    "                      f'{new_dir}/{fn}')\n",
    "            \n",
    "    print(f'{new_dir}: {len(os.listdir(new_dir))}')"
   ]
  },
  {
   "cell_type": "code",
   "execution_count": 13,
   "metadata": {
    "ExecuteTime": {
     "end_time": "2023-02-22T04:34:27.848162Z",
     "start_time": "2023-02-22T04:34:27.842510Z"
    }
   },
   "outputs": [],
   "source": [
    "def find_missing_sheets(season, competition, reportType, league,\n",
    "                        output_format, league_dict, \n",
    "                        situations_dict=situations_dict,\n",
    "                        driver=driver,\n",
    "                        downloads_dir=downloads_dir):\n",
    "    for situation in situations_dict.keys():\n",
    "        miss_flag = 1\n",
    "        for f in os.listdir(f'../data/{league}_{season}'):\n",
    "            if situation in f:\n",
    "                miss_flag = 0\n",
    "                break\n",
    "        if miss_flag == 1:\n",
    "            print(situation)\n",
    "            get_stats_sheet(situation=situation,\n",
    "                            reportType=reportType,\n",
    "                            competition=competition,\n",
    "                            season=season,\n",
    "                            league_dict=league_dict, \n",
    "                            output_format=output_format)\n",
    "    move_season(season=season, \n",
    "                league_dict=league_dict, \n",
    "                competition=competition)"
   ]
  },
  {
   "cell_type": "markdown",
   "metadata": {},
   "source": [
    "## Scrape NBA"
   ]
  },
  {
   "cell_type": "code",
   "execution_count": 14,
   "metadata": {
    "ExecuteTime": {
     "end_time": "2023-02-22T04:34:32.087496Z",
     "start_time": "2023-02-22T04:34:32.083193Z"
    }
   },
   "outputs": [],
   "source": [
    "nba_dict = {\n",
    "    'league': 'NBA',\n",
    "    'leagueId': '54457dce300969b132fcfb34',\n",
    "    'seasonId': {\n",
    "        '2021-2022': '6120261cea4488c9fd5c57c5',\n",
    "        '2020-2021': '5fce72f5f68e52f827c39b4c',\n",
    "        '2019-2020': '5d51e0c6f52909811e13ee2d',\n",
    "        '2018-2019': '5b6e102011ef0d11039af1e3',\n",
    "        '2017-2018': '59af08c917120e9c9a9797ff'\n",
    "    },\n",
    "    'competitionIds': {\n",
    "        'Regular Season': '560100ac8dc7a24394b955ee'\n",
    "    },\n",
    "    'reportType': {\n",
    "        'Player Offensive': '0',\n",
    "        'Player Defensive': '1',\n",
    "        'Team Offensive': '2',\n",
    "        'Team Defensive': '3'\n",
    "    }\n",
    "}"
   ]
  },
  {
   "cell_type": "code",
   "execution_count": 17,
   "metadata": {
    "ExecuteTime": {
     "end_time": "2023-02-22T04:35:30.510012Z",
     "start_time": "2023-02-22T04:35:30.505195Z"
    }
   },
   "outputs": [],
   "source": [
    "create_dirs(nba_dict)"
   ]
  },
  {
   "cell_type": "code",
   "execution_count": 18,
   "metadata": {
    "ExecuteTime": {
     "end_time": "2023-02-22T04:35:38.975790Z",
     "start_time": "2023-02-22T04:35:38.972085Z"
    }
   },
   "outputs": [],
   "source": [
    "competition = 'Regular Season'\n",
    "reportType = 'Player Offensive'\n",
    "output_format = 'csv'"
   ]
  },
  {
   "cell_type": "markdown",
   "metadata": {},
   "source": [
    "### 2021-2022"
   ]
  },
  {
   "cell_type": "code",
   "execution_count": 19,
   "metadata": {
    "ExecuteTime": {
     "end_time": "2023-02-22T04:35:39.928729Z",
     "start_time": "2023-02-22T04:35:39.925091Z"
    }
   },
   "outputs": [],
   "source": [
    "league = 'NBA'"
   ]
  },
  {
   "cell_type": "code",
   "execution_count": 20,
   "metadata": {
    "ExecuteTime": {
     "end_time": "2023-02-22T04:35:40.361682Z",
     "start_time": "2023-02-22T04:35:40.358805Z"
    }
   },
   "outputs": [],
   "source": [
    "season = '2021-2022'"
   ]
  },
  {
   "cell_type": "code",
   "execution_count": 21,
   "metadata": {
    "ExecuteTime": {
     "end_time": "2023-02-22T04:42:20.664061Z",
     "start_time": "2023-02-22T04:35:41.432763Z"
    }
   },
   "outputs": [
    {
     "name": "stdout",
     "output_type": "stream",
     "text": [
      "Downloading Season 2021-2022\n"
     ]
    },
    {
     "name": "stderr",
     "output_type": "stream",
     "text": [
      "100%|███████████████████████████████████████████| 19/19 [06:39<00:00, 21.01s/it]"
     ]
    },
    {
     "name": "stdout",
     "output_type": "stream",
     "text": [
      "Done.\n",
      "../data/NBA_2021-2022: 19\n"
     ]
    },
    {
     "name": "stderr",
     "output_type": "stream",
     "text": [
      "\n"
     ]
    }
   ],
   "source": [
    "download_season(season=season,\n",
    "                reportType=reportType,\n",
    "                competition=competition,\n",
    "                league_dict=nba_dict,\n",
    "                output_format=output_format)\n",
    "move_season(season=season, \n",
    "            league_dict=nba_dict, \n",
    "            competition=competition)"
   ]
  },
  {
   "cell_type": "markdown",
   "metadata": {},
   "source": [
    "### 2020-2021"
   ]
  },
  {
   "cell_type": "code",
   "execution_count": 30,
   "metadata": {
    "ExecuteTime": {
     "end_time": "2023-02-22T05:26:39.513909Z",
     "start_time": "2023-02-22T05:26:39.510099Z"
    }
   },
   "outputs": [],
   "source": [
    "season = '2020-2021'"
   ]
  },
  {
   "cell_type": "code",
   "execution_count": 23,
   "metadata": {
    "ExecuteTime": {
     "end_time": "2023-02-22T04:51:06.185826Z",
     "start_time": "2023-02-22T04:44:24.905089Z"
    }
   },
   "outputs": [
    {
     "name": "stdout",
     "output_type": "stream",
     "text": [
      "Downloading Season 2020-2021\n"
     ]
    },
    {
     "name": "stderr",
     "output_type": "stream",
     "text": [
      "100%|███████████████████████████████████████████| 19/19 [06:41<00:00, 21.12s/it]"
     ]
    },
    {
     "name": "stdout",
     "output_type": "stream",
     "text": [
      "Done.\n",
      "../data/NBA_2020-2021: 18\n"
     ]
    },
    {
     "name": "stderr",
     "output_type": "stream",
     "text": [
      "\n"
     ]
    }
   ],
   "source": [
    "download_season(season=season,\n",
    "                reportType=reportType,\n",
    "                competition=competition,\n",
    "                league_dict=nba_dict,\n",
    "                output_format=output_format)\n",
    "move_season(season=season, \n",
    "            league_dict=nba_dict, \n",
    "            competition=competition)"
   ]
  },
  {
   "cell_type": "code",
   "execution_count": 32,
   "metadata": {
    "ExecuteTime": {
     "end_time": "2023-02-22T05:27:12.469150Z",
     "start_time": "2023-02-22T05:26:49.886733Z"
    }
   },
   "outputs": [
    {
     "name": "stdout",
     "output_type": "stream",
     "text": [
      "Isolations Including Passes\n",
      "../data/NBA_2020-2021: 19\n"
     ]
    }
   ],
   "source": [
    "find_missing_sheets(season=season, \n",
    "                    competition=competition, \n",
    "                    reportType=reportType, \n",
    "                    league=league,\n",
    "                    output_format=output_format, \n",
    "                    league_dict=nba_dict) "
   ]
  },
  {
   "cell_type": "markdown",
   "metadata": {},
   "source": [
    "### 2019-2020"
   ]
  },
  {
   "cell_type": "code",
   "execution_count": 24,
   "metadata": {
    "ExecuteTime": {
     "end_time": "2023-02-22T04:51:06.198746Z",
     "start_time": "2023-02-22T04:51:06.192406Z"
    }
   },
   "outputs": [],
   "source": [
    "season = '2019-2020'"
   ]
  },
  {
   "cell_type": "code",
   "execution_count": 25,
   "metadata": {
    "ExecuteTime": {
     "end_time": "2023-02-22T04:57:46.809961Z",
     "start_time": "2023-02-22T04:51:06.208934Z"
    }
   },
   "outputs": [
    {
     "name": "stdout",
     "output_type": "stream",
     "text": [
      "Downloading Season 2019-2020\n"
     ]
    },
    {
     "name": "stderr",
     "output_type": "stream",
     "text": [
      "100%|███████████████████████████████████████████| 19/19 [06:40<00:00, 21.08s/it]"
     ]
    },
    {
     "name": "stdout",
     "output_type": "stream",
     "text": [
      "Done.\n",
      "../data/NBA_2019-2020: 19\n"
     ]
    },
    {
     "name": "stderr",
     "output_type": "stream",
     "text": [
      "\n"
     ]
    }
   ],
   "source": [
    "download_season(season=season,\n",
    "                reportType=reportType,\n",
    "                competition=competition,\n",
    "                league_dict=nba_dict,\n",
    "                output_format=output_format)\n",
    "move_season(season=season, \n",
    "            league_dict=nba_dict, \n",
    "            competition=competition)"
   ]
  },
  {
   "cell_type": "markdown",
   "metadata": {},
   "source": [
    "### 2018-2019"
   ]
  },
  {
   "cell_type": "code",
   "execution_count": 26,
   "metadata": {
    "ExecuteTime": {
     "end_time": "2023-02-22T04:57:46.822496Z",
     "start_time": "2023-02-22T04:57:46.816901Z"
    }
   },
   "outputs": [],
   "source": [
    "season = '2018-2019'"
   ]
  },
  {
   "cell_type": "code",
   "execution_count": 27,
   "metadata": {
    "ExecuteTime": {
     "end_time": "2023-02-22T05:04:26.818637Z",
     "start_time": "2023-02-22T04:57:46.827452Z"
    }
   },
   "outputs": [
    {
     "name": "stdout",
     "output_type": "stream",
     "text": [
      "Downloading Season 2018-2019\n"
     ]
    },
    {
     "name": "stderr",
     "output_type": "stream",
     "text": [
      "100%|███████████████████████████████████████████| 19/19 [06:39<00:00, 21.05s/it]"
     ]
    },
    {
     "name": "stdout",
     "output_type": "stream",
     "text": [
      "Done.\n",
      "../data/NBA_2018-2019: 19\n"
     ]
    },
    {
     "name": "stderr",
     "output_type": "stream",
     "text": [
      "\n"
     ]
    }
   ],
   "source": [
    "download_season(season=season,\n",
    "                reportType=reportType,\n",
    "                competition=competition,\n",
    "                league_dict=nba_dict,\n",
    "                output_format=output_format)\n",
    "move_season(season=season, \n",
    "            league_dict=nba_dict, \n",
    "            competition=competition)"
   ]
  },
  {
   "cell_type": "markdown",
   "metadata": {},
   "source": [
    "### 2017-2018"
   ]
  },
  {
   "cell_type": "code",
   "execution_count": 28,
   "metadata": {
    "ExecuteTime": {
     "end_time": "2023-02-22T05:04:26.830227Z",
     "start_time": "2023-02-22T05:04:26.823953Z"
    }
   },
   "outputs": [],
   "source": [
    "season = '2017-2018'"
   ]
  },
  {
   "cell_type": "code",
   "execution_count": 29,
   "metadata": {
    "ExecuteTime": {
     "end_time": "2023-02-22T05:11:08.506452Z",
     "start_time": "2023-02-22T05:04:26.835253Z"
    }
   },
   "outputs": [
    {
     "name": "stdout",
     "output_type": "stream",
     "text": [
      "Downloading Season 2017-2018\n"
     ]
    },
    {
     "name": "stderr",
     "output_type": "stream",
     "text": [
      "100%|███████████████████████████████████████████| 19/19 [06:41<00:00, 21.14s/it]"
     ]
    },
    {
     "name": "stdout",
     "output_type": "stream",
     "text": [
      "Done.\n",
      "../data/NBA_2017-2018: 19\n"
     ]
    },
    {
     "name": "stderr",
     "output_type": "stream",
     "text": [
      "\n"
     ]
    }
   ],
   "source": [
    "download_season(season=season,\n",
    "                reportType=reportType,\n",
    "                competition=competition,\n",
    "                league_dict=nba_dict,\n",
    "                output_format=output_format)\n",
    "move_season(season=season, \n",
    "            league_dict=nba_dict, \n",
    "            competition=competition)"
   ]
  },
  {
   "cell_type": "code",
   "execution_count": null,
   "metadata": {},
   "outputs": [],
   "source": []
  },
  {
   "cell_type": "code",
   "execution_count": 33,
   "metadata": {
    "ExecuteTime": {
     "end_time": "2023-02-22T05:27:15.375854Z",
     "start_time": "2023-02-22T05:27:15.198786Z"
    }
   },
   "outputs": [],
   "source": [
    "driver.close()"
   ]
  },
  {
   "cell_type": "code",
   "execution_count": null,
   "metadata": {},
   "outputs": [],
   "source": []
  }
 ],
 "metadata": {
  "kernelspec": {
   "display_name": "Python 3 (ipykernel)",
   "language": "python",
   "name": "python3"
  },
  "language_info": {
   "codemirror_mode": {
    "name": "ipython",
    "version": 3
   },
   "file_extension": ".py",
   "mimetype": "text/x-python",
   "name": "python",
   "nbconvert_exporter": "python",
   "pygments_lexer": "ipython3",
   "version": "3.8.15"
  }
 },
 "nbformat": 4,
 "nbformat_minor": 2
}
