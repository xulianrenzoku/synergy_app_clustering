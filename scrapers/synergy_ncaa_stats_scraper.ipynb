{
 "cells": [
  {
   "cell_type": "code",
   "execution_count": 1,
   "metadata": {
    "ExecuteTime": {
     "end_time": "2023-02-22T07:24:10.519648Z",
     "start_time": "2023-02-22T07:24:09.430171Z"
    }
   },
   "outputs": [],
   "source": [
    "import pandas as pd\n",
    "import numpy as np\n",
    "import os\n",
    "import time\n",
    "import pickle\n",
    "from tqdm import tqdm\n",
    "from selenium import webdriver\n",
    "from selenium.webdriver.chrome.service import Service\n",
    "from webdriver_manager.chrome import ChromeDriverManager"
   ]
  },
  {
   "cell_type": "code",
   "execution_count": 2,
   "metadata": {
    "ExecuteTime": {
     "end_time": "2023-02-22T07:24:10.527158Z",
     "start_time": "2023-02-22T07:24:10.522866Z"
    }
   },
   "outputs": [],
   "source": [
    "import warnings\n",
    "warnings.filterwarnings('ignore')"
   ]
  },
  {
   "cell_type": "markdown",
   "metadata": {},
   "source": [
    "## Login"
   ]
  },
  {
   "cell_type": "code",
   "execution_count": 3,
   "metadata": {
    "ExecuteTime": {
     "end_time": "2023-02-22T07:24:10.534700Z",
     "start_time": "2023-02-22T07:24:10.530991Z"
    }
   },
   "outputs": [],
   "source": [
    "synergy_url = 'https://www.synergysportstech.com'\n",
    "app_url = 'https://apps.synergysports.com/basketball'"
   ]
  },
  {
   "cell_type": "code",
   "execution_count": 4,
   "metadata": {
    "ExecuteTime": {
     "end_time": "2023-02-22T07:24:10.544009Z",
     "start_time": "2023-02-22T07:24:10.538789Z"
    }
   },
   "outputs": [],
   "source": [
    "def login(driver, cred, synergy_url=synergy_url):\n",
    "    driver.get(f'{synergy_url}/synergy/')\n",
    "    time.sleep(5)\n",
    "    # Get username & password\n",
    "    with open(cred, 'r') as f:\n",
    "        user_password = f.readlines()[0].replace('\\n', '').split(', ')\n",
    "    # Login\n",
    "    userfield = driver.find_element_by_id('Username')\n",
    "    userfield.send_keys(user_password[0])\n",
    "    passwordfield = driver.find_element_by_id('Password')\n",
    "    passwordfield.send_keys(user_password[1])\n",
    "    driver.find_element_by_xpath(\"//button[@class='btn btn-primary']\").click()"
   ]
  },
  {
   "cell_type": "code",
   "execution_count": 5,
   "metadata": {
    "ExecuteTime": {
     "end_time": "2023-02-22T07:24:13.788167Z",
     "start_time": "2023-02-22T07:24:10.763434Z"
    }
   },
   "outputs": [
    {
     "name": "stderr",
     "output_type": "stream",
     "text": [
      "\n",
      "\n",
      "====== WebDriver manager ======\n",
      "Current google-chrome version is 110.0.5481\n",
      "Get LATEST chromedriver version for 110.0.5481 google-chrome\n",
      "Driver [/Users/xulian/.wdm/drivers/chromedriver/mac64/110.0.5481.77/chromedriver] found in cache\n"
     ]
    }
   ],
   "source": [
    "# driver = webdriver.Chrome('/usr/local/bin/chromedriver')\n",
    "service = Service(executable_path=ChromeDriverManager().install())\n",
    "driver = webdriver.Chrome(service=service)"
   ]
  },
  {
   "cell_type": "code",
   "execution_count": 7,
   "metadata": {
    "ExecuteTime": {
     "end_time": "2023-02-22T07:24:33.901778Z",
     "start_time": "2023-02-22T07:24:25.928324Z"
    }
   },
   "outputs": [],
   "source": [
    "cred = '../synergy_cred.txt'\n",
    "login(driver, cred)"
   ]
  },
  {
   "cell_type": "markdown",
   "metadata": {},
   "source": [
    "## Scrape Setup"
   ]
  },
  {
   "cell_type": "code",
   "execution_count": 21,
   "metadata": {
    "ExecuteTime": {
     "end_time": "2023-02-22T08:07:00.822785Z",
     "start_time": "2023-02-22T08:07:00.819213Z"
    }
   },
   "outputs": [],
   "source": [
    "downloads_dir = '../../../../Downloads'"
   ]
  },
  {
   "cell_type": "markdown",
   "metadata": {},
   "source": [
    "### Situations"
   ]
  },
  {
   "cell_type": "code",
   "execution_count": 24,
   "metadata": {
    "ExecuteTime": {
     "end_time": "2023-02-22T08:07:19.150048Z",
     "start_time": "2023-02-22T08:07:19.145167Z"
    }
   },
   "outputs": [],
   "source": [
    "situations_dict = {\n",
    "    'Pick and Rolls Including Passes': '101',\n",
    "    'Isolations Including Passes': '100',\n",
    "    'Post-Ups Including Passes': '102',\n",
    "    'Catch and Shoot': '116',\n",
    "    'Isolation': '10',\n",
    "    'P&R Ball Handler': '11',\n",
    "    'Post-Up': '15',\n",
    "    'P&R Roll Man': '31',\n",
    "    'Spot Up': '50',\n",
    "    'Off Screen': '67',\n",
    "    'Hand Off': '78',\n",
    "    'Cut': '81',\n",
    "    'Offensive Rebounds': '89',\n",
    "    'Transition': '92',\n",
    "    'Miscellaneous': '124',\n",
    "    'All field goal attempts': '99',\n",
    "    'At Rim': '127',\n",
    "    'Long (3 point jump shots)': '109',\n",
    "    'All Jump Shots off the Dribble': '110'\n",
    "}"
   ]
  },
  {
   "cell_type": "markdown",
   "metadata": {},
   "source": [
    "### Functions"
   ]
  },
  {
   "cell_type": "code",
   "execution_count": 25,
   "metadata": {
    "ExecuteTime": {
     "end_time": "2023-02-22T08:07:19.695092Z",
     "start_time": "2023-02-22T08:07:19.691367Z"
    }
   },
   "outputs": [],
   "source": [
    "def create_dirs(league_dict):\n",
    "    league = league_dict['league']\n",
    "    for season in league_dict['seasonId'].keys():\n",
    "        dirname = f'../data/{league}_{season}'\n",
    "        if dirname not in os.listdir():\n",
    "            os.mkdir(dirname)"
   ]
  },
  {
   "cell_type": "code",
   "execution_count": 26,
   "metadata": {
    "ExecuteTime": {
     "end_time": "2023-02-22T08:07:19.889939Z",
     "start_time": "2023-02-22T08:07:19.884019Z"
    }
   },
   "outputs": [],
   "source": [
    "def get_stats_sheet(situation, \n",
    "                    reportType, division, season,\n",
    "                    league_dict, \n",
    "                    output_format='xlsx',\n",
    "                    situations_dict=situations_dict,\n",
    "                    driver=driver):\n",
    "    sheet_url = (\n",
    "        f'{app_url}/'\n",
    "        'leaderboards?'\n",
    "        f'leagueId={league_dict[\"leagueId\"]}&'\n",
    "        f'seasonId={league_dict[\"seasonId\"][season]}&'\n",
    "        f'conferenceIds={league_dict[\"conferenceIds\"][division]}&'\n",
    "        f'reportType={league_dict[\"reportType\"][reportType]}&'\n",
    "        f'situation={situations_dict[situation]}&'\n",
    "        'perGame=0&cutoff=0'\n",
    "    )\n",
    "    driver.get(sheet_url)\n",
    "    time.sleep(20)\n",
    "    \n",
    "    # Download\n",
    "    xpath = \"//div[@class='ng-select']\"\n",
    "    if output_format == 'csv':\n",
    "        xpath = \"//div[@class='ng-select ml-2']\"\n",
    "        \n",
    "    for b in driver.find_elements_by_xpath(xpath):\n",
    "        if b.text == output_format.upper():\n",
    "            b.click()\n",
    "    \n",
    "    time.sleep(10)"
   ]
  },
  {
   "cell_type": "code",
   "execution_count": 27,
   "metadata": {
    "ExecuteTime": {
     "end_time": "2023-02-22T08:07:20.101165Z",
     "start_time": "2023-02-22T08:07:20.095487Z"
    }
   },
   "outputs": [],
   "source": [
    "def download_season(season, \n",
    "                    reportType, division, \n",
    "                    league_dict, \n",
    "                    output_format='xlsx',\n",
    "                    situations_dict=situations_dict,\n",
    "                    driver=driver):\n",
    "    print(f'Downloading Season {season}')\n",
    "    for situation in tqdm(situations_dict.keys()):\n",
    "        get_stats_sheet(situation=situation,\n",
    "                        reportType=reportType,\n",
    "                        division=division,\n",
    "                        season=season,\n",
    "                        league_dict=league_dict,\n",
    "                        output_format=output_format)\n",
    "    print('Done.')"
   ]
  },
  {
   "cell_type": "code",
   "execution_count": 28,
   "metadata": {
    "ExecuteTime": {
     "end_time": "2023-02-22T08:07:20.313749Z",
     "start_time": "2023-02-22T08:07:20.308842Z"
    }
   },
   "outputs": [],
   "source": [
    "def move_season(season, league_dict, \n",
    "                downloads_dir=downloads_dir):\n",
    "    league = league_dict[\"league\"]\n",
    "    filename_prefix = (\n",
    "        'Leaderboards - '\n",
    "        f'{league} '\n",
    "        f'{season} '\n",
    "    )\n",
    "    \n",
    "    new_dir = f'../data/{league}_{season}'\n",
    "    for fn in os.listdir(downloads_dir):\n",
    "        if fn.startswith(filename_prefix):\n",
    "            os.rename(f'{downloads_dir}/{fn}',\n",
    "                      f'{new_dir}/{fn}')\n",
    "            \n",
    "    print(f'{new_dir}: {len(os.listdir(new_dir))}')"
   ]
  },
  {
   "cell_type": "code",
   "execution_count": 29,
   "metadata": {
    "ExecuteTime": {
     "end_time": "2023-02-22T08:07:20.510770Z",
     "start_time": "2023-02-22T08:07:20.505367Z"
    }
   },
   "outputs": [],
   "source": [
    "def find_missing_sheets(season, division, reportType, league,\n",
    "                        output_format, league_dict, \n",
    "                        situations_dict=situations_dict,\n",
    "                        driver=driver,\n",
    "                        downloads_dir=downloads_dir):\n",
    "    for situation in situations_dict.keys():\n",
    "        miss_flag = 1\n",
    "        for f in os.listdir(f'../data/{league}_{season}'):\n",
    "            if situation in f:\n",
    "                miss_flag = 0\n",
    "                break\n",
    "        if miss_flag == 1:\n",
    "            print(situation)\n",
    "            get_stats_sheet(situation=situation,\n",
    "                            reportType=reportType,\n",
    "                            division=division,\n",
    "                            season=season,\n",
    "                            league_dict=league_dict, \n",
    "                            output_format=output_format)\n",
    "    move_season(season=season, \n",
    "                league_dict=league_dict, \n",
    "                division=division)"
   ]
  },
  {
   "cell_type": "markdown",
   "metadata": {},
   "source": [
    "## Scrape College Men"
   ]
  },
  {
   "cell_type": "code",
   "execution_count": 30,
   "metadata": {
    "ExecuteTime": {
     "end_time": "2023-02-22T08:07:21.806939Z",
     "start_time": "2023-02-22T08:07:21.803363Z"
    }
   },
   "outputs": [],
   "source": [
    "ncaa_dict = {\n",
    "    'league': 'College Men',\n",
    "    'leagueId': '54457dce300969b132fcfb37',\n",
    "    'seasonId': {\n",
    "        '2021-2022': '6085b5d0e6c2413bc4ba9122',\n",
    "        '2020-2021': '5dad07257455336e8774eb66',\n",
    "        '2019-2020': '5d56fb68f52909811e1c65e5',\n",
    "        '2018-2019': '5b4bd3ab9559b26e7e107793',\n",
    "        '2017-2018': '59af08c917120e9c9a97983b'\n",
    "    },\n",
    "    'conferenceIds': {\n",
    "        'NCAA Division I': '54457dce300969b132fcfb4a'\n",
    "    }, \n",
    "    'reportType': {\n",
    "        'Player Offensive': '0',\n",
    "        'Player Defensive': '1',\n",
    "        'Team Offensive': '2',\n",
    "        'Team Defensive': '3'\n",
    "    }\n",
    "}"
   ]
  },
  {
   "cell_type": "code",
   "execution_count": 16,
   "metadata": {
    "ExecuteTime": {
     "end_time": "2023-02-22T07:25:02.159210Z",
     "start_time": "2023-02-22T07:25:02.154974Z"
    }
   },
   "outputs": [],
   "source": [
    "create_dirs(ncaa_dict)"
   ]
  },
  {
   "cell_type": "code",
   "execution_count": 17,
   "metadata": {
    "ExecuteTime": {
     "end_time": "2023-02-22T07:25:02.555080Z",
     "start_time": "2023-02-22T07:25:02.551483Z"
    }
   },
   "outputs": [],
   "source": [
    "division = 'NCAA Division I'\n",
    "reportType = 'Player Offensive'\n",
    "output_format = 'csv'"
   ]
  },
  {
   "cell_type": "markdown",
   "metadata": {},
   "source": [
    "### 2021-2022"
   ]
  },
  {
   "cell_type": "code",
   "execution_count": 18,
   "metadata": {
    "ExecuteTime": {
     "end_time": "2023-02-22T07:25:04.588912Z",
     "start_time": "2023-02-22T07:25:04.585868Z"
    }
   },
   "outputs": [],
   "source": [
    "league = 'College Men'"
   ]
  },
  {
   "cell_type": "code",
   "execution_count": 19,
   "metadata": {
    "ExecuteTime": {
     "end_time": "2023-02-22T07:25:05.093002Z",
     "start_time": "2023-02-22T07:25:05.090053Z"
    }
   },
   "outputs": [],
   "source": [
    "season = '2021-2022'"
   ]
  },
  {
   "cell_type": "code",
   "execution_count": 22,
   "metadata": {
    "ExecuteTime": {
     "end_time": "2023-02-22T08:07:08.015514Z",
     "start_time": "2023-02-22T08:07:08.012102Z"
    }
   },
   "outputs": [],
   "source": [
    "download_season(season=season,\n",
    "                reportType=reportType,\n",
    "                division=division,\n",
    "                league_dict=ncaa_dict,\n",
    "                output_format=output_format)\n",
    "move_season(season=season, \n",
    "            league_dict=ncaa_dict)"
   ]
  },
  {
   "cell_type": "markdown",
   "metadata": {},
   "source": [
    "### 2020-2021"
   ]
  },
  {
   "cell_type": "code",
   "execution_count": 32,
   "metadata": {
    "ExecuteTime": {
     "end_time": "2023-02-22T08:07:38.812571Z",
     "start_time": "2023-02-22T08:07:38.808180Z"
    }
   },
   "outputs": [],
   "source": [
    "season = '2020-2021'"
   ]
  },
  {
   "cell_type": "code",
   "execution_count": 33,
   "metadata": {
    "ExecuteTime": {
     "end_time": "2023-02-22T08:17:35.210594Z",
     "start_time": "2023-02-22T08:07:39.717033Z"
    }
   },
   "outputs": [
    {
     "name": "stdout",
     "output_type": "stream",
     "text": [
      "Downloading Season 2020-2021\n"
     ]
    },
    {
     "name": "stderr",
     "output_type": "stream",
     "text": [
      "100%|███████████████████████████████████████████| 19/19 [09:55<00:00, 31.34s/it]"
     ]
    },
    {
     "name": "stdout",
     "output_type": "stream",
     "text": [
      "Done.\n",
      "../data/College Men_2020-2021: 19\n"
     ]
    },
    {
     "name": "stderr",
     "output_type": "stream",
     "text": [
      "\n"
     ]
    }
   ],
   "source": [
    "download_season(season=season,\n",
    "                reportType=reportType,\n",
    "                division=division,\n",
    "                league_dict=ncaa_dict,\n",
    "                output_format=output_format)\n",
    "move_season(season=season, \n",
    "            league_dict=ncaa_dict)"
   ]
  },
  {
   "cell_type": "markdown",
   "metadata": {},
   "source": [
    "### 2019-2020"
   ]
  },
  {
   "cell_type": "code",
   "execution_count": 34,
   "metadata": {
    "ExecuteTime": {
     "end_time": "2023-02-22T08:17:35.220393Z",
     "start_time": "2023-02-22T08:17:35.216723Z"
    }
   },
   "outputs": [],
   "source": [
    "season = '2019-2020'"
   ]
  },
  {
   "cell_type": "code",
   "execution_count": 35,
   "metadata": {
    "ExecuteTime": {
     "end_time": "2023-02-22T08:27:29.603269Z",
     "start_time": "2023-02-22T08:17:35.225726Z"
    }
   },
   "outputs": [
    {
     "name": "stdout",
     "output_type": "stream",
     "text": [
      "Downloading Season 2019-2020\n"
     ]
    },
    {
     "name": "stderr",
     "output_type": "stream",
     "text": [
      "100%|███████████████████████████████████████████| 19/19 [09:54<00:00, 31.28s/it]"
     ]
    },
    {
     "name": "stdout",
     "output_type": "stream",
     "text": [
      "Done.\n",
      "../data/College Men_2019-2020: 19\n"
     ]
    },
    {
     "name": "stderr",
     "output_type": "stream",
     "text": [
      "\n"
     ]
    }
   ],
   "source": [
    "download_season(season=season,\n",
    "                reportType=reportType,\n",
    "                division=division,\n",
    "                league_dict=ncaa_dict,\n",
    "                output_format=output_format)\n",
    "move_season(season=season, \n",
    "            league_dict=ncaa_dict)"
   ]
  },
  {
   "cell_type": "markdown",
   "metadata": {},
   "source": [
    "### 2018-2019"
   ]
  },
  {
   "cell_type": "code",
   "execution_count": 36,
   "metadata": {
    "ExecuteTime": {
     "end_time": "2023-02-22T08:27:29.616558Z",
     "start_time": "2023-02-22T08:27:29.611617Z"
    }
   },
   "outputs": [],
   "source": [
    "season = '2018-2019'"
   ]
  },
  {
   "cell_type": "code",
   "execution_count": 37,
   "metadata": {
    "ExecuteTime": {
     "end_time": "2023-02-22T08:37:23.137002Z",
     "start_time": "2023-02-22T08:27:29.621915Z"
    }
   },
   "outputs": [
    {
     "name": "stdout",
     "output_type": "stream",
     "text": [
      "Downloading Season 2018-2019\n"
     ]
    },
    {
     "name": "stderr",
     "output_type": "stream",
     "text": [
      "100%|███████████████████████████████████████████| 19/19 [09:53<00:00, 31.24s/it]"
     ]
    },
    {
     "name": "stdout",
     "output_type": "stream",
     "text": [
      "Done.\n",
      "../data/College Men_2018-2019: 19\n"
     ]
    },
    {
     "name": "stderr",
     "output_type": "stream",
     "text": [
      "\n"
     ]
    }
   ],
   "source": [
    "download_season(season=season,\n",
    "                reportType=reportType,\n",
    "                division=division,\n",
    "                league_dict=ncaa_dict,\n",
    "                output_format=output_format)\n",
    "move_season(season=season, \n",
    "            league_dict=ncaa_dict)"
   ]
  },
  {
   "cell_type": "markdown",
   "metadata": {},
   "source": [
    "### 2017-2018"
   ]
  },
  {
   "cell_type": "code",
   "execution_count": 38,
   "metadata": {
    "ExecuteTime": {
     "end_time": "2023-02-22T08:37:23.146685Z",
     "start_time": "2023-02-22T08:37:23.140742Z"
    }
   },
   "outputs": [],
   "source": [
    "season = '2017-2018'"
   ]
  },
  {
   "cell_type": "code",
   "execution_count": 39,
   "metadata": {
    "ExecuteTime": {
     "end_time": "2023-02-22T08:47:17.243294Z",
     "start_time": "2023-02-22T08:37:23.152243Z"
    }
   },
   "outputs": [
    {
     "name": "stdout",
     "output_type": "stream",
     "text": [
      "Downloading Season 2017-2018\n"
     ]
    },
    {
     "name": "stderr",
     "output_type": "stream",
     "text": [
      "100%|███████████████████████████████████████████| 19/19 [09:54<00:00, 31.27s/it]"
     ]
    },
    {
     "name": "stdout",
     "output_type": "stream",
     "text": [
      "Done.\n",
      "../data/College Men_2017-2018: 19\n"
     ]
    },
    {
     "name": "stderr",
     "output_type": "stream",
     "text": [
      "\n"
     ]
    }
   ],
   "source": [
    "download_season(season=season,\n",
    "                reportType=reportType,\n",
    "                division=division,\n",
    "                league_dict=ncaa_dict,\n",
    "                output_format=output_format)\n",
    "move_season(season=season, \n",
    "            league_dict=ncaa_dict)"
   ]
  },
  {
   "cell_type": "code",
   "execution_count": null,
   "metadata": {},
   "outputs": [],
   "source": []
  },
  {
   "cell_type": "code",
   "execution_count": 40,
   "metadata": {
    "ExecuteTime": {
     "end_time": "2023-02-22T09:26:28.549768Z",
     "start_time": "2023-02-22T09:26:28.402498Z"
    }
   },
   "outputs": [],
   "source": [
    "driver.close()"
   ]
  },
  {
   "cell_type": "code",
   "execution_count": null,
   "metadata": {},
   "outputs": [],
   "source": []
  }
 ],
 "metadata": {
  "kernelspec": {
   "display_name": "Python 3 (ipykernel)",
   "language": "python",
   "name": "python3"
  },
  "language_info": {
   "codemirror_mode": {
    "name": "ipython",
    "version": 3
   },
   "file_extension": ".py",
   "mimetype": "text/x-python",
   "name": "python",
   "nbconvert_exporter": "python",
   "pygments_lexer": "ipython3",
   "version": "3.8.15"
  }
 },
 "nbformat": 4,
 "nbformat_minor": 2
}
