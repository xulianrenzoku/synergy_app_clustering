{
 "cells": [
  {
   "cell_type": "code",
   "execution_count": 1,
   "metadata": {
    "ExecuteTime": {
     "end_time": "2023-02-15T06:17:41.611805Z",
     "start_time": "2023-02-15T06:17:40.488147Z"
    }
   },
   "outputs": [],
   "source": [
    "import pandas as pd\n",
    "import numpy as np\n",
    "import os\n",
    "import time\n",
    "import pickle\n",
    "from tqdm import tqdm\n",
    "from selenium import webdriver\n",
    "from selenium.webdriver.chrome.service import Service\n",
    "from webdriver_manager.chrome import ChromeDriverManager"
   ]
  },
  {
   "cell_type": "code",
   "execution_count": 2,
   "metadata": {
    "ExecuteTime": {
     "end_time": "2023-02-15T06:17:41.619208Z",
     "start_time": "2023-02-15T06:17:41.614678Z"
    }
   },
   "outputs": [],
   "source": [
    "import warnings\n",
    "warnings.filterwarnings('ignore')"
   ]
  },
  {
   "cell_type": "markdown",
   "metadata": {},
   "source": [
    "## Login"
   ]
  },
  {
   "cell_type": "code",
   "execution_count": 3,
   "metadata": {
    "ExecuteTime": {
     "end_time": "2023-02-15T06:17:41.627535Z",
     "start_time": "2023-02-15T06:17:41.623373Z"
    }
   },
   "outputs": [],
   "source": [
    "synergy_url = 'https://www.synergysportstech.com'\n",
    "app_url = 'https://apps.synergysports.com/basketball'"
   ]
  },
  {
   "cell_type": "code",
   "execution_count": 4,
   "metadata": {
    "ExecuteTime": {
     "end_time": "2023-02-15T06:17:41.644563Z",
     "start_time": "2023-02-15T06:17:41.633548Z"
    }
   },
   "outputs": [],
   "source": [
    "def login(driver, cred, synergy_url=synergy_url):\n",
    "    driver.get(f'{synergy_url}/synergy/')\n",
    "    time.sleep(5)\n",
    "    # Get username & password\n",
    "    with open(cred, 'r') as f:\n",
    "        user_password = f.readlines()[0].replace('\\n', '').split(', ')\n",
    "    # Login\n",
    "    userfield = driver.find_element_by_id('Username')\n",
    "    userfield.send_keys(user_password[0])\n",
    "    passwordfield = driver.find_element_by_id('Password')\n",
    "    passwordfield.send_keys(user_password[1])\n",
    "    driver.find_element_by_xpath(\"//button[@class='btn btn-primary']\").click()"
   ]
  },
  {
   "cell_type": "code",
   "execution_count": 5,
   "metadata": {
    "ExecuteTime": {
     "end_time": "2023-02-15T06:17:48.354609Z",
     "start_time": "2023-02-15T06:17:41.647603Z"
    }
   },
   "outputs": [
    {
     "name": "stderr",
     "output_type": "stream",
     "text": [
      "\n",
      "\n",
      "====== WebDriver manager ======\n",
      "Current google-chrome version is 110.0.5481\n",
      "Get LATEST chromedriver version for 110.0.5481 google-chrome\n",
      "Trying to download new driver from https://chromedriver.storage.googleapis.com/110.0.5481.77/chromedriver_mac64.zip\n",
      "Driver has been saved in cache [/Users/xulian/.wdm/drivers/chromedriver/mac64/110.0.5481.77]\n"
     ]
    }
   ],
   "source": [
    "# driver = webdriver.Chrome('/usr/local/bin/chromedriver')\n",
    "service = Service(executable_path=ChromeDriverManager().install())\n",
    "driver = webdriver.Chrome(service=service)"
   ]
  },
  {
   "cell_type": "code",
   "execution_count": 6,
   "metadata": {
    "ExecuteTime": {
     "end_time": "2023-02-15T06:18:04.815561Z",
     "start_time": "2023-02-15T06:17:48.363800Z"
    }
   },
   "outputs": [],
   "source": [
    "cred = 'synergy_cred.txt'\n",
    "login(driver, cred)"
   ]
  },
  {
   "cell_type": "markdown",
   "metadata": {},
   "source": [
    "## Scrape Setup"
   ]
  },
  {
   "cell_type": "code",
   "execution_count": 7,
   "metadata": {
    "ExecuteTime": {
     "end_time": "2023-02-15T06:18:04.823654Z",
     "start_time": "2023-02-15T06:18:04.818146Z"
    }
   },
   "outputs": [],
   "source": [
    "downloads_dir = '../../../Downloads'"
   ]
  },
  {
   "cell_type": "markdown",
   "metadata": {},
   "source": [
    "### Situations"
   ]
  },
  {
   "cell_type": "code",
   "execution_count": 8,
   "metadata": {
    "ExecuteTime": {
     "end_time": "2023-02-15T06:18:04.833089Z",
     "start_time": "2023-02-15T06:18:04.827803Z"
    }
   },
   "outputs": [],
   "source": [
    "situations_dict = {\n",
    "    'Pick and Rolls Including Passes': '101',\n",
    "    'Isolations Including Passes': '100',\n",
    "    'Post-Ups Including Passes': '102',\n",
    "    'Catch and Shoot': '116',\n",
    "    'Isolation': '10',\n",
    "    'P&R Ball Handler': '11',\n",
    "    'Post-Up': '15',\n",
    "    'P&R Roll Man': '31',\n",
    "    'Spot Up': '50',\n",
    "    'Off Screen': '67',\n",
    "    'Hand Off': '78',\n",
    "    'Cut': '81',\n",
    "    'Offensive Rebounds': '89',\n",
    "    'Transition': '92',\n",
    "    'Miscellaneous': '124',\n",
    "    'All field goal attempts': '99',\n",
    "    'At Rim': '127',\n",
    "    'Long (3 point jump shots)': '109',\n",
    "    'All Jump Shots off the Dribble': '110'\n",
    "}"
   ]
  },
  {
   "cell_type": "markdown",
   "metadata": {},
   "source": [
    "### Functions"
   ]
  },
  {
   "cell_type": "code",
   "execution_count": 9,
   "metadata": {
    "ExecuteTime": {
     "end_time": "2023-02-15T06:18:04.846170Z",
     "start_time": "2023-02-15T06:18:04.840672Z"
    }
   },
   "outputs": [],
   "source": [
    "def create_dirs(league_dict):\n",
    "    league = league_dict['league']\n",
    "    for season in league_dict['seasonId'].keys():\n",
    "        dirname = f'{league}_{season}'\n",
    "        if dirname not in os.listdir():\n",
    "            os.mkdir(dirname)"
   ]
  },
  {
   "cell_type": "code",
   "execution_count": 11,
   "metadata": {
    "ExecuteTime": {
     "end_time": "2023-02-15T06:18:24.804574Z",
     "start_time": "2023-02-15T06:18:24.800402Z"
    }
   },
   "outputs": [],
   "source": [
    "def get_stats_sheet(situation, \n",
    "                    reportType, division, season,\n",
    "                    league_dict, \n",
    "                    output_format='xlsx',\n",
    "                    situations_dict=situations_dict,\n",
    "                    driver=driver):\n",
    "    sheet_url = (\n",
    "        f'{app_url}/'\n",
    "        'leaderboards?'\n",
    "        f'leagueId={league_dict[\"leagueId\"]}&'\n",
    "        f'seasonId={league_dict[\"seasonId\"][season]}&'\n",
    "        f'conferenceIds={league_dict[\"conferenceIds\"][division]}&'\n",
    "        f'reportType={league_dict[\"reportType\"][reportType]}&'\n",
    "        f'situation={situations_dict[situation]}&'\n",
    "        'perGame=0'\n",
    "    )\n",
    "    driver.get(sheet_url)\n",
    "    time.sleep(20)\n",
    "    \n",
    "    # Download\n",
    "    xpath = \"//div[@class='ng-select']\"\n",
    "    if output_format == 'csv':\n",
    "        xpath = \"//div[@class='ng-select ml-2']\"\n",
    "        \n",
    "    for b in driver.find_elements_by_xpath(xpath):\n",
    "        if b.text == output_format.upper():\n",
    "            b.click()\n",
    "    \n",
    "    time.sleep(10)"
   ]
  },
  {
   "cell_type": "code",
   "execution_count": 12,
   "metadata": {
    "ExecuteTime": {
     "end_time": "2023-02-15T06:18:25.466198Z",
     "start_time": "2023-02-15T06:18:25.461924Z"
    }
   },
   "outputs": [],
   "source": [
    "def download_season(season, \n",
    "                    reportType, division, \n",
    "                    league_dict, \n",
    "                    output_format='xlsx',\n",
    "                    situations_dict=situations_dict,\n",
    "                    driver=driver):\n",
    "    print(f'Downloading Season {season}')\n",
    "    for situation in tqdm(situations_dict.keys()):\n",
    "        get_stats_sheet(situation=situation,\n",
    "                        reportType=reportType,\n",
    "                        division=division,\n",
    "                        season=season,\n",
    "                        league_dict=league_dict,\n",
    "                        output_format=output_format)\n",
    "    print('Done.')"
   ]
  },
  {
   "cell_type": "code",
   "execution_count": 13,
   "metadata": {
    "ExecuteTime": {
     "end_time": "2023-02-15T06:18:26.102627Z",
     "start_time": "2023-02-15T06:18:26.098220Z"
    }
   },
   "outputs": [],
   "source": [
    "def move_season(season, league_dict, \n",
    "                downloads_dir=downloads_dir):\n",
    "    league = league_dict[\"league\"]\n",
    "    filename_prefix = (\n",
    "        'Leaderboards - '\n",
    "        f'{league} '\n",
    "        f'{season} '\n",
    "    )\n",
    "    \n",
    "    new_dir = f'{league}_{season}'\n",
    "    for fn in os.listdir(downloads_dir):\n",
    "        if fn.startswith(filename_prefix):\n",
    "            os.rename(f'{downloads_dir}/{fn}',\n",
    "                      f'{new_dir}/{fn}')\n",
    "            \n",
    "    print(f'{new_dir}: {len(os.listdir(new_dir))}')"
   ]
  },
  {
   "cell_type": "code",
   "execution_count": 14,
   "metadata": {
    "ExecuteTime": {
     "end_time": "2023-02-15T06:18:26.677362Z",
     "start_time": "2023-02-15T06:18:26.672922Z"
    }
   },
   "outputs": [],
   "source": [
    "def find_missing_sheets(season, division, reportType, league,\n",
    "                        output_format, league_dict, \n",
    "                        situations_dict=situations_dict,\n",
    "                        driver=driver,\n",
    "                        downloads_dir=downloads_dir):\n",
    "    for situation in situations_dict.keys():\n",
    "        miss_flag = 1\n",
    "        for f in os.listdir(f'{league}_{season}'):\n",
    "            if situation in f:\n",
    "                miss_flag = 0\n",
    "                break\n",
    "        if miss_flag == 1:\n",
    "            print(situation)\n",
    "            get_stats_sheet(situation=situation,\n",
    "                            reportType=reportType,\n",
    "                            division=division,\n",
    "                            season=season,\n",
    "                            league_dict=league_dict, \n",
    "                            output_format=output_format)\n",
    "    move_season(season=season, \n",
    "                league_dict=league_dict, \n",
    "                division=division)"
   ]
  },
  {
   "cell_type": "markdown",
   "metadata": {},
   "source": [
    "## Scrape College Men"
   ]
  },
  {
   "cell_type": "code",
   "execution_count": 15,
   "metadata": {
    "ExecuteTime": {
     "end_time": "2023-02-15T06:18:27.221144Z",
     "start_time": "2023-02-15T06:18:27.216986Z"
    }
   },
   "outputs": [],
   "source": [
    "ncaa_dict = {\n",
    "    'league': 'College Men',\n",
    "    'leagueId': '54457dce300969b132fcfb37',\n",
    "    'seasonId': {\n",
    "        '2021-2022': '6085b5d0e6c2413bc4ba9122',\n",
    "        '2020-2021': '5dad07257455336e8774eb66',\n",
    "        '2019-2020': '5d56fb68f52909811e1c65e5',\n",
    "        '2018-2019': '5b4bd3ab9559b26e7e107793',\n",
    "        '2017-2018': '59af08c917120e9c9a97983b'\n",
    "    },\n",
    "    'conferenceIds': {\n",
    "        'NCAA Division I': '54457dce300969b132fcfb4a'\n",
    "    }, \n",
    "    'reportType': {\n",
    "        'Player Offensive': '0',\n",
    "        'Player Defensive': '1',\n",
    "        'Team Offensive': '2',\n",
    "        'Team Defensive': '3'\n",
    "    }\n",
    "}"
   ]
  },
  {
   "cell_type": "code",
   "execution_count": 16,
   "metadata": {
    "ExecuteTime": {
     "end_time": "2023-02-15T06:18:27.754342Z",
     "start_time": "2023-02-15T06:18:27.749101Z"
    }
   },
   "outputs": [],
   "source": [
    "create_dirs(ncaa_dict)"
   ]
  },
  {
   "cell_type": "code",
   "execution_count": 17,
   "metadata": {
    "ExecuteTime": {
     "end_time": "2023-02-15T06:18:28.906062Z",
     "start_time": "2023-02-15T06:18:28.902881Z"
    }
   },
   "outputs": [],
   "source": [
    "division = 'NCAA Division I'\n",
    "reportType = 'Player Offensive'\n",
    "output_format = 'csv'"
   ]
  },
  {
   "cell_type": "markdown",
   "metadata": {},
   "source": [
    "### 2021-2022"
   ]
  },
  {
   "cell_type": "code",
   "execution_count": 18,
   "metadata": {
    "ExecuteTime": {
     "end_time": "2023-02-15T06:18:29.502017Z",
     "start_time": "2023-02-15T06:18:29.499101Z"
    }
   },
   "outputs": [],
   "source": [
    "league = 'College Men'"
   ]
  },
  {
   "cell_type": "code",
   "execution_count": 19,
   "metadata": {
    "ExecuteTime": {
     "end_time": "2023-02-15T06:18:29.861057Z",
     "start_time": "2023-02-15T06:18:29.857644Z"
    }
   },
   "outputs": [],
   "source": [
    "season = '2021-2022'"
   ]
  },
  {
   "cell_type": "code",
   "execution_count": 20,
   "metadata": {
    "ExecuteTime": {
     "end_time": "2023-02-15T06:28:27.312658Z",
     "start_time": "2023-02-15T06:18:30.362703Z"
    }
   },
   "outputs": [
    {
     "name": "stdout",
     "output_type": "stream",
     "text": [
      "Downloading Season 2021-2022\n"
     ]
    },
    {
     "name": "stderr",
     "output_type": "stream",
     "text": [
      "100%|███████████████████████████████████████████| 19/19 [09:56<00:00, 31.42s/it]"
     ]
    },
    {
     "name": "stdout",
     "output_type": "stream",
     "text": [
      "Done.\n",
      "College Men_2021-2022: 19\n"
     ]
    },
    {
     "name": "stderr",
     "output_type": "stream",
     "text": [
      "\n"
     ]
    }
   ],
   "source": [
    "download_season(season=season,\n",
    "                reportType=reportType,\n",
    "                division=division,\n",
    "                league_dict=ncaa_dict,\n",
    "                output_format=output_format)\n",
    "move_season(season=season, \n",
    "            league_dict=ncaa_dict)"
   ]
  },
  {
   "cell_type": "markdown",
   "metadata": {},
   "source": [
    "### 2020-2021"
   ]
  },
  {
   "cell_type": "code",
   "execution_count": 21,
   "metadata": {
    "ExecuteTime": {
     "end_time": "2023-02-15T06:28:27.325546Z",
     "start_time": "2023-02-15T06:28:27.319088Z"
    }
   },
   "outputs": [],
   "source": [
    "season = '2020-2021'"
   ]
  },
  {
   "cell_type": "code",
   "execution_count": 22,
   "metadata": {
    "ExecuteTime": {
     "end_time": "2023-02-15T06:38:22.915564Z",
     "start_time": "2023-02-15T06:28:27.329564Z"
    }
   },
   "outputs": [
    {
     "name": "stdout",
     "output_type": "stream",
     "text": [
      "Downloading Season 2020-2021\n"
     ]
    },
    {
     "name": "stderr",
     "output_type": "stream",
     "text": [
      "100%|███████████████████████████████████████████| 19/19 [09:55<00:00, 31.35s/it]"
     ]
    },
    {
     "name": "stdout",
     "output_type": "stream",
     "text": [
      "Done.\n",
      "College Men_2020-2021: 19\n"
     ]
    },
    {
     "name": "stderr",
     "output_type": "stream",
     "text": [
      "\n"
     ]
    }
   ],
   "source": [
    "download_season(season=season,\n",
    "                reportType=reportType,\n",
    "                division=division,\n",
    "                league_dict=ncaa_dict,\n",
    "                output_format=output_format)\n",
    "move_season(season=season, \n",
    "            league_dict=ncaa_dict)"
   ]
  },
  {
   "cell_type": "markdown",
   "metadata": {},
   "source": [
    "### 2019-2020"
   ]
  },
  {
   "cell_type": "code",
   "execution_count": 23,
   "metadata": {
    "ExecuteTime": {
     "end_time": "2023-02-15T06:38:22.954607Z",
     "start_time": "2023-02-15T06:38:22.923297Z"
    }
   },
   "outputs": [],
   "source": [
    "season = '2019-2020'"
   ]
  },
  {
   "cell_type": "code",
   "execution_count": 24,
   "metadata": {
    "ExecuteTime": {
     "end_time": "2023-02-15T06:48:21.260715Z",
     "start_time": "2023-02-15T06:38:22.967560Z"
    }
   },
   "outputs": [
    {
     "name": "stdout",
     "output_type": "stream",
     "text": [
      "Downloading Season 2019-2020\n"
     ]
    },
    {
     "name": "stderr",
     "output_type": "stream",
     "text": [
      "100%|███████████████████████████████████████████| 19/19 [09:58<00:00, 31.49s/it]"
     ]
    },
    {
     "name": "stdout",
     "output_type": "stream",
     "text": [
      "Done.\n",
      "College Men_2019-2020: 19\n"
     ]
    },
    {
     "name": "stderr",
     "output_type": "stream",
     "text": [
      "\n"
     ]
    }
   ],
   "source": [
    "download_season(season=season,\n",
    "                reportType=reportType,\n",
    "                division=division,\n",
    "                league_dict=ncaa_dict,\n",
    "                output_format=output_format)\n",
    "move_season(season=season, \n",
    "            league_dict=ncaa_dict)"
   ]
  },
  {
   "cell_type": "markdown",
   "metadata": {},
   "source": [
    "### 2018-2019"
   ]
  },
  {
   "cell_type": "code",
   "execution_count": 25,
   "metadata": {
    "ExecuteTime": {
     "end_time": "2023-02-15T06:48:21.272763Z",
     "start_time": "2023-02-15T06:48:21.265908Z"
    }
   },
   "outputs": [],
   "source": [
    "season = '2018-2019'"
   ]
  },
  {
   "cell_type": "code",
   "execution_count": 26,
   "metadata": {
    "ExecuteTime": {
     "end_time": "2023-02-15T06:58:18.831103Z",
     "start_time": "2023-02-15T06:48:21.276800Z"
    }
   },
   "outputs": [
    {
     "name": "stdout",
     "output_type": "stream",
     "text": [
      "Downloading Season 2018-2019\n"
     ]
    },
    {
     "name": "stderr",
     "output_type": "stream",
     "text": [
      "100%|███████████████████████████████████████████| 19/19 [09:57<00:00, 31.45s/it]"
     ]
    },
    {
     "name": "stdout",
     "output_type": "stream",
     "text": [
      "Done.\n",
      "College Men_2018-2019: 19\n"
     ]
    },
    {
     "name": "stderr",
     "output_type": "stream",
     "text": [
      "\n"
     ]
    }
   ],
   "source": [
    "download_season(season=season,\n",
    "                reportType=reportType,\n",
    "                division=division,\n",
    "                league_dict=ncaa_dict,\n",
    "                output_format=output_format)\n",
    "move_season(season=season, \n",
    "            league_dict=ncaa_dict)"
   ]
  },
  {
   "cell_type": "markdown",
   "metadata": {},
   "source": [
    "### 2017-2018"
   ]
  },
  {
   "cell_type": "code",
   "execution_count": 27,
   "metadata": {
    "ExecuteTime": {
     "end_time": "2023-02-15T06:58:18.839424Z",
     "start_time": "2023-02-15T06:58:18.834728Z"
    }
   },
   "outputs": [],
   "source": [
    "season = '2017-2018'"
   ]
  },
  {
   "cell_type": "code",
   "execution_count": 28,
   "metadata": {
    "ExecuteTime": {
     "end_time": "2023-02-15T07:08:17.180923Z",
     "start_time": "2023-02-15T06:58:18.845737Z"
    }
   },
   "outputs": [
    {
     "name": "stdout",
     "output_type": "stream",
     "text": [
      "Downloading Season 2017-2018\n"
     ]
    },
    {
     "name": "stderr",
     "output_type": "stream",
     "text": [
      "100%|███████████████████████████████████████████| 19/19 [09:58<00:00, 31.49s/it]"
     ]
    },
    {
     "name": "stdout",
     "output_type": "stream",
     "text": [
      "Done.\n",
      "College Men_2017-2018: 19\n"
     ]
    },
    {
     "name": "stderr",
     "output_type": "stream",
     "text": [
      "\n"
     ]
    }
   ],
   "source": [
    "download_season(season=season,\n",
    "                reportType=reportType,\n",
    "                division=division,\n",
    "                league_dict=ncaa_dict,\n",
    "                output_format=output_format)\n",
    "move_season(season=season, \n",
    "            league_dict=ncaa_dict)"
   ]
  },
  {
   "cell_type": "code",
   "execution_count": null,
   "metadata": {},
   "outputs": [],
   "source": []
  },
  {
   "cell_type": "code",
   "execution_count": 29,
   "metadata": {
    "ExecuteTime": {
     "end_time": "2023-02-15T07:08:41.148456Z",
     "start_time": "2023-02-15T07:08:41.011736Z"
    }
   },
   "outputs": [],
   "source": [
    "driver.close()"
   ]
  },
  {
   "cell_type": "code",
   "execution_count": null,
   "metadata": {},
   "outputs": [],
   "source": []
  }
 ],
 "metadata": {
  "kernelspec": {
   "display_name": "Python 3 (ipykernel)",
   "language": "python",
   "name": "python3"
  },
  "language_info": {
   "codemirror_mode": {
    "name": "ipython",
    "version": 3
   },
   "file_extension": ".py",
   "mimetype": "text/x-python",
   "name": "python",
   "nbconvert_exporter": "python",
   "pygments_lexer": "ipython3",
   "version": "3.8.15"
  }
 },
 "nbformat": 4,
 "nbformat_minor": 2
}
