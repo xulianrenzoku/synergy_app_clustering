{
 "cells": [
  {
   "cell_type": "code",
   "execution_count": 1,
   "metadata": {
    "ExecuteTime": {
     "end_time": "2023-02-09T08:47:06.634867Z",
     "start_time": "2023-02-09T08:47:05.677907Z"
    }
   },
   "outputs": [],
   "source": [
    "import pandas as pd\n",
    "import numpy as np\n",
    "import os\n",
    "import time\n",
    "import pickle\n",
    "from bs4 import BeautifulSoup\n",
    "from selenium import webdriver\n",
    "from selenium.webdriver.chrome.service import Service\n",
    "from webdriver_manager.chrome import ChromeDriverManager"
   ]
  },
  {
   "cell_type": "code",
   "execution_count": 27,
   "metadata": {
    "ExecuteTime": {
     "end_time": "2023-02-09T09:33:34.402034Z",
     "start_time": "2023-02-09T09:33:34.398532Z"
    }
   },
   "outputs": [],
   "source": [
    "import warnings\n",
    "warnings.filterwarnings('ignore')"
   ]
  },
  {
   "cell_type": "markdown",
   "metadata": {},
   "source": [
    "## Login"
   ]
  },
  {
   "cell_type": "code",
   "execution_count": 7,
   "metadata": {
    "ExecuteTime": {
     "end_time": "2023-02-09T08:47:23.387601Z",
     "start_time": "2023-02-09T08:47:23.383900Z"
    }
   },
   "outputs": [],
   "source": [
    "synergy_url = 'https://www.synergysportstech.com'\n",
    "app_url = 'https://apps.synergysports.com/basketball'"
   ]
  },
  {
   "cell_type": "code",
   "execution_count": 3,
   "metadata": {
    "ExecuteTime": {
     "end_time": "2023-02-09T08:47:06.654310Z",
     "start_time": "2023-02-09T08:47:06.647565Z"
    }
   },
   "outputs": [],
   "source": [
    "def login(driver, cred, synergy_url=synergy_url):\n",
    "    driver.get(f'{synergy_url}/synergy/')\n",
    "    time.sleep(5)\n",
    "    # Get username & password\n",
    "    with open(cred, 'r') as f:\n",
    "        user_password = f.readlines()[0].replace('\\n', '').split(', ')\n",
    "    # Login\n",
    "    userfield = driver.find_element_by_id('Username')\n",
    "    userfield.send_keys(user_password[0])\n",
    "    passwordfield = driver.find_element_by_id('Password')\n",
    "    passwordfield.send_keys(user_password[1])\n",
    "    driver.find_element_by_xpath(\"//button[@class='btn btn-primary']\").click()"
   ]
  },
  {
   "cell_type": "code",
   "execution_count": 4,
   "metadata": {
    "ExecuteTime": {
     "end_time": "2023-02-09T08:47:10.074449Z",
     "start_time": "2023-02-09T08:47:07.134366Z"
    }
   },
   "outputs": [
    {
     "name": "stderr",
     "output_type": "stream",
     "text": [
      "\n",
      "\n",
      "====== WebDriver manager ======\n",
      "Current google-chrome version is 110.0.5481\n",
      "Get LATEST chromedriver version for 110.0.5481 google-chrome\n",
      "Driver [/Users/xulian/.wdm/drivers/chromedriver/mac64/110.0.5481.77/chromedriver] found in cache\n"
     ]
    }
   ],
   "source": [
    "# driver = webdriver.Chrome('/usr/local/bin/chromedriver')\n",
    "service = Service(executable_path=ChromeDriverManager().install())\n",
    "driver = webdriver.Chrome(service=service)"
   ]
  },
  {
   "cell_type": "code",
   "execution_count": 5,
   "metadata": {
    "ExecuteTime": {
     "end_time": "2023-02-09T08:47:23.243932Z",
     "start_time": "2023-02-09T08:47:11.505334Z"
    }
   },
   "outputs": [
    {
     "name": "stderr",
     "output_type": "stream",
     "text": [
      "/var/folders/_2/xf7b66914jxdlhgxdz6fhjyw0000gn/T/ipykernel_35278/33737124.py:8: DeprecationWarning: find_element_by_* commands are deprecated. Please use find_element() instead\n",
      "  userfield = driver.find_element_by_id('Username')\n",
      "/var/folders/_2/xf7b66914jxdlhgxdz6fhjyw0000gn/T/ipykernel_35278/33737124.py:10: DeprecationWarning: find_element_by_* commands are deprecated. Please use find_element() instead\n",
      "  passwordfield = driver.find_element_by_id('Password')\n",
      "/var/folders/_2/xf7b66914jxdlhgxdz6fhjyw0000gn/T/ipykernel_35278/33737124.py:12: DeprecationWarning: find_element_by_* commands are deprecated. Please use find_element() instead\n",
      "  driver.find_element_by_xpath(\"//button[@class='btn btn-primary']\").click()\n"
     ]
    }
   ],
   "source": [
    "cred = 'synergy_cred.txt'\n",
    "login(driver, cred)"
   ]
  },
  {
   "cell_type": "markdown",
   "metadata": {},
   "source": [
    "## Scrape Setup"
   ]
  },
  {
   "cell_type": "code",
   "execution_count": 46,
   "metadata": {
    "ExecuteTime": {
     "end_time": "2023-02-09T09:48:12.853090Z",
     "start_time": "2023-02-09T09:48:12.849111Z"
    }
   },
   "outputs": [],
   "source": [
    "downloads_dir = '../../../Downloads'"
   ]
  },
  {
   "cell_type": "markdown",
   "metadata": {},
   "source": [
    "### Situations"
   ]
  },
  {
   "cell_type": "code",
   "execution_count": 11,
   "metadata": {
    "ExecuteTime": {
     "end_time": "2023-02-09T09:17:34.823517Z",
     "start_time": "2023-02-09T09:17:34.817335Z"
    }
   },
   "outputs": [],
   "source": [
    "situations_dict = {\n",
    "    'Pick and Rolls Including Passes': '101',\n",
    "    'Isolations Including Passes': '100',\n",
    "    'Post-Ups Including Passes': '102',\n",
    "    'Catch and Shoot': '116',\n",
    "    'Isolation': '10',\n",
    "    'P&R Ball Handler': '11',\n",
    "    'Post-Up': '15',\n",
    "    'P%R Roll Man': '31',\n",
    "    'Spot Up': '50',\n",
    "    'Off Screen': '67',\n",
    "    'Hand Off': '78',\n",
    "    'Cut': '81',\n",
    "    'Offensive Rebounds': '89',\n",
    "    'Transition': '92',\n",
    "    'Miscellaneous': '124',\n",
    "    'All field goal attempts': '99',\n",
    "    'At Rim': '127',\n",
    "    'Long (3 point jump shots)': '109',\n",
    "    'All Jump Shots off the Dribble': '110'\n",
    "}"
   ]
  },
  {
   "cell_type": "markdown",
   "metadata": {},
   "source": [
    "### Functions"
   ]
  },
  {
   "cell_type": "code",
   "execution_count": 56,
   "metadata": {
    "ExecuteTime": {
     "end_time": "2023-02-09T09:58:57.596592Z",
     "start_time": "2023-02-09T09:58:57.593189Z"
    }
   },
   "outputs": [],
   "source": [
    "def create_dirs(league_dict):\n",
    "    league = league_dict['league']\n",
    "    for season in league_dict['seasonId'].keys():\n",
    "        dirname = f'{league}_{season}'\n",
    "        if dirname not in os.listdir():\n",
    "            os.mkdir(dirname)"
   ]
  },
  {
   "cell_type": "code",
   "execution_count": 60,
   "metadata": {
    "ExecuteTime": {
     "end_time": "2023-02-09T10:00:40.569845Z",
     "start_time": "2023-02-09T10:00:40.561588Z"
    }
   },
   "outputs": [],
   "source": [
    "def get_stats_sheet(situation, \n",
    "                    reportType, competition, season,\n",
    "                    league_dict, \n",
    "                    output_format = 'xlsx',\n",
    "                    situations_dict=situations_dict,\n",
    "                    downloads_dir=downloads_dir,\n",
    "                    driver=driver):\n",
    "    sheet_url = (\n",
    "        f'{app_url}/'\n",
    "        'leaderboards?'\n",
    "        f'leagueId={league_dict[\"leagueId\"]}&'\n",
    "        f'seasonId={league_dict[\"seasonId\"][season]}&'\n",
    "        f'competitionIds={league_dict[\"competitionIds\"][competition]}&'\n",
    "        f'reportType={league_dict[\"reportType\"][reportType]}&'\n",
    "        f'situation={situations_dict[situation]}'\n",
    "    )\n",
    "    driver.get(sheet_url)\n",
    "    time.sleep(5)\n",
    "    \n",
    "    # Download\n",
    "    xpath = \"//div[@class='ng-select']\"\n",
    "    if output_format == 'csv':\n",
    "        xpath = \"//div[@class='ng-select ml-2']\"\n",
    "        \n",
    "    for b in driver.find_elements_by_xpath(xpath):\n",
    "        if b.text == output_format.upper():\n",
    "            b.click()\n",
    "    \n",
    "    time.sleep(3)\n",
    "    \n",
    "    # Move to the right folder\n",
    "    league = league_dict[\"league\"]\n",
    "    sheet_filename = (\n",
    "        'Leaderboards - '\n",
    "        f'{league} '\n",
    "        f'{season} '\n",
    "        f'{competition} - '\n",
    "        f'{situation} - '\n",
    "        f'{reportType}'\n",
    "        f'.{output_format}'\n",
    "    )\n",
    "    if sheet_filename in os.listdir(downloads_dir):\n",
    "        os.rename(f'{downloads_dir}/{sheet_filename}',\n",
    "                  f'{league}_{season}/{sheet_filename}')"
   ]
  },
  {
   "cell_type": "markdown",
   "metadata": {},
   "source": [
    "## Scrape NBA"
   ]
  },
  {
   "cell_type": "code",
   "execution_count": 61,
   "metadata": {
    "ExecuteTime": {
     "end_time": "2023-02-09T10:00:43.511657Z",
     "start_time": "2023-02-09T10:00:43.506964Z"
    }
   },
   "outputs": [],
   "source": [
    "nba_dict = {\n",
    "    'league': 'NBA',\n",
    "    'leagueId': '54457dce300969b132fcfb34',\n",
    "    'seasonId': {\n",
    "        '2021-2022': '6120261cea4488c9fd5c57c5',\n",
    "        '2020-2021': '5fce72f5f68e52f827c39b4c',\n",
    "        '2019-2020': '5d51e0c6f52909811e13ee2d',\n",
    "        '2018-2019': '5b6e102011ef0d11039af1e3',\n",
    "        '2017-2018': '59af08c917120e9c9a9797ff'\n",
    "    },\n",
    "    'competitionIds': {\n",
    "        'Regular Season': '560100ac8dc7a24394b955ee'\n",
    "    },\n",
    "    'reportType': {\n",
    "        'Player Offensive': '0',\n",
    "        'Player Defensive': '1',\n",
    "        'Team Offensive': '2',\n",
    "        'Team Defensive': '3'\n",
    "    }\n",
    "}"
   ]
  },
  {
   "cell_type": "code",
   "execution_count": 62,
   "metadata": {
    "ExecuteTime": {
     "end_time": "2023-02-09T10:00:44.187250Z",
     "start_time": "2023-02-09T10:00:44.184058Z"
    }
   },
   "outputs": [],
   "source": [
    "create_dirs(nba_dict)"
   ]
  },
  {
   "cell_type": "code",
   "execution_count": 63,
   "metadata": {
    "ExecuteTime": {
     "end_time": "2023-02-09T10:00:58.496019Z",
     "start_time": "2023-02-09T10:00:47.744279Z"
    }
   },
   "outputs": [],
   "source": [
    "## Example\n",
    "get_stats_sheet(situation='Pick and Rolls Including Passes',\n",
    "                reportType='Player Offensive',\n",
    "                competition='Regular Season',\n",
    "                season='2021-2022',\n",
    "                league_dict=nba_dict,\n",
    "                output_format='csv')"
   ]
  },
  {
   "cell_type": "code",
   "execution_count": 7,
   "metadata": {
    "ExecuteTime": {
     "end_time": "2023-02-09T08:29:39.787269Z",
     "start_time": "2023-02-09T08:29:38.790966Z"
    }
   },
   "outputs": [],
   "source": [
    "driver.get(f'{app_url}/leaderboards')"
   ]
  },
  {
   "cell_type": "code",
   "execution_count": 20,
   "metadata": {
    "ExecuteTime": {
     "end_time": "2022-06-06T06:55:48.743525Z",
     "start_time": "2022-06-06T06:55:48.612857Z"
    }
   },
   "outputs": [],
   "source": [
    "# driver.close()"
   ]
  },
  {
   "cell_type": "code",
   "execution_count": null,
   "metadata": {},
   "outputs": [],
   "source": []
  }
 ],
 "metadata": {
  "kernelspec": {
   "display_name": "Python 3 (ipykernel)",
   "language": "python",
   "name": "python3"
  },
  "language_info": {
   "codemirror_mode": {
    "name": "ipython",
    "version": 3
   },
   "file_extension": ".py",
   "mimetype": "text/x-python",
   "name": "python",
   "nbconvert_exporter": "python",
   "pygments_lexer": "ipython3",
   "version": "3.8.15"
  }
 },
 "nbformat": 4,
 "nbformat_minor": 2
}
