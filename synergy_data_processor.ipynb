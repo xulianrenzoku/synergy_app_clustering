{
 "cells": [
  {
   "cell_type": "code",
   "execution_count": 1,
   "id": "82cee0f4",
   "metadata": {
    "ExecuteTime": {
     "end_time": "2023-02-10T08:13:45.268354Z",
     "start_time": "2023-02-10T08:13:44.442733Z"
    }
   },
   "outputs": [],
   "source": [
    "import pandas as pd\n",
    "import numpy as np\n",
    "import os"
   ]
  },
  {
   "cell_type": "code",
   "execution_count": 2,
   "id": "ab329411",
   "metadata": {
    "ExecuteTime": {
     "end_time": "2023-02-10T08:13:45.281284Z",
     "start_time": "2023-02-10T08:13:45.275072Z"
    }
   },
   "outputs": [],
   "source": [
    "pd.set_option('display.max_columns', None)"
   ]
  },
  {
   "cell_type": "code",
   "execution_count": 3,
   "id": "71ea93ac",
   "metadata": {
    "ExecuteTime": {
     "end_time": "2023-02-10T08:13:45.298230Z",
     "start_time": "2023-02-10T08:13:45.292892Z"
    }
   },
   "outputs": [],
   "source": [
    "import warnings\n",
    "warnings.filterwarnings('ignore')"
   ]
  },
  {
   "cell_type": "markdown",
   "id": "061acd13",
   "metadata": {},
   "source": [
    "## Process Data"
   ]
  },
  {
   "cell_type": "markdown",
   "id": "bbe1a9fa",
   "metadata": {},
   "source": [
    "### Elements"
   ]
  },
  {
   "cell_type": "code",
   "execution_count": 6,
   "id": "b935fe31",
   "metadata": {
    "ExecuteTime": {
     "end_time": "2023-02-10T08:13:45.434781Z",
     "start_time": "2023-02-10T08:13:45.429891Z"
    }
   },
   "outputs": [],
   "source": [
    "playtypes = ['Isolation', 'P&R Ball Handler', 'Post-Up', \n",
    "             'P&R Roll Man', 'Spot Up', 'Off Screen', \n",
    "             'Hand Off', 'Cut', 'Offensive Rebounds', \n",
    "             'Transition', \n",
    "#              'Miscellaneous'\n",
    "            ]"
   ]
  },
  {
   "cell_type": "code",
   "execution_count": 7,
   "id": "8a23c9aa",
   "metadata": {
    "ExecuteTime": {
     "end_time": "2023-02-10T08:13:45.448302Z",
     "start_time": "2023-02-10T08:13:45.443377Z"
    }
   },
   "outputs": [],
   "source": [
    "situations = ['Pick and Rolls Including Passes',\n",
    "              'Isolations Including Passes',\n",
    "              'Post-Ups Including Passes']"
   ]
  },
  {
   "cell_type": "code",
   "execution_count": 8,
   "id": "cd53d19b",
   "metadata": {
    "ExecuteTime": {
     "end_time": "2023-02-10T08:13:45.460048Z",
     "start_time": "2023-02-10T08:13:45.454016Z"
    }
   },
   "outputs": [],
   "source": [
    "shottypes = ['Catch and Shoot', 'At Rim',\n",
    "             'Long (3 point jump shots)',\n",
    "             'All Jump Shots off the Dribble']"
   ]
  },
  {
   "cell_type": "markdown",
   "id": "31665d56",
   "metadata": {},
   "source": [
    "### Functions"
   ]
  },
  {
   "cell_type": "code",
   "execution_count": 9,
   "id": "95d0ae8f",
   "metadata": {
    "ExecuteTime": {
     "end_time": "2023-02-10T08:13:45.479887Z",
     "start_time": "2023-02-10T08:13:45.471180Z"
    }
   },
   "outputs": [],
   "source": [
    "def process_all_fg_sheet(df, season):\n",
    "    df['Season'] = season\n",
    "    df = df[['Player', 'Team', 'Season', 'GP', 'FG Made', 'FG Att']]\\\n",
    "         .rename(columns={'FG Made': 'FGM',\n",
    "                          'FG Att': 'FGA'})\n",
    "    df['GP'] = df['GP'].apply(int)\n",
    "    for col in ['FGM', 'FGA']:\n",
    "        df[col] = df[col].apply(np.float) * df['GP']\n",
    "    return df.sort_values(['Team', 'FGA'], ascending=False)"
   ]
  },
  {
   "cell_type": "code",
   "execution_count": 10,
   "id": "8df30731",
   "metadata": {
    "ExecuteTime": {
     "end_time": "2023-02-10T08:13:45.503275Z",
     "start_time": "2023-02-10T08:13:45.493283Z"
    }
   },
   "outputs": [],
   "source": [
    "def process_shottype_sheet(shottype, df, season):\n",
    "    df['Season'] = season\n",
    "    df = df[['Player', 'Team', 'Season', 'GP', 'FG Made', 'FG Att']]\\\n",
    "         .rename(columns={'FG Made': 'FGM',\n",
    "                          'FG Att': 'FGA'})\n",
    "    df['GP'] = df['GP'].apply(int)\n",
    "    for col in ['FGM', 'FGA']:\n",
    "        df[col] = df[col].apply(np.float) * df['GP']\n",
    "    df['FG%'] = df['FGM'] / df['FGA'] * 1.0\n",
    "    return df.rename(columns={col: f'{shottype}_{col}'\n",
    "                              for col in df.columns\n",
    "                              if 'FG' in col})"
   ]
  },
  {
   "cell_type": "code",
   "execution_count": 11,
   "id": "bf4ba72b",
   "metadata": {
    "ExecuteTime": {
     "end_time": "2023-02-10T08:13:45.522971Z",
     "start_time": "2023-02-10T08:13:45.513401Z"
    }
   },
   "outputs": [],
   "source": [
    "def process_playtype_sheet(playtype, df, season):\n",
    "    df['Season'] = season\n",
    "    df = df[['Player', 'Team', 'Season', 'GP', 'Poss', 'PPP']]\n",
    "    df['GP'] = df['GP'].apply(int)\n",
    "    df['PPP'] = df['PPP'].apply(np.float)\n",
    "    df['Poss'] = df['Poss'].apply(np.float) * df['GP']\n",
    "    return df.rename(columns={col: f'{playtype}_{col}'\n",
    "                              for col in ['Poss', 'PPP']})"
   ]
  },
  {
   "cell_type": "code",
   "execution_count": 12,
   "id": "42695f01",
   "metadata": {
    "ExecuteTime": {
     "end_time": "2023-02-10T08:13:45.580677Z",
     "start_time": "2023-02-10T08:13:45.557980Z"
    }
   },
   "outputs": [],
   "source": [
    "def process_situation_sheet(situation, df, season):\n",
    "    df['Season'] = season\n",
    "    df = df[['Player', 'Team', 'Season', 'GP', 'Poss']]\n",
    "    df['GP'] = df['GP'].apply(int)\n",
    "    df['Poss'] = df['Poss'].apply(np.float) * df['GP']\n",
    "    return df.rename(columns={'Poss': f'{situation}_Poss'})"
   ]
  },
  {
   "cell_type": "code",
   "execution_count": 13,
   "id": "2f6c8221",
   "metadata": {
    "ExecuteTime": {
     "end_time": "2023-02-10T08:13:45.612375Z",
     "start_time": "2023-02-10T08:13:45.592260Z"
    }
   },
   "outputs": [],
   "source": [
    "def process_season(league, season,\n",
    "                   shottypes=shottypes, \n",
    "                   playtypes=playtypes,\n",
    "                   situations=situations):\n",
    "    season_dir = f'{league}_{season}'\n",
    "\n",
    "    # Initialize\n",
    "    for sheet_fn in os.listdir(season_dir):\n",
    "        if 'All field goal attempts' in sheet_fn:\n",
    "            df = pd.read_csv(f'{season_dir}/{sheet_fn}', \n",
    "                             header=1)\n",
    "            break\n",
    "    df = process_all_fg_sheet(df, season)\n",
    "    print('Shape after Initialization:', df.shape)\n",
    "\n",
    "    # Process shottype\n",
    "    for shottype in shottypes:\n",
    "        for sheet_fn in os.listdir(season_dir):\n",
    "            if shottype in sheet_fn:\n",
    "                st_df = pd.read_csv(f'{season_dir}/{sheet_fn}', \n",
    "                                    header=1)\n",
    "                break\n",
    "        st_df = process_shottype_sheet(shottype, st_df, season)\n",
    "        df = df.merge(st_df, \n",
    "                      on=['Player', 'Team', 'Season', 'GP'],\n",
    "                      how='left')\\\n",
    "               .fillna(0)\n",
    "        df[f'{shottype}_FGA%'] = df[f'{shottype}_FGA'] / df['FGA'] * 1.0\n",
    "\n",
    "    # Process playtype\n",
    "    for playtype in playtypes:\n",
    "        for sheet_fn in os.listdir(season_dir):\n",
    "            if playtype in sheet_fn and 'Including Passes' not in sheet_fn:\n",
    "                pt_df = pd.read_csv(f'{season_dir}/{sheet_fn}', \n",
    "                                    header=1)\n",
    "                break\n",
    "        pt_df = process_playtype_sheet(playtype, pt_df, season)\n",
    "        df = df.merge(pt_df,\n",
    "                      on=['Player', 'Team', 'Season', 'GP'],\n",
    "                      how='left')\\\n",
    "               .fillna(0)\n",
    "    df['Overall_Poss'] = df[[col for col in df.columns\n",
    "                             if 'Poss' in col]].sum(axis=1)\n",
    "    for playtype in playtypes:\n",
    "        df[f'{playtype}_Poss%'] = df[f'{playtype}_Poss'] / df['Overall_Poss'] * 1.0\n",
    "\n",
    "    # Process situations\n",
    "    for situation in situations:\n",
    "        for sheet_fn in os.listdir(season_dir):\n",
    "            if situation in sheet_fn:\n",
    "                sit_df = pd.read_csv(f'{season_dir}/{sheet_fn}', \n",
    "                                     header=1)\n",
    "                break\n",
    "        sit_df = process_situation_sheet(situation, sit_df, season)\n",
    "        df = df.merge(sit_df,\n",
    "                      on=['Player', 'Team', 'Season', 'GP'],\n",
    "                      how='left')\\\n",
    "               .fillna(0)\n",
    "    print('Shape after Processing:', df.shape)\n",
    "    \n",
    "    return df"
   ]
  },
  {
   "cell_type": "markdown",
   "id": "fb0eaaef",
   "metadata": {},
   "source": [
    "### Process NBA"
   ]
  },
  {
   "cell_type": "code",
   "execution_count": 14,
   "id": "01a87f11",
   "metadata": {
    "ExecuteTime": {
     "end_time": "2023-02-10T08:13:46.606982Z",
     "start_time": "2023-02-10T08:13:45.617656Z"
    }
   },
   "outputs": [
    {
     "name": "stdout",
     "output_type": "stream",
     "text": [
      "2017-2018\n",
      "Shape after Initialization: (543, 6)\n",
      "Shape after Processing: (543, 56)\n",
      "\n",
      "2018-2019\n",
      "Shape after Initialization: (573, 6)\n",
      "Shape after Processing: (573, 56)\n",
      "\n",
      "2019-2020\n",
      "Shape after Initialization: (549, 6)\n",
      "Shape after Processing: (549, 56)\n",
      "\n",
      "2020-2021\n",
      "Shape after Initialization: (591, 6)\n",
      "Shape after Processing: (591, 56)\n",
      "\n",
      "2021-2022\n",
      "Shape after Initialization: (611, 6)\n",
      "Shape after Processing: (611, 56)\n",
      "\n",
      "(2867, 56)\n"
     ]
    }
   ],
   "source": [
    "league = 'NBA'\n",
    "dfs = []\n",
    "for start_year in range(2017, 2022):\n",
    "    end_year = start_year + 1\n",
    "    season = f'{start_year}-{end_year}'\n",
    "    print(season)\n",
    "    dfs.append(process_season(league, season))\n",
    "    print()\n",
    "    \n",
    "df = pd.concat(dfs).reset_index().drop('index', axis=1)\n",
    "print(df.shape)"
   ]
  },
  {
   "cell_type": "code",
   "execution_count": 15,
   "id": "116b7044",
   "metadata": {
    "ExecuteTime": {
     "end_time": "2023-02-10T08:13:46.775403Z",
     "start_time": "2023-02-10T08:13:46.609776Z"
    }
   },
   "outputs": [],
   "source": [
    "df.to_csv(f'{league}_offense.csv', index=False)"
   ]
  },
  {
   "cell_type": "markdown",
   "id": "32c346d0",
   "metadata": {},
   "source": [
    "### Process Euroleague"
   ]
  },
  {
   "cell_type": "code",
   "execution_count": 16,
   "id": "ac4c1808",
   "metadata": {
    "ExecuteTime": {
     "end_time": "2023-02-10T08:14:21.703589Z",
     "start_time": "2023-02-10T08:14:20.855276Z"
    }
   },
   "outputs": [
    {
     "name": "stdout",
     "output_type": "stream",
     "text": [
      "2017-2018\n",
      "Shape after Initialization: (224, 6)\n",
      "Shape after Processing: (224, 56)\n",
      "\n",
      "2018-2019\n",
      "Shape after Initialization: (229, 6)\n",
      "Shape after Processing: (229, 56)\n",
      "\n",
      "2019-2020\n",
      "Shape after Initialization: (264, 6)\n",
      "Shape after Processing: (264, 56)\n",
      "\n",
      "2020-2021\n",
      "Shape after Initialization: (264, 6)\n",
      "Shape after Processing: (264, 56)\n",
      "\n",
      "2021-2022\n",
      "Shape after Initialization: (255, 6)\n",
      "Shape after Processing: (255, 56)\n",
      "\n",
      "(1236, 56)\n"
     ]
    }
   ],
   "source": [
    "league = 'Euroleague'\n",
    "dfs = []\n",
    "for start_year in range(2017, 2022):\n",
    "    end_year = start_year + 1\n",
    "    season = f'{start_year}-{end_year}'\n",
    "    print(season)\n",
    "    dfs.append(process_season(league, season))\n",
    "    print()\n",
    "    \n",
    "df = pd.concat(dfs).reset_index().drop('index', axis=1)\n",
    "print(df.shape)"
   ]
  },
  {
   "cell_type": "code",
   "execution_count": 17,
   "id": "f12f935b",
   "metadata": {
    "ExecuteTime": {
     "end_time": "2023-02-10T08:14:28.142537Z",
     "start_time": "2023-02-10T08:14:28.073260Z"
    }
   },
   "outputs": [],
   "source": [
    "df.to_csv(f'{league}_offense.csv', index=False)"
   ]
  }
 ],
 "metadata": {
  "kernelspec": {
   "display_name": "Python 3 (ipykernel)",
   "language": "python",
   "name": "python3"
  },
  "language_info": {
   "codemirror_mode": {
    "name": "ipython",
    "version": 3
   },
   "file_extension": ".py",
   "mimetype": "text/x-python",
   "name": "python",
   "nbconvert_exporter": "python",
   "pygments_lexer": "ipython3",
   "version": "3.8.15"
  }
 },
 "nbformat": 4,
 "nbformat_minor": 5
}
