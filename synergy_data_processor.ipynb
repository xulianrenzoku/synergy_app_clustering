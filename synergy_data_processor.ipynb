{
 "cells": [
  {
   "cell_type": "code",
   "execution_count": 7,
   "id": "944c61b5",
   "metadata": {
    "ExecuteTime": {
     "end_time": "2023-02-10T06:45:57.198246Z",
     "start_time": "2023-02-10T06:45:57.193225Z"
    }
   },
   "outputs": [],
   "source": [
    "import pandas as pd\n",
    "import numpy as np\n",
    "import os"
   ]
  },
  {
   "cell_type": "code",
   "execution_count": 2,
   "id": "2e64e766",
   "metadata": {
    "ExecuteTime": {
     "end_time": "2023-02-10T06:44:10.596859Z",
     "start_time": "2023-02-10T06:44:10.590743Z"
    }
   },
   "outputs": [],
   "source": [
    "pd.set_option('display.max_columns', None)"
   ]
  },
  {
   "cell_type": "code",
   "execution_count": 3,
   "id": "41fd93c2",
   "metadata": {
    "ExecuteTime": {
     "end_time": "2023-02-10T06:44:15.938376Z",
     "start_time": "2023-02-10T06:44:15.935155Z"
    }
   },
   "outputs": [],
   "source": [
    "import warnings\n",
    "warnings.filterwarnings('ignore')"
   ]
  },
  {
   "cell_type": "markdown",
   "id": "4b9dd284",
   "metadata": {},
   "source": [
    "## Read Data"
   ]
  },
  {
   "cell_type": "code",
   "execution_count": 166,
   "id": "db98f6f3",
   "metadata": {
    "ExecuteTime": {
     "end_time": "2023-02-10T08:01:02.009491Z",
     "start_time": "2023-02-10T08:01:01.931536Z"
    }
   },
   "outputs": [
    {
     "name": "stdout",
     "output_type": "stream",
     "text": [
      "(3675, 74)\n"
     ]
    },
    {
     "data": {
      "text/plain": [
       "Index(['Player', 'Overall_Poss', 'Overall_Points', 'Overall_PPP',\n",
       "       'Overall_Rank', 'Overall_Rating', 'Team', 'Spot Up_Poss',\n",
       "       'Spot Up_Points', 'Spot Up_PPP', 'Spot Up_Rank', 'Spot Up_Rating',\n",
       "       'Transition_Poss', 'Transition_Points', 'Transition_PPP',\n",
       "       'Transition_Rank', 'Transition_Rating', 'P&R Ball Handler_Poss',\n",
       "       'P&R Ball Handler_Points', 'P&R Ball Handler_PPP',\n",
       "       'P&R Ball Handler_Rank', 'P&R Ball Handler_Rating',\n",
       "       'Offensive Rebounds (put backs)_Poss',\n",
       "       'Offensive Rebounds (put backs)_Points',\n",
       "       'Offensive Rebounds (put backs)_PPP',\n",
       "       'Offensive Rebounds (put backs)_Rank',\n",
       "       'Offensive Rebounds (put backs)_Rating', 'Cut_Poss', 'Cut_Points',\n",
       "       'Cut_PPP', 'Cut_Rank', 'Cut_Rating', 'Hand Off_Poss', 'Hand Off_Points',\n",
       "       'Hand Off_PPP', 'Hand Off_Rank', 'Hand Off_Rating', 'Isolation_Poss',\n",
       "       'Isolation_Points', 'Isolation_PPP', 'Isolation_Rank',\n",
       "       'Isolation_Rating', 'Off Screen_Poss', 'Off Screen_Points',\n",
       "       'Off Screen_PPP', 'Off Screen_Rank', 'Off Screen_Rating',\n",
       "       'P&R Roll Man_Poss', 'P&R Roll Man_Points', 'P&R Roll Man_PPP',\n",
       "       'P&R Roll Man_Rank', 'P&R Roll Man_Rating', 'Post-Up_Poss',\n",
       "       'Post-Up_Points', 'Post-Up_PPP', 'Post-Up_Rank', 'Post-Up_Rating',\n",
       "       'Miscellaneous_Poss', 'Miscellaneous_Points', 'Miscellaneous_PPP',\n",
       "       'Miscellaneous_Rank', 'Miscellaneous_Rating', 'Spot Up_Poss%',\n",
       "       'Transition_Poss%', 'P&R Ball Handler_Poss%',\n",
       "       'Offensive Rebounds (put backs)_Poss%', 'Cut_Poss%', 'Hand Off_Poss%',\n",
       "       'Isolation_Poss%', 'Off Screen_Poss%', 'P&R Roll Man_Poss%',\n",
       "       'Post-Up_Poss%', 'Miscellaneous_Poss%', 'Season'],\n",
       "      dtype='object')"
      ]
     },
     "execution_count": 166,
     "metadata": {},
     "output_type": "execute_result"
    }
   ],
   "source": [
    "old_df = pd.read_csv('nba_offense_old.csv')\n",
    "old_df['Player'] = old_df['Player'].apply(lambda x: ' '.join(x.split(' ')[1:]))\n",
    "old_df['Season'] = old_df['Season'].apply(lambda x: f'{x}-{x+1}')\n",
    "old_df['Overall_Poss'] = old_df['Overall_Poss'] - old_df['Miscellaneous_Poss']\n",
    "print(old_df.shape)\n",
    "old_df.columns"
   ]
  },
  {
   "cell_type": "code",
   "execution_count": 51,
   "id": "45697a22",
   "metadata": {
    "ExecuteTime": {
     "end_time": "2023-02-10T07:12:43.017255Z",
     "start_time": "2023-02-10T07:12:43.008996Z"
    }
   },
   "outputs": [
    {
     "data": {
      "text/plain": [
       "(702, 74)"
      ]
     },
     "execution_count": 51,
     "metadata": {},
     "output_type": "execute_result"
    }
   ],
   "source": [
    "old_df[old_df['Season'] == 2021].shape"
   ]
  },
  {
   "cell_type": "markdown",
   "id": "c6fc58c3",
   "metadata": {},
   "source": [
    "## Build Data"
   ]
  },
  {
   "cell_type": "markdown",
   "id": "41e35684",
   "metadata": {},
   "source": [
    "### Elements"
   ]
  },
  {
   "cell_type": "code",
   "execution_count": 82,
   "id": "1f5538d9",
   "metadata": {
    "ExecuteTime": {
     "end_time": "2023-02-10T07:31:23.191963Z",
     "start_time": "2023-02-10T07:31:23.189047Z"
    }
   },
   "outputs": [],
   "source": [
    "playtypes = ['Isolation', 'P&R Ball Handler', 'Post-Up', \n",
    "             'P&R Roll Man', 'Spot Up', 'Off Screen', \n",
    "             'Hand Off', 'Cut', 'Offensive Rebounds', \n",
    "             'Transition', \n",
    "#              'Miscellaneous'\n",
    "            ]"
   ]
  },
  {
   "cell_type": "code",
   "execution_count": 46,
   "id": "3741c952",
   "metadata": {
    "ExecuteTime": {
     "end_time": "2023-02-10T07:10:24.664329Z",
     "start_time": "2023-02-10T07:10:24.660725Z"
    }
   },
   "outputs": [],
   "source": [
    "situations = ['Pick and Rolls Including Passes',\n",
    "              'Isolations Including Passes',\n",
    "              'Post-Ups Including Passes']"
   ]
  },
  {
   "cell_type": "code",
   "execution_count": 71,
   "id": "2c6a709b",
   "metadata": {
    "ExecuteTime": {
     "end_time": "2023-02-10T07:23:58.701208Z",
     "start_time": "2023-02-10T07:23:58.698338Z"
    }
   },
   "outputs": [],
   "source": [
    "shottypes = ['Catch and Shoot', 'At Rim',\n",
    "             'Long (3 point jump shots)',\n",
    "             'All Jump Shots off the Dribble']"
   ]
  },
  {
   "cell_type": "markdown",
   "id": "09d87d79",
   "metadata": {},
   "source": [
    "### Functions"
   ]
  },
  {
   "cell_type": "code",
   "execution_count": 62,
   "id": "8ac5b12a",
   "metadata": {
    "ExecuteTime": {
     "end_time": "2023-02-10T07:22:35.417747Z",
     "start_time": "2023-02-10T07:22:35.413085Z"
    }
   },
   "outputs": [],
   "source": [
    "def process_all_fg_sheet(df, season):\n",
    "    df['Season'] = season\n",
    "    df = df[['Player', 'Team', 'Season', 'GP', 'FG Made', 'FG Att']]\\\n",
    "         .rename(columns={'FG Made': 'FGM',\n",
    "                          'FG Att': 'FGA'})\n",
    "    df['GP'] = df['GP'].apply(int)\n",
    "    for col in ['FGM', 'FGA']:\n",
    "        df[col] = df[col].apply(np.float) * df['GP']\n",
    "    return df.sort_values(['Team', 'FGA'], ascending=False)"
   ]
  },
  {
   "cell_type": "code",
   "execution_count": 63,
   "id": "99da93a1",
   "metadata": {
    "ExecuteTime": {
     "end_time": "2023-02-10T07:22:36.584099Z",
     "start_time": "2023-02-10T07:22:36.578971Z"
    }
   },
   "outputs": [],
   "source": [
    "def process_shottype_sheet(shottype, df, season):\n",
    "    df['Season'] = season\n",
    "    df = df[['Player', 'Team', 'Season', 'GP', 'FG Made', 'FG Att']]\\\n",
    "         .rename(columns={'FG Made': 'FGM',\n",
    "                          'FG Att': 'FGA'})\n",
    "    df['GP'] = df['GP'].apply(int)\n",
    "    for col in ['FGM', 'FGA']:\n",
    "        df[col] = df[col].apply(np.float) * df['GP']\n",
    "    df['FG%'] = df['FGM'] / df['FGA'] * 1.0\n",
    "    return df.rename(columns={col: f'{shottype}_{col}'\n",
    "                              for col in df.columns\n",
    "                              if 'FG' in col})"
   ]
  },
  {
   "cell_type": "code",
   "execution_count": 79,
   "id": "d6b3d515",
   "metadata": {
    "ExecuteTime": {
     "end_time": "2023-02-10T07:30:32.275976Z",
     "start_time": "2023-02-10T07:30:32.271119Z"
    }
   },
   "outputs": [],
   "source": [
    "def process_playtype_sheet(playtype, df, season):\n",
    "    df['Season'] = season\n",
    "    df = df[['Player', 'Team', 'Season', 'GP', 'Poss', 'PPP']]\n",
    "    df['GP'] = df['GP'].apply(int)\n",
    "    df['PPP'] = df['PPP'].apply(np.float)\n",
    "    df['Poss'] = df['Poss'].apply(np.float) * df['GP']\n",
    "    return df.rename(columns={col: f'{playtype}_{col}'\n",
    "                              for col in ['Poss', 'PPP']})"
   ]
  },
  {
   "cell_type": "code",
   "execution_count": 97,
   "id": "b00413d8",
   "metadata": {
    "ExecuteTime": {
     "end_time": "2023-02-10T07:40:32.846781Z",
     "start_time": "2023-02-10T07:40:32.842040Z"
    }
   },
   "outputs": [],
   "source": [
    "def process_situation_sheet(situation, df, season):\n",
    "    df['Season'] = season\n",
    "    df = df[['Player', 'Team', 'Season', 'GP', 'Poss']]\n",
    "    df['GP'] = df['GP'].apply(int)\n",
    "    df['Poss'] = df['Poss'].apply(np.float) * df['GP']\n",
    "    return df.rename(columns={'Poss': f'{situation}_Poss'})"
   ]
  },
  {
   "cell_type": "code",
   "execution_count": 102,
   "id": "20bb5e06",
   "metadata": {
    "ExecuteTime": {
     "end_time": "2023-02-10T07:44:34.043494Z",
     "start_time": "2023-02-10T07:44:34.031025Z"
    }
   },
   "outputs": [],
   "source": [
    "def process_season(league, season,\n",
    "                   shottypes=shottypes, \n",
    "                   playtypes=playtypes,\n",
    "                   situations=situations):\n",
    "    season_dir = f'{league}_{season}'\n",
    "\n",
    "    # Initialize\n",
    "    for sheet_fn in os.listdir(season_dir):\n",
    "        if 'All field goal attempts' in sheet_fn:\n",
    "            df = pd.read_csv(f'{season_dir}/{sheet_fn}', \n",
    "                             header=1)\n",
    "            break\n",
    "    df = process_all_fg_sheet(df, season)\n",
    "    print('Shape after Initialization:', df.shape)\n",
    "\n",
    "    # Process shottype\n",
    "    for shottype in shottypes:\n",
    "        for sheet_fn in os.listdir(season_dir):\n",
    "            if shottype in sheet_fn:\n",
    "                st_df = pd.read_csv(f'{season_dir}/{sheet_fn}', \n",
    "                                    header=1)\n",
    "                break\n",
    "        st_df = process_shottype_sheet(shottype, st_df, season)\n",
    "        df = df.merge(st_df, \n",
    "                      on=['Player', 'Team', 'Season', 'GP'],\n",
    "                      how='left')\\\n",
    "               .fillna(0)\n",
    "        df[f'{shottype}_FGA%'] = df[f'{shottype}_FGA'] / df['FGA'] * 1.0\n",
    "\n",
    "    # Process playtype\n",
    "    for playtype in playtypes:\n",
    "        for sheet_fn in os.listdir(season_dir):\n",
    "            if playtype in sheet_fn and 'Including Passes' not in sheet_fn:\n",
    "                pt_df = pd.read_csv(f'{season_dir}/{sheet_fn}', \n",
    "                                    header=1)\n",
    "                break\n",
    "        pt_df = process_playtype_sheet(playtype, pt_df, season)\n",
    "        df = df.merge(pt_df,\n",
    "                      on=['Player', 'Team', 'Season', 'GP'],\n",
    "                      how='left')\\\n",
    "               .fillna(0)\n",
    "    df['Overall_Poss'] = df[[col for col in df.columns\n",
    "                             if 'Poss' in col]].sum(axis=1)\n",
    "    for playtype in playtypes:\n",
    "        df[f'{playtype}_Poss%'] = df[f'{playtype}_Poss'] / df['Overall_Poss'] * 1.0\n",
    "\n",
    "    # Process situations\n",
    "    for situation in situations:\n",
    "        for sheet_fn in os.listdir(season_dir):\n",
    "            if situation in sheet_fn:\n",
    "                sit_df = pd.read_csv(f'{season_dir}/{sheet_fn}', \n",
    "                                     header=1)\n",
    "                break\n",
    "        sit_df = process_situation_sheet(situation, sit_df, season)\n",
    "        df = df.merge(sit_df,\n",
    "                      on=['Player', 'Team', 'Season', 'GP'],\n",
    "                      how='left')\\\n",
    "               .fillna(0)\n",
    "    print('Shape after Processing:', df.shape)\n",
    "    \n",
    "    return df"
   ]
  },
  {
   "cell_type": "markdown",
   "id": "80fdb052",
   "metadata": {},
   "source": [
    "### Process"
   ]
  },
  {
   "cell_type": "code",
   "execution_count": 187,
   "id": "f8041c40",
   "metadata": {
    "ExecuteTime": {
     "end_time": "2023-02-10T08:05:53.923901Z",
     "start_time": "2023-02-10T08:05:52.926286Z"
    }
   },
   "outputs": [
    {
     "name": "stdout",
     "output_type": "stream",
     "text": [
      "2017-2018\n",
      "Shape after Initialization: (543, 6)\n",
      "Shape after Processing: (543, 56)\n",
      "\n",
      "2018-2019\n",
      "Shape after Initialization: (573, 6)\n",
      "Shape after Processing: (573, 56)\n",
      "\n",
      "2019-2020\n",
      "Shape after Initialization: (549, 6)\n",
      "Shape after Processing: (549, 56)\n",
      "\n",
      "2020-2021\n",
      "Shape after Initialization: (591, 6)\n",
      "Shape after Processing: (591, 56)\n",
      "\n",
      "2021-2022\n",
      "Shape after Initialization: (611, 6)\n",
      "Shape after Processing: (611, 56)\n",
      "\n",
      "(2867, 56)\n"
     ]
    }
   ],
   "source": [
    "league = 'NBA'\n",
    "dfs = []\n",
    "for start_year in range(2017, 2022):\n",
    "    end_year = start_year + 1\n",
    "    season = f'{start_year}-{end_year}'\n",
    "    print(season)\n",
    "    dfs.append(process_season(league, season))\n",
    "    print()\n",
    "    \n",
    "df = pd.concat(dfs).reset_index().drop('index', axis=1)\n",
    "print(df.shape)"
   ]
  },
  {
   "cell_type": "code",
   "execution_count": 188,
   "id": "0824da28",
   "metadata": {
    "ExecuteTime": {
     "end_time": "2023-02-10T08:06:10.465161Z",
     "start_time": "2023-02-10T08:06:10.319964Z"
    }
   },
   "outputs": [],
   "source": [
    "df.to_csv(f'{league}_offense.csv', index=False)"
   ]
  },
  {
   "cell_type": "code",
   "execution_count": null,
   "id": "2be576e0",
   "metadata": {},
   "outputs": [],
   "source": []
  }
 ],
 "metadata": {
  "kernelspec": {
   "display_name": "Python 3 (ipykernel)",
   "language": "python",
   "name": "python3"
  },
  "language_info": {
   "codemirror_mode": {
    "name": "ipython",
    "version": 3
   },
   "file_extension": ".py",
   "mimetype": "text/x-python",
   "name": "python",
   "nbconvert_exporter": "python",
   "pygments_lexer": "ipython3",
   "version": "3.8.15"
  }
 },
 "nbformat": 4,
 "nbformat_minor": 5
}
